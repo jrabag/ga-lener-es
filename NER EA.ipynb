{
 "cells": [
  {
   "cell_type": "code",
   "execution_count": 1,
   "metadata": {},
   "outputs": [],
   "source": [
    "%load_ext autoreload\n",
    "%autoreload 2"
   ]
  },
  {
   "cell_type": "code",
   "execution_count": 2,
   "metadata": {},
   "outputs": [],
   "source": [
    "from typing import List, TYPE_CHECKING, Iterable, Dict"
   ]
  },
  {
   "cell_type": "markdown",
   "metadata": {},
   "source": [
    "# NER with Evolutionary Algorithms"
   ]
  },
  {
   "cell_type": "code",
   "execution_count": 3,
   "metadata": {},
   "outputs": [],
   "source": [
    "from ga_ner.models import Vocabulary\n",
    "enconding = 'iso-8859-1'\n",
    "vocab = Vocabulary.from_iob('data/train/esp.train.txt', enconding, 10)"
   ]
  },
  {
   "cell_type": "code",
   "execution_count": 4,
   "metadata": {},
   "outputs": [],
   "source": [
    "vocab.to_file('data/vocabs/conn-2002-uncased-vocab.txt')"
   ]
  },
  {
   "cell_type": "markdown",
   "metadata": {},
   "source": [
    "## Evolutinary NER Rules"
   ]
  },
  {
   "cell_type": "markdown",
   "metadata": {},
   "source": [
    " - Take example of conll 2002 &check;\n",
    "- Transform example to Doument object \n",
    "    - Create vocabulary from corpus text\n",
    "    - Create vocabulary from corpus iob \n",
    "    - Create vocabulary from file &check;\n",
    "    - Create vocabulary from spacy\n",
    "    - Create vocabulary from conll2002 &check;\n",
    "    - Create vocabulary from spacy after preprocessing\n",
    "- Transform Document object to array &check;\n",
    "- Create text documents to WORD POS DEPREL\n",
    "    - Train neural network with word lemma pos deprel to predict next token\n",
    "- Generate rules using genetic algorithm\n",
    "    - Generate init population\n",
    "        - Create chromosome\n",
    "        - Select next token:\n",
    "            - Get transition data\n",
    "            - Filter samples evaluating their quality\n",
    "    - Create fitness function\n",
    "        - Evaluate fitness function\n",
    "    - Create mutation function\n",
    "        - Change token\n",
    "        - Change transition\n",
    "    - Create crossover function\n",
    "        - Change token\n",
    "        - Change transition\n",
    "    - Evaluate population\n",
    "        - Evaluate fitness\n",
    "        - Select best samples\n",
    "- Join rules\n",
    "    - Support vector machine\n",
    "\n"
   ]
  },
  {
   "cell_type": "markdown",
   "metadata": {},
   "source": [
    "1. Take a example of conll 2002\n",
    "2. Create Ner rule with samples using genetic algorithm\n",
    "3. Label data with rules\n",
    "4. Train neural network with data labeled with rules\n",
    "5. Select samples with high precision\n",
    "1. repeat steps 2-5 with selected samples until precision is high enough"
   ]
  },
  {
   "cell_type": "code",
   "execution_count": 5,
   "metadata": {},
   "outputs": [],
   "source": [
    "import numpy as np\n",
    "from ga_ner.models import GANER, Document, Corpus, Vocabulary\n",
    "import spacy\n",
    "\n",
    "if TYPE_CHECKING:\n",
    "    from spacy.tokens import Doc as SpacyDoc"
   ]
  },
  {
   "cell_type": "markdown",
   "metadata": {},
   "source": [
    "### 1. Take a example of conll 2002\n",
    "\n",
    "1. Load conll2002 to spacy documents\n",
    "2. Load Vocabulary from conll2002\n",
    "3. Take random samples from spacy documents\n",
    "3. Convert Spacy models to Corpus object from samples\n"
   ]
  },
  {
   "cell_type": "markdown",
   "metadata": {},
   "source": [
    "##### 1. Load conll2002 to spacy models"
   ]
  },
  {
   "cell_type": "code",
   "execution_count": 6,
   "metadata": {},
   "outputs": [],
   "source": [
    "nlp = spacy.load(\"es_dep_news_trf\",exclude=[\"ner\"])"
   ]
  },
  {
   "cell_type": "code",
   "execution_count": 7,
   "metadata": {},
   "outputs": [],
   "source": [
    "# Load spacy documents\n",
    "from spacy.training.converters import conll_ner_to_docs\n",
    "conll_file = 'data/train/esp.train.txt'\n",
    "with open(conll_file, \"r\", encoding='iso-8859-1') as file:\n",
    "    input_data = file.read()\n",
    "docs = conll_ner_to_docs(input_data, n_sents=1, no_print=False, model=\"es_dep_news_trf\")"
   ]
  },
  {
   "cell_type": "code",
   "execution_count": 8,
   "metadata": {},
   "outputs": [
    {
     "name": "stdout",
     "output_type": "stream",
     "text": [
      "\u001b[38;5;4mℹ Grouping every 1 sentences into a document.\u001b[0m\n",
      "\u001b[38;5;3m⚠ To generate better training data, you may want to group sentences\n",
      "into documents with `-n 10`.\u001b[0m\n"
     ]
    }
   ],
   "source": [
    "# Simple load\n",
    "spacy_ner_doc= list(docs)"
   ]
  },
  {
   "cell_type": "code",
   "execution_count": 9,
   "metadata": {},
   "outputs": [
    {
     "data": {
      "text/plain": [
       "8323"
      ]
     },
     "execution_count": 9,
     "metadata": {},
     "output_type": "execute_result"
    }
   ],
   "source": [
    "samples_len = len(spacy_ner_doc)\n",
    "samples_len"
   ]
  },
  {
   "cell_type": "markdown",
   "metadata": {},
   "source": [
    "##### 2. Load Vocabulary from conll2002"
   ]
  },
  {
   "cell_type": "code",
   "execution_count": 10,
   "metadata": {},
   "outputs": [],
   "source": [
    "vocabulary = Vocabulary.from_file(\n",
    "    'data/vocabs/conn-2002-uncased-vocab.txt',\n",
    "    include_special=False)"
   ]
  },
  {
   "cell_type": "markdown",
   "metadata": {},
   "source": [
    "##### 3. Take random samples from spacy documents"
   ]
  },
  {
   "cell_type": "code",
   "execution_count": 11,
   "metadata": {},
   "outputs": [],
   "source": [
    "sample_is_complete_1 = np.zeros(samples_len, dtype=bool)"
   ]
  },
  {
   "cell_type": "code",
   "execution_count": 44,
   "metadata": {},
   "outputs": [],
   "source": [
    "np.random.seed(0)\n",
    "selected_indices_1 = np.random.choice(samples_len, size=10, replace=False)"
   ]
  },
  {
   "cell_type": "markdown",
   "metadata": {},
   "source": [
    "##### 4. Convert Spacy models to Corpus object"
   ]
  },
  {
   "cell_type": "code",
   "execution_count": 45,
   "metadata": {},
   "outputs": [],
   "source": [
    "def sample_spacy_docs(\n",
    "    docs: List['SpacyDoc'],\n",
    "    selected_indices: Iterable[int], \n",
    "    sample_is_complete: Iterable[int]) -> Iterable['SpacyDoc']:\n",
    "    \"\"\"\n",
    "    Sample a list of spacy documents of selected index.\n",
    "    If doc is not complete, it will be completed in spacy pipeline.\n",
    "    \"\"\"\n",
    "    spacy_models = [docs[index] for index in selected_indices if not sample_is_complete[index]]\n",
    "\n",
    "    # Complement spacy documents\n",
    "    spacy_models =list(\n",
    "        nlp.pipe(spacy_models, disable=[\"tok2vec\", \"tagger\", \"attribute_ruler\"])\n",
    "    )\n",
    "        \n",
    "    # Reassign spacy document\n",
    "    index_doc = 0\n",
    "    for index in selected_indices:\n",
    "        if not sample_is_complete[index]:\n",
    "            spacy_models[index_doc] = spacy_ner_doc[index]\n",
    "            sample_is_complete[index] = True\n",
    "            index_doc += 1\n",
    "        yield docs[index]"
   ]
  },
  {
   "cell_type": "code",
   "execution_count": 46,
   "metadata": {},
   "outputs": [
    {
     "data": {
      "application/vnd.jupyter.widget-view+json": {
       "model_id": "49a88c2ccbd240bc8a533f8d7bf69eb6",
       "version_major": 2,
       "version_minor": 0
      },
      "text/plain": [
       "  0%|          | 0/10 [00:00<?, ?it/s]"
      ]
     },
     "metadata": {},
     "output_type": "display_data"
    }
   ],
   "source": [
    "corpus_1 = Corpus.from_spacy_docs(\n",
    "    sample_spacy_docs(spacy_ner_doc, selected_indices_1, sample_is_complete_1),\n",
    "    total_samples=len(selected_indices_1),\n",
    "    vocab=vocabulary\n",
    ")"
   ]
  },
  {
   "cell_type": "code",
   "execution_count": 47,
   "metadata": {},
   "outputs": [],
   "source": [
    "vocab_ent = Vocabulary.from_list(\n",
    "    list(corpus_1.entities.keys()),include_special=False)"
   ]
  },
  {
   "cell_type": "markdown",
   "metadata": {},
   "source": [
    "### 2. Create Ner rule with samples using genetic algorithm\n",
    "\n",
    "1. From corpus create datasets by entities to predict\n",
    "    - From datasets:\n",
    "        - Convert to array\n",
    "        - Get representation of documents for entities to predict\n",
    "1. To Train Genetic Algorithm for entity\n",
    "2. Get best genetic ner rules \n"
   ]
  },
  {
   "cell_type": "markdown",
   "metadata": {},
   "source": [
    "##### 1. From corpus create datasets by entities to predict"
   ]
  },
  {
   "cell_type": "code",
   "execution_count": 48,
   "metadata": {},
   "outputs": [
    {
     "data": {
      "application/vnd.jupyter.widget-view+json": {
       "model_id": "17595c7f28a243a0aaf4d555cf03af20",
       "version_major": 2,
       "version_minor": 0
      },
      "text/plain": [
       "  0%|          | 0/4 [00:00<?, ?it/s]"
      ]
     },
     "metadata": {},
     "output_type": "display_data"
    },
    {
     "data": {
      "application/vnd.jupyter.widget-view+json": {
       "model_id": "6cdc2216262541bdbe4176e6ecaf746e",
       "version_major": 2,
       "version_minor": 0
      },
      "text/plain": [
       "  0%|          | 0/10 [00:00<?, ?it/s]"
      ]
     },
     "metadata": {},
     "output_type": "display_data"
    },
    {
     "data": {
      "application/vnd.jupyter.widget-view+json": {
       "model_id": "bc21dc0881f3425f8f81f968162b1b9a",
       "version_major": 2,
       "version_minor": 0
      },
      "text/plain": [
       "  0%|          | 0/10 [00:00<?, ?it/s]"
      ]
     },
     "metadata": {},
     "output_type": "display_data"
    },
    {
     "data": {
      "application/vnd.jupyter.widget-view+json": {
       "model_id": "63ba505e1cd649b29be200e41902317d",
       "version_major": 2,
       "version_minor": 0
      },
      "text/plain": [
       "  0%|          | 0/10 [00:00<?, ?it/s]"
      ]
     },
     "metadata": {},
     "output_type": "display_data"
    },
    {
     "data": {
      "application/vnd.jupyter.widget-view+json": {
       "model_id": "fa79e1bae78a406482a076697a5ff99e",
       "version_major": 2,
       "version_minor": 0
      },
      "text/plain": [
       "  0%|          | 0/10 [00:00<?, ?it/s]"
      ]
     },
     "metadata": {},
     "output_type": "display_data"
    }
   ],
   "source": [
    "from tqdm.auto import tqdm, trange\n",
    "entity_dataset: Dict[str,Dict[str, np.ndarray]] = {}\n",
    "max_size_doc = 172\n",
    "s_init_pop = 400\n",
    "parent_population = np.zeros((s_init_pop, 10), dtype=np.int32)\n",
    "parent_population[:,0] = 1\n",
    "parent_population[:100,2] = 1\n",
    "parent_population[100:200,2] = 2\n",
    "parent_population[200:300,2] = 3\n",
    "parent_population[300:400,2] = 4\n",
    "parent_population[:,3] = corpus_1.documents[0].mask_id\n",
    "index_pop = 0\n",
    "import random\n",
    "random.seed(42)\n",
    "\n",
    "def add_to_dataset(\n",
    "    input_ds:np.ndarray,\n",
    "    target_ds:np.ndarray,\n",
    "    meta_ds:np.ndarray, \n",
    "    document: Document,\n",
    "    entity_label: str,\n",
    "    index_pop:int\n",
    "     )->bool:\n",
    "    \"\"\"\n",
    "    Add a document to the dataset.\n",
    "    If target document has not containt the entity, it won't be added.\n",
    "    \"\"\"\n",
    "    if len(document.entities) == 0:\n",
    "        return False, index_pop\n",
    "    document_array = document.to_array(entity_label).reshape(-1, 4)\n",
    "    max_size = min(max_size_doc, document_array.shape[0])\n",
    "    meta_ds[:] = document_array[0]\n",
    "    input_ds[:max_size-1] = document_array[1:max_size, :3]\n",
    "    target_ds[:max_size-1] = document_array[1:max_size, 3:]\n",
    "    return True, index_pop\n",
    "\n",
    "\n",
    "for entity in tqdm(corpus_1.entities.keys()):\n",
    "    entity_dataset[entity] = {}\n",
    "    len_doc = len(corpus_1.documents)\n",
    "    entity_dataset[entity][\"input\"] = np.zeros((len_doc, max_size_doc, 3), dtype=np.int32)\n",
    "    entity_dataset[entity][\"target\"] = np.zeros((len_doc, max_size_doc, 1),dtype=np.int32)\n",
    "    entity_dataset[entity][\"meta\"] = np.zeros((len_doc, 4),dtype=np.int32)\n",
    "    \n",
    "    # If document is not added then delete it from the dataset\n",
    "    index_to_delete = []\n",
    "    for index in trange(len_doc):\n",
    "        \n",
    "        is_added, index_pop = add_to_dataset(\n",
    "            entity_dataset[entity][\"input\"][index],\n",
    "            entity_dataset[entity][\"target\"][index],\n",
    "            entity_dataset[entity][\"meta\"][index],\n",
    "            corpus_1.documents[index],\n",
    "            entity,\n",
    "            index_pop\n",
    "        )\n",
    "        if not is_added:\n",
    "            index_to_delete.append(index)\n",
    "    # Delete samples without entity\n",
    "    if len(index_to_delete) > 0:\n",
    "        entity_dataset[entity][\"input\"] = np.delete(entity_dataset[entity][\"input\"], index_to_delete, axis=0)\n",
    "        entity_dataset[entity][\"target\"] = np.delete(entity_dataset[entity][\"target\"], index_to_delete, axis=0)\n",
    "        entity_dataset[entity][\"meta\"] = np.delete(entity_dataset[entity][\"meta\"], index_to_delete, axis=0)\n",
    "\n",
    "\n",
    "for document in corpus_1.documents:\n",
    "    # add entities to parent population\n",
    "    for i, entity in enumerate(document.entities):\n",
    "        size_entity = entity.end-entity.start\n",
    "        entity_end =  size_entity+3\n",
    "        document_array = document.to_array().reshape(-1, 4)\n",
    "        entity_array = document_array[entity.start+2:entity.end+2]\n",
    "        unique_index = np.unique(parent_population, axis=0, return_index=True)[1]\n",
    "        entity_id = document.vocab_ent[entity.label]\n",
    "        for j in range(3):\n",
    "            if index_pop < s_init_pop:\n",
    "                index_pop_temp = (entity_id-1) * 100 + index_pop%100\n",
    "                parent_population[index_pop_temp][0] = min(size_entity,7)\n",
    "                parent_population[index_pop_temp][2] = entity_id\n",
    "                parent_population[index_pop_temp][3: entity_end] = document_array[entity.start+2:entity.end+2,j][:7]\n",
    "                index_pop += 1\n",
    "            elif unique_index.shape[0] < s_init_pop:\n",
    "                # select random index to replace in parent population that is not in the population\n",
    "                index_pop_temp = np.random.choice(list(set(range((entity_id-1) * 100,entity_id-1* 100)) - set(unique_index)), 1)[0]\n",
    "                parent_population[index_pop_temp][0] = size_entity\n",
    "                parent_population[index_pop_temp][2] = entity_id\n",
    "                parent_population[index_pop_temp][3: entity_end] = document_array[entity.start+2:entity.end+2,j]\n",
    "                parent_population[index_pop_temp][entity_end:] = 0"
   ]
  },
  {
   "cell_type": "markdown",
   "metadata": {},
   "source": [
    "##### 2. To Train Genetic Algorithm for entity    "
   ]
  },
  {
   "cell_type": "code",
   "execution_count": 49,
   "metadata": {},
   "outputs": [
    {
     "name": "stderr",
     "output_type": "stream",
     "text": [
      "/home/jraba/Dev/gar-lener-es/env/lib/python3.9/site-packages/pytorch_lightning/loops/utilities.py:91: PossibleUserWarning: `max_epochs` was not set. Setting it to 1000 epochs. To train without an epoch limit, set `max_epochs=-1`.\n",
      "  rank_zero_warn(\n",
      "GPU available: False, used: False\n",
      "TPU available: False, using: 0 TPU cores\n",
      "IPU available: False, using: 0 IPUs\n",
      "HPU available: False, using: 0 HPUs\n"
     ]
    }
   ],
   "source": [
    "from pytorch_lightning.callbacks import ModelCheckpoint\n",
    "from pytorch_lightning.callbacks.early_stopping import EarlyStopping\n",
    "import pytorch_lightning as pl\n",
    "from ga_ner.ml.models import TransformerModel\n",
    "from ga_ner.ml.loss import accuracy_loss\n",
    "\n",
    "\n",
    "checkpoint_callback = ModelCheckpoint(\n",
    "    './checkpoints_p', save_weights_only=True, monitor='val_loss',mode='min')\n",
    "\n",
    "trainer = pl.Trainer(callbacks=[checkpoint_callback], enable_progress_bar=False)\n",
    "model = TransformerModel.load_from_checkpoint(\"checkpoints/epoch=304-step=3050.ckpt\")\n",
    "trainer.model = model"
   ]
  },
  {
   "cell_type": "code",
   "execution_count": 50,
   "metadata": {},
   "outputs": [
    {
     "data": {
      "text/plain": [
       "<module 'ga_ner.models' from '/home/jraba/Dev/gar-lener-es/ga_ner/models.py'>"
      ]
     },
     "execution_count": 50,
     "metadata": {},
     "output_type": "execute_result"
    }
   ],
   "source": [
    "# reload module\n",
    "from importlib import reload\n",
    "import ga_ner.models\n",
    "reload(ga_ner.models)"
   ]
  },
  {
   "cell_type": "code",
   "execution_count": 51,
   "metadata": {},
   "outputs": [],
   "source": [
    "# Init GA Models\n",
    "from ga_ner.models import GANER, Document, Corpus, Vocabulary, perfomance_by_doc\n",
    "\n",
    "map_inv_entity = {corpus_1.vocab_ent[k]:k for k in corpus_1.entities.keys()}\n",
    "ga_ner = ga_ner.models.GANER(\n",
    "    data=entity_dataset,\n",
    "    map_inv_entity=map_inv_entity,\n",
    "    n_population=400,\n",
    "    max_len=10,\n",
    "    mask_id=corpus_1.documents[0].mask_id,\n",
    "    unknown_id=corpus_1.documents[0].unk_id,\n",
    "    ml_model=trainer,\n",
    "    random_state=42,\n",
    "    n_top=100,\n",
    "    threshold=0.9\n",
    ")"
   ]
  },
  {
   "cell_type": "code",
   "execution_count": 52,
   "metadata": {},
   "outputs": [
    {
     "data": {
      "text/plain": [
       "array([[1, 0, 1, ..., 0, 0, 0],\n",
       "       [1, 0, 1, ..., 0, 0, 0],\n",
       "       [1, 0, 1, ..., 0, 0, 0],\n",
       "       ...,\n",
       "       [1, 0, 4, ..., 0, 0, 0],\n",
       "       [1, 0, 4, ..., 0, 0, 0],\n",
       "       [1, 0, 4, ..., 0, 0, 0]], dtype=int32)"
      ]
     },
     "execution_count": 52,
     "metadata": {},
     "output_type": "execute_result"
    }
   ],
   "source": [
    "parent_population"
   ]
  },
  {
   "cell_type": "code",
   "execution_count": 53,
   "metadata": {},
   "outputs": [
    {
     "name": "stderr",
     "output_type": "stream",
     "text": [
      "/home/jraba/Dev/gar-lener-es/env/lib/python3.9/site-packages/pytorch_lightning/trainer/connectors/data_connector.py:240: PossibleUserWarning: The dataloader, predict_dataloader 0, does not have many workers which may be a bottleneck. Consider increasing the value of the `num_workers` argument` (try 8 which is the number of cpus on this machine) in the `DataLoader` init to improve performance.\n",
      "  rank_zero_warn(\n"
     ]
    },
    {
     "data": {
      "application/vnd.jupyter.widget-view+json": {
       "model_id": "420a27675fc64e64a9ae76a3c368fd99",
       "version_major": 2,
       "version_minor": 0
      },
      "text/plain": [
       "  0%|          | 0/100 [00:00<?, ?it/s]"
      ]
     },
     "metadata": {},
     "output_type": "display_data"
    }
   ],
   "source": [
    "#for ga_ner in tqdm(ga_entities.values()):\n",
    "ga_ner.train(\n",
    "    max_iter=100,\n",
    "    tol=10,\n",
    "    base_population=parent_population,\n",
    "    num_islands=4\n",
    ")"
   ]
  },
  {
   "cell_type": "code",
   "execution_count": 54,
   "metadata": {},
   "outputs": [],
   "source": [
    "# Save entity names of ga_entities in file\n",
    "with open(\"entity_names.txt\", \"w\") as file:\n",
    "    for entity in ga_ner.data.keys():\n",
    "        file.write(entity)\n",
    "        file.write(\"\\n\")"
   ]
  },
  {
   "cell_type": "code",
   "execution_count": 55,
   "metadata": {},
   "outputs": [
    {
     "name": "stdout",
     "output_type": "stream",
     "text": [
      "1 PER\n",
      "2 MISC\n",
      "3 ORG\n",
      "4 LOC\n"
     ]
    }
   ],
   "source": [
    "for ent in  ga_ner.data.keys():\n",
    "    print(corpus_1.documents[0].vocab_ent[ent], ent)"
   ]
  },
  {
   "cell_type": "markdown",
   "metadata": {},
   "source": [
    "##### 3. Ner using genetic rules    "
   ]
  },
  {
   "cell_type": "code",
   "execution_count": 56,
   "metadata": {},
   "outputs": [],
   "source": [
    "# Get list of features of population by entity type\n",
    "# Use a document base to convert array to Feature using global index\n",
    "from ga_ner.models import Feature, Rule, Document, Vocabulary\n",
    "import numpy as np\n",
    "from typing import List, Dict, Tuple, Iterable"
   ]
  },
  {
   "cell_type": "code",
   "execution_count": 57,
   "metadata": {},
   "outputs": [],
   "source": [
    "entity_names = []\n",
    "with open(\"entity_names.txt\", \"r\") as file:\n",
    "    for line in file:\n",
    "        entity_names.append(line.strip())"
   ]
  },
  {
   "cell_type": "code",
   "execution_count": 58,
   "metadata": {},
   "outputs": [],
   "source": [
    "vocabulary = Vocabulary.from_file(\n",
    "    'data/vocabs/conn-2002-uncased-vocab.txt',\n",
    "    include_special=False)\n",
    "\n",
    "vocab_ent = Vocabulary.from_list(entity_names,include_special=False)\n",
    "\n",
    "document = Document.from_text(\"\", vocab=vocabulary, vocab_ent=vocab_ent)"
   ]
  },
  {
   "cell_type": "code",
   "execution_count": 59,
   "metadata": {},
   "outputs": [],
   "source": [
    "def get_features(\n",
    "    ga_pupulation:np.ndarray,\n",
    "    array_fitness:np.ndarray,\n",
    "    document: Document,\n",
    "    ) -> List[Rule]:\n",
    "    \"\"\"\n",
    "    Decode Ga rules to Rule object.\n",
    "    \"\"\"\n",
    "    rules = []\n",
    "    for index in range(ga_pupulation.shape[0]):\n",
    "        # firts element is the length of the rule\n",
    "        end_rule = ga_pupulation[index, 0] + 3\n",
    "        entity_type = corpus_1.vocab_ent[ga_pupulation[index, 2]]\n",
    "        rules.append(\n",
    "            document.rule_from_array(\n",
    "                ga_pupulation[index, 3:end_rule],\n",
    "                entity_type,\n",
    "                array_fitness[index]\n",
    "                ))\n",
    "    return rules\n"
   ]
  },
  {
   "cell_type": "code",
   "execution_count": 60,
   "metadata": {},
   "outputs": [],
   "source": [
    "rules = []\n",
    "\n",
    "rules.extend(\n",
    "    get_features(\n",
    "        np.load(f\"best_population.npy\"),\n",
    "        np.load(f\"best_fitness.npy\"),\n",
    "        document\n",
    "        )\n",
    "    )"
   ]
  },
  {
   "cell_type": "code",
   "execution_count": 61,
   "metadata": {},
   "outputs": [],
   "source": [
    "np.random.seed(702)\n",
    "selected_indices = np.random.choice(samples_len, size=100, replace=False)\n",
    "sample_is_complete = np.zeros(samples_len, dtype=bool)"
   ]
  },
  {
   "cell_type": "code",
   "execution_count": 62,
   "metadata": {},
   "outputs": [
    {
     "data": {
      "application/vnd.jupyter.widget-view+json": {
       "model_id": "fd16eb015f974fa18beab3598b488c4f",
       "version_major": 2,
       "version_minor": 0
      },
      "text/plain": [
       "  0%|          | 0/100 [00:00<?, ?it/s]"
      ]
     },
     "metadata": {},
     "output_type": "display_data"
    },
    {
     "name": "stderr",
     "output_type": "stream",
     "text": [
      "/home/jraba/Dev/gar-lener-es/env/lib/python3.9/site-packages/torch/amp/autocast_mode.py:198: UserWarning: User provided device_type of 'cuda', but CUDA is not available. Disabling\n",
      "  warnings.warn('User provided device_type of \\'cuda\\', but CUDA is not available. Disabling')\n"
     ]
    }
   ],
   "source": [
    "corpus = Corpus.from_spacy_docs(\n",
    "    sample_spacy_docs(spacy_ner_doc, selected_indices, sample_is_complete),\n",
    "    total_samples=len(selected_indices),\n",
    "    vocab=vocabulary,\n",
    "    vocab_ent=vocab_ent,\n",
    ")"
   ]
  },
  {
   "cell_type": "code",
   "execution_count": 63,
   "metadata": {},
   "outputs": [
    {
     "data": {
      "text/plain": [
       "206"
      ]
     },
     "execution_count": 63,
     "metadata": {},
     "output_type": "execute_result"
    }
   ],
   "source": [
    "len(rules)"
   ]
  },
  {
   "cell_type": "code",
   "execution_count": 64,
   "metadata": {},
   "outputs": [],
   "source": [
    "def slice_doc(\n",
    "    doc: np.ndarray, rule: np.ndarray, unknown_id: int\n",
    "    ) -> Iterable[Tuple[int, int]]:\n",
    "        \"\"\"Return indices where entity is located in the document.\n",
    "        \"\"\"\n",
    "        rule_size: int = rule[0]\n",
    "        individual_data = rule[3:3+rule_size].reshape(-1, 1)\n",
    "        entity_mask: np.ndarray = individual_data > 0\n",
    "        mask_unknown: np.ndarray = individual_data == unknown_id\n",
    "\n",
    "        for index in range(0, doc[0] - rule_size + 2):\n",
    "            index_doc = index + 1\n",
    "            macth_tokens = np.zeros(rule_size, dtype=bool)\n",
    "            is_match = True\n",
    "            for index_rule in range(rule_size):\n",
    "                index_token = (index_doc+index_rule)*3\n",
    "                if is_match:\n",
    "                    if ((\n",
    "                        doc[index_token:index_token+3] == np.abs(individual_data[index_rule])).any() \n",
    "                        | (mask_unknown[index_rule])):\n",
    "                        macth_tokens[index_rule] = True\n",
    "                else:\n",
    "                    is_match = False\n",
    "            \n",
    "            if macth_tokens.all():\n",
    "                if rule_size == 1:\n",
    "                    yield index_doc, index_doc + 1\n",
    "                else:\n",
    "                    start_index = index_doc\n",
    "                    end_index = index_doc + 1\n",
    "                    for index_include in range(rule_size-1):\n",
    "                        if index_include == rule_size - 2 and individual_data[index_include + 1] > 0:\n",
    "                            end_index = index_doc + index_include + 2\n",
    "                            if not individual_data[index_include] > 0:\n",
    "                                start_index = index_doc + index_include+1\n",
    "                            yield start_index, end_index\n",
    "                        elif not individual_data[index_include] > 0:\n",
    "                            start_index = index_doc + index_include + 1\n",
    "                        elif not individual_data[index_include + 1] > 0:\n",
    "                            end_index = index_doc + index_include + 1\n",
    "                            yield start_index, end_index\n",
    "                            start_index = index_doc + index_include + 1\n",
    "                        elif index_include == rule_size - 2:\n",
    "                            end_index = index_doc + index_include + 2\n",
    "                            yield start_index, end_index\n",
    "                        else:\n",
    "                            end_index = index_doc + index_include + 1"
   ]
  },
  {
   "cell_type": "code",
   "execution_count": 65,
   "metadata": {},
   "outputs": [],
   "source": [
    "entity_map=np.array([\"O\"]+entity_names)"
   ]
  },
  {
   "cell_type": "markdown",
   "metadata": {},
   "source": [
    "##### Predict entities with ner rules"
   ]
  },
  {
   "cell_type": "code",
   "execution_count": 66,
   "metadata": {},
   "outputs": [],
   "source": [
    "def slice_doc(\n",
    "    doc: np.ndarray, rule: np.ndarray, unknown_id: int\n",
    "    ) -> Iterable[Tuple[int, int]]:\n",
    "        \"\"\"Return indices where entity is located in the document.\n",
    "        \"\"\"\n",
    "        rule_size: int = rule[0]\n",
    "        individual_data = rule[3:3+rule_size].reshape(-1, 1)\n",
    "        entity_mask: np.ndarray = individual_data > 0\n",
    "        mask_unknown: np.ndarray = individual_data == unknown_id\n",
    "\n",
    "        for index in range(0, doc[0] - rule_size + 2):\n",
    "            index_doc = index + 1\n",
    "            macth_tokens = np.zeros(rule_size, dtype=bool)\n",
    "            is_match = True\n",
    "            for index_rule in range(rule_size):\n",
    "                index_token = (index_doc+index_rule)*3\n",
    "                if is_match:\n",
    "                    if ((\n",
    "                        doc[index_token:index_token+3] == np.abs(individual_data[index_rule])).any() \n",
    "                        | (mask_unknown[index_rule])):\n",
    "                        macth_tokens[index_rule] = True\n",
    "                else:\n",
    "                    is_match = False\n",
    "            \n",
    "            if macth_tokens.all():\n",
    "                if rule_size == 1:\n",
    "                    yield index_doc, index_doc + 1\n",
    "                else:\n",
    "                    start_index = index_doc\n",
    "                    end_index = index_doc + 1\n",
    "                    for index_include in range(rule_size-1):\n",
    "                        if index_include == rule_size - 2 and individual_data[index_include + 1] > 0:\n",
    "                            end_index = index_doc + index_include + 2\n",
    "                            if not individual_data[index_include] > 0:\n",
    "                                start_index = index_doc + index_include+1\n",
    "                            yield start_index, end_index\n",
    "                        elif not individual_data[index_include] > 0:\n",
    "                            start_index = index_doc + index_include + 1\n",
    "                        elif not individual_data[index_include + 1] > 0:\n",
    "                            end_index = index_doc + index_include + 1\n",
    "                            yield start_index, end_index\n",
    "                            start_index = index_doc + index_include + 1\n",
    "                        elif index_include == rule_size - 2:\n",
    "                            end_index = index_doc + index_include + 2\n",
    "                            yield start_index, end_index\n",
    "                        else:\n",
    "                            end_index = index_doc + index_include + 1"
   ]
  },
  {
   "cell_type": "code",
   "execution_count": 67,
   "metadata": {},
   "outputs": [
    {
     "data": {
      "application/vnd.jupyter.widget-view+json": {
       "model_id": "fe3c187971d04c749de5f98f3b6f91c5",
       "version_major": 2,
       "version_minor": 0
      },
      "text/plain": [
       "  0%|          | 0/10 [00:00<?, ?it/s]"
      ]
     },
     "metadata": {},
     "output_type": "display_data"
    }
   ],
   "source": [
    "from tqdm.auto import tqdm\n",
    "target = []\n",
    "predict = []\n",
    "# evaluate by document\n",
    "for doc in tqdm(corpus_1.documents):\n",
    "    if len(doc.entities) == 0:\n",
    "        continue\n",
    "    target.extend(entity_map[doc.to_entity_array()[2:-1]].tolist())\n",
    "    # create a empty matrix to consolidate the votes\n",
    "    min_votes = 0.09\n",
    "    votes = np.zeros((len(doc.tokens),5), dtype=float)\n",
    "    counts = np.zeros((len(doc.tokens),5), dtype=int)\n",
    "    # votes[:,0] = min_votes\n",
    "    counts[:,0] = 1\n",
    "\n",
    "    array_doc = doc.to_array(exclude_label=True)\n",
    "    unk_id = doc.unk_id\n",
    "    \n",
    "    # get rules for each entity\n",
    "    for entity_index, entity in enumerate(entity_names, 1):\n",
    "        array_rules = np.load(f\"{entity}_best_population.npy\")\n",
    "        array_fitness = np.load(f\"{entity}_best_fitness.npy\")\n",
    "        # get votes from rules\n",
    "        for index_rule in range(array_rules.shape[0]):\n",
    "\n",
    "            slices = slice_doc(array_doc, array_rules[index_rule], unk_id)\n",
    "\n",
    "            for start, end in slices:\n",
    "                votes[start:end, entity_index] += array_fitness[index_rule]\n",
    "                # votes[start:end, entity_index] += 1\n",
    "                counts[start:end, entity_index] += 1\n",
    "\n",
    "    totals = votes.sum(axis=1)\n",
    "    votes[:,0] = np.where(totals/2>min_votes,totals/2,min_votes)# min_votes # (totals/2)*0.7\n",
    "    votes = votes - votes[:,0].reshape(-1,1)\n",
    "    # predict.extend(entity_map[(votes/counts).argmax(axis=1)].tolist())\n",
    "    predict.extend(entity_map[(votes).argmax(axis=1)].tolist())"
   ]
  },
  {
   "cell_type": "code",
   "execution_count": 68,
   "metadata": {},
   "outputs": [
    {
     "name": "stdout",
     "output_type": "stream",
     "text": [
      "              precision    recall  f1-score   support\n",
      "\n",
      "         LOC       0.03      0.60      0.06         5\n",
      "        MISC       0.33      0.33      0.33         6\n",
      "           O       0.70      0.16      0.25       148\n",
      "         ORG       0.40      0.31      0.35        13\n",
      "         PER       0.08      0.50      0.14         4\n",
      "\n",
      "    accuracy                           0.19       176\n",
      "   macro avg       0.31      0.38      0.23       176\n",
      "weighted avg       0.63      0.19      0.26       176\n",
      "\n"
     ]
    }
   ],
   "source": [
    "# get report\n",
    "from sklearn.metrics import classification_report\n",
    "print(classification_report(target, predict))"
   ]
  },
  {
   "cell_type": "code",
   "execution_count": 69,
   "metadata": {},
   "outputs": [
    {
     "data": {
      "image/png": "[encoded data removed]",
      "text/plain": [
       "<Figure size 720x504 with 2 Axes>"
      ]
     },
     "metadata": {
      "needs_background": "light"
     },
     "output_type": "display_data"
    }
   ],
   "source": [
    "# plot confusion matrix normalized\n",
    "from sklearn.metrics import confusion_matrix\n",
    "import seaborn as sns\n",
    "import matplotlib.pyplot as plt\n",
    "import pandas as pd\n",
    "\n",
    "def print_cm(target, predict, labels, normalize=True):\n",
    "    cm = confusion_matrix(target, predict, labels=labels)\n",
    "    if normalize:\n",
    "        cm = cm.astype('float') / cm.sum(axis=1)[:, np.newaxis]\n",
    "    df_cm = pd.DataFrame(cm, index = labels,\n",
    "                      columns = labels)\n",
    "    plt.figure(figsize = (10,7))\n",
    "    sns.heatmap(df_cm, annot=True, fmt=\".2f\", cmap=\"Blues\")\n",
    "print_cm(target, predict, entity_map)"
   ]
  },
  {
   "cell_type": "code",
   "execution_count": 77,
   "metadata": {},
   "outputs": [],
   "source": [
    "# Train a model with the best rules\n",
    "from sklearn.linear_model import SGDClassifier\n",
    "from sklearn.svm import LinearSVC, SVC\n",
    "\n",
    "# Train partial model with each document\n",
    "\n",
    "classifier = LinearSVC(\n",
    "    random_state=42,\n",
    "    class_weight=\"balanced\",\n",
    "    tol=1e-3,\n",
    "   )"
   ]
  },
  {
   "cell_type": "code",
   "execution_count": 78,
   "metadata": {},
   "outputs": [
    {
     "data": {
      "application/vnd.jupyter.widget-view+json": {
       "model_id": "a05863460d494fab90325231c17c612a",
       "version_major": 2,
       "version_minor": 0
      },
      "text/plain": [
       "  0%|          | 0/10 [00:00<?, ?it/s]"
      ]
     },
     "metadata": {},
     "output_type": "display_data"
    },
    {
     "name": "stdout",
     "output_type": "stream",
     "text": [
      "              precision    recall  f1-score   support\n",
      "\n",
      "         LOC       1.00      0.40      0.57         5\n",
      "        MISC       1.00      0.50      0.67         6\n",
      "           O       0.92      0.97      0.95       148\n",
      "         ORG       1.00      0.38      0.56        13\n",
      "         PER       0.30      0.75      0.43         4\n",
      "\n",
      "    accuracy                           0.89       176\n",
      "   macro avg       0.84      0.60      0.63       176\n",
      "weighted avg       0.92      0.89      0.89       176\n",
      "\n"
     ]
    },
    {
     "data": {
      "image/png": "[encoded data removed]",
      "text/plain": [
       "<Figure size 720x504 with 2 Axes>"
      ]
     },
     "metadata": {
      "needs_background": "light"
     },
     "output_type": "display_data"
    }
   ],
   "source": [
    "\n",
    "target = []\n",
    "predict = []\n",
    "input_data_all = np.array([])\n",
    "target_data_all = np.array([], dtype=int)\n",
    "\n",
    "for doc in tqdm(corpus_1.documents):\n",
    "    if len(doc.entities) == 0:\n",
    "        continue\n",
    "    array_doc = doc.to_array(exclude_label=True)\n",
    "    input_data = np.zeros((array_doc[0], len(rules)), dtype=float)\n",
    "    target_data = np.zeros(array_doc[0], dtype=int)\n",
    "    unk_id = doc.unk_id\n",
    "    # get rules for each entity\n",
    "    index_data = 0\n",
    "    target_data[:] = doc.to_entity_array()[2:-1]\n",
    "    target.extend(entity_map[doc.to_entity_array()[2:-1]].tolist())\n",
    "\n",
    "    index_rules = np.argsort(np.load(f\"best_fitness.npy\"))[::-1]\n",
    "    array_rules = np.load(f\"best_population.npy\")[index_rules]\n",
    "    array_fitness = np.load(f\"best_fitness.npy\")[index_rules]\n",
    "    # get votes from rules\n",
    "    for index_rule in range(array_rules.shape[0]):\n",
    "        slices = slice_doc(array_doc, array_rules[index_rule], unk_id)\n",
    "        for start, end in slices:\n",
    "            input_data[start:end, index_data] = array_fitness[index_rule]\n",
    "        index_data += 1\n",
    "    \n",
    "    # extend input data all with input data\n",
    "    input_data_all = np.vstack((input_data_all, input_data)) if input_data_all.size else input_data\n",
    "    target_data_all = np.concatenate((target_data_all, target_data))\n",
    "\n",
    "classifier.fit(input_data_all, target_data_all)\n",
    "predict.extend(entity_map[classifier.predict(input_data_all)].tolist())\n",
    "print(classification_report(target, predict))\n",
    "print_cm(target, predict, entity_map)"
   ]
  },
  {
   "cell_type": "code",
   "execution_count": 80,
   "metadata": {},
   "outputs": [
    {
     "data": {
      "application/vnd.jupyter.widget-view+json": {
       "model_id": "1f7b65ba691d4e8696e256d21d2c985f",
       "version_major": 2,
       "version_minor": 0
      },
      "text/plain": [
       "  0%|          | 0/100 [00:00<?, ?it/s]"
      ]
     },
     "metadata": {},
     "output_type": "display_data"
    },
    {
     "name": "stdout",
     "output_type": "stream",
     "text": [
      "              precision    recall  f1-score   support\n",
      "\n",
      "         LOC       0.00      0.00      0.00        69\n",
      "        MISC       0.00      0.00      0.00        70\n",
      "           O       0.85      1.00      0.92      1950\n",
      "         ORG       0.00      0.00      0.00       103\n",
      "         PER       0.00      0.00      0.00        99\n",
      "\n",
      "    accuracy                           0.85      2291\n",
      "   macro avg       0.17      0.20      0.18      2291\n",
      "weighted avg       0.72      0.85      0.78      2291\n",
      "\n"
     ]
    },
    {
     "name": "stderr",
     "output_type": "stream",
     "text": [
      "/home/jraba/Dev/gar-lener-es/env/lib/python3.9/site-packages/sklearn/metrics/_classification.py:1327: UndefinedMetricWarning: Precision and F-score are ill-defined and being set to 0.0 in labels with no predicted samples. Use `zero_division` parameter to control this behavior.\n",
      "  _warn_prf(average, modifier, msg_start, len(result))\n",
      "/home/jraba/Dev/gar-lener-es/env/lib/python3.9/site-packages/sklearn/metrics/_classification.py:1327: UndefinedMetricWarning: Precision and F-score are ill-defined and being set to 0.0 in labels with no predicted samples. Use `zero_division` parameter to control this behavior.\n",
      "  _warn_prf(average, modifier, msg_start, len(result))\n",
      "/home/jraba/Dev/gar-lener-es/env/lib/python3.9/site-packages/sklearn/metrics/_classification.py:1327: UndefinedMetricWarning: Precision and F-score are ill-defined and being set to 0.0 in labels with no predicted samples. Use `zero_division` parameter to control this behavior.\n",
      "  _warn_prf(average, modifier, msg_start, len(result))\n"
     ]
    },
    {
     "data": {
      "image/png": "[encoded data removed]",
      "text/plain": [
       "<Figure size 720x504 with 2 Axes>"
      ]
     },
     "metadata": {
      "needs_background": "light"
     },
     "output_type": "display_data"
    }
   ],
   "source": [
    "target = []\n",
    "predict = []\n",
    "\n",
    "for doc in tqdm(corpus.documents):\n",
    "    if len(doc.entities) == 0:\n",
    "        continue\n",
    "    array_doc = doc.to_array(exclude_label=True)\n",
    "    input_data = np.zeros((array_doc[0], len(rules)), dtype=float)\n",
    "    target_data = np.zeros(array_doc[0], dtype=float)\n",
    "    unk_id = doc.unk_id\n",
    "    # get rules for each entity\n",
    "    index_data = 0\n",
    "    target_data[:] = doc.to_entity_array()[2:-1]\n",
    "    target.extend(entity_map[doc.to_entity_array()[2:-1]].tolist())\n",
    "\n",
    "    # for entity_index, entity in enumerate(entity_names, 1):\n",
    "    array_rules = np.load(f\"best_population.npy\")\n",
    "    array_fitness = np.load(f\"best_fitness.npy\")\n",
    "    # get votes from rules\n",
    "    for index_rule in range(array_rules.shape[0]):\n",
    "        slices = slice_doc(array_doc, array_rules[index_rule], unk_id)\n",
    "        for start, end in slices:\n",
    "            input_data[start:end, index_data] = array_fitness[index_rule]\n",
    "        index_data += 1\n",
    "    \n",
    "    predict.extend(entity_map[classifier.predict(input_data)].tolist())\n",
    "\n",
    "print(classification_report(target, predict))\n",
    "print_cm(target, predict, entity_map)"
   ]
  }
 ],
 "metadata": {
  "interpreter": {
   "hash": "58a42617e7e8ac5b5deb10f20d2ac009e9df1a8d2d4c12f179252e868903bd47"
  },
  "kernelspec": {
   "display_name": "Python 3.9.7 ('env': venv)",
   "language": "python",
   "name": "python3"
  },
  "language_info": {
   "codemirror_mode": {
    "name": "ipython",
    "version": 3
   },
   "file_extension": ".py",
   "mimetype": "text/x-python",
   "name": "python",
   "nbconvert_exporter": "python",
   "pygments_lexer": "ipython3",
   "version": "3.9.7"
  },
  "orig_nbformat": 4
 },
 "nbformat": 4,
 "nbformat_minor": 2
}
