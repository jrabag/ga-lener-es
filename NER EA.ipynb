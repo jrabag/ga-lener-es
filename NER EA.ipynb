{
 "cells": [
  {
   "cell_type": "code",
   "execution_count": 1,
   "metadata": {},
   "outputs": [],
   "source": [
    "%load_ext autoreload\n",
    "%autoreload 2"
   ]
  },
  {
   "cell_type": "code",
   "execution_count": 2,
   "metadata": {},
   "outputs": [],
   "source": [
    "%load_ext snakeviz"
   ]
  },
  {
   "cell_type": "code",
   "execution_count": 3,
   "metadata": {},
   "outputs": [],
   "source": [
    "from typing import List, TYPE_CHECKING, Iterable, Dict"
   ]
  },
  {
   "cell_type": "code",
   "execution_count": 47,
   "metadata": {},
   "outputs": [],
   "source": [
    "from evolution_rules import cpp_perfomance_by_doc, cpp_fitness_by_individual, cpp_fitness, cosine_similarity"
   ]
  },
  {
   "cell_type": "markdown",
   "metadata": {},
   "source": [
    "# NER with Evolutionary Algorithms"
   ]
  },
  {
   "cell_type": "code",
   "execution_count": 5,
   "metadata": {},
   "outputs": [],
   "source": [
    "from ga_ner.models import Vocabulary\n",
    "enconding = 'iso-8859-1'\n",
    "vocab = Vocabulary.from_iob('data/train/esp.train.txt', enconding, 10)"
   ]
  },
  {
   "cell_type": "code",
   "execution_count": 6,
   "metadata": {},
   "outputs": [],
   "source": [
    "vocab.to_file('data/vocabs/conn-2002-uncased-vocab.txt')"
   ]
  },
  {
   "cell_type": "markdown",
   "metadata": {},
   "source": [
    "## Evolutinary NER Rules"
   ]
  },
  {
   "cell_type": "markdown",
   "metadata": {},
   "source": [
    " - Take example of conll 2002 &check;\n",
    "- Transform example to Doument object \n",
    "    - Create vocabulary from corpus text\n",
    "    - Create vocabulary from corpus iob \n",
    "    - Create vocabulary from file &check;\n",
    "    - Create vocabulary from spacy\n",
    "    - Create vocabulary from conll2002 &check;\n",
    "    - Create vocabulary from spacy after preprocessing\n",
    "- Transform Document object to array &check;\n",
    "- Create text documents to WORD POS DEPREL\n",
    "    - Train neural network with word lemma pos deprel to predict next token\n",
    "- Generate rules using genetic algorithm\n",
    "    - Generate init population\n",
    "        - Create chromosome\n",
    "        - Select next token:\n",
    "            - Get transition data\n",
    "            - Filter samples evaluating their quality\n",
    "    - Create fitness function\n",
    "        - Evaluate fitness function\n",
    "    - Create mutation function\n",
    "        - Change token\n",
    "        - Change transition\n",
    "    - Create crossover function\n",
    "        - Change token\n",
    "        - Change transition\n",
    "    - Evaluate population\n",
    "        - Evaluate fitness\n",
    "        - Select best samples\n",
    "- Join rules\n",
    "    - Support vector machine\n",
    "\n"
   ]
  },
  {
   "cell_type": "markdown",
   "metadata": {},
   "source": [
    "1. Take a example of conll 2002\n",
    "2. Create Ner rule with samples using genetic algorithm\n",
    "3. Label data with rules\n",
    "4. Train neural network with data labeled with rules\n",
    "5. Select samples with high precision\n",
    "1. repeat steps 2-5 with selected samples until precision is high enough"
   ]
  },
  {
   "cell_type": "code",
   "execution_count": 7,
   "metadata": {},
   "outputs": [],
   "source": [
    "import numpy as np\n",
    "from ga_ner.models import GANER, Document, Corpus, Vocabulary\n",
    "import spacy\n",
    "\n",
    "if TYPE_CHECKING:\n",
    "    from spacy.tokens import Doc as SpacyDoc"
   ]
  },
  {
   "cell_type": "markdown",
   "metadata": {},
   "source": [
    "### 1. Take a example of conll 2002\n",
    "\n",
    "1. Load conll2002 to spacy documents\n",
    "2. Load Vocabulary from conll2002\n",
    "3. Take random samples from spacy documents\n",
    "3. Convert Spacy models to Corpus object from samples\n"
   ]
  },
  {
   "cell_type": "markdown",
   "metadata": {},
   "source": [
    "##### 1. Load conll2002 to spacy models"
   ]
  },
  {
   "cell_type": "code",
   "execution_count": 8,
   "metadata": {},
   "outputs": [],
   "source": [
    "nlp = spacy.load(\"es_dep_news_trf\",exclude=[\"ner\"])"
   ]
  },
  {
   "cell_type": "code",
   "execution_count": 9,
   "metadata": {},
   "outputs": [],
   "source": [
    "# Load spacy documents\n",
    "from spacy.training.converters import conll_ner_to_docs\n",
    "conll_file = 'data/train/esp.train.txt'\n",
    "with open(conll_file, \"r\", encoding='iso-8859-1') as file:\n",
    "    input_data = file.read()\n",
    "docs = conll_ner_to_docs(input_data, n_sents=1, no_print=False, model=\"es_dep_news_trf\")"
   ]
  },
  {
   "cell_type": "code",
   "execution_count": 10,
   "metadata": {},
   "outputs": [
    {
     "name": "stdout",
     "output_type": "stream",
     "text": [
      "\u001b[38;5;4mℹ Grouping every 1 sentences into a document.\u001b[0m\n",
      "\u001b[38;5;3m⚠ To generate better training data, you may want to group sentences\n",
      "into documents with `-n 10`.\u001b[0m\n"
     ]
    }
   ],
   "source": [
    "# Simple load\n",
    "spacy_ner_doc= list(docs)"
   ]
  },
  {
   "cell_type": "code",
   "execution_count": 11,
   "metadata": {},
   "outputs": [
    {
     "data": {
      "text/plain": [
       "8323"
      ]
     },
     "execution_count": 11,
     "metadata": {},
     "output_type": "execute_result"
    }
   ],
   "source": [
    "samples_len = len(spacy_ner_doc)\n",
    "samples_len"
   ]
  },
  {
   "cell_type": "markdown",
   "metadata": {},
   "source": [
    "##### 2. Load Vocabulary from conll2002"
   ]
  },
  {
   "cell_type": "code",
   "execution_count": 12,
   "metadata": {},
   "outputs": [],
   "source": [
    "vocabulary = Vocabulary.from_file(\n",
    "    'data/vocabs/conn-2002-uncased-vocab.txt',\n",
    "    include_special=False)"
   ]
  },
  {
   "cell_type": "markdown",
   "metadata": {},
   "source": [
    "2784 = Vocab\n",
    "\n",
    "62 = Dep\n",
    "\n",
    "19 = POS\n",
    "\n",
    "2703 = Word"
   ]
  },
  {
   "cell_type": "markdown",
   "metadata": {},
   "source": [
    "##### 3. Take random samples from spacy documents"
   ]
  },
  {
   "cell_type": "code",
   "execution_count": 13,
   "metadata": {},
   "outputs": [],
   "source": [
    "sample_is_complete_1 = np.zeros(samples_len, dtype=bool)"
   ]
  },
  {
   "cell_type": "code",
   "execution_count": 14,
   "metadata": {},
   "outputs": [],
   "source": [
    "np.random.seed(0)\n",
    "selected_indices_1 = np.random.choice(samples_len, size=266, replace=False)"
   ]
  },
  {
   "cell_type": "markdown",
   "metadata": {},
   "source": [
    "##### 4. Convert Spacy models to Corpus object"
   ]
  },
  {
   "cell_type": "code",
   "execution_count": 16,
   "metadata": {},
   "outputs": [],
   "source": [
    "def sample_spacy_docs(\n",
    "    docs: List['SpacyDoc'],\n",
    "    selected_indices: Iterable[int], \n",
    "    sample_is_complete: Iterable[int]) -> Iterable['SpacyDoc']:\n",
    "    \"\"\"\n",
    "    Sample a list of spacy documents of selected index.\n",
    "    If doc is not complete, it will be completed in spacy pipeline.\n",
    "    \"\"\"\n",
    "    spacy_models = [docs[index] for index in selected_indices if not sample_is_complete[index]]\n",
    "\n",
    "    # Complement spacy documents\n",
    "    spacy_models =list(\n",
    "        nlp.pipe(spacy_models, disable=[\"tok2vec\", \"tagger\", \"attribute_ruler\"])\n",
    "    )\n",
    "        \n",
    "    # Reassign spacy document\n",
    "    index_doc = 0\n",
    "    for index in selected_indices:\n",
    "        if not sample_is_complete[index]:\n",
    "            spacy_models[index_doc] = spacy_ner_doc[index]\n",
    "            sample_is_complete[index] = True\n",
    "            index_doc += 1\n",
    "        yield docs[index]"
   ]
  },
  {
   "cell_type": "code",
   "execution_count": 17,
   "metadata": {},
   "outputs": [
    {
     "data": {
      "application/vnd.jupyter.widget-view+json": {
       "model_id": "b0cc00814cdf440da12fa05e304ea2aa",
       "version_major": 2,
       "version_minor": 0
      },
      "text/plain": [
       "  0%|          | 0/266 [00:00<?, ?it/s]"
      ]
     },
     "metadata": {},
     "output_type": "display_data"
    },
    {
     "name": "stderr",
     "output_type": "stream",
     "text": [
      "/home/jraba/Dev/gar-lener-es/env/lib/python3.9/site-packages/torch/amp/autocast_mode.py:198: UserWarning: User provided device_type of 'cuda', but CUDA is not available. Disabling\n",
      "  warnings.warn('User provided device_type of \\'cuda\\', but CUDA is not available. Disabling')\n"
     ]
    }
   ],
   "source": [
    "corpus_1 = Corpus.from_spacy_docs(\n",
    "    sample_spacy_docs(spacy_ner_doc, selected_indices_1, sample_is_complete_1),\n",
    "    total_samples=len(selected_indices_1),\n",
    "    vocab=vocabulary\n",
    ")"
   ]
  },
  {
   "cell_type": "code",
   "execution_count": 18,
   "metadata": {},
   "outputs": [],
   "source": [
    "vocab_ent = Vocabulary.from_list(\n",
    "    list(corpus_1.entities.keys()),include_special=False)"
   ]
  },
  {
   "cell_type": "code",
   "execution_count": 19,
   "metadata": {},
   "outputs": [
    {
     "data": {
      "text/plain": [
       "2781"
      ]
     },
     "execution_count": 19,
     "metadata": {},
     "output_type": "execute_result"
    }
   ],
   "source": [
    "corpus_1.documents[0].unk_id"
   ]
  },
  {
   "cell_type": "code",
   "execution_count": 70,
   "metadata": {},
   "outputs": [],
   "source": [
    "corpus_1.to_text_array()"
   ]
  },
  {
   "cell_type": "markdown",
   "metadata": {},
   "source": [
    "### 2. Create Ner rule with samples using genetic algorithm\n",
    "\n",
    "1. From corpus create datasets by entities to predict\n",
    "    - From datasets:\n",
    "        - Convert to array\n",
    "        - Get representation of documents for entities to predict\n",
    "1. To Train Genetic Algorithm for entity\n",
    "2. Get best genetic ner rules \n"
   ]
  },
  {
   "cell_type": "markdown",
   "metadata": {},
   "source": [
    "##### 1. From corpus create datasets by entities to predict"
   ]
  },
  {
   "cell_type": "code",
   "execution_count": 18,
   "metadata": {},
   "outputs": [
    {
     "data": {
      "application/vnd.jupyter.widget-view+json": {
       "model_id": "5eab58e9d26e4a16896b305fb8f260dc",
       "version_major": 2,
       "version_minor": 0
      },
      "text/plain": [
       "  0%|          | 0/5 [00:00<?, ?it/s]"
      ]
     },
     "metadata": {},
     "output_type": "display_data"
    },
    {
     "data": {
      "application/vnd.jupyter.widget-view+json": {
       "model_id": "48eaa193cab04af6b4a6776106651dd7",
       "version_major": 2,
       "version_minor": 0
      },
      "text/plain": [
       "  0%|          | 0/200 [00:00<?, ?it/s]"
      ]
     },
     "metadata": {},
     "output_type": "display_data"
    },
    {
     "data": {
      "application/vnd.jupyter.widget-view+json": {
       "model_id": "367af3ee35e442b193a322d9c58162ff",
       "version_major": 2,
       "version_minor": 0
      },
      "text/plain": [
       "  0%|          | 0/200 [00:00<?, ?it/s]"
      ]
     },
     "metadata": {},
     "output_type": "display_data"
    },
    {
     "data": {
      "application/vnd.jupyter.widget-view+json": {
       "model_id": "ca3a416d4a30404890103275ef036abf",
       "version_major": 2,
       "version_minor": 0
      },
      "text/plain": [
       "  0%|          | 0/200 [00:00<?, ?it/s]"
      ]
     },
     "metadata": {},
     "output_type": "display_data"
    },
    {
     "data": {
      "application/vnd.jupyter.widget-view+json": {
       "model_id": "fc9783c8e4e44edeade11e1820b58e36",
       "version_major": 2,
       "version_minor": 0
      },
      "text/plain": [
       "  0%|          | 0/200 [00:00<?, ?it/s]"
      ]
     },
     "metadata": {},
     "output_type": "display_data"
    },
    {
     "data": {
      "application/vnd.jupyter.widget-view+json": {
       "model_id": "1f8bcb710b0e4b74be37bb601aa652ba",
       "version_major": 2,
       "version_minor": 0
      },
      "text/plain": [
       "  0%|          | 0/200 [00:00<?, ?it/s]"
      ]
     },
     "metadata": {},
     "output_type": "display_data"
    }
   ],
   "source": [
    "from tqdm.auto import tqdm, trange\n",
    "entity_dataset: Dict[str,Dict[str, np.ndarray]] = {}\n",
    "max_size_doc = 172\n",
    "s_init_pop = 400\n",
    "parent_population = np.zeros((s_init_pop, 10), dtype=np.float32)\n",
    "parent_population[:,0] = 1\n",
    "parent_population[:100,2] = 1\n",
    "parent_population[100:200,2] = 2\n",
    "parent_population[200:300,2] = 3\n",
    "parent_population[300:400,2] = 4\n",
    "parent_population[:,3] = corpus_1.documents[0].mask_id\n",
    "index_pop = 0\n",
    "import random\n",
    "random.seed(42)\n",
    "\n",
    "def add_to_dataset(\n",
    "    input_ds:np.ndarray,\n",
    "    target_ds:np.ndarray,\n",
    "    meta_ds:np.ndarray, \n",
    "    document: Document,\n",
    "    entity_label: str,\n",
    "    index_pop:int\n",
    "     )->bool:\n",
    "    \"\"\"\n",
    "    Add a document to the dataset.\n",
    "    If target document has not containt the entity, it won't be added.\n",
    "    \"\"\"\n",
    "    if len(document.entities) == 0:\n",
    "        return False, index_pop\n",
    "    if entity_label == 'ALL':\n",
    "        entity_label = None\n",
    "    document_array = document.to_array(entity_label).reshape(-1, 4)\n",
    "    max_size = min(max_size_doc, document_array.shape[0])\n",
    "    meta_ds[:] = document_array[0]\n",
    "    input_ds[:max_size-1] = document_array[1:max_size, :3]\n",
    "    target_ds[:max_size-1] = document_array[1:max_size, 3:]\n",
    "    return True, index_pop\n",
    "\n",
    "\n",
    "for entity in tqdm(list(corpus_1.entities.keys()) + ['ALL']):\n",
    "    entity_dataset[entity] = {}\n",
    "    len_doc = len(corpus_1.documents)\n",
    "    entity_dataset[entity][\"input\"] = np.zeros((len_doc, max_size_doc, 3), dtype=np.float32)\n",
    "    entity_dataset[entity][\"target\"] = np.zeros((len_doc, max_size_doc, 1),dtype=np.int32)\n",
    "    entity_dataset[entity][\"meta\"] = np.zeros((len_doc, 4),dtype=np.float32)\n",
    "    \n",
    "    # If document is not added then delete it from the dataset\n",
    "    index_to_delete = []\n",
    "    for index in trange(len_doc):\n",
    "        \n",
    "        is_added, index_pop = add_to_dataset(\n",
    "            entity_dataset[entity][\"input\"][index],\n",
    "            entity_dataset[entity][\"target\"][index],\n",
    "            entity_dataset[entity][\"meta\"][index],\n",
    "            corpus_1.documents[index],\n",
    "            entity,\n",
    "            index_pop\n",
    "        )\n",
    "        if not is_added:\n",
    "            index_to_delete.append(index)\n",
    "    # Delete samples without entity\n",
    "    if len(index_to_delete) > 0:\n",
    "        entity_dataset[entity][\"input\"] = np.delete(entity_dataset[entity][\"input\"], index_to_delete, axis=0)\n",
    "        entity_dataset[entity][\"target\"] = np.delete(entity_dataset[entity][\"target\"], index_to_delete, axis=0)\n",
    "        entity_dataset[entity][\"meta\"] = np.delete(entity_dataset[entity][\"meta\"], index_to_delete, axis=0)\n",
    "\n",
    "\n",
    "for document in corpus_1.documents:\n",
    "    # add entities to parent population\n",
    "    for i, entity in enumerate(document.entities):\n",
    "        size_entity = entity.end-entity.start\n",
    "        entity_end =  size_entity+3\n",
    "        document_array = document.to_array().reshape(-1, 4)\n",
    "        entity_array = document_array[entity.start+2:entity.end+2]\n",
    "        unique_index = np.unique(parent_population, axis=0, return_index=True)[1]\n",
    "        entity_id = document.vocab_ent[entity.label]\n",
    "        for j in range(3):\n",
    "            if index_pop < s_init_pop:\n",
    "                index_pop_temp = (entity_id-1) * 100 + index_pop%100\n",
    "                parent_population[index_pop_temp][0] = min(size_entity,7)\n",
    "                parent_population[index_pop_temp][2] = entity_id\n",
    "                parent_population[index_pop_temp][3: entity_end] = document_array[entity.start+2:entity.end+2,j][:7]\n",
    "                index_pop += 1\n",
    "            elif unique_index.shape[0] < s_init_pop:\n",
    "                # select random index to replace in parent population that is not in the population\n",
    "                select_list = list(set(range((entity_id-1) * 100,entity_id-1* 100)) - set(unique_index))\n",
    "                if select_list:\n",
    "                    index_pop_temp = np.random.choice(select_list, 1)[0]\n",
    "                    parent_population[index_pop_temp][0] = size_entity\n",
    "                    parent_population[index_pop_temp][2] = entity_id\n",
    "                    parent_population[index_pop_temp][3: entity_end] = document_array[entity.start+2:entity.end+2,j]\n",
    "                    parent_population[index_pop_temp][entity_end:] = 0"
   ]
  },
  {
   "cell_type": "markdown",
   "metadata": {},
   "source": [
    "##### 2. To Train Genetic Algorithm for entity    "
   ]
  },
  {
   "cell_type": "markdown",
   "metadata": {},
   "source": [
    "<p style=\"text-align: center;\">Individual fitness</p>\n",
    "\n",
    "$$f_i=\\frac{TP_i}{TP_i+FP_i} * \\log_2(TP_i+FP_i)$$\n",
    "\n",
    "\n",
    "<p style=\"text-align: center;\">Sharing function</p>\n",
    "\n",
    "$$sh(d_{i,j}) = \\left \\{\n",
    "    \\begin{array}{l}\n",
    "    1  - \\frac{d_{i,j}}{\\sigma_{share}}, d_{i,j} < {\\sigma_{share}}  \\\\\n",
    "    0, otherwise\n",
    "    \\end{array}\n",
    "\\right \\}$$\n",
    "\n",
    "<p style=\"text-align: center;\">Individual shared fitness</p>\n",
    "\n",
    "$$f^t_i = \\frac{f_i}{\\sum_{j=1}^N sh(d_{i,j})}$$\n"
   ]
  },
  {
   "cell_type": "markdown",
   "metadata": {},
   "source": [
    "<div style=\"text-align: center;\">\n",
    "\n",
    "<p style=\"text-align: center;\">Island model</p>\n",
    "\n",
    "![image.png](./img/island_ae.svg)\n",
    "\n",
    "</div>"
   ]
  },
  {
   "cell_type": "code",
   "execution_count": 19,
   "metadata": {},
   "outputs": [
    {
     "name": "stderr",
     "output_type": "stream",
     "text": [
      "/home/jraba/Dev/gar-lener-es/env/lib/python3.9/site-packages/pytorch_lightning/loops/utilities.py:91: PossibleUserWarning: `max_epochs` was not set. Setting it to 1000 epochs. To train without an epoch limit, set `max_epochs=-1`.\n",
      "  rank_zero_warn(\n",
      "GPU available: False, used: False\n",
      "TPU available: False, using: 0 TPU cores\n",
      "IPU available: False, using: 0 IPUs\n",
      "HPU available: False, using: 0 HPUs\n"
     ]
    }
   ],
   "source": [
    "from pytorch_lightning.callbacks import ModelCheckpoint\n",
    "from pytorch_lightning.callbacks.early_stopping import EarlyStopping\n",
    "import pytorch_lightning as pl\n",
    "from ga_ner.ml.models import TransformerModel\n",
    "from ga_ner.ml.loss import accuracy_loss\n",
    "\n",
    "\n",
    "checkpoint_callback = ModelCheckpoint(\n",
    "    './checkpoints_p', save_weights_only=True, monitor='val_loss',mode='min')\n",
    "\n",
    "trainer = pl.Trainer(callbacks=[checkpoint_callback], enable_progress_bar=False)\n",
    "model = TransformerModel.load_from_checkpoint(\"checkpoints/epoch=304-step=3050.ckpt\")\n",
    "trainer.model = model"
   ]
  },
  {
   "cell_type": "code",
   "execution_count": 20,
   "metadata": {},
   "outputs": [],
   "source": [
    "map_inv_entity = {corpus_1.vocab_ent[k]:k for k in corpus_1.entities.keys()}"
   ]
  },
  {
   "cell_type": "code",
   "execution_count": 28,
   "metadata": {},
   "outputs": [
    {
     "name": "stderr",
     "output_type": "stream",
     "text": [
      "/home/jraba/Dev/gar-lener-es/env/lib/python3.9/site-packages/pytorch_lightning/trainer/connectors/data_connector.py:240: PossibleUserWarning: The dataloader, predict_dataloader 0, does not have many workers which may be a bottleneck. Consider increasing the value of the `num_workers` argument` (try 8 which is the number of cpus on this machine) in the `DataLoader` init to improve performance.\n",
      "  rank_zero_warn(\n"
     ]
    },
    {
     "data": {
      "application/vnd.jupyter.widget-view+json": {
       "model_id": "2d0d1e331e2f4fa89d473864e71dd6ab",
       "version_major": 2,
       "version_minor": 0
      },
      "text/plain": [
       "  0%|          | 0/100 [00:00<?, ?it/s]"
      ]
     },
     "metadata": {},
     "output_type": "display_data"
    },
    {
     "data": {
      "application/vnd.jupyter.widget-view+json": {
       "model_id": "27325c26e0eb447fbb34efa3ce32e2b3",
       "version_major": 2,
       "version_minor": 0
      },
      "text/plain": [
       "  0%|          | 0/100 [00:00<?, ?it/s]"
      ]
     },
     "metadata": {},
     "output_type": "display_data"
    },
    {
     "data": {
      "application/vnd.jupyter.widget-view+json": {
       "model_id": "6098960203674abeb4e7818f8f8586bb",
       "version_major": 2,
       "version_minor": 0
      },
      "text/plain": [
       "  0%|          | 0/100 [00:00<?, ?it/s]"
      ]
     },
     "metadata": {},
     "output_type": "display_data"
    },
    {
     "data": {
      "application/vnd.jupyter.widget-view+json": {
       "model_id": "08b0243e99754c04b30b226a9f5e5a5c",
       "version_major": 2,
       "version_minor": 0
      },
      "text/plain": [
       "  0%|          | 0/100 [00:00<?, ?it/s]"
      ]
     },
     "metadata": {},
     "output_type": "display_data"
    },
    {
     "data": {
      "application/vnd.jupyter.widget-view+json": {
       "model_id": "4a7f9c0330094053a0d0bd2622c8678d",
       "version_major": 2,
       "version_minor": 0
      },
      "text/plain": [
       "  0%|          | 0/100 [00:00<?, ?it/s]"
      ]
     },
     "metadata": {},
     "output_type": "display_data"
    }
   ],
   "source": [
    "import cProfile as profile\n",
    "import pstats\n",
    "# Init GA Models\n",
    "from ga_ner.models import GANER, Document, Corpus, Vocabulary, perfomance_by_doc\n",
    "# from ga_ner.utils.numba import select\n",
    "from evolution_rules import select\n",
    "\n",
    "for i in [1,2,4,8,16]:\n",
    "    filename = 'profile_stats_{}.stats'.format(i)\n",
    "    ga_ner = GANER(\n",
    "        data=entity_dataset,\n",
    "        map_inv_entity=map_inv_entity,\n",
    "        n_population=400,\n",
    "        max_len=10,\n",
    "        mask_id=corpus_1.documents[0].mask_id,\n",
    "        unknown_id=corpus_1.documents[0].unk_id,\n",
    "        ml_model=trainer,\n",
    "        random_state=42,\n",
    "        n_top=100,\n",
    "        threshold=0.8,\n",
    "        select=select,\n",
    "        fitness=cpp_fitness,\n",
    "        num_threads=i,\n",
    "    )\n",
    "    profile.run(f'ga_ner.train(max_iter=100, tol=10, base_population=parent_population, num_islands=4, num_threads={i})', filename)"
   ]
  },
  {
   "cell_type": "code",
   "execution_count": 55,
   "metadata": {},
   "outputs": [
    {
     "name": "stdout",
     "output_type": "stream",
     "text": [
      "Tue Oct 18 22:56:36 2022    profile_stats_1.stats\n",
      "\n",
      "         174064135 function calls (168243988 primitive calls) in 1108.509 seconds\n",
      "\n",
      "   Ordered by: internal time\n",
      "   List reduced from 1326 to 2 due to restriction <'fitness'>\n",
      "\n",
      "   ncalls  tottime  percall  cumtime  percall filename:lineno(function)\n",
      "      571    4.343    0.008    4.343    0.008 {built-in method evolution_rules.cpp_fitness}\n",
      "      571    0.013    0.000    4.357    0.008 /home/jraba/Dev/gar-lener-es/ga_ner/models.py:858(_fitness)\n",
      "\n",
      "\n",
      "Tue Oct 18 23:12:52 2022    profile_stats_2.stats\n",
      "\n",
      "         267467479 function calls (258522039 primitive calls) in 976.214 seconds\n",
      "\n",
      "   Ordered by: internal time\n",
      "   List reduced from 1020 to 2 due to restriction <'fitness'>\n",
      "\n",
      "   ncalls  tottime  percall  cumtime  percall filename:lineno(function)\n",
      "      849    4.114    0.005    4.114    0.005 {built-in method evolution_rules.cpp_fitness}\n",
      "      849    0.020    0.000    4.134    0.005 /home/jraba/Dev/gar-lener-es/ga_ner/models.py:858(_fitness)\n",
      "\n",
      "\n",
      "Tue Oct 18 23:28:44 2022    profile_stats_4.stats\n",
      "\n",
      "         262119403 function calls (253353108 primitive calls) in 951.576 seconds\n",
      "\n",
      "   Ordered by: internal time\n",
      "   List reduced from 1020 to 2 due to restriction <'fitness'>\n",
      "\n",
      "   ncalls  tottime  percall  cumtime  percall filename:lineno(function)\n",
      "      840    3.016    0.004    3.016    0.004 {built-in method evolution_rules.cpp_fitness}\n",
      "      840    0.010    0.000    3.026    0.004 /home/jraba/Dev/gar-lener-es/ga_ner/models.py:858(_fitness)\n",
      "\n",
      "\n",
      "Tue Oct 18 23:44:00 2022    profile_stats_8.stats\n",
      "\n",
      "         252558540 function calls (244135673 primitive calls) in 915.884 seconds\n",
      "\n",
      "   Ordered by: internal time\n",
      "   List reduced from 1020 to 2 due to restriction <'fitness'>\n",
      "\n",
      "   ncalls  tottime  percall  cumtime  percall filename:lineno(function)\n",
      "      847    5.019    0.006    5.019    0.006 {built-in method evolution_rules.cpp_fitness}\n",
      "      847    0.014    0.000    5.033    0.006 /home/jraba/Dev/gar-lener-es/ga_ner/models.py:858(_fitness)\n",
      "\n",
      "\n",
      "Tue Oct 18 23:59:44 2022    profile_stats_16.stats\n",
      "\n",
      "         258930591 function calls (250318574 primitive calls) in 943.823 seconds\n",
      "\n",
      "   Ordered by: internal time\n",
      "   List reduced from 1020 to 2 due to restriction <'fitness'>\n",
      "\n",
      "   ncalls  tottime  percall  cumtime  percall filename:lineno(function)\n",
      "      843    2.507    0.003    2.507    0.003 {built-in method evolution_rules.cpp_fitness}\n",
      "      843    0.009    0.000    2.516    0.003 /home/jraba/Dev/gar-lener-es/ga_ner/models.py:858(_fitness)\n",
      "\n",
      "\n"
     ]
    }
   ],
   "source": [
    "import pstats\n",
    "from pstats import SortKey\n",
    "\n",
    "pstats_list: List[pstats.Stats] = []\n",
    "for i in [1,2,4,8,16]:\n",
    "    filename = 'profile_stats_{}.stats'.format(i)\n",
    "    p = pstats.Stats(filename)\n",
    "    p.sort_stats(SortKey.TIME).print_stats(\"fitness\",10)\n",
    "    pstats_list.append(p)"
   ]
  },
  {
   "cell_type": "code",
   "execution_count": 67,
   "metadata": {},
   "outputs": [
    {
     "data": {
      "image/png": "[encoded data removed]",
      "text/plain": [
       "<Figure size 432x288 with 1 Axes>"
      ]
     },
     "metadata": {
      "needs_background": "light"
     },
     "output_type": "display_data"
    }
   ],
   "source": [
    "# Plot speedup\n",
    "import matplotlib.pyplot as plt\n",
    "import numpy as np\n",
    "\n",
    "fig, ax = plt.subplots()\n",
    "y0 = 4.343/571\n",
    "y = y0/np.array([4.343/571, 4.114/849, 3.016/840, 5.019/847, 2.507/843])\n",
    "x = [1,2,4,8,16]\n",
    "ax.plot(x, y, 'o-')\n",
    "ax.set_xlabel('Number of threads')\n",
    "ax.set_ylabel('Speedup')\n",
    "ax.set_title('Speedup of fitness function')\n",
    "plt.show()"
   ]
  },
  {
   "cell_type": "code",
   "execution_count": 31,
   "metadata": {},
   "outputs": [
    {
     "name": "stdout",
     "output_type": "stream",
     "text": [
      "         281893017 function calls (273658826 primitive calls) in 1101.951 seconds\n",
      "\n",
      "   Ordered by: internal time\n",
      "\n",
      "   ncalls  tottime  percall  cumtime  percall filename:lineno(function)\n",
      "      400   93.506    0.234  145.894    0.365 models.py:1002(select)\n",
      "   147435   87.594    0.001   87.594    0.001 {built-in method torch._C._nn.linear}\n",
      "   447971   53.878    0.000   53.878    0.000 {method 'acquire' of '_thread.lock' objects}\n",
      "37120444/34231489   52.490    0.000   83.899    0.000 {built-in method builtins.isinstance}\n",
      " 36000000   51.435    0.000   51.435    0.000 numba.py:91(cosine_similarity)\n",
      "  1558440   28.539    0.000   28.539    0.000 numba.py:35(perfomance_by_doc)\n",
      "  2299395   19.308    0.000   51.096    0.000 module.py:1210(__setattr__)\n",
      "  1149642   16.867    0.000   53.925    0.000 local.py:65(info)\n",
      "12454730/12449055   16.698    0.000   17.273    0.000 {built-in method builtins.getattr}\n",
      "  1532856   15.168    0.000   28.465    0.000 model_helpers.py:21(is_overridden)\n",
      "    29487   14.483    0.000   14.483    0.000 {built-in method torch.baddbmm}\n",
      "   294798   13.802    0.000   88.149    0.000 trainer.py:1602(_call_callback_hooks)\n",
      " 10091943   11.741    0.000   11.741    0.000 {method 'get' of 'dict' objects}\n",
      "  1385466   10.833    0.000   25.960    0.000 enums.py:36(__eq__)\n",
      "  2152011   10.645    0.000   44.945    0.000 strategy.py:309(lightning_module)\n",
      "  2152011   10.446    0.000   29.353    0.000 base.py:102(unwrap_lightning_module)\n",
      "  2299395    9.452    0.000   15.208    0.000 parameter.py:9(__instancecheck__)\n",
      "   206346    9.422    0.000   42.247    0.000 inspect.py:2150(_signature_from_function)\n",
      "   412692    8.963    0.000   19.465    0.000 inspect.py:2779(__init__)\n",
      "  3861863    8.952    0.000   15.068    0.000 abc.py:117(__instancecheck__)\n",
      "  1621290    8.745    0.000   18.499    0.000 inspect.py:2496(__init__)\n",
      "501126/29478    8.665    0.000   34.782    0.001 module.py:577(_apply)\n",
      "  2122524    8.153    0.000   55.134    0.000 trainer.py:2148(lightning_module)\n",
      "  2918322    8.138    0.000   11.479    0.000 module.py:1728(named_children)\n",
      "  1267554    7.893    0.000   22.844    0.000 local.py:186(_strip_protocol)\n",
      "  1558440    7.501    0.000   36.040    0.000 models.py:696(perfomance_by_doc)\n",
      "3037284/2948821    7.440    0.000   30.107    0.000 {built-in method builtins.next}\n",
      "  2918322    7.241    0.000   18.719    0.000 module.py:1719(children)\n",
      "2564586/619038    7.079    0.000    8.319    0.000 module.py:1775(named_modules)\n",
      "  2829888    7.017    0.000   10.566    0.000 types.py:171(__get__)\n",
      "  2712156    6.882    0.000   10.002    0.000 profiler.py:55(profile)\n",
      "    29487    6.633    0.000    6.633    0.000 {built-in method torch.bmm}\n",
      "    29478    6.603    0.000    9.906    0.000 summary.py:73(hparams)\n",
      "  3861863    6.116    0.000    6.116    0.000 {built-in method _abc._abc_instancecheck}\n",
      "   353754    6.012    0.000   40.600    0.000 trainer.py:1575(_call_lightning_module_hook)\n",
      "    29478    5.149    0.000    8.973    0.000 data.py:115(has_len_all_ranks)\n",
      "  4451421    5.133    0.000    5.133    0.000 strategy.py:300(model)\n",
      "   129870    4.984    0.000   45.463    0.000 models.py:714(fitness_by_individual)\n",
      "  1474413    4.826    0.000    6.674    0.000 contextlib.py:86(__init__)\n",
      "   972774    4.707    0.000   10.275    0.000 posixpath.py:140(basename)\n",
      "  1267554    4.645    0.000    7.637    0.000 local.py:204(make_path_posix)\n",
      "  3596460    4.549    0.000    4.549    0.000 trainer.py:2022(strategy)\n",
      "    58974    4.515    0.000    4.515    0.000 {built-in method torch.layer_norm}\n",
      "    29487    4.359    0.000  148.422    0.005 models.py:129(forward)\n",
      "1474413/1444925    4.280    0.000   13.091    0.000 contextlib.py:123(__exit__)\n",
      "    29478    4.225    0.000    4.725    0.000 data.py:220(<setcomp>)\n",
      "  3507915    4.199    0.000    4.199    0.000 {method 'startswith' of 'str' objects}\n",
      "501126/29478    4.150    0.000   22.035    0.001 module.py:1820(train)\n",
      "412692/206346    4.142    0.000   64.955    0.000 inspect.py:2244(_signature_from_callable)\n",
      "  1621290    4.141    0.000    6.080    0.000 enum.py:358(__call__)\n",
      "  1827636    4.046    0.000    5.874    0.000 inspect.py:2828(<genexpr>)\n",
      "  3596316    4.026    0.000    4.026    0.000 {method 'items' of 'collections.OrderedDict' objects}\n",
      "  1474413    3.969    0.000   10.643    0.000 contextlib.py:261(helper)\n",
      "589560/29478    3.934    0.000    9.075    0.000 copy.py:128(deepcopy)\n",
      "1474413/1444926    3.881    0.000   13.448    0.000 contextlib.py:114(__enter__)\n",
      "   530604    3.815    0.000   20.754    0.000 module.py:1608(_named_members)\n",
      "    29478    3.639    0.000  877.264    0.030 trainer.py:1147(_run)\n",
      "   943296    3.590    0.000    5.889    0.000 grad_mode.py:226(__init__)\n",
      "  2829888    3.550    0.000    3.550    0.000 enum.py:792(value)\n",
      "   235824    3.532    0.000    3.532    0.000 {built-in method posix.stat}\n",
      "  2505632    3.492    0.000    6.153    0.000 {method 'add' of 'set' objects}\n",
      "  3065716    3.439    0.000    3.439    0.000 inspect.py:2546(name)\n",
      "501126/29478    3.437    0.000   12.473    0.000 module.py:629(apply)\n",
      "2403765/2374287    3.420    0.000    3.519    0.000 {built-in method builtins.hasattr}\n",
      "  2888868    3.335    0.000    3.335    0.000 {method 'lower' of 'str' objects}\n",
      "    29487    3.255    0.000    3.255    0.000 {built-in method torch.embedding}\n",
      "   943296    3.246    0.000    5.559    0.000 _tensor.py:731(__hash__)\n",
      "  1355988    3.112    0.000    4.617    0.000 utils.py:292(stringify_path)\n",
      "  2770942    3.100    0.000    3.100    0.000 inspect.py:2558(kind)\n",
      "   972774    3.096    0.000    3.096    0.000 {method 'stat' of 'posix.DirEntry' objects}\n",
      "  1267554    2.953    0.000    4.402    0.000 posixpath.py:41(_get_sep)\n",
      "1728020/1433222    2.929    0.000    6.333    0.000 {built-in method builtins.len}\n",
      "  2299395    2.858    0.000    2.858    0.000 {function _ParameterMeta.__instancecheck__ at 0x7f31859f8160}\n",
      "    58956    2.827    0.000    7.643    0.000 dataloader.py:210(__init__)\n",
      "442305/29487    2.770    0.000  148.802    0.005 module.py:1124(_call_impl)\n",
      "    29478    2.752    0.000   45.240    0.002 local.py:57(<listcomp>)\n",
      "  2181447    2.740    0.000    2.740    0.000 {built-in method torch._C._has_torch_function_unary}\n",
      "  2249868    2.673    0.000    2.673    0.000 {method 'append' of 'list' objects}\n",
      "   884340    2.467    0.000    3.492    0.000 _tensor.py:1071(grad)\n",
      "  2151894    2.404    0.000    2.404    0.000 inspect.py:2550(default)\n",
      "    29487    2.357    0.000    2.357    0.000 {built-in method torch.stack}\n",
      "   117930    2.331    0.000  168.502    0.001 trainer.py:1750(_call_strategy_hook)\n",
      "1179120/1120164    2.269    0.000    2.464    0.000 dataloader.py:415(__setattr__)\n",
      "   235824    2.247    0.000    2.247    0.000 {method 'SerializeToString' of 'google.protobuf.pyext._message.CMessage' objects}\n",
      "   265302    2.241    0.000    4.326    0.000 posixpath.py:71(join)\n",
      "  1179471    2.241    0.000    2.342    0.000 module.py:1194(__getattr__)\n",
      "    29478    2.167    0.000   73.313    0.002 configuration_validator.py:332(_check_deprecated_callback_hooks)\n",
      "  1827639    2.150    0.000    2.150    0.000 {built-in method builtins.id}\n",
      "   117912    2.149    0.000    4.159    0.000 functools.py:35(update_wrapper)\n",
      "    29784    2.064    0.000    2.064    0.000 {method 'topk' of 'torch._C._TensorBase' objects}\n",
      "  1798741    2.049    0.000    2.049    0.000 {built-in method builtins.callable}\n",
      "   206346    2.032    0.000   14.140    0.000 inspect.py:1838(_signature_bound_method)\n",
      "   471648    1.952    0.000    5.549    0.000 grad_mode.py:131(__enter__)\n",
      "  1621290    1.939    0.000    1.939    0.000 enum.py:670(__new__)\n",
      "  1621290    1.877    0.000    1.877    0.000 {method 'isidentifier' of 'str' objects}\n",
      "    29487    1.834    0.000    3.189    0.000 models.py:44(forward)\n",
      "   471648    1.811    0.000    3.525    0.000 module.py:921(convert)\n",
      "   176868    1.807    0.000    6.789    0.000 queue.py:122(put)\n",
      "235842/206364    1.803    0.000    5.543    0.000 apply_func.py:73(apply_to_collection)\n",
      "  1414944    1.802    0.000    1.802    0.000 {built-in method torch.is_grad_enabled}\n",
      "    29487    1.781    0.000  105.905    0.004 functional.py:4911(multi_head_attention_forward)\n",
      "   442170    1.754    0.000    3.045    0.000 module.py:581(compute_should_use_set_data)\n",
      "    88434    1.749    0.000    7.742    0.000 tensorboard.py:124(log_dir)\n",
      "    40000    1.734    0.000  908.545    0.023 models.py:815(mutate)\n",
      "   560103    1.718    0.000    1.718    0.000 {method 'to' of 'torch._C._TensorBase' objects}\n",
      "  1474010    1.706    0.000    1.706    0.000 {built-in method posix.fspath}\n",
      "   471648    1.656    0.000    2.212    0.000 grad_mode.py:126(__init__)\n",
      "    29487    1.648    0.000    1.648    0.000 {built-in method torch._ops.profiler._record_function_enter}\n",
      "    29478    1.578    0.000   11.853    0.000 checkpoint_connector.py:492(<listcomp>)\n",
      "  1356078    1.577    0.000    1.577    0.000 base.py:73(start)\n",
      "    29478    1.563    0.000   78.200    0.003 data_connector.py:357(_reset_eval_dataloader)\n",
      "  1297032    1.558    0.000    1.558    0.000 {method 'rstrip' of 'str' objects}\n",
      "  1356078    1.543    0.000    1.543    0.000 base.py:76(stop)\n",
      "   129970    1.526    0.000    3.655    0.000 _methods.py:162(_mean)\n",
      "   619194    1.518    0.000    1.518    0.000 {built-in method torch._C._get_tracing_state}\n",
      "   189694    1.509    0.000    1.509    0.000 {method 'reduce' of 'numpy.ufunc' objects}\n",
      "    29478    1.506    0.000   34.366    0.001 data.py:200(_get_dataloader_init_kwargs)\n",
      "    29487    1.506    0.000  183.703    0.006 prediction_epoch_loop.py:112(_predict_step)\n",
      "    29478    1.499    0.000    1.499    0.000 {built-in method _thread.start_new_thread}\n",
      "    29478    1.478    0.000    1.478    0.000 {method 'random_' of 'torch._C._TensorBase' objects}\n",
      "   295129    1.460    0.000    1.460    0.000 {built-in method builtins.repr}\n",
      "   530604    1.445    0.000   23.593    0.000 module.py:1621(parameters)\n",
      "    29478    1.436    0.000  906.367    0.031 models.py:750(create_gen)\n",
      "   560082    1.436    0.000    2.071    0.000 module.py:1666(<lambda>)\n",
      "    29478    1.433    0.000   34.565    0.001 event_file_writer.py:54(__init__)\n",
      "58956/29478    1.429    0.000  324.279    0.011 base.py:168(run)\n",
      "    29478    1.415    0.000    1.415    0.000 {built-in method torch.tensor}\n",
      "    29478    1.400    0.000    2.317    0.000 summary.py:263(scalar)\n",
      "   294780    1.392    0.000    3.929    0.000 typing.py:843(__subclasscheck__)\n",
      "   294798    1.347    0.000    3.725    0.000 model_checkpoint.py:245(state_key)\n",
      "    29478    1.333    0.000    1.333    0.000 {built-in method torch.empty}\n",
      "   471648    1.321    0.000    4.261    0.000 grad_mode.py:135(__exit__)\n",
      "    88434    1.320    0.000   10.208    0.000 core.py:372(url_to_fs)\n",
      "    29487    1.274    0.000   23.202    0.001 functional.py:4816(_scaled_dot_product_attention)\n",
      "   530604    1.272    0.000   21.985    0.000 module.py:1645(named_parameters)\n",
      "324258/147390    1.265    0.000  137.548    0.001 rank_zero.py:29(wrapped_fn)\n",
      "  1002252    1.263    0.000    1.263    0.000 {method 'rfind' of 'str' objects}\n",
      "    29478    1.263    0.000   24.656    0.001 module.py:1884(zero_grad)\n",
      "   117912    1.252    0.000    8.410    0.000 writer.py:99(add_summary)\n",
      "   972855    1.246    0.000    1.246    0.000 base.py:55(trainer)\n",
      "   501126    1.233    0.000    2.646    0.000 device_dtype_mixin.py:191(apply_fn)\n",
      "   147402    1.229    0.000    2.224    0.000 _tensor.py:701(__len__)\n",
      "    88434    1.221    0.000    3.610    0.000 spec.py:60(__call__)\n",
      "   206346    1.207    0.000    2.490    0.000 inspect.py:494(unwrap)\n",
      "    29478    1.189    0.000    2.175    0.000 data.py:232(<setcomp>)\n",
      "   176868    1.179    0.000   49.300    0.000 signature_utils.py:18(is_param_in_hook_signature)\n",
      "   501126    1.154    0.000    1.681    0.000 data.py:213(<genexpr>)\n",
      "    29478    1.147    0.000  890.562    0.030 trainer.py:1029(_predict_impl)\n",
      "   943296    1.145    0.000    1.145    0.000 {built-in method torch._C._set_grad_enabled}\n",
      "   972774    1.134    0.000    1.134    0.000 {method 'is_dir' of 'posix.DirEntry' objects}\n",
      "   972774    1.123    0.000    1.123    0.000 {method 'is_symlink' of 'posix.DirEntry' objects}\n",
      "    29478    1.101    0.000  214.422    0.007 prediction_loop.py:86(advance)\n",
      "   117912    1.087    0.000    5.845    0.000 rank_zero.py:26(rank_zero_only)\n",
      "    29784    1.081    0.000    3.911    0.000 {method 'choice' of 'numpy.random.mtrand.RandomState' objects}\n",
      "   584396    1.076    0.000    2.228    0.000 {built-in method builtins.issubclass}\n",
      "    29478    1.075    0.000    7.217    0.000 copy.py:258(_reconstruct)\n",
      "   353736    1.062    0.000    1.809    0.000 typing.py:269(inner)\n",
      "   147390    1.057    0.000    2.224    0.000 prediction_loop.py:42(num_dataloaders)\n",
      "   147408    1.050    0.000    2.931    0.000 {built-in method builtins.any}\n",
      "   176868    1.041    0.000    2.242    0.000 threading.py:351(notify)\n",
      "58956/29478    1.033    0.000    4.386    0.000 base.py:61(trainer)\n",
      "    29487    1.032    0.000  107.424    0.004 activation.py:1008(forward)\n",
      "    29487    1.022    0.000    1.022    0.000 {built-in method torch.zeros}\n",
      "   560100    1.004    0.000    1.004    0.000 __init__.py:1689(isEnabledFor)\n",
      "   412692    0.992    0.000    1.448    0.000 inspect.py:159(isfunction)\n",
      "    29478    0.984    0.000   88.223    0.003 configuration_validator.py:24(verify_loop_configurations)\n",
      "    29487    0.984    0.000    0.984    0.000 {method 'mean' of 'torch._C._TensorBase' objects}\n",
      "    29478    0.981    0.000   73.994    0.003 tensorboard.py:179(log_hyperparams)\n",
      "    29487    0.956    0.000  126.781    0.004 transformer.py:395(forward)\n",
      "   117948    0.955    0.000    2.094    0.000 functional.py:1235(dropout)\n",
      "   294798    0.918    0.000    2.378    0.000 base.py:50(_generate_state_key)\n",
      "    29478    0.917    0.000    5.446    0.000 dataloader.py:592(__init__)\n",
      "    58956    0.909    0.000   15.892    0.000 tensorboard.py:256(save)\n",
      "   117948    0.909    0.000    0.909    0.000 {method 'contiguous' of 'torch._C._TensorBase' objects}\n",
      "    58956    0.906    0.000    0.906    0.000 {built-in method _warnings.warn}\n",
      "    29478    0.898    0.000    7.604    0.000 logger.py:102(<dictcomp>)\n",
      "   147390    0.897    0.000    1.478    0.000 <frozen importlib._bootstrap>:1033(_handle_fromlist)\n",
      "   294780    0.890    0.000    6.399    0.000 logger.py:87(_dict_generator)\n",
      "   147390    0.880    0.000    8.486    0.000 event_file_writer.py:102(add_event)\n",
      "   589596    0.873    0.000    0.873    0.000 base.py:35(state_key)\n",
      "    29478    0.862    0.000    0.862    0.000 {method 'item' of 'torch._C._TensorBase' objects}\n",
      "   294798    0.862    0.000    1.376    0.000 __init__.py:1424(debug)\n",
      "   265302    0.859    0.000    1.349    0.000 __init__.py:11(_detail)\n",
      "    29478    0.842    0.000    3.334    0.000 meta.py:332(is_on_meta_device)\n",
      "   265302    0.835    0.000    0.835    0.000 {built-in method _pickle.dumps}\n",
      "    29478    0.833    0.000    1.485    0.000 data.py:207(<dictcomp>)\n",
      "    29478    0.831    0.000   78.126    0.003 prediction_loop.py:113(_on_predict_start)\n",
      "   117912    0.827    0.000    7.611    0.000 states.py:80(dataloader_prefix)\n",
      "    60276    0.816    0.000   22.563    0.000 threading.py:280(wait)\n",
      "   294780    0.808    0.000    0.808    0.000 enum_type_wrapper.py:67(Value)\n",
      "   501135    0.789    0.000    0.789    0.000 {method 'is_floating_point' of 'torch._C._TensorBase' objects}\n",
      "    29487    0.786    0.000    0.786    0.000 {method 'unbind' of 'torch._C._TensorBase' objects}\n",
      "   442170    0.783    0.000    0.783    0.000 {built-in method torch._has_compatible_shallow_copy_type}\n",
      "   677994    0.782    0.000    0.782    0.000 {method 'is_file' of 'posix.DirEntry' objects}\n",
      "   117912    0.780    0.000    0.780    0.000 {built-in method torch._C._log_api_usage_once}\n",
      "   294782    0.779    0.000    1.152    0.000 threading.py:256(__enter__)\n",
      "   294780    0.773    0.000    4.702    0.000 typing.py:714(__instancecheck__)\n",
      "   294782    0.762    0.000    1.121    0.000 threading.py:259(__exit__)\n",
      "   589574    0.736    0.000    0.736    0.000 {built-in method builtins.setattr}\n",
      "   147390    0.732    0.000    6.275    0.000 event_file_writer.py:161(write)\n",
      "   147438    0.732    0.000    0.732    0.000 {method 'transpose' of 'torch._C._TensorBase' objects}\n",
      "   176868    0.729    0.000    1.213    0.000 trainer.py:2034(precision_plugin)\n",
      "   589562    0.728    0.000    0.728    0.000 {method '__exit__' of '_thread.lock' objects}\n",
      "    29478    0.728    0.000   45.291    0.002 data_connector.py:259(_prepare_dataloader)\n",
      "   206346    0.721    0.000   65.676    0.000 inspect.py:2857(from_callable)\n",
      "    29478    0.719    0.000    7.673    0.000 data_connector.py:162(_copy_trainer_model_properties)\n",
      "   265302    0.717    0.000    1.551    0.000 parsing.py:87(is_picklable)\n",
      "    29478    0.711    0.000   96.350    0.003 trainer.py:1257(_log_hyperparams)\n",
      "    29478    0.711    0.000  411.623    0.014 trainer.py:1376(_run_predict)\n",
      "    29478    0.710    0.000    1.060    0.000 logger.py:105(_sanitize_params)\n",
      "    29478    0.700    0.000   70.105    0.002 trainer.py:1515(_call_teardown_hook)\n",
      "    29478    0.695    0.000    0.733    0.000 cpu.py:27(setup_environment)\n",
      "    29478    0.693    0.000   10.694    0.000 data_connector.py:444(_request_dataloader)\n",
      "    58974    0.689    0.000    0.689    0.000 {method 'softmax' of 'torch._C._TensorBase' objects}\n",
      "   294780    0.685    0.000    1.152    0.000 abc.py:121(__subclasscheck__)\n",
      "    58956    0.682    0.000    7.497    0.000 trainer.py:2705(_active_loop)\n",
      "    29478    0.678    0.000   54.012    0.002 tensorboard.py:268(finalize)\n",
      "    29487    0.670    0.000  129.075    0.004 transformer.py:192(forward)\n",
      "    29487    0.667    0.000    0.667    0.000 {method 'chunk' of 'torch._C._TensorBase' objects}\n",
      "    88434    0.666    0.000   19.636    0.000 event_file_writer.py:168(flush)\n",
      "    88434    0.665    0.000    1.302    0.000 utils.py:272(tokenize)\n",
      "   383298    0.656    0.000    0.656    0.000 {method 'dim' of 'torch._C._TensorBase' objects}\n",
      "   129970    0.646    0.000    0.813    0.000 _methods.py:66(_count_reduce_items)\n",
      "   117912    0.639    0.000    7.158    0.000 writer.py:83(add_event)\n",
      "   206346    0.638    0.000   11.068    0.000 inspect.py:2871(replace)\n",
      "    88434    0.633    0.000    2.690    0.000 tensorboard.py:115(root_dir)\n",
      "   560082    0.628    0.000    0.628    0.000 copy.py:182(_deepcopy_atomic)\n",
      "   206346    0.628    0.000   66.303    0.000 inspect.py:3109(signature)\n",
      "    88452    0.627    0.000    2.257    0.000 prediction_epoch_loop.py:36(should_store_predictions)\n",
      "   237144    0.614    0.000    0.961    0.000 threading.py:271(_is_owned)\n",
      "   147435    0.600    0.000    0.600    0.000 {method 'view' of 'torch._C._TensorBase' objects}\n",
      "   147391    0.600    0.000    1.574    0.000 os.py:674(__getitem__)\n",
      "   147391    0.597    0.000    0.973    0.000 os.py:754(encode)\n",
      "   117912    0.596    0.000    7.323    0.000 base.py:35(experiment)\n",
      "   117912    0.596    0.000    2.761    0.000 enums.py:311(detect_current_mode)\n",
      "    59623    0.592    0.000    1.898    0.000 fromnumeric.py:69(_wrapreduction)\n",
      "    29487    0.579    0.000    9.973    0.000 transformer.py:478(_ff_block)\n",
      "    88461    0.566    0.000   11.588    0.000 linear.py:113(forward)\n",
      "    29478    0.566    0.000    1.373    0.000 threading.py:795(__init__)\n",
      "   471648    0.556    0.000    0.556    0.000 _jit_internal.py:958(is_scripting)\n",
      "   117912    0.547    0.000    4.785    0.000 states.py:76(evaluating)\n",
      "    88434    0.546    0.000    1.404    0.000 core.py:329(_un_chain)\n",
      "   444012    0.544    0.000    0.544    0.000 {method 'items' of 'dict' objects}\n",
      "    88434    0.543    0.000   18.417    0.000 queue.py:79(join)\n",
      "    88434    0.542    0.000    0.941    0.000 registry.py:208(get_filesystem_class)\n",
      "    29478    0.538    0.000    1.099    0.000 single_device.py:92(teardown)\n",
      "    29478    0.521    0.000    7.564    0.000 trainer.py:1296(_teardown)\n",
      "    58974    0.517    0.000    5.397    0.000 functional.py:2488(layer_norm)\n",
      "   354655    0.517    0.000    0.517    0.000 {method 'update' of 'dict' objects}\n",
      "    29478    0.513    0.000    0.688    0.000 data_connector.py:171(attach_dataloaders)\n",
      "   206346    0.511    0.000    0.751    0.000 inspect.py:514(_is_wrapper)\n",
      "    29478    0.510    0.000   18.367    0.001 trainer.py:1498(_call_configure_sharded_model)\n",
      "   353745    0.509    0.000    0.509    0.000 strategy.py:86(precision_plugin)\n",
      "   442170    0.508    0.000    0.508    0.000 __future__.py:18(get_overwrite_module_params_on_conversion)\n",
      "    29478    0.506    0.000    0.885    0.000 posixpath.py:334(normpath)\n",
      "    29487    0.499    0.000    0.499    0.000 fetch.py:49(<listcomp>)\n",
      "    29487    0.496    0.000  201.962    0.007 prediction_epoch_loop.py:75(advance)\n",
      "    29478    0.494    0.000   76.162    0.003 trainer.py:1137(_restore_modules_and_callbacks)\n",
      "   100541    0.493    0.000    0.771    0.000 models.py:928(swap_fitness)\n",
      "   178184    0.491    0.000    0.491    0.000 {method 'release' of '_thread.lock' objects}\n",
      "   176868    0.488    0.000    0.718    0.000 queue.py:213(_put)\n",
      "    88434    0.485    0.000    0.797    0.000 posixpath.py:228(expanduser)\n",
      "   147390    0.480    0.000    2.054    0.000 _collections_abc.py:760(get)\n",
      "    29487    0.480    0.000    9.294    0.000 dataloader.py:647(__next__)\n",
      "   176868    0.478    0.000    0.690    0.000 prediction_loop.py:58(dataloaders)\n",
      "   176868    0.477    0.000    0.708    0.000 queue.py:209(_qsize)\n",
      "   412696    0.475    0.000    0.475    0.000 inspect.py:2863(parameters)\n",
      "    29478    0.473    0.000    2.300    0.000 data.py:271(_dataloader_init_kwargs_resolve_sampler)\n",
      "    29478    0.470    0.000    2.021    0.000 parsing.py:104(<listcomp>)\n",
      "    58965    0.468    0.000    2.217    0.000 prediction_epoch_loop.py:163(_get_batch_indices)\n",
      "   294780    0.467    0.000    0.467    0.000 {built-in method _abc._abc_subclasscheck}\n",
      "    29478    0.463    0.000   43.797    0.001 tensorboard.py:218(log_metrics)\n",
      "    29478    0.460    0.000    3.606    0.000 trainer.py:2239(log_dir)\n",
      "   177372    0.460    0.000    0.460    0.000 {built-in method time.time}\n",
      "    88452    0.458    0.000    0.797    0.000 trainer.py:2351(<listcomp>)\n",
      "    29478    0.458    0.000    1.417    0.000 checkpoint_connector.py:98(resume_end)\n",
      "    29478    0.457    0.000   80.094    0.003 trainer.py:1987(reset_predict_dataloader)\n",
      "    73886    0.454    0.000    0.454    0.000 {method 'randint' of 'numpy.random.mtrand.RandomState' objects}\n",
      "    88434    0.444    0.000    0.648    0.000 posixpath.py:281(expandvars)\n",
      "    29478    0.444    0.000   41.313    0.001 writer.py:347(add_scalar)\n",
      "    58974    0.444    0.000    6.031    0.000 normalization.py:188(forward)\n",
      "   117948    0.444    0.000    2.538    0.000 dropout.py:57(forward)\n",
      "    29478    0.443    0.000    9.347    0.000 logger.py:68(_flatten_dict)\n",
      "    29478    0.438    0.000    5.872    0.000 trainer.py:1794(__setup_profiler)\n",
      "   281159    0.434    0.000    0.434    0.000 {method 'copy' of 'numpy.ndarray' objects}\n",
      "    29478    0.434    0.000    2.881    0.000 strategy.py:132(setup)\n",
      "    29478    0.432    0.000   63.533    0.002 checkpoint_connector.py:475(__max_ckpt_version_in_folder)\n",
      "   117948    0.430    0.000    0.430    0.000 {built-in method torch.dropout}\n",
      "    29478    0.424    0.000    0.424    0.000 {built-in method posix.scandir}\n",
      "   117914    0.419    0.000    0.419    0.000 threading.py:228(__init__)\n",
      "    29478    0.418    0.000    1.603    0.000 data_connector.py:214(_worker_check)\n",
      "    29487    0.415    0.000  150.914    0.005 strategy.py:354(predict_step)\n",
      "    29478    0.413    0.000  414.386    0.014 trainer.py:1315(_run_stage)\n",
      "    29478    0.411    0.000    5.636    0.000 data_connector.py:103(prepare_data)\n",
      "    29478    0.410    0.000    0.760    0.000 tensorboard.py:319(<dictcomp>)\n",
      "    58974    0.408    0.000    0.838    0.000 apply_func.py:325(batch_to)\n",
      "    88434    0.407    0.000    7.466    0.000 spec.py:641(isdir)\n",
      "    58956    0.406    0.000    1.338    0.000 trainer.py:2191(amp_backend)\n",
      "    29487    0.406    0.000    2.030    0.000 lightning.py:280(_apply_batch_transfer_handler)\n",
      "      400    0.404    0.001 1097.188    2.743 models.py:1077(train_step)\n",
      "    29478    0.404    0.000   13.781    0.000 trainer.py:1486(_call_setup_hook)\n",
      "    29487    0.404    0.000  109.210    0.004 transformer.py:469(_sa_block)\n",
      "    29478    0.403    0.000    0.875    0.000 strategy.py:143(setup_precision_plugin)\n",
      "   268000    0.398    0.000    0.398    0.000 {method 'encode' of 'str' objects}\n",
      "    29478    0.398    0.000   48.452    0.002 device_dtype_mixin.py:60(to)\n",
      "    30334    0.396    0.000    0.396    0.000 {built-in method numpy.array}\n",
      "    29478    0.392    0.000    0.392    0.000 {built-in method posix.mkdir}\n",
      "    58956    0.392    0.000    0.601    0.000 sampler.py:219(__init__)\n",
      "   117912    0.390    0.000    2.476    0.000 trainer.py:2533(predicting)\n",
      "    88434    0.388    0.000    0.603    0.000 config.py:67(apply_config)\n",
      "    29478    0.385    0.000    0.846    0.000 queue.py:34(__init__)\n",
      "   117912    0.385    0.000    0.579    0.000 record_writer.py:42(flush)\n",
      "    58956    0.385    0.000    1.135    0.000 gfile.py:72(get_filesystem)\n",
      "    58956    0.383    0.000    0.690    0.000 data.py:387(_is_dataloader_shuffled)\n",
      "    58956    0.382    0.000    1.145    0.000 data_connector.py:547(is_module)\n",
      "   265412    0.377    0.000    0.377    0.000 {method 'endswith' of 'str' objects}\n",
      "   294782    0.373    0.000    0.373    0.000 {method '__enter__' of '_thread.lock' objects}\n",
      "    29478    0.363    0.000   10.756    0.000 event_file_writer.py:136(__init__)\n",
      "   129970    0.361    0.000    4.016    0.000 {method 'mean' of 'numpy.ndarray' objects}\n",
      "    29478    0.360    0.000    0.689    0.000 posixpath.py:100(split)\n",
      "   296950    0.357    0.000    0.357    0.000 {method 'join' of 'str' objects}\n",
      "    88434    0.348    0.000    0.463    0.000 utils.py:99(update_storage_options)\n",
      "   117912    0.346    0.000    2.027    0.000 os.py:771(getenv)\n",
      "   117948    0.345    0.000    0.562    0.000 _VF.py:25(__getattr__)\n",
      "    29487    0.341    0.000    0.341    0.000 {built-in method torch._ops.profiler._record_function_exit}\n",
      "    88434    0.338    0.000    3.951    0.000 trainer.py:2566(evaluating)\n",
      "    58956    0.338    0.000    3.775    0.000 accelerator_connector.py:829(is_distributed)\n",
      "    58965    0.336    0.000    1.354    0.000 distributed.py:131(__iter__)\n",
      "    29487    0.335    0.000    0.335    0.000 {built-in method torch.relu}\n",
      "    29478    0.334    0.000    2.233    0.000 configuration_validator.py:174(__verify_eval_loop_configuration)\n",
      "    29478    0.330    0.000   74.395    0.003 checkpoint_connector.py:57(_hpc_resume_path)\n",
      "    88434    0.329    0.000    1.732    0.000 dataloader_loop.py:51(done)\n",
      "   117912    0.328    0.000    0.525    0.000 base.py:37(get_experiment)\n",
      "    58956    0.327    0.000    1.651    0.000 trainer.py:2511(training)\n",
      "    29478    0.326    0.000    2.300    0.000 os.py:200(makedirs)\n",
      "   206347    0.325    0.000    0.325    0.000 {method 'values' of 'mappingproxy' objects}\n",
      "    29478    0.325    0.000    0.513    0.000 strategy.py:439(teardown)\n",
      "    58956    0.324    0.000    0.324    0.000 {built-in method torch.set_vital}\n",
      "    29478    0.322    0.000   12.395    0.000 prediction_loop.py:130(_on_predict_epoch_end)\n",
      "   237663    0.322    0.000    0.322    0.000 {method 'append' of 'collections.deque' objects}\n",
      "    58956    0.320    0.000   35.285    0.001 writer.py:273(_get_file_writer)\n",
      "   147435    0.319    0.000    0.319    0.000 {method 'size' of 'torch._C._TensorBase' objects}\n",
      "    59623    0.317    0.000    2.834    0.000 <__array_function__ internals>:2(prod)\n",
      "    58974    0.316    0.000    1.084    0.000 functional.py:1804(softmax)\n",
      "    29478    0.315    0.000   15.067    0.001 prediction_loop.py:144(_on_predict_end)\n",
      "    29487    0.309    0.000    1.435    0.000 _tensor.py:713(__iter__)\n",
      "    58956    0.309    0.000    0.507    0.000 trainer.py:2718(logger)\n",
      "    58974    0.309    0.000    1.860    0.000 apply_func.py:308(move_data_to_device)\n",
      "    29478    0.308    0.000    1.240    0.000 gfile.py:658(__init__)\n",
      "    88452    0.306    0.000    1.103    0.000 trainer.py:2347(prediction_writer_callbacks)\n",
      "    29487    0.301    0.000    2.732    0.000 collate.py:84(default_collate)\n",
      "   117912    0.298    0.000    0.298    0.000 functools.py:65(wraps)\n",
      "    29478    0.297    0.000   46.525    0.002 local.py:53(ls)\n",
      "    29487    0.296    0.000   73.094    0.002 functional.py:4707(_in_projection_packed)\n",
      "    88434    0.296    0.000    0.296    0.000 {built-in method _hashlib.openssl_md5}\n",
      "    88434    0.296    0.000   10.504    0.000 cloud_io.py:50(get_filesystem)\n",
      "    88434    0.294    0.000    2.018    0.000 states.py:47(_setup_fn)\n",
      "    88636    0.290    0.000    0.404    0.000 re.py:289(_compile)\n",
      "    29487    0.290    0.000    2.069    0.000 profiler.py:445(__enter__)\n",
      "    29478    0.288    0.000    0.961    0.000 configuration_validator.py:213(__verify_dp_batch_transfer_support)\n",
      "   147390    0.286    0.000    0.286    0.000 trainer.py:2661(predict_loop)\n",
      "    58956    0.286    0.000    0.458    0.000 trainer.py:2215(model)\n",
      "    29478    0.284    0.000    7.761    0.000 threading.py:873(start)\n",
      "    59623    0.284    0.000    2.182    0.000 fromnumeric.py:2933(prod)\n",
      "    58956    0.282    0.000    0.476    0.000 typing.py:928(__hash__)\n",
      "    29487    0.281    0.000    0.723    0.000 container.py:183(_get_abs_string_index)\n",
      "   130473    0.278    0.000    0.278    0.000 {built-in method numpy.zeros}\n",
      "    88434    0.275    0.000   19.911    0.000 event_file_writer.py:115(flush)\n",
      "    29478    0.275    0.000   38.047    0.001 data.py:173(_update_dataloader)\n",
      "    29533    0.274    0.000    0.274    0.000 {built-in method numpy.empty}\n",
      "    88434    0.273    0.000    0.378    0.000 typing.py:751(__hash__)\n",
      "    29478    0.272    0.000   36.009    0.001 event_file_writer.py:179(close)\n",
      "   206346    0.271    0.000    0.271    0.000 {built-in method _stat.S_ISDIR}\n",
      "    29478    0.271    0.000    0.271    0.000 {built-in method torch.from_numpy}\n",
      "    29478    0.270    0.000   23.741    0.001 prediction_loop.py:155(_on_predict_model_eval)\n",
      "    88461    0.269    0.000    0.427    0.000 data_connector.py:577(get_hook)\n",
      "   176868    0.268    0.000    0.268    0.000 tensorboard.py:283(version)\n",
      "    58956    0.267    0.000    2.653    0.000 dataloader.py:456(__len__)\n",
      "    29478    0.267    0.000    0.838    0.000 _convert_np.py:8(make_np)\n",
      "    58956    0.266    0.000    0.413    0.000 trainer.py:2199(precision)\n",
      "    58974    0.266    0.000    0.918    0.000 precision_plugin.py:240(predict_step_context)\n",
      "    29487    0.265    0.000    3.792    0.000 sparse.py:157(forward)\n",
      "    29478    0.265    0.000    0.319    0.000 {method '__reduce_ex__' of 'object' objects}\n",
      "   206346    0.265    0.000    0.265    0.000 {built-in method sys.getrecursionlimit}\n",
      "    29478    0.263    0.000   34.828    0.001 writer.py:53(__init__)\n",
      "    58956    0.262    0.000    0.262    0.000 parsing.py:283(__getattr__)\n",
      "   148712    0.261    0.000    0.261    0.000 {built-in method _thread.allocate_lock}\n",
      "    29480    0.261    0.000    5.909    0.000 threading.py:556(wait)\n",
      "    29478    0.261    0.000   33.707    0.001 threading.py:1021(join)\n",
      "    88434    0.258    0.000    0.567    0.000 core.py:517(split_protocol)\n",
      "   176868    0.257    0.000    0.257    0.000 {built-in method _stat.S_ISLNK}\n",
      "    29487    0.256    0.000    0.256    0.000 {method 'unsqueeze' of 'torch._C._TensorBase' objects}\n",
      "    58956    0.255    0.000    0.255    0.000 {built-in method torch._C._nn._parse_to}\n",
      "    58965    0.253    0.000    0.970    0.000 sampler.py:234(__iter__)\n",
      "    29478    0.253    0.000    6.072    0.000 dataloader.py:682(__init__)\n",
      "   176868    0.251    0.000    0.251    0.000 trainer.py:2745(loggers)\n",
      "    29478    0.250    0.000  890.919    0.030 trainer.py:709(_call_and_handle_interrupt)\n",
      "    88434    0.249    0.000    2.029    0.000 sampler.py:78(__len__)\n",
      "59900/59735    0.249    0.000    2.548    0.000 {built-in method numpy.core._multiarray_umath.implement_array_function}\n",
      "    29478    0.247    0.000    0.545    0.000 trainer.py:1428(__set_ckpt_path)\n",
      "    29478    0.246    0.000    0.246    0.000 device_dtype_mixin.py:50(device)\n",
      "    29478    0.245    0.000    1.069    0.000 strategy.py:112(setup_environment)\n",
      "    29999    0.244    0.000   33.248    0.001 threading.py:1059(_wait_for_tstate_lock)\n",
      "    29487    0.243    0.000    2.927    0.000 strategy.py:216(batch_to_device)\n",
      "    58956    0.242    0.000    0.591    0.000 progress.py:159(reset_on_run)\n",
      "    88434    0.241    0.000    0.643    0.000 re.py:250(compile)\n",
      "    29478    0.239    0.000    8.802    0.000 data_connector.py:141(attach_data)\n",
      "      856    0.237    0.000   45.700    0.053 models.py:746(<listcomp>)\n",
      "    29478    0.237    0.000   48.770    0.002 single_device.py:67(model_to_device)\n",
      "    29478    0.236    0.000    1.854    0.000 logger_connector.py:310(teardown)\n",
      "   147399    0.236    0.000    0.236    0.000 single_device.py:63(root_device)\n",
      "    88434    0.236    0.000    0.350    0.000 dataloader.py:444(_index_sampler)\n",
      "    29478    0.234    0.000  891.242    0.030 trainer.py:992(predict)\n",
      "    29478    0.234    0.000    0.865    0.000 imports.py:150(_fault_tolerant_training)\n",
      "    58974    0.233    0.000    2.221    0.000 _ops.py:138(__call__)\n",
      "   147390    0.232    0.000    0.232    0.000 gfile.py:805(flush)\n",
      "    29478    0.231    0.000    1.747    0.000 event_file_writer.py:193(__init__)\n",
      "    29478    0.230    0.000    2.350    0.000 parsing.py:97(clean_namespace)\n",
      "    29478    0.230    0.000    0.399    0.000 profiler.py:127(describe)\n",
      "    29478    0.229    0.000   74.806    0.003 checkpoint_connector.py:69(resume_start)\n",
      "    29478    0.229    0.000   12.818    0.000 device_dtype_mixin.py:188(__update_properties)\n",
      "    29478    0.227    0.000    1.457    0.000 configuration_validator.py:397(_check_precision_plugin_checkpoint_hooks)\n",
      "   176905    0.219    0.000    0.219    0.000 {method 'values' of 'dict' objects}\n",
      "   147392    0.219    0.000    0.219    0.000 {built-in method _thread.get_ident}\n",
      "   118942    0.218    0.000    0.218    0.000 {built-in method posix.getpid}\n",
      "    58956    0.218    0.000    0.381    0.000 trainer.py:2042(local_rank)\n",
      "    29478    0.217    0.000    0.870    0.000 __init__.py:276(__getattr__)\n",
      "    29487    0.216    0.000    0.362    0.000 functional.py:4864(_mha_shape_check)\n",
      "    29478    0.216    0.000   37.225    0.001 writer.py:1201(close)\n",
      "    58956    0.212    0.000    1.358    0.000 data_connector.py:540(is_defined)\n",
      "    29478    0.212    0.000    0.990    0.000 callback_connector.py:272(_attach_model_logging_functions)\n",
      "    29478    0.212    0.000    0.521    0.000 prediction_loop.py:30(return_predictions)\n",
      "    29487    0.211    0.000    4.968    0.000 dataloader.py:690(_next_data)\n",
      "    58958    0.209    0.000    0.305    0.000 threading.py:1338(current_thread)\n",
      "    58956    0.209    0.000    3.984    0.000 data_connector.py:248(_requires_distributed_sampler)\n",
      "    29478    0.209    0.000    1.144    0.000 prediction_loop.py:71(reset)\n",
      "    29478    0.208    0.000    0.904    0.000 model_checkpoint.py:256(setup)\n",
      "    88949    0.207    0.000    0.207    0.000 {method 'hexdigest' of '_hashlib.HASH' objects}\n",
      "   117933    0.206    0.000    0.206    0.000 {built-in method builtins.iter}\n",
      "    58956    0.206    0.000    3.305    0.000 spec.py:648(isfile)\n",
      "   147390    0.205    0.000    0.205    0.000 dataloader.py:440(_auto_collation)\n",
      "    29478    0.204    0.000    0.443    0.000 data.py:348(_get_all_subclasses)\n",
      "    58956    0.201    0.000    0.560    0.000 __init__.py:89(as_str_any)\n",
      "    58956    0.201    0.000    1.637    0.000 sampler.py:257(__len__)\n",
      "    29478    0.199    0.000   35.041    0.001 module.py:823(to)\n",
      "    29478    0.199    0.000   51.850    0.002 single_device.py:70(setup)\n",
      "    29478    0.199    0.000    0.582    0.000 data_connector.py:521(dataloader)\n",
      "    29478    0.197    0.000    1.360    0.000 strategy.py:120(setup_optimizers)\n",
      "   117912    0.197    0.000    0.197    0.000 tensorboard.py:158(experiment)\n",
      "    29478    0.197    0.000    9.315    0.000 hparams_mixin.py:141(hparams_initial)\n",
      "    29478    0.196    0.000    0.294    0.000 threading.py:985(_stop)\n",
      "    29478    0.195    0.000   22.524    0.001 hooks.py:189(on_predict_model_eval)\n",
      "    58956    0.195    0.000    0.295    0.000 dataloader.py:390(multiprocessing_context)\n",
      "    29478    0.192    0.000   35.322    0.001 event_file_writer.py:212(stop)\n",
      "   147390    0.192    0.000    0.192    0.000 {built-in method builtins.hash}\n",
      "    58956    0.191    0.000    1.251    0.000 trainer.py:2570(sanity_checking)\n",
      "    29478    0.190    0.000    0.190    0.000 summary.py:239(<listcomp>)\n",
      "    29478    0.189    0.000    5.488    0.000 trainer.py:2323(_weights_save_path_internal)\n",
      "   147390    0.189    0.000    0.189    0.000 single_device.py:78(barrier)\n",
      "    29478    0.189    0.000    2.042    0.000 tensorboard.py:315(_sanitize_params)\n",
      "    58956    0.186    0.000    0.273    0.000 prediction_loop.py:53(max_batches)\n",
      "    29478    0.186    0.000    1.074    0.000 auto_restart.py:770(_validate_fault_tolerant_automatic)\n",
      "    58974    0.186    0.000    0.283    0.000 __init__.py:31(__get__)\n",
      "    60920    0.185    0.000    0.185    0.000 {method 'format' of 'str' objects}\n",
      "    60276    0.183    0.000    0.283    0.000 threading.py:268(_acquire_restore)\n",
      "    58956    0.182    0.000    5.351    0.000 writer.py:144(flush)\n",
      "    29478    0.182    0.000    0.261    0.000 strategy.py:98(optimizers)\n",
      "    29478    0.182    0.000   46.706    0.002 spec.py:1234(listdir)\n",
      "    29487    0.181    0.000    0.950    0.000 container.py:192(__getitem__)\n",
      "      400    0.180    0.000    0.951    0.002 models.py:914(best_generation)\n",
      "    29487    0.178    0.000    3.409    0.000 fetch.py:47(fetch)\n",
      "    29478    0.177    0.000    4.786    0.000 writer.py:1191(flush)\n",
      "    29478    0.176    0.000    0.718    0.000 sampler.py:75(__iter__)\n",
      "    29478    0.175    0.000    0.373    0.000 dataloader.py:71(create_fetcher)\n",
      "    29487    0.173    0.000    3.468    0.000 functional.py:2099(embedding)\n",
      "    58956    0.173    0.000    0.254    0.000 hparams_mixin.py:129(hparams)\n",
      "    29478    0.172    0.000    0.229    0.000 _weakrefset.py:39(_remove)\n",
      "    58965    0.170    0.000    0.170    0.000 progress.py:130(increment_ready)\n",
      "    29478    0.169    0.000    4.470    0.000 trainer.py:1504(_handle_meta_model)\n",
      "    29478    0.169    0.000    0.298    0.000 trainer.py:1432(<listcomp>)\n",
      "   117912    0.168    0.000    0.168    0.000 strategy.py:94(optimizers)\n",
      "   130190    0.167    0.000    0.167    0.000 {built-in method numpy.core._multiarray_umath.normalize_axis_index}\n",
      "    29478    0.166    0.000    1.339    0.000 prediction_epoch_loop.py:51(on_run_start)\n",
      "    29478    0.164    0.000    0.303    0.000 genericpath.py:39(isdir)\n",
      "    29487    0.163    0.000    1.184    0.000 profiler.py:436(__init__)\n",
      "    58956    0.162    0.000    1.972    0.000 distributed.py:138(__len__)\n",
      "    29478    0.162    0.000    0.390    0.000 dataloader_loop.py:56(reset)\n",
      "    29478    0.161    0.000    0.251    0.000 strategy.py:487(dispatch)\n",
      "    29478    0.160    0.000    3.971    0.000 logger_connector.py:262(reset_results)\n",
      "    88437    0.159    0.000    0.159    0.000 {built-in method _weakref.proxy}\n",
      "    60276    0.158    0.000    0.230    0.000 threading.py:265(_release_save)\n",
      "      536    0.158    0.000    0.390    0.001 traitlets.py:276(getmembers)\n",
      "    29478    0.158    0.000    0.290    0.000 __init__.py:61(as_text)\n",
      "    29478    0.157    0.000    6.229    0.000 dataloader.py:379(_get_iterator)\n",
      "   130190    0.157    0.000    0.157    0.000 {built-in method numpy.asanyarray}\n",
      "    58956    0.156    0.000    0.599    0.000 data.py:361(_replace_dataloader_init_method)\n",
      "    29487    0.156    0.000    0.529    0.000 functional.py:1446(relu)\n",
      "    58974    0.152    0.000    0.152    0.000 {built-in method math.sqrt}\n",
      "    58974    0.151    0.000    0.226    0.000 container.py:213(__len__)\n",
      "   117949    0.151    0.000    0.151    0.000 {method 'keys' of 'dict' objects}\n",
      "    29478    0.151    0.000   27.613    0.001 prediction_loop.py:107(on_run_end)\n",
      "    29478    0.150    0.000    0.193    0.000 event_file_writer.py:34(get)\n",
      "    29478    0.150    0.000    3.036    0.000 gfile.py:892(makedirs)\n",
      "    88434    0.150    0.000    0.150    0.000 tensorboard.py:140(save_dir)\n",
      "    88434    0.150    0.000    0.150    0.000 tensorboard.py:274(name)\n",
      "    29487    0.150    0.000    0.592    0.000 profiler.py:449(__exit__)\n",
      "    29487    0.148    0.000    0.148    0.000 prediction_epoch_loop.py:147(_build_kwargs)\n",
      "    29478    0.147    0.000    0.334    0.000 prediction_loop.py:63(skip)\n",
      "    88434    0.146    0.000    0.146    0.000 enums.py:303(is_automatic)\n",
      "    29478    0.144    0.000    0.213    0.000 copy.py:242(_keep_alive)\n",
      "    58956    0.144    0.000    0.782    0.000 trainer.py:2537(predicting)\n",
      "    29478    0.142    0.000    0.202    0.000 data_connector.py:197(attach_datamodule)\n",
      "    88434    0.141    0.000    0.141    0.000 registry.py:36(__contains__)\n",
      "    29487    0.141    0.000    0.174    0.000 progress.py:140(increment_processed)\n",
      "    29478    0.141    0.000    0.556    0.000 prediction_epoch_loop.py:45(reset)\n",
      "    88434    0.140    0.000    0.140    0.000 dataloader_loop.py:36(current_dataloader_idx)\n",
      "    29480    0.139    0.000    0.264    0.000 threading.py:521(__init__)\n",
      "    29478    0.137    0.000    1.089    0.000 configuration_validator.py:299(_check_on_epoch_start_end)\n",
      "    29478    0.136    0.000    0.295    0.000 dataloader_loop.py:41(current_dataloader)\n",
      "    58965    0.135    0.000    0.135    0.000 progress.py:146(increment_completed)\n",
      "    29487    0.134    0.000    0.225    0.000 container.py:217(__iter__)\n",
      "    29478    0.131    0.000    1.119    0.000 configuration_validator.py:266(_check_add_get_queue)\n",
      "    29478    0.131    0.000    0.217    0.000 data.py:86(has_iterable_dataset)\n",
      "    58956    0.130    0.000    0.130    0.000 sampler.py:72(__init__)\n",
      "    88434    0.130    0.000    0.130    0.000 tensorboard.py:149(sub_dir)\n",
      "    58956    0.129    0.000    0.483    0.000 copy.py:263(<genexpr>)\n",
      "    58965    0.129    0.000    0.129    0.000 prediction_epoch_loop.py:31(done)\n",
      "    29478    0.128    0.000    0.203    0.000 trainer.py:2260(is_global_zero)\n",
      "    29478    0.128    0.000    0.208    0.000 __init__.py:37(as_bytes)\n",
      "    29478    0.128    0.000    0.195    0.000 configuration_validator.py:410(_check_datamodule_checkpoint_hooks)\n",
      "    29479    0.128    0.000    0.176    0.000 _weakrefset.py:86(add)\n",
      "    29487    0.127    0.000  148.930    0.005 models.py:183(predict_step)\n",
      "    29478    0.127    0.000    1.064    0.000 configuration_validator.py:313(_check_on_pretrain_routine)\n",
      "    29478    0.127    0.000    0.379    0.000 rank_zero.py:78(_warn)\n",
      "    29478    0.127    0.000    2.427    0.000 gfile.py:199(makedirs)\n",
      "    29478    0.126    0.000    1.103    0.000 configuration_validator.py:284(_check_on_hpc_hooks)\n",
      "    29478    0.126    0.000   45.417    0.002 data_connector.py:389(<listcomp>)\n",
      "    58956    0.125    0.000    0.125    0.000 progress.py:53(reset)\n",
      "    29478    0.123    0.000    0.199    0.000 fetch.py:44(__init__)\n",
      "    88452    0.122    0.000    0.122    0.000 prediction_epoch_loop.py:39(<genexpr>)\n",
      "    88434    0.122    0.000    0.122    0.000 strategy.py:305(model)\n",
      "    88461    0.122    0.000    0.122    0.000 {built-in method torch._C._has_torch_function_variadic}\n",
      "    29478    0.122    0.000    3.918    0.000 callback_connector.py:278(_attach_model_callbacks)\n",
      "    88956    0.122    0.000    0.122    0.000 threading.py:529(is_set)\n",
      "    29478    0.121    0.000    0.286    0.000 progress.py:105(reset)\n",
      "    88443    0.121    0.000    0.121    0.000 utils.py:51(void)\n",
      "    29478    0.120    0.000    0.206    0.000 dataloader_loop.py:63(on_advance_start)\n",
      "    29487    0.119    0.000    1.118    0.000 hooks.py:658(transfer_batch_to_device)\n",
      "    29478    0.118    0.000    3.810    0.000 trainer.py:2765(_results)\n",
      "    59623    0.118    0.000    0.118    0.000 fromnumeric.py:70(<dictcomp>)\n",
      "    58956    0.116    0.000    0.116    0.000 threading.py:1127(daemon)\n",
      "    29478    0.116    0.000    0.590    0.000 genericpath.py:16(exists)\n",
      "    88461    0.114    0.000    0.114    0.000 base.py:233(on_predict_batch_end)\n",
      "    88434    0.114    0.000    0.114    0.000 registry.py:24(__getitem__)\n",
      "    29478    0.114    0.000    6.343    0.000 dataloader.py:425(__iter__)\n",
      "    88461    0.113    0.000    0.113    0.000 base.py:228(on_predict_batch_start)\n",
      "    29784    0.113    0.000    0.113    0.000 {method 'numpy' of 'torch._C._TensorBase' objects}\n",
      "    29487    0.113    0.000    0.149    0.000 progress.py:134(increment_started)\n",
      "    88434    0.112    0.000    0.112    0.000 base.py:154(on_predict_epoch_start)\n",
      "    88430    0.112    0.000    0.112    0.000 {method 'remove' of 'collections.deque' objects}\n",
      "    29478    0.112    0.000    0.183    0.000 trainer.py:2052(world_size)\n",
      "    88434    0.111    0.000    0.111    0.000 base.py:59(on_configure_sharded_model)\n",
      "    88434    0.111    0.000    0.111    0.000 base.py:157(on_predict_epoch_end)\n",
      "    88434    0.111    0.000    0.111    0.000 base.py:283(on_predict_end)\n",
      "    29478    0.111    0.000    0.484    0.000 data.py:313(_auto_add_worker_init_fn)\n",
      "    29478    0.111    0.000    0.490    0.000 rank_zero.py:89(rank_zero_warn)\n",
      "    88434    0.110    0.000    0.110    0.000 base.py:280(on_predict_start)\n",
      "    88434    0.110    0.000    0.110    0.000 base.py:78(teardown)\n",
      "    29478    0.110    0.000    1.388    0.000 spec.py:572(exists)\n",
      "    88434    0.110    0.000    0.110    0.000 spec.py:62(<genexpr>)\n",
      "    29478    0.109    0.000    0.218    0.000 context.py:41(cpu_count)\n",
      "    88434    0.109    0.000    0.109    0.000 spec.py:199(_get_kwargs_from_urls)\n",
      "    29478    0.109    0.000    0.153    0.000 memory.py:109(empty_cache)\n",
      "    58956    0.109    0.000    0.109    0.000 prediction_loop.py:25(return_predictions)\n",
      "    29478    0.109    0.000    0.109    0.000 {built-in method posix.cpu_count}\n",
      "    29478    0.109    0.000    0.183    0.000 trainer.py:1772(_log_api_event)\n",
      "    58956    0.108    0.000    0.108    0.000 {method 'find' of 'str' objects}\n",
      "    29478    0.108    0.000    0.179    0.000 trainer.py:2047(node_rank)\n",
      "    88434    0.108    0.000    0.108    0.000 base.py:67(on_before_accelerator_backend_setup)\n",
      "    29478    0.107    0.000   78.233    0.003 prediction_loop.py:82(on_run_start)\n",
      "    29478    0.106    0.000    0.239    0.000 record_writer.py:45(close)\n",
      "    58956    0.105    0.000    0.105    0.000 dataloader.py:485(check_worker_number_rationality)\n",
      "    29478    0.103    0.000   22.139    0.001 module.py:1842(eval)\n",
      "    29478    0.103    0.000    0.176    0.000 dataloader_loop.py:66(on_advance_end)\n",
      "    29478    0.103    0.000    0.165    0.000 progress.py:81(reset)\n",
      "    88469    0.102    0.000    0.102    0.000 {method 'pop' of 'dict' objects}\n",
      "    29478    0.101    0.000    0.143    0.000 threading.py:1142(daemon)\n",
      "    29478    0.101    0.000    0.134    0.000 signal_connector.py:104(teardown)\n",
      "    29587    0.101    0.000    0.101    0.000 {method 'reshape' of 'numpy.ndarray' objects}\n",
      "    29478    0.100    0.000    0.100    0.000 {built-in method _socket.gethostname}\n",
      "    29478    0.099    0.000    0.349    0.000 dataloader.py:562(_get_shared_seed)\n",
      "    29478    0.099    0.000    0.163    0.000 states.py:104(stopped)\n",
      "    29478    0.098    0.000   36.194    0.001 writer.py:151(close)\n",
      "    58956    0.098    0.000    0.098    0.000 optimizer.py:24(optimizers_to_device)\n",
      "    29478    0.098    0.000    0.148    0.000 data.py:352(recurse)\n",
      "    58974    0.097    0.000    0.097    0.000 {built-in method torch._C._get_cudnn_enabled}\n",
      "    29478    0.096    0.000    0.134    0.000 gfile.py:822(close)\n",
      "    29478    0.094    0.000    0.127    0.000 numeric.py:1858(isscalar)\n",
      "    29478    0.093    0.000    0.137    0.000 writer.py:79(get_logdir)\n",
      "    29487    0.089    0.000    0.124    0.000 base.py:234(on_advance_start)\n",
      "    58956    0.089    0.000    0.089    0.000 strategy.py:70(accelerator)\n",
      "    29478    0.089    0.000    0.128    0.000 strategy.py:105(connect)\n",
      "    59623    0.088    0.000    0.088    0.000 fromnumeric.py:2928(_prod_dispatcher)\n",
      "    29478    0.088    0.000    0.468    0.000 data_connector.py:491(_check_eval_shuffling)\n",
      "    29478    0.087    0.000   36.096    0.001 event_file_writer.py:123(close)\n",
      "    29478    0.087    0.000    0.575    0.000 configuration_validator.py:146(_check_progress_bar)\n",
      "    29478    0.086    0.000    0.143    0.000 copyreg.py:94(__newobj__)\n",
      "    58956    0.086    0.000    0.086    0.000 base.py:173(save)\n",
      "    29478    0.085    0.000    0.126    0.000 logger.py:23(_convert_params)\n",
      "    29478    0.085    0.000    0.085    0.000 threading.py:1209(_make_invoke_excepthook)\n",
      "    29478    0.084    0.000    0.120    0.000 trainer.py:2038(global_rank)\n",
      "    58956    0.084    0.000    0.084    0.000 strategy.py:379(restore_checkpoint_after_setup)\n",
      "    58974    0.083    0.000    0.083    0.000 precision_plugin.py:217(forward_context)\n",
      "    29478    0.081    0.000    1.899    0.000 data_connector.py:310(_resolve_sampler)\n",
      "    29478    0.081    0.000    0.564    0.000 configuration_validator.py:160(_check_on_post_move_to_device)\n",
      "    58974    0.081    0.000    0.081    0.000 {method 'values' of 'collections.OrderedDict' objects}\n",
      "    29487    0.081    0.000    1.348    0.000 dataloader.py:641(_next_index)\n",
      "    29478    0.080    0.000    0.080    0.000 {method 'squeeze' of 'numpy.ndarray' objects}\n",
      "    58956    0.079    0.000    0.079    0.000 strategy.py:429(model_sharded_context)\n",
      "    58956    0.078    0.000    0.078    0.000 data_connector.py:377(<genexpr>)\n",
      "    29478    0.078    0.000    0.111    0.000 apply_func.py:63(_is_namedtuple)\n",
      "    29478    0.077    0.000    0.077    0.000 checkpoint_connector.py:493(<listcomp>)\n",
      "    29478    0.077    0.000    0.077    0.000 data.py:225(<dictcomp>)\n",
      "    58956    0.077    0.000    0.077    0.000 trainer.py:2387(ckpt_path)\n",
      "    29478    0.077    0.000    0.077    0.000 queue.py:206(_init)\n",
      "      536    0.077    0.000    0.153    0.000 traitlets.py:1781(<listcomp>)\n",
      "    58956    0.076    0.000    0.076    0.000 strategy.py:371(process_dataloader)\n",
      "    29478    0.076    0.000    0.076    0.000 fetch.py:8(__init__)\n",
      "    29478    0.076    0.000    0.076    0.000 profiler.py:114(_prepare_streams)\n",
      "    58956    0.076    0.000    0.076    0.000 base.py:75(setup)\n",
      "    29478    0.075    0.000    0.111    0.000 writer.py:258(_check_caffe2_blob)\n",
      "    58956    0.073    0.000    0.073    0.000 {built-in method _stat.S_ISREG}\n",
      "    29478    0.073    0.000    0.073    0.000 profiler.py:151(setup)\n",
      "    29478    0.070    0.000    0.070    0.000 distributed.py:110(__init__)\n",
      "    29478    0.070    0.000    0.070    0.000 strategy.py:66(launcher)\n",
      "    29478    0.069    0.000    0.069    0.000 threading.py:750(_newname)\n",
      "    29478    0.069    0.000    0.069    0.000 logger_connector.py:257(reset_metrics)\n",
      "33922/31372    0.065    0.000    0.200    0.000 traitlets.py:675(__get__)\n",
      "    29478    0.064    0.000    0.064    0.000 states.py:29(stopped)\n",
      "    29478    0.060    0.000    0.060    0.000 <string>:2(__init__)\n",
      "    29478    0.059    0.000    0.059    0.000 {method 'split' of 'str' objects}\n",
      "    30020    0.058    0.000    0.058    0.000 {built-in method __new__ of type object at 0x559cd1b8e740}\n",
      "    29478    0.057    0.000    0.057    0.000 checkpoint_connector.py:187(restore_training_state)\n",
      "    29478    0.057    0.000    0.057    0.000 {built-in method builtins.vars}\n",
      "    29478    0.057    0.000    0.057    0.000 {method 'discard' of 'set' objects}\n",
      "    29478    0.054    0.000    0.054    0.000 prediction_epoch_loop.py:106(on_run_end)\n",
      "    29478    0.054    0.000    0.054    0.000 checkpoint_connector.py:221(_restore_quantization_callbacks)\n",
      "      110    0.053    0.000    0.053    0.000 {method '__exit__' of '_io._IOBase' objects}\n",
      "    29478    0.052    0.000    0.052    0.000 dataloader.py:386(multiprocessing_context)\n",
      "    29478    0.052    0.000    0.052    0.000 {built-in method builtins.sum}\n",
      "    29478    0.052    0.000    0.052    0.000 base.py:73(restarting)\n",
      "    29478    0.052    0.000    0.052    0.000 model_checkpoint.py:572(__resolve_ckpt_dir)\n",
      "    29478    0.052    0.000    0.052    0.000 record_writer.py:23(__init__)\n",
      "    29478    0.051    0.000    0.051    0.000 {method 'decode' of 'bytes' objects}\n",
      "    29487    0.051    0.000    0.051    0.000 {built-in method torch._C._has_torch_function}\n",
      "    29478    0.050    0.000    0.050    0.000 {method '__subclasses__' of 'type' objects}\n",
      "    29478    0.049    0.000    0.049    0.000 profiler.py:159(teardown)\n",
      "    29478    0.048    0.000    0.048    0.000 tensorboard.py:238(log_graph)\n",
      "    29478    0.047    0.000    0.047    0.000 checkpoint_connector.py:148(restore_datamodule)\n",
      "    29707    0.047    0.000    0.047    0.000 {built-in method _operator.index}\n",
      "    29478    0.046    0.000    0.046    0.000 {method 'locked' of '_thread.lock' objects}\n",
      "    29478    0.045    0.000    0.045    0.000 strategy.py:101(<dictcomp>)\n",
      "    29478    0.045    0.000    0.045    0.000 event_file_writer.py:98(get_logdir)\n",
      "    29478    0.044    0.000    0.044    0.000 __init__.py:149(is_initialized)\n",
      "    29478    0.044    0.000    0.044    0.000 profiler.py:52(summary)\n",
      "    29478    0.043    0.000    0.043    0.000 logger.py:134(_add_prefix)\n",
      "    29478    0.043    0.000    0.043    0.000 enums.py:299(is_enabled)\n",
      "    29478    0.043    0.000    0.043    0.000 base.py:98(skip)\n",
      "    29478    0.043    0.000    0.043    0.000 lightning.py:1155(configure_callbacks)\n",
      "    29478    0.043    0.000    0.043    0.000 accelerator.py:41(setup)\n",
      "    29487    0.043    0.000    0.043    0.000 base.py:255(on_advance_end)\n",
      "    29478    0.042    0.000    0.042    0.000 precision_plugin.py:214(dispatch)\n",
      "    29478    0.042    0.000    0.042    0.000 hooks.py:59(on_predict_start)\n",
      "    29478    0.042    0.000    0.042    0.000 hooks.py:317(configure_sharded_model)\n",
      "    29487    0.042    0.000    0.042    0.000 hooks.py:163(on_predict_batch_end)\n",
      "    29487    0.042    0.000    0.042    0.000 hooks.py:154(on_predict_batch_start)\n",
      "    29478    0.042    0.000    0.042    0.000 checkpoint_connector.py:159(restore_model)\n",
      "    29478    0.042    0.000    0.042    0.000 strategy.py:463(on_predict_start)\n",
      "    29478    0.042    0.000    0.042    0.000 hooks.py:236(on_predict_epoch_end)\n",
      "    29478    0.042    0.000    0.042    0.000 hooks.py:650(on_predict_dataloader)\n",
      "    29478    0.041    0.000    0.041    0.000 strategy.py:501(post_dispatch)\n",
      "    29478    0.041    0.000    0.041    0.000 base.py:264(teardown)\n",
      "    29478    0.041    0.000    0.041    0.000 precision_plugin.py:45(connect)\n",
      "    29478    0.041    0.000    0.041    0.000 single_device.py:74(is_global_zero)\n",
      "    29478    0.041    0.000    0.041    0.000 strategy.py:479(on_predict_end)\n",
      "    29487    0.041    0.000    0.041    0.000 worker.py:83(get_worker_info)\n",
      "    29487    0.040    0.000    0.040    0.000 hooks.py:750(on_after_batch_transfer)\n",
      "    29478    0.040    0.000    0.040    0.000 hooks.py:418(teardown)\n",
      "    29478    0.040    0.000    0.040    0.000 precision_plugin.py:246(teardown)\n",
      "    29487    0.039    0.000    0.039    0.000 hooks.py:715(on_before_batch_transfer)\n",
      "    29478    0.039    0.000    0.039    0.000 single_device.py:45(reduce)\n",
      "    29478    0.039    0.000    0.039    0.000 hooks.py:233(on_predict_epoch_start)\n",
      "    29478    0.039    0.000    0.039    0.000 hooks.py:344(prepare_data)\n",
      "    29478    0.038    0.000    0.038    0.000 {method '__exit__' of 'posix.ScandirIterator' objects}\n",
      "    29478    0.038    0.000    0.038    0.000 single_device.py:81(broadcast)\n",
      "    29478    0.038    0.000    0.038    0.000 hooks.py:62(on_predict_end)\n",
      "    29478    0.037    0.000    0.037    0.000 accelerator.py:34(setup_environment)\n",
      "    29478    0.037    0.000    0.037    0.000 {method '__exit__' of '_thread.RLock' objects}\n",
      "    29478    0.037    0.000    0.037    0.000 hooks.py:392(setup)\n",
      "      562    0.034    0.000    0.034    0.000 {built-in method builtins.dir}\n",
      "19673/19142    0.032    0.000    0.138    0.000 traitlets.py:643(get)\n",
      "  916/905    0.024    0.000    0.050    0.000 traitlets.py:1388(_notify_observers)\n",
      "      519    0.019    0.000    0.019    0.000 socket.py:480(send)\n",
      "     2060    0.015    0.000    0.036    0.000 encoder.py:204(iterencode)\n",
      "      515    0.015    0.000    0.259    0.001 session.py:751(send)\n",
      "     2060    0.014    0.000    0.057    0.000 encoder.py:182(encode)\n",
      "      515    0.013    0.000    0.145    0.000 session.py:687(serialize)\n",
      "       55    0.012    0.000    0.012    0.000 {method 'sort' of 'numpy.ndarray' objects}\n",
      "      514    0.012    0.000    0.292    0.001 comm.py:66(_publish_msg)\n",
      "      110    0.011    0.000    0.011    0.000 {built-in method io.open}\n",
      "        1    0.011    0.011 1102.126 1102.126 models.py:1117(train)\n",
      "     2060    0.011    0.000    0.072    0.000 __init__.py:183(dumps)\n",
      "     2060    0.010    0.000    0.084    0.000 session.py:97(json_packer)\n",
      "      515    0.010    0.000    0.914    0.002 widget.py:676(notify_change)\n",
      "     1030    0.009    0.000    0.009    0.000 {method 'isoformat' of 'datetime.datetime' objects}\n",
      "      536    0.008    0.000    0.555    0.001 traitlets.py:1766(traits)\n",
      "      203    0.008    0.000    0.018    0.000 std.py:355(format_meter)\n",
      "      856    0.008    0.000   45.727    0.053 models.py:739(fitness)\n",
      "     1267    0.008    0.000    0.017    0.000 traitlets.py:1799(trait_metadata)\n",
      "      515    0.008    0.000    0.036    0.000 session.py:672(sign)\n",
      "       26    0.008    0.000    0.020    0.001 traitlets.py:1186(setup_instance)\n",
      "      110    0.007    0.000    0.008    0.000 {method 'tofile' of 'numpy.ndarray' objects}\n",
      "      202    0.007    0.000    0.984    0.005 notebook.py:149(display)\n",
      "     1030    0.007    0.000    0.021    0.000 jsonutil.py:108(json_default)\n",
      "     2760    0.007    0.000    0.010    0.000 bunch.py:13(__getattr__)\n",
      "  514/507    0.007    0.000    0.641    0.001 widget.py:557(get_state)\n",
      "      519    0.006    0.000    0.034    0.000 iostream.py:209(schedule)\n",
      "      503    0.006    0.000    0.848    0.002 widget.py:538(send_state)\n",
      "1052/1046    0.006    0.000    0.019    0.000 traitlets.py:717(_validate)\n",
      "  519/514    0.005    0.000    0.009    0.000 widget.py:93(_separate_buffers)\n",
      "     4694    0.005    0.000    0.005    0.000 {method 'extend' of 'list' objects}\n",
      "      515    0.005    0.000    0.037    0.000 session.py:646(msg)\n",
      "     2060    0.005    0.000    0.008    0.000 hmac.py:111(update)\n",
      "        3    0.005    0.002    0.005    0.002 {built-in method torch.triu}\n",
      "      503    0.005    0.000    0.298    0.001 widget.py:814(_send)\n",
      "      515    0.005    0.000    0.009    0.000 session.py:846(<listcomp>)\n",
      "       55    0.005    0.000    3.534    0.064 models.py:1196(save)\n",
      "     3253    0.005    0.000    0.005    0.000 {method 'replace' of 'str' objects}\n",
      "      515    0.004    0.000    0.008    0.000 session.py:599(msg_id)\n",
      "  678/667    0.004    0.000    0.938    0.001 traitlets.py:688(set)\n",
      "      515    0.004    0.000    0.027    0.000 session.py:643(msg_header)\n",
      "      515    0.004    0.000    0.007    0.000 hmac.py:115(copy)\n",
      "     2575    0.004    0.000    0.004    0.000 {method 'update' of '_hashlib.HASH' objects}\n",
      "      368    0.004    0.000    0.008    0.000 traitlets.py:1715(_get_trait_default_generator)\n",
      "     2060    0.004    0.000    0.004    0.000 encoder.py:104(__init__)\n",
      "      203    0.004    0.000    0.012    0.000 std.py:1460(format_dict)\n",
      "     2760    0.003    0.000    0.003    0.000 {method '__getitem__' of 'dict' objects}\n",
      "     1545    0.003    0.000    0.003    0.000 {method 'copy' of '_hashlib.HASH' objects}\n",
      "      663    0.003    0.000    0.008    0.000 traitlets.py:726(_cross_validate)\n",
      "      503    0.003    0.000    0.012    0.000 widget.py:724(_should_send_property)\n",
      "      404    0.003    0.000    0.006    0.000 __init__.py:12(escape)\n",
      "      521    0.003    0.000    0.007    0.000 threading.py:1113(is_alive)\n",
      "  368/100    0.003    0.000    0.101    0.001 traitlets.py:1740(trait_defaults)\n",
      "       55    0.003    0.000    0.016    0.000 arraysetops.py:320(_unique1d)\n",
      "      515    0.003    0.000    0.008    0.000 session.py:201(utcnow)\n",
      "      515    0.003    0.000    0.005    0.000 hmac.py:128(_current)\n",
      "      203    0.003    0.000    0.006    0.000 notebook.py:200(colour)\n",
      "  548/537    0.003    0.000    0.917    0.002 traitlets.py:1373(_notify_trait)\n",
      "      515    0.003    0.000    0.003    0.000 {method 'replace' of 'datetime.datetime' objects}\n",
      "      110    0.003    0.000    0.009    0.000 format.py:416(_write_array_header)\n",
      "     2101    0.003    0.000    0.003    0.000 traitlets.py:1136(__get__)\n",
      "      536    0.002    0.000    0.002    0.000 {method 'sort' of 'list' objects}\n",
      "      403    0.002    0.000    0.005    0.000 std.py:288(format_interval)\n",
      "      200    0.002    0.000    0.985    0.005 std.py:1339(refresh)\n",
      "      515    0.002    0.000    0.038    0.000 iostream.py:290(send_multipart)\n",
      "  666/655    0.002    0.000    0.941    0.001 traitlets.py:706(__set__)\n",
      "      515    0.002    0.000    0.011    0.000 session.py:273(msg_header)\n",
      "      110    0.002    0.000    0.088    0.001 npyio.py:458(save)\n",
      "      514    0.002    0.000    0.005    0.000 kernelbase.py:611(get_parent)\n",
      "      816    0.002    0.000    0.002    0.000 std.py:233(__call__)\n",
      "      515    0.002    0.000    0.002    0.000 {built-in method utcnow}\n",
      "      100    0.002    0.000    0.587    0.006 std.py:1212(update)\n",
      "      515    0.002    0.000    0.008    0.000 hmac.py:147(hexdigest)\n",
      "      110    0.002    0.000    0.007    0.000 numeric.py:1398(moveaxis)\n",
      "      110    0.002    0.000    0.003    0.000 format.py:367(_wrap_header)\n",
      "      503    0.002    0.000    0.285    0.001 comm.py:135(send)\n",
      "      515    0.002    0.000    0.036    0.000 iostream.py:221(send_multipart)\n",
      "     1030    0.002    0.000    0.002    0.000 jsonutil.py:39(_ensure_tzinfo)\n",
      "      220    0.002    0.000    0.004    0.000 numeric.py:1335(normalize_axis_tuple)\n",
      "      110    0.002    0.000    0.022    0.000 format.py:627(write_array)\n",
      "      203    0.002    0.000    0.003    0.000 std.py:104(acquire)\n",
      "      514    0.002    0.000    0.011    0.000 widget.py:138(_remove_buffers)\n",
      "      203    0.002    0.000    0.002    0.000 std.py:108(release)\n",
      "     1029    0.002    0.000    0.002    0.000 jsonutil.py:77(json_clean)\n",
      "  548/537    0.002    0.000    0.034    0.000 traitlets.py:1384(notify_change)\n",
      "       55    0.002    0.000    0.033    0.001 arraysetops.py:138(unique)\n",
      "      394    0.001    0.000    0.003    0.000 traitlets.py:1667(has_trait)\n",
      "      515    0.001    0.000    0.002    0.000 session.py:280(extract_header)\n",
      "      513    0.001    0.000    0.002    0.000 traitlets.py:2371(validate)\n",
      "      519    0.001    0.000    0.001    0.000 iostream.py:97(_event_pipe)\n",
      "      200    0.001    0.000    0.001    0.000 {built-in method now}\n",
      "      625    0.001    0.000    0.001    0.000 {built-in method builtins.max}\n",
      "      246    0.001    0.000    0.022    0.000 traitlets.py:1129(__call__)\n",
      "      202    0.001    0.000    0.001    0.000 {method 'split' of 're.Pattern' objects}\n",
      "      202    0.001    0.000    0.004    0.000 re.py:223(split)\n",
      "      403    0.001    0.000    0.001    0.000 {built-in method builtins.min}\n",
      "      202    0.001    0.000    0.003    0.000 widget_float.py:33(_validate_value)\n",
      "       55    0.001    0.000    0.001    0.000 {method 'flatten' of 'numpy.ndarray' objects}\n",
      "      515    0.001    0.000    0.001    0.000 {built-in method builtins.locals}\n",
      "      515    0.001    0.000    0.001    0.000 {method 'digest' of '_hashlib.HASH' objects}\n",
      "      101    0.001    0.000    0.591    0.006 std.py:1174(__iter__)\n",
      "      807    0.001    0.000    0.001    0.000 {built-in method builtins.divmod}\n",
      "      756    0.001    0.000    0.001    0.000 widget.py:779(_trait_to_json)\n",
      "      736    0.001    0.000    0.001    0.000 traitlets.py:1288(cross_validation_lock)\n",
      "      738    0.001    0.000    0.001    0.000 {method 'get' of 'mappingproxy' objects}\n",
      "       55    0.001    0.000    0.002    0.000 arraysetops.py:286(<listcomp>)\n",
      "      515    0.001    0.000    0.001    0.000 tz.py:74(utcoffset)\n",
      "      205    0.001    0.000    0.001    0.000 traitlets.py:2286(validate)\n",
      "      220    0.001    0.000    0.001    0.000 {built-in method builtins.sorted}\n",
      "      110    0.001    0.000    0.090    0.001 <__array_function__ internals>:2(save)\n",
      "      110    0.001    0.000    0.001    0.000 format.py:247(dtype_to_descr)\n",
      "      516    0.001    0.000    0.001    0.000 {method 'copy' of 'dict' objects}\n",
      "      110    0.001    0.000    0.002    0.000 format.py:339(header_data_from_array_1_0)\n",
      "      110    0.001    0.000    0.001    0.000 {method 'view' of 'numpy.ndarray' objects}\n",
      "      575    0.001    0.000    0.001    0.000 traitlets.py:504(instance_init)\n",
      "      100    0.001    0.000    0.588    0.006 notebook.py:268(update)\n",
      "      100    0.001    0.000    0.402    0.004 std.py:1396(set_description)\n",
      "      153    0.001    0.000    0.001    0.000 traitlets.py:2043(instance_init)\n",
      "      220    0.001    0.000    0.001    0.000 numeric.py:1385(<listcomp>)\n",
      "   324/84    0.001    0.000    0.091    0.001 traitlets.py:605(default)\n",
      "      492    0.001    0.000    0.001    0.000 traitlets.py:263(__init__)\n",
      "      492    0.001    0.000    0.001    0.000 traitlets.py:266(__call__)\n",
      "      110    0.001    0.000    0.008    0.000 <__array_function__ internals>:2(moveaxis)\n",
      "        3    0.001    0.000    0.006    0.002 models.py:114(_generate_square_subsequent_mask)\n",
      "       55    0.001    0.000    0.004    0.000 arraysetops.py:307(reshape_uniq)\n",
      "      368    0.000    0.000    0.000    0.000 {method 'mro' of 'type' objects}\n",
      "      205    0.000    0.000    0.000    0.000 traitlets.py:2196(_validate_bounds)\n",
      "      110    0.000    0.000    0.001    0.000 py3k.py:53(isfileobj)\n",
      "      368    0.000    0.000    0.000    0.000 {method 'index' of 'list' objects}\n",
      "      110    0.000    0.000    0.000    0.000 format.py:196(magic)\n",
      "      203    0.000    0.000    0.000    0.000 {method 'acquire' of '_multiprocessing.SemLock' objects}\n",
      "      101    0.000    0.000    0.592    0.006 notebook.py:255(__iter__)\n",
      "      203    0.000    0.000    0.000    0.000 utils.py:57(__init__)\n",
      "       74    0.000    0.000    0.002    0.000 traitlets.py:1308(hold_trait_notifications)\n",
      "      153    0.000    0.000    0.001    0.000 traitlets.py:2047(_resolve_classes)\n",
      "      203    0.000    0.000    0.000    0.000 {method 'release' of '_multiprocessing.SemLock' objects}\n",
      "        3    0.000    0.000    0.000    0.000 {built-in method torch.ones}\n",
      "      110    0.000    0.000    0.000    0.000 format.py:237(_has_metadata)\n",
      "      110    0.000    0.000    0.000    0.000 _internal.py:468(_view_is_safe)\n",
      "      203    0.000    0.000    0.000    0.000 {method 'acquire' of '_thread.RLock' objects}\n",
      "      203    0.000    0.000    0.000    0.000 {method 'release' of '_thread.RLock' objects}\n",
      "      100    0.000    0.000    0.001    0.000 {method 'max' of 'numpy.ndarray' objects}\n",
      "      100    0.000    0.000    0.001    0.000 _methods.py:38(_amax)\n",
      "      110    0.000    0.000    0.004    0.000 format.py:392(_wrap_header_guess_version)\n",
      "       55    0.000    0.000    0.033    0.001 <__array_function__ internals>:2(unique)\n",
      "       26    0.000    0.000    0.003    0.000 traitlets.py:1226(__init__)\n",
      "       22    0.000    0.000    0.001    0.000 configurable.py:125(<listcomp>)\n",
      "      110    0.000    0.000    0.000    0.000 {method 'transpose' of 'numpy.ndarray' objects}\n",
      "      110    0.000    0.000    0.000    0.000 {built-in method _struct.calcsize}\n",
      "      110    0.000    0.000    0.000    0.000 {method 'write' of '_io.BufferedWriter' objects}\n",
      "       85    0.000    0.000    0.000    0.000 traitlets.py:2027(validate)\n",
      "      110    0.000    0.000    0.000    0.000 format.py:191(_check_version)\n",
      "      110    0.000    0.000    0.000    0.000 {built-in method _struct.pack}\n",
      "     11/4    0.000    0.000    0.125    0.031 widget.py:490(open)\n",
      "       26    0.000    0.000    0.021    0.001 traitlets.py:1171(__new__)\n",
      "       33    0.000    0.000    0.001    0.000 traitlets.py:3224(instance_init)\n",
      "       11    0.000    0.000    0.018    0.002 configurable.py:50(__init__)\n",
      "       21    0.000    0.000    0.001    0.000 traitlets.py:2687(validate)\n",
      "      110    0.000    0.000    0.000    0.000 numeric.py:1460(<listcomp>)\n",
      "       11    0.000    0.000    0.014    0.001 configurable.py:156(_load_config)\n",
      "       11    0.000    0.000    0.013    0.001 comm.py:87(open)\n",
      "      110    0.000    0.000    0.000    0.000 npyio.py:454(_save_dispatcher)\n",
      "       33    0.000    0.000    0.000    0.000 traitlets.py:1495(observe)\n",
      "      110    0.000    0.000    0.000    0.000 {method 'insert' of 'list' objects}\n",
      "       55    0.000    0.000    0.000    0.000 arraysetops.py:125(_unpack_tuple)\n",
      "       11    0.000    0.000    0.000    0.000 uuid.py:138(__init__)\n",
      "      110    0.000    0.000    0.000    0.000 numeric.py:1394(_moveaxis_dispatcher)\n",
      "       33    0.000    0.000    0.000    0.000 loader.py:217(_is_section_key)\n",
      "       26    0.000    0.000    0.020    0.001 traitlets.py:1215(setup_instance)\n",
      "       31    0.000    0.000    0.000    0.000 traitlets.py:2718(instance_init)\n",
      "       44    0.000    0.000    0.000    0.000 traitlets.py:237(parse_notifier_name)\n",
      "       48    0.000    0.000    0.002    0.000 traitlets.py:2051(make_dynamic_default)\n",
      "       33    0.000    0.000    0.001    0.000 loader.py:309(_has_section)\n",
      "       11    0.000    0.000    0.003    0.000 configurable.py:131(_find_my_config)\n",
      "       11    0.000    0.000    0.035    0.003 comm.py:55(__init__)\n",
      "       32    0.000    0.000    0.000    0.000 widget.py:515(model_id)\n",
      "        6    0.000    0.000    0.000    0.000 {method 'masked_fill' of 'torch._C._TensorBase' objects}\n",
      "     11/4    0.000    0.000    0.126    0.032 widget.py:474(__init__)\n",
      "        1    0.000    0.000    0.242    0.242 models.py:775(init_population)\n",
      "       33    0.000    0.000    0.000    0.000 loader.py:296(__contains__)\n",
      "       33    0.000    0.000    0.000    0.000 traitlets.py:1433(_add_notifiers)\n",
      "       11    0.000    0.000    0.000    0.000 {built-in method posix.urandom}\n",
      "       11    0.000    0.000    0.001    0.000 widget.py:505(_comm_changed)\n",
      "       11    0.000    0.000    0.002    0.000 manager.py:43(register_comm)\n",
      "       22    0.000    0.000    0.000    0.000 loader.py:239(__init__)\n",
      "       22    0.000    0.000    0.001    0.000 configurable.py:122(section_names)\n",
      "       11    0.000    0.000    0.000    0.000 uuid.py:713(uuid4)\n",
      "       12    0.000    0.000    0.000    0.000 traitlets.py:1335(hold)\n",
      "     11/8    0.000    0.000    0.000    0.000 widget.py:51(_widget_to_json)\n",
      "       15    0.000    0.000    0.000    0.000 traitlets.py:2834(validate_elements)\n",
      "       22    0.000    0.000    0.000    0.000 traitlets.py:1147(instance_init)\n",
      "       55    0.000    0.000    0.000    0.000 arraysetops.py:133(_unique_dispatcher)\n",
      "       55    0.000    0.000    0.000    0.000 {built-in method numpy.ascontiguousarray}\n",
      "       18    0.000    0.000    0.000    0.000 traitlets.py:1557(_register_validator)\n",
      "       11    0.000    0.000    0.016    0.001 widget.py:461(_default_keys)\n",
      "       22    0.000    0.000    0.000    0.000 {method 'copy' of 'numpy.generic' objects}\n",
      "       11    0.000    0.000    0.001    0.000 comm.py:27(_default_comm_id)\n",
      "       22    0.000    0.000    0.000    0.000 traitlets.py:2449(validate)\n",
      "        1    0.000    0.000    0.141    0.141 notebook.py:210(__init__)\n",
      "       11    0.000    0.000    0.000    0.000 comm.py:20(_default_kernel)\n",
      "       12    0.000    0.000    0.000    0.000 traitlets.py:1603(set_trait)\n",
      "       21    0.000    0.000    0.000    0.000 traitlets.py:2699(validate_elements)\n",
      "        7    0.000    0.000    0.089    0.013 trait_types.py:167(make_dynamic_default)\n",
      "       18    0.000    0.000    0.000    0.000 traitlets.py:1155(instance_init)\n",
      "       11    0.000    0.000    0.000    0.000 traitlets.py:1525(unobserve)\n",
      "       11    0.000    0.000    0.000    0.000 comm.py:43(_default_topic)\n",
      "        1    0.000    0.000    0.002    0.002 zmqshell.py:80(publish)\n",
      "        1    0.000    0.000    0.000    0.000 std.py:846(__init__)\n",
      "       10    0.000    0.000    0.000    0.000 formatters.py:551(_in_deferred_types)\n",
      "        4    0.000    0.000    0.000    0.000 traitlets.py:2528(validate)\n",
      "       33    0.000    0.000    0.000    0.000 {method 'upper' of 'str' objects}\n",
      "        1    0.000    0.000    0.000    0.000 inspect.py:2907(_bind)\n",
      "      2/1    0.000    0.000    0.005    0.005 display_functions.py:105(display)\n",
      "       11    0.000    0.000    0.000    0.000 uuid.py:333(hex)\n",
      "       33    0.000    0.000    0.000    0.000 {function Config.__contains__ at 0x7f321733b1f0}\n",
      "        2    0.000    0.000    0.002    0.001 iostream.py:470(flush)\n",
      "       13    0.000    0.000    0.000    0.000 configurable.py:565(initialized)\n",
      "       11    0.000    0.000    0.001    0.000 comm.py:155(on_msg)\n",
      "        1    0.000    0.000    0.000    0.000 formatters.py:395(lookup_by_type)\n",
      "        1    0.000    0.000 1102.126 1102.126 {built-in method builtins.exec}\n",
      "       13    0.000    0.000    0.000    0.000 configurable.py:521(instance)\n",
      "       22    0.000    0.000    0.000    0.000 loader.py:243(_ensure_subconfig)\n",
      "        7    0.000    0.000    0.000    0.000 trait_types.py:161(validate)\n",
      "       11    0.000    0.000    0.000    0.000 traitlets.py:1446(_remove_notifiers)\n",
      "        3    0.000    0.000    0.000    0.000 {method 'float' of 'torch._C._TensorBase' objects}\n",
      "        1    0.000    0.000    0.131    0.131 notebook.py:104(status_printer)\n",
      "       11    0.000    0.000    0.000    0.000 traitlets.py:2332(validate)\n",
      "       11    0.000    0.000    0.000    0.000 {built-in method from_bytes}\n",
      "        2    0.000    0.000    0.000    0.000 <__array_function__ internals>:2(where)\n",
      "       11    0.000    0.000    0.000    0.000 widget.py:463(<listcomp>)\n",
      "        1    0.000    0.000    0.000    0.000 std.py:560(__new__)\n",
      "        1    0.000    0.000    0.000    0.000 {built-in method fcntl.ioctl}\n",
      "       11    0.000    0.000    0.000    0.000 {method 'count' of 'list' objects}\n",
      "        1    0.000    0.000    0.005    0.005 widget.py:789(_ipython_display_)\n",
      "        1    0.000    0.000    0.000    0.000 utils.py:282(_screen_shape_linux)\n",
      "       11    0.000    0.000    0.000    0.000 {method 'remove' of 'list' objects}\n",
      "      4/1    0.000    0.000    0.002    0.002 widget.py:775(_handle_displayed)\n",
      "        2    0.000    0.000    0.000    0.000 notebook.py:205(colour)\n",
      "       12    0.000    0.000    0.000    0.000 traitlets.py:1323(compress)\n",
      "        1    0.000    0.000    0.000    0.000 utils.py:222(_is_ascii)\n",
      "       11    0.000    0.000    0.000    0.000 widget.py:334(_call_widget_constructed)\n",
      "      4/1    0.000    0.000    0.002    0.002 widget.py:201(__call__)\n",
      "        3    0.000    0.000    0.000    0.000 traitlets.py:3182(validate)\n",
      "        1    0.000    0.000    0.005    0.005 formatters.py:906(__call__)\n",
      "        1    0.000    0.000    0.002    0.002 zmqshell.py:63(_flush_streams)\n",
      "       11    0.000    0.000    0.000    0.000 {built-in method builtins.ord}\n",
      "        1    0.000    0.000    0.000    0.000 inspect.py:2646(args)\n",
      "        1    0.000    0.000    0.000    0.000 utils.py:162(__init__)\n",
      "        1    0.000    0.000    0.141    0.141 auto.py:38(trange)\n",
      "        1    0.000    0.000    0.000    0.000 notebook.py:90(__repr__)\n",
      "        1    0.000    0.000    0.000    0.000 asyncio.py:23(__init__)\n",
      "        1    0.000    0.000    0.002    0.002 widget_box.py:67(_fire_children_displayed)\n",
      "        1    0.000    0.000    0.000    0.000 decorator.py:199(fix)\n",
      "        3    0.000    0.000    0.000    0.000 {built-in method utcfromtimestamp}\n",
      "        1    0.000    0.000 1102.126 1102.126 <string>:1(<module>)\n",
      "        1    0.000    0.000    0.000    0.000 std.py:576(_get_free_pos)\n",
      "        1    0.000    0.000    0.000    0.000 {method 'seed' of 'numpy.random.mtrand.RandomState' objects}\n",
      "        3    0.000    0.000    0.000    0.000 std.py:112(__enter__)\n",
      "        1    0.000    0.000    0.005    0.005 formatters.py:218(catch_format_error)\n",
      "        1    0.000    0.000    0.025    0.025 widget_box.py:62(__init__)\n",
      "        1    0.000    0.000    0.000    0.000 inspect.py:2699(apply_defaults)\n",
      "        2    0.000    0.000    0.000    0.000 _weakrefset.py:63(__iter__)\n",
      "        3    0.000    0.000    0.000    0.000 std.py:115(__exit__)\n",
      "        1    0.000    0.000    0.002    0.002 notebook.py:280(close)\n",
      "        1    0.000    0.000    0.000    0.000 formatters.py:372(lookup)\n",
      "        1    0.000    0.000    0.000    0.000 std.py:583(_decr_instances)\n",
      "        1    0.000    0.000    0.002    0.002 display_functions.py:45(publish_display_data)\n",
      "        1    0.000    0.000    0.000    0.000 std.py:1279(close)\n",
      "        2    0.000    0.000    0.000    0.000 {method 'remove' of 'set' objects}\n",
      "        1    0.000    0.000    0.000    0.000 _methods.py:46(_sum)\n",
      "        1    0.000    0.000    0.005    0.005 formatters.py:89(format)\n",
      "        2    0.000    0.000    0.067    0.034 widget_string.py:29(__init__)\n",
      "        1    0.000    0.000    0.000    0.000 std.py:188(__format__)\n",
      "        1    0.000    0.000    0.005    0.005 decorator.py:229(fun)\n",
      "        1    0.000    0.000    0.000    0.000 inspect.py:2669(kwargs)\n",
      "        1    0.000    0.000    0.000    0.000 widget.py:217(register_callback)\n",
      "        1    0.000    0.000    0.001    0.001 widget.py:653(on_displayed)\n",
      "        1    0.000    0.000    0.000    0.000 dir2.py:54(get_real_method)\n",
      "        3    0.000    0.000    0.000    0.000 traitlets.py:3189(validate_elements)\n",
      "        1    0.000    0.000    0.000    0.000 widget.py:55(<listcomp>)\n",
      "        2    0.000    0.000    0.000    0.000 std.py:1167(_comparable)\n",
      "        1    0.000    0.000    0.000    0.000 notebook.py:81(_repr_json_)\n",
      "        2    0.000    0.000    0.000    0.000 utils.py:136(disable_on_exception)\n",
      "        1    0.000    0.000    0.000    0.000 zmqshell.py:73(_hooks)\n",
      "        1    0.000    0.000    0.000    0.000 _weakrefset.py:53(_commit_removals)\n",
      "        3    0.000    0.000    0.000    0.000 utils.py:101(wrapper_setattr)\n",
      "        1    0.000    0.000    0.000    0.000 std.py:579(<setcomp>)\n",
      "        1    0.000    0.000    0.000    0.000 displaypub.py:43(_validate_data)\n",
      "        4    0.000    0.000    0.000    0.000 threading.py:1089(ident)\n",
      "        1    0.000    0.000    0.000    0.000 utils.py:296(<listcomp>)\n",
      "        2    0.000    0.000    0.000    0.000 utils.py:88(__getattr__)\n",
      "        3    0.000    0.000    0.000    0.000 std.py:228(__init__)\n",
      "        1    0.000    0.000    0.000    0.000 {method 'sum' of 'numpy.ndarray' objects}\n",
      "        2    0.000    0.000    0.000    0.000 std.py:1171(__hash__)\n",
      "        1    0.000    0.000    0.000    0.000 utils.py:215(_supports_unicode)\n",
      "        1    0.000    0.000    0.000    0.000 _monitor.py:94(report)\n",
      "        1    0.000    0.000    0.000    0.000 utils.py:74(__eq__)\n",
      "        2    0.000    0.000    0.000    0.000 multiarray.py:341(where)\n",
      "        1    0.000    0.000    0.000    0.000 _weakrefset.py:111(remove)\n",
      "        1    0.000    0.000    0.000    0.000 _weakrefset.py:27(__exit__)\n",
      "        2    0.000    0.000    0.000    0.000 utils.py:171(__eq__)\n",
      "        1    0.000    0.000    0.035    0.035 widget_float.py:23(__init__)\n",
      "        1    0.000    0.000    0.000    0.000 std.py:155(__init__)\n",
      "        3    0.000    0.000    0.000    0.000 {built-in method builtins.abs}\n",
      "        1    0.000    0.000    0.000    0.000 inspect.py:3038(bind)\n",
      "        1    0.000    0.000    0.000    0.000 utils.py:105(__init__)\n",
      "        3    0.000    0.000    0.000    0.000 {method 'items' of 'mappingproxy' objects}\n",
      "        1    0.000    0.000    0.000    0.000 formatters.py:357(_check_return)\n",
      "        1    0.000    0.000    0.000    0.000 _weakrefset.py:21(__enter__)\n",
      "        1    0.000    0.000    0.000    0.000 std.py:657(get_lock)\n",
      "        1    0.000    0.000    0.000    0.000 inspect.py:2638(__init__)\n",
      "        1    0.000    0.000    0.000    0.000 formatters.py:272(_get_type)\n",
      "        1    0.000    0.000    0.000    0.000 utils.py:201(_is_utf)\n",
      "        1    0.000    0.000    0.000    0.000 pretty.py:321(_get_mro)\n",
      "        1    0.000    0.000    0.000    0.000 iostream.py:311(fileno)\n",
      "        1    0.000    0.000    0.000    0.000 inspect.py:73(isclass)\n",
      "        1    0.000    0.000    0.000    0.000 {method 'disable' of '_lsprof.Profiler' objects}\n",
      "        1    0.000    0.000    0.000    0.000 _weakrefset.py:17(__init__)\n",
      "        1    0.000    0.000    0.000    0.000 {method 'difference' of 'set' objects}\n",
      "        1    0.000    0.000    0.000    0.000 std.py:169(colour)\n",
      "        1    0.000    0.000    0.000    0.000 utils.py:61(__format__)\n",
      "        1    0.000    0.000    0.000    0.000 jsonutil.py:52(encode_images)\n",
      "        1    0.000    0.000    0.000    0.000 utils.py:231(_screen_shape_wrapper)\n",
      "        1    0.000    0.000    0.000    0.000 {method 'pop' of 'list' objects}\n",
      "        1    0.000    0.000    0.000    0.000 std.py:165(colour)\n"
     ]
    }
   ],
   "source": [
    "print(open('prun0', 'r').read())"
   ]
  },
  {
   "cell_type": "code",
   "execution_count": null,
   "metadata": {},
   "outputs": [],
   "source": [
    "from ga_ner.models import GANER, Document, Corpus, Vocabulary, perfomance_by_doc\n",
    "# from ga_ner.utils.numba import select\n",
    "from evolution_rules import select\n",
    "ga_ner = GANER(\n",
    "    data=entity_dataset,\n",
    "    map_inv_entity=map_inv_entity,\n",
    "    n_population=400,\n",
    "    max_len=10,\n",
    "    mask_id=corpus_1.documents[0].mask_id,\n",
    "    unknown_id=corpus_1.documents[0].unk_id,\n",
    "    ml_model=trainer,\n",
    "    random_state=42,\n",
    "    n_top=100,\n",
    "    threshold=0.8,\n",
    "    select=select,\n",
    "    fitness=cpp_fitness,\n",
    "    num_threads=16,\n",
    ")\n",
    "ga_ner.train(max_iter=1000, tol=10, base_population=parent_population, num_islands=4, num_threads=16)"
   ]
  },
  {
   "cell_type": "code",
   "execution_count": 70,
   "metadata": {},
   "outputs": [],
   "source": [
    "# Save entity names of ga_entities in file\n",
    "with open(\"entity_names.txt\", \"w\") as file:\n",
    "    for entity in ga_ner.data.keys():\n",
    "        file.write(entity)\n",
    "        file.write(\"\\n\")"
   ]
  },
  {
   "cell_type": "code",
   "execution_count": 71,
   "metadata": {},
   "outputs": [
    {
     "name": "stdout",
     "output_type": "stream",
     "text": [
      "1 PER\n",
      "2 MISC\n",
      "3 ORG\n",
      "4 LOC\n",
      "0 ALL\n"
     ]
    }
   ],
   "source": [
    "for ent in  ga_ner.data.keys():\n",
    "    print(corpus_1.documents[0].vocab_ent[ent], ent)"
   ]
  },
  {
   "cell_type": "markdown",
   "metadata": {},
   "source": [
    "##### 3. Ner using genetic rules    "
   ]
  },
  {
   "cell_type": "code",
   "execution_count": 20,
   "metadata": {},
   "outputs": [],
   "source": [
    "# Get list of features of population by entity type\n",
    "# Use a document base to convert array to Feature using global index\n",
    "from ga_ner.models import Feature, Rule, Document, Vocabulary\n",
    "import numpy as np\n",
    "from typing import List, Dict, Tuple, Iterable"
   ]
  },
  {
   "cell_type": "code",
   "execution_count": 22,
   "metadata": {},
   "outputs": [],
   "source": [
    "entity_names = []\n",
    "with open(\"entity_names.txt\", \"r\") as file:\n",
    "    for line in file:\n",
    "        entity_names.append(line.strip())"
   ]
  },
  {
   "cell_type": "code",
   "execution_count": 23,
   "metadata": {},
   "outputs": [],
   "source": [
    "vocabulary = Vocabulary.from_file(\n",
    "    'data/vocabs/conn-2002-uncased-vocab.txt',\n",
    "    include_special=False)\n",
    "\n",
    "vocab_ent = Vocabulary.from_list(entity_names,include_special=False)\n",
    "\n",
    "document = Document.from_text(\"\", vocab=vocabulary, vocab_ent=vocab_ent)"
   ]
  },
  {
   "cell_type": "code",
   "execution_count": 25,
   "metadata": {},
   "outputs": [],
   "source": [
    "def get_features(\n",
    "    ga_pupulation:np.ndarray,\n",
    "    array_fitness:np.ndarray,\n",
    "    document: Document,\n",
    "    ) -> List[Rule]:\n",
    "    \"\"\"\n",
    "    Decode Ga rules to Rule object.\n",
    "    \"\"\"\n",
    "    rules = []\n",
    "    for index in range(ga_pupulation.shape[0]):\n",
    "        # firts element is the length of the rule\n",
    "        end_rule = int(ga_pupulation[index, 0]) + 3\n",
    "        entity_type = corpus_1.vocab_ent[ga_pupulation[index, 2]]\n",
    "        rules.append(\n",
    "            document.rule_from_array(\n",
    "                ga_pupulation[index, 3:end_rule],\n",
    "                entity_type,\n",
    "                array_fitness[index]\n",
    "                ))\n",
    "    return rules\n"
   ]
  },
  {
   "cell_type": "code",
   "execution_count": 30,
   "metadata": {},
   "outputs": [],
   "source": [
    "rules = []\n",
    "\n",
    "rules.extend(\n",
    "    get_features(\n",
    "        np.load(f\"best_population.npy\"),\n",
    "        np.load(f\"best_fitness.npy\"),\n",
    "        document\n",
    "        )\n",
    "    )"
   ]
  },
  {
   "cell_type": "code",
   "execution_count": 33,
   "metadata": {},
   "outputs": [],
   "source": [
    "# Read rules from file\n",
    "rules = np.zeros((0, 10), dtype=np.float32)\n",
    "with open(\"data/rules/mpi/population_8.txt\", \"r\") as file:\n",
    "    for line in file:\n",
    "        rules = np.vstack((rules, np.array(line.strip().split(\" \")).astype(np.float32)))\n",
    "rules = np.unique(rules, axis=0)"
   ]
  },
  {
   "cell_type": "code",
   "execution_count": 36,
   "metadata": {},
   "outputs": [],
   "source": [
    "np.random.seed(702)\n",
    "selected_indices = np.random.choice(samples_len, size=1000, replace=False)\n",
    "sample_is_complete = np.zeros(samples_len, dtype=bool)"
   ]
  },
  {
   "cell_type": "code",
   "execution_count": 37,
   "metadata": {},
   "outputs": [
    {
     "data": {
      "application/vnd.jupyter.widget-view+json": {
       "model_id": "d60361ef44e74a9fbdd8afc6c1fe9a29",
       "version_major": 2,
       "version_minor": 0
      },
      "text/plain": [
       "  0%|          | 0/1000 [00:00<?, ?it/s]"
      ]
     },
     "metadata": {},
     "output_type": "display_data"
    },
    {
     "name": "stderr",
     "output_type": "stream",
     "text": [
      "/home/jraba/Dev/gar-lener-es/env/lib/python3.9/site-packages/torch/amp/autocast_mode.py:198: UserWarning: User provided device_type of 'cuda', but CUDA is not available. Disabling\n",
      "  warnings.warn('User provided device_type of \\'cuda\\', but CUDA is not available. Disabling')\n"
     ]
    }
   ],
   "source": [
    "corpus = Corpus.from_spacy_docs(\n",
    "    sample_spacy_docs(spacy_ner_doc, selected_indices, sample_is_complete),\n",
    "    total_samples=len(selected_indices),\n",
    "    vocab=vocabulary,\n",
    "    vocab_ent=vocab_ent,\n",
    ")"
   ]
  },
  {
   "cell_type": "code",
   "execution_count": 38,
   "metadata": {},
   "outputs": [
    {
     "data": {
      "text/plain": [
       "1187"
      ]
     },
     "execution_count": 38,
     "metadata": {},
     "output_type": "execute_result"
    }
   ],
   "source": [
    "len(rules)"
   ]
  },
  {
   "cell_type": "code",
   "execution_count": 79,
   "metadata": {},
   "outputs": [],
   "source": [
    "def slice_doc(\n",
    "    doc: np.ndarray, rule: np.ndarray, unknown_id: int\n",
    "    ) -> Iterable[Tuple[int, int]]:\n",
    "        \"\"\"Return indices where entity is located in the document.\n",
    "        \"\"\"\n",
    "        rule_size: int = rule[0]\n",
    "        individual_data = rule[3:3+rule_size].reshape(-1, 1)\n",
    "        entity_mask: np.ndarray = individual_data > 0\n",
    "        mask_unknown: np.ndarray = individual_data == unknown_id\n",
    "\n",
    "        for index in range(0, doc[0] - rule_size + 2):\n",
    "            index_doc = index + 1\n",
    "            macth_tokens = np.zeros(rule_size, dtype=bool)\n",
    "            is_match = True\n",
    "            for index_rule in range(rule_size):\n",
    "                index_token = (index_doc+index_rule)*3\n",
    "                if is_match:\n",
    "                    if ((\n",
    "                        doc[index_token:index_token+3] == np.abs(individual_data[index_rule])).any() \n",
    "                        | (mask_unknown[index_rule])):\n",
    "                        macth_tokens[index_rule] = True\n",
    "                else:\n",
    "                    is_match = False\n",
    "            \n",
    "            if macth_tokens.all():\n",
    "                if rule_size == 1:\n",
    "                    yield index_doc, index_doc + 1\n",
    "                else:\n",
    "                    start_index = index_doc\n",
    "                    end_index = index_doc + 1\n",
    "                    for index_include in range(rule_size-1):\n",
    "                        if index_include == rule_size - 2 and individual_data[index_include + 1] > 0:\n",
    "                            end_index = index_doc + index_include + 2\n",
    "                            if not individual_data[index_include] > 0:\n",
    "                                start_index = index_doc + index_include+1\n",
    "                            yield start_index, end_index\n",
    "                        elif not individual_data[index_include] > 0:\n",
    "                            start_index = index_doc + index_include + 1\n",
    "                        elif not individual_data[index_include + 1] > 0:\n",
    "                            end_index = index_doc + index_include + 1\n",
    "                            yield start_index, end_index\n",
    "                            start_index = index_doc + index_include + 1\n",
    "                        elif index_include == rule_size - 2:\n",
    "                            end_index = index_doc + index_include + 2\n",
    "                            yield start_index, end_index\n",
    "                        else:\n",
    "                            end_index = index_doc + index_include + 1"
   ]
  },
  {
   "cell_type": "code",
   "execution_count": 80,
   "metadata": {},
   "outputs": [],
   "source": [
    "entity_map=np.array([\"O\"]+entity_names)"
   ]
  },
  {
   "cell_type": "markdown",
   "metadata": {},
   "source": [
    "##### Predict entities with ner rules"
   ]
  },
  {
   "cell_type": "code",
   "execution_count": 81,
   "metadata": {},
   "outputs": [],
   "source": [
    "def slice_doc(\n",
    "    doc: np.ndarray, rule: np.ndarray, unknown_id: int\n",
    "    ) -> Iterable[Tuple[int, int]]:\n",
    "        \"\"\"Return indices where entity is located in the document.\n",
    "        \"\"\"\n",
    "        rule_size: int = int(rule[0])\n",
    "        individual_data = rule[3:3+rule_size].reshape(-1, 1)\n",
    "        entity_mask: np.ndarray = individual_data > 0\n",
    "        mask_unknown: np.ndarray = individual_data == unknown_id\n",
    "\n",
    "        for index in range(0, doc[0] - rule_size + 2):\n",
    "            index_doc = index + 1\n",
    "            macth_tokens = np.zeros(rule_size, dtype=bool)\n",
    "            is_match = True\n",
    "            for index_rule in range(rule_size):\n",
    "                index_token = (index_doc+index_rule)*3\n",
    "                if is_match:\n",
    "                    if ((\n",
    "                        doc[index_token:index_token+3] == np.abs(individual_data[index_rule])).any() \n",
    "                        | (mask_unknown[index_rule])):\n",
    "                        macth_tokens[index_rule] = True\n",
    "                else:\n",
    "                    is_match = False\n",
    "            \n",
    "            if macth_tokens.all():\n",
    "                if rule_size == 1:\n",
    "                    yield index_doc, index_doc + 1\n",
    "                else:\n",
    "                    start_index = index_doc\n",
    "                    end_index = index_doc + 1\n",
    "                    for index_include in range(rule_size-1):\n",
    "                        if index_include == rule_size - 2 and individual_data[index_include + 1] > 0:\n",
    "                            end_index = index_doc + index_include + 2\n",
    "                            if not individual_data[index_include] > 0:\n",
    "                                start_index = index_doc + index_include+1\n",
    "                            yield start_index, end_index\n",
    "                        elif not individual_data[index_include] > 0:\n",
    "                            start_index = index_doc + index_include + 1\n",
    "                        elif not individual_data[index_include + 1] > 0:\n",
    "                            end_index = index_doc + index_include + 1\n",
    "                            yield start_index, end_index\n",
    "                            start_index = index_doc + index_include + 1\n",
    "                        elif index_include == rule_size - 2:\n",
    "                            end_index = index_doc + index_include + 2\n",
    "                            yield start_index, end_index\n",
    "                        else:\n",
    "                            end_index = index_doc + index_include + 1"
   ]
  },
  {
   "cell_type": "code",
   "execution_count": 82,
   "metadata": {},
   "outputs": [],
   "source": [
    "# plot confusion matrix normalized\n",
    "from sklearn.metrics import confusion_matrix\n",
    "from sklearn.metrics import classification_report\n",
    "import seaborn as sns\n",
    "import matplotlib.pyplot as plt\n",
    "import pandas as pd\n",
    "\n",
    "def print_cm(target, predict, labels, normalize=True):\n",
    "    cm = confusion_matrix(target, predict, labels=labels)\n",
    "    if normalize:\n",
    "        cm = cm.astype('float') / cm.sum(axis=1)[:, np.newaxis]\n",
    "    df_cm = pd.DataFrame(cm, index = labels,\n",
    "                      columns = labels)\n",
    "    plt.figure(figsize = (10,7))\n",
    "    sns.heatmap(df_cm, annot=True, fmt=\".2f\", cmap=\"Blues\")"
   ]
  },
  {
   "cell_type": "code",
   "execution_count": 137,
   "metadata": {},
   "outputs": [],
   "source": [
    "# Train a model with the best rules\n",
    "from sklearn.linear_model import SGDClassifier\n",
    "from sklearn.svm import LinearSVC, SVC\n",
    "\n",
    "# Train partial model with each document\n",
    "\n",
    "classifier = LinearSVC(\n",
    "    random_state=42,\n",
    "    #class_weight=\"balanced\",\n",
    "    class_weight={0:0.1,1:0.3,2:0.3,3:0.3},\n",
    "    tol=1e-3\n",
    "   )\n",
    "\n",
    "# classifier = SGDClassifier(\n",
    "#     loss=\"hinge\",\n",
    "#     random_state=42,\n",
    "#     class_weight=\"balanced\",\n",
    "#     tol=1e-3,\n",
    "#    )"
   ]
  },
  {
   "cell_type": "code",
   "execution_count": 193,
   "metadata": {},
   "outputs": [
    {
     "data": {
      "application/vnd.jupyter.widget-view+json": {
       "model_id": "c003b5d1b70945dba90c5d67f2745d87",
       "version_major": 2,
       "version_minor": 0
      },
      "text/plain": [
       "  0%|          | 0/266 [00:00<?, ?it/s]"
      ]
     },
     "metadata": {},
     "output_type": "display_data"
    },
    {
     "name": "stderr",
     "output_type": "stream",
     "text": [
      "/home/jraba/Dev/gar-lener-es/env/lib/python3.9/site-packages/sklearn/svm/_base.py:1225: ConvergenceWarning: Liblinear failed to converge, increase the number of iterations.\n",
      "  warnings.warn(\n"
     ]
    },
    {
     "name": "stdout",
     "output_type": "stream",
     "text": [
      "              precision    recall  f1-score   support\n",
      "\n",
      "         LOC       0.50      0.31      0.39       284\n",
      "        MISC       0.90      0.17      0.28       163\n",
      "           O       0.90      0.99      0.95      6101\n",
      "         ORG       0.71      0.17      0.28       327\n",
      "         PER       0.89      0.44      0.59       231\n",
      "\n",
      "    accuracy                           0.89      7106\n",
      "   macro avg       0.78      0.42      0.49      7106\n",
      "weighted avg       0.88      0.89      0.87      7106\n",
      "\n"
     ]
    },
    {
     "data": {
      "image/png": "[encoded data removed]",
      "text/plain": [
       "<Figure size 720x504 with 2 Axes>"
      ]
     },
     "metadata": {
      "needs_background": "light"
     },
     "output_type": "display_data"
    }
   ],
   "source": [
    "from tqdm.auto import tqdm\n",
    "target = []\n",
    "predict = []\n",
    "input_data_all = np.array([])\n",
    "target_data_all = np.array([], dtype=int)\n",
    "from sklearn.preprocessing import StandardScaler\n",
    "scaler = StandardScaler()\n",
    "\n",
    "for doc in tqdm(corpus_1.documents):\n",
    "    if len(doc.entities) == 0:\n",
    "        continue\n",
    "\n",
    "    array_rules = rules[:300]\n",
    "    log2_rules = np.log10(array_rules[:, 0])\n",
    "    array_doc = doc.to_array(exclude_label=True)\n",
    "    input_data = np.zeros((array_doc[0], len(array_rules)), dtype=float)\n",
    "    target_data = np.zeros(array_doc[0], dtype=int)\n",
    "    unk_id = doc.unk_id\n",
    "    # get rules for each entity\n",
    "    index_data = 0\n",
    "    target_data[:] = doc.to_entity_array()[2:-1]\n",
    "    target.extend(entity_map[doc.to_entity_array()[2:-1]].tolist())\n",
    "\n",
    "    #index_rules = np.argsort(np.load(f\"best_fitness.npy\"))[::-1]\n",
    "    #array_rules = np.load(f\"best_population.npy\")[index_rules][:200]\n",
    "    #array_fitness = np.load(f\"best_fitness.npy\")[index_rules][:200]\n",
    "    # get votes from rules\n",
    "    for index_rule in range(array_rules.shape[0]):\n",
    "        slices = slice_doc(array_doc, array_rules[index_rule], unk_id)\n",
    "        for start, end in slices:\n",
    "            # input_data[start:end, index_data] = array_fitness[index_rule]\n",
    "            input_data[start:end, index_data] = array_rules[index_rule, 2] # +log2_rules[index_rule]\n",
    "        index_data += 1\n",
    "    \n",
    "    # extend input data all with input data\n",
    "    input_data_all = np.vstack((input_data_all, input_data)) if input_data_all.size else input_data\n",
    "    target_data_all = np.concatenate((target_data_all, target_data))\n",
    "\n",
    "classifier.fit(input_data_all, target_data_all)\n",
    "predict.extend(entity_map[classifier.predict(input_data_all)].tolist())\n",
    "print(classification_report(target, predict))\n",
    "print_cm(target, predict, entity_map)"
   ]
  },
  {
   "cell_type": "code",
   "execution_count": 216,
   "metadata": {},
   "outputs": [],
   "source": [
    "# Predict with majority vote using the best rules\n",
    "predict = []\n",
    "for data in input_data_all:\n",
    "    unique, counts = np.unique(data, return_counts=True)\n",
    "    if len(unique) == 1:\n",
    "        predict.append(entity_map[int(unique[0])])\n",
    "    else:\n",
    "        predict.append(entity_map[int(unique[np.argmax(counts[1:])+1])].tolist())\n",
    "        "
   ]
  },
  {
   "cell_type": "code",
   "execution_count": 227,
   "metadata": {},
   "outputs": [
    {
     "name": "stdout",
     "output_type": "stream",
     "text": [
      "              precision    recall  f1-score   support\n",
      "\n",
      "         LOC       0.10      0.25      0.14       284\n",
      "        MISC       0.12      0.12      0.12       163\n",
      "           O       0.90      0.81      0.85      6101\n",
      "         ORG       0.23      0.17      0.19       327\n",
      "         PER       0.19      0.40      0.26       231\n",
      "\n",
      "    accuracy                           0.73      7106\n",
      "   macro avg       0.31      0.35      0.31      7106\n",
      "weighted avg       0.79      0.73      0.76      7106\n",
      "\n"
     ]
    },
    {
     "data": {
      "image/png": "[encoded data removed]",
      "text/plain": [
       "<Figure size 720x504 with 2 Axes>"
      ]
     },
     "metadata": {
      "needs_background": "light"
     },
     "output_type": "display_data"
    }
   ],
   "source": [
    "entity_map[target_data_all]\n",
    "print(classification_report(entity_map[target_data_all], predict))\n",
    "print_cm(entity_map[target_data_all], predict, entity_map)"
   ]
  },
  {
   "cell_type": "code",
   "execution_count": 224,
   "metadata": {},
   "outputs": [
    {
     "name": "stdout",
     "output_type": "stream",
     "text": [
      "              precision    recall  f1-score   support\n",
      "\n",
      "         LOC       0.10      0.25      0.14       284\n",
      "        MISC       0.12      0.12      0.12       163\n",
      "           O       0.90      0.81      0.85      6101\n",
      "         ORG       0.23      0.17      0.19       327\n",
      "         PER       0.19      0.40      0.26       231\n",
      "\n",
      "    accuracy                           0.73      7106\n",
      "   macro avg       0.31      0.35      0.31      7106\n",
      "weighted avg       0.79      0.73      0.76      7106\n",
      "\n"
     ]
    }
   ],
   "source": []
  },
  {
   "cell_type": "code",
   "execution_count": 195,
   "metadata": {},
   "outputs": [
    {
     "data": {
      "application/vnd.jupyter.widget-view+json": {
       "model_id": "6e1a961b19e843ab88b5b8c4f0cdfb51",
       "version_major": 2,
       "version_minor": 0
      },
      "text/plain": [
       "  0%|          | 0/1000 [00:00<?, ?it/s]"
      ]
     },
     "metadata": {},
     "output_type": "display_data"
    },
    {
     "name": "stdout",
     "output_type": "stream",
     "text": [
      "              precision    recall  f1-score   support\n",
      "\n",
      "         LOC       0.27      0.19      0.23       830\n",
      "        MISC       0.32      0.03      0.06       572\n",
      "           O       0.90      0.99      0.94     23199\n",
      "         ORG       0.43      0.10      0.16      1399\n",
      "         PER       0.72      0.32      0.44       977\n",
      "\n",
      "    accuracy                           0.88     26977\n",
      "   macro avg       0.53      0.33      0.37     26977\n",
      "weighted avg       0.84      0.88      0.84     26977\n",
      "\n"
     ]
    },
    {
     "data": {
      "image/png": "[encoded data removed]",
      "text/plain": [
       "<Figure size 720x504 with 2 Axes>"
      ]
     },
     "metadata": {
      "needs_background": "light"
     },
     "output_type": "display_data"
    }
   ],
   "source": [
    "target = []\n",
    "predict = []\n",
    "\n",
    "for doc in tqdm(corpus.documents):\n",
    "    if len(doc.entities) == 0:\n",
    "        continue\n",
    "\n",
    "    array_rules = rules[:300]\n",
    "    array_doc = doc.to_array(exclude_label=True)\n",
    "    input_data = np.zeros((array_doc[0], len(array_rules)), dtype=float)\n",
    "    target_data = np.zeros(array_doc[0], dtype=float)\n",
    "    unk_id = doc.unk_id\n",
    "    # get rules for each entity\n",
    "    index_data = 0\n",
    "    target_data[:] = doc.to_entity_array()[2:-1]\n",
    "    target.extend(entity_map[doc.to_entity_array()[2:-1]].tolist())\n",
    "\n",
    "    # for entity_index, entity in enumerate(entity_names, 1):\n",
    "    # array_rules = np.load(f\"best_population.npy\")\n",
    "    # array_fitness = np.load(f\"best_fitness.npy\")\n",
    "    \n",
    "    # get votes from rules\n",
    "    for index_rule in range(array_rules.shape[0]):\n",
    "        slices = slice_doc(array_doc, array_rules[index_rule], unk_id)\n",
    "        log2_rules = np.log10(array_rules[:, 0])\n",
    "        for start, end in slices:\n",
    "            # input_data[start:end, index_data] = array_fitness[index_rule]\n",
    "            input_data[start:end, index_data] = array_rules[index_rule, 2]# +log2_rules[index_rule]\n",
    "        index_data += 1\n",
    "    \n",
    "    predict.extend(entity_map[classifier.predict(input_data)].tolist())\n",
    "\n",
    "print(classification_report(target, predict))\n",
    "print_cm(target, predict, entity_map)"
   ]
  },
  {
   "cell_type": "code",
   "execution_count": 2,
   "metadata": {},
   "outputs": [
    {
     "name": "stdout",
     "output_type": "stream",
     "text": [
      "[(1, 1.0), (2, 1.6719849982419814), (3, 2.42244933537705), (4, 3.394441712536286), (5, 4.228881186044765), (6, 4.732803998761446), (8, 5.898214733615764)]\n"
     ]
    },
    {
     "data": {
      "image/png": "[encoded data removed]",
      "text/plain": [
       "<Figure size 432x288 with 1 Axes>"
      ]
     },
     "metadata": {
      "needs_background": "light"
     },
     "output_type": "display_data"
    }
   ],
   "source": [
    "# Plot speedup mpi from file\n",
    "\n",
    "import matplotlib.pyplot as plt\n",
    "import numpy as np\n",
    "import pandas as pd\n",
    "\n",
    "df_mpi = pd.read_csv(\"data/rules/mpi/time.txt\", sep=\",\", header=None)\n",
    "df_mpi.columns = [\"Num cores\", \"time\"]\n",
    "df_mpi[\"speedup\"] = df_mpi[\"time\"][0] / df_mpi[\"time\"]\n",
    "print([i for i in zip(df_mpi[\"Num cores\"],df_mpi[\"speedup\"])])\n",
    "\n",
    "plt.plot(df_mpi[\"Num cores\"], df_mpi[\"speedup\"], label=\"Speedup\")\n",
    "plt.xlabel(\"Number of cores\")\n",
    "plt.ylabel(\"Speedup\")\n",
    "plt.title(\"Speedup MPI\")\n",
    "plt.legend()\n",
    "plt.show()"
   ]
  },
  {
   "cell_type": "code",
   "execution_count": 3,
   "metadata": {},
   "outputs": [
    {
     "name": "stdout",
     "output_type": "stream",
     "text": [
      "[(4096, 180.56650167327933), (2048, 78.50409003487925), (1024, 38.359473162557144), (512, 23.497317094344577), (256, 12.897574457516708), (128, 6.791321324242438), (64, 4.570320063557711)]\n"
     ]
    },
    {
     "data": {
      "image/png": "[encoded data removed]",
      "text/plain": [
       "<Figure size 432x288 with 1 Axes>"
      ]
     },
     "metadata": {
      "needs_background": "light"
     },
     "output_type": "display_data"
    }
   ],
   "source": [
    "# Plot speedup cuda from file\n",
    "\n",
    "import matplotlib.pyplot as plt\n",
    "import numpy as np\n",
    "import pandas as pd\n",
    "\n",
    "df_cuda = pd.read_csv(\"data/rules/cuda/time.txt\", sep=\",\", header=None)\n",
    "df_cuda.columns = [\"Num threads\", \"time\"]\n",
    "df_cuda[\"speedup\"] = df_mpi[\"time\"][0] / df_cuda[\"time\"]\n",
    "print([i for i in zip(df_cuda[\"Num threads\"],df_cuda[\"speedup\"])])\n",
    "plt.plot(df_cuda[\"Num threads\"], df_cuda[\"speedup\"], label=\"Speedup\")\n",
    "plt.xlabel(\"Number of threads\")\n",
    "plt.ylabel(\"Speedup\")\n",
    "plt.title(\"Speedup CUDA\")\n",
    "plt.legend()\n",
    "plt.show()\n"
   ]
  },
  {
   "cell_type": "code",
   "execution_count": 8,
   "metadata": {},
   "outputs": [
    {
     "name": "stdout",
     "output_type": "stream",
     "text": [
      "[(1, 1.0), (2, 1.9151450447623743), (3, 2.5060519776903307), (4, 3.7249354066606433), (5, 4.586968827467744), (6, 4.965085200562017), (8, 5.670728764478765)]\n"
     ]
    },
    {
     "data": {
      "image/png": "[encoded data removed]",
      "text/plain": [
       "<Figure size 432x288 with 1 Axes>"
      ]
     },
     "metadata": {
      "needs_background": "light"
     },
     "output_type": "display_data"
    }
   ],
   "source": [
    "# Plot speedup cuda from file\n",
    "\n",
    "import matplotlib.pyplot as plt\n",
    "import numpy as np\n",
    "import pandas as pd\n",
    "\n",
    "df_cuda = pd.read_csv(\"data/rules/openmp/time.txt\", sep=\",\", header=None)\n",
    "df_cuda.columns = [\"Num threads\", \"time\"]\n",
    "df_cuda[\"speedup\"] = df_cuda[\"time\"][0] / df_cuda[\"time\"]\n",
    "print([i for i in zip(df_cuda[\"Num threads\"],df_cuda[\"speedup\"])])\n",
    "plt.plot(df_cuda[\"Num threads\"], df_cuda[\"speedup\"], label=\"Speedup\")\n",
    "plt.xlabel(\"Number of threads\")\n",
    "plt.ylabel(\"Speedup\")\n",
    "plt.title(\"Speedup OpenMP\")\n",
    "plt.legend()\n",
    "plt.show()"
   ]
  }
 ],
 "metadata": {
  "interpreter": {
   "hash": "58a42617e7e8ac5b5deb10f20d2ac009e9df1a8d2d4c12f179252e868903bd47"
  },
  "kernelspec": {
   "display_name": "Python 3.9.7 ('env': venv)",
   "language": "python",
   "name": "python3"
  },
  "language_info": {
   "codemirror_mode": {
    "name": "ipython",
    "version": 3
   },
   "file_extension": ".py",
   "mimetype": "text/x-python",
   "name": "python",
   "nbconvert_exporter": "python",
   "pygments_lexer": "ipython3",
   "version": "3.9.7"
  },
  "orig_nbformat": 4
 },
 "nbformat": 4,
 "nbformat_minor": 2
}
