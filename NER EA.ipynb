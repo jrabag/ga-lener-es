{
 "cells": [
  {
   "attachments": {},
   "cell_type": "markdown",
   "metadata": {},
   "source": [
    "# NER with Evolutionary Algorithms\n"
   ]
  },
  {
   "attachments": {},
   "cell_type": "markdown",
   "metadata": {},
   "source": [
    "- Take example of conll 2002 &check;\n",
    "- Transform example to Doument object\n",
    "  - Create vocabulary from corpus text\n",
    "  - Create vocabulary from corpus iob\n",
    "  - Create vocabulary from file &check;\n",
    "  - Create vocabulary from spacy\n",
    "  - Create vocabulary from conll2002 &check;\n",
    "  - Create vocabulary from spacy after preprocessing\n",
    "- Transform Document object to array &check;\n",
    "- Create text documents to WORD POS DEPREL\n",
    "  - Train neural network with word lemma pos deprel to predict next token\n",
    "- Generate rules using genetic algorithm\n",
    "  - Generate init population\n",
    "    - Create chromosome\n",
    "    - Select next token:\n",
    "      - Get transition data\n",
    "      - Filter samples evaluating their quality\n",
    "  - Create fitness function\n",
    "    - Evaluate fitness function\n",
    "  - Create mutation function\n",
    "    - Change token\n",
    "    - Change transition\n",
    "  - Create crossover function\n",
    "    - Change token\n",
    "    - Change transition\n",
    "  - Evaluate population\n",
    "    - Evaluate fitness\n",
    "    - Select best samples\n",
    "- Join rules\n",
    "  - Support vector machine\n"
   ]
  },
  {
   "attachments": {},
   "cell_type": "markdown",
   "metadata": {},
   "source": [
    "## Config\n"
   ]
  },
  {
   "cell_type": "code",
   "execution_count": 1,
   "metadata": {},
   "outputs": [],
   "source": [
    "%load_ext autoreload\n",
    "%autoreload 2"
   ]
  },
  {
   "cell_type": "code",
   "execution_count": 2,
   "metadata": {},
   "outputs": [],
   "source": [
    "# Load Glove model from zip file\n",
    "# from gensim.models  import  KeyedVectors\n",
    "\n",
    "# glove_model = KeyedVectors.load_word2vec_format(\"glove-sbwc.i25.vec.gz\", binary=False)\n"
   ]
  },
  {
   "cell_type": "code",
   "execution_count": 2,
   "metadata": {},
   "outputs": [],
   "source": [
    "from typing import List,TYPE_CHECKING,Iterable,Dict,Optional\n",
    "import numpy as np"
   ]
  },
  {
   "cell_type": "code",
   "execution_count": 4,
   "metadata": {},
   "outputs": [],
   "source": [
    "# from evolution_rules import cpp_perfomance_by_doc, cpp_fitness_by_individual, cpp_fitness, cosine_similarity\n"
   ]
  },
  {
   "cell_type": "code",
   "execution_count": 3,
   "metadata": {},
   "outputs": [],
   "source": [
    "import torch\n",
    "from transformers import AutoModel, AutoTokenizer"
   ]
  },
  {
   "cell_type": "code",
   "execution_count": 4,
   "metadata": {},
   "outputs": [],
   "source": [
    "model_path = \"symanto/sn-xlm-roberta-base-snli-mnli-anli-xnli\"\n",
    "cache_dir = \"/home/jraba/Dev/cache-ml-models\"\n",
    "tokenizer = AutoTokenizer.from_pretrained(model_path, cache_dir=cache_dir)\n",
    "model_ml = AutoModel.from_pretrained(model_path, cache_dir=cache_dir)"
   ]
  },
  {
   "cell_type": "code",
   "execution_count": 5,
   "metadata": {},
   "outputs": [],
   "source": [
    "from functools import lru_cache\n",
    "import torch.nn.functional as F\n",
    "\n",
    "embedding_size = 32\n",
    "\n",
    "@lru_cache(maxsize=1000)\n",
    "def get_ml_embedding(sentence: str) -> torch.Tensor:\n",
    "    def mean_pooling(model_output, attention_mask):\n",
    "        token_embeddings = model_output[0]\n",
    "        # First element of model_output contains all token embeddings\n",
    "        input_mask_expanded = (\n",
    "            attention_mask.unsqueeze(-1).expand(token_embeddings.size()).float()\n",
    "        )\n",
    "        return torch.sum(token_embeddings * input_mask_expanded, 1) / torch.clamp(\n",
    "            input_mask_expanded.sum(1), min=1e-9\n",
    "        )\n",
    "\n",
    "    encoded_input = tokenizer(\n",
    "        sentence,\n",
    "        padding=True,\n",
    "        truncation=True,\n",
    "        return_tensors=\"pt\",\n",
    "        max_length=8,\n",
    "    )\n",
    "    # Compute token embeddings\n",
    "    with torch.no_grad():\n",
    "        model_output = model_ml(**encoded_input)\n",
    "    # Perform pooling\n",
    "    sentence_embeddings = mean_pooling(model_output, encoded_input[\"attention_mask\"])\n",
    "    # Normalize embeddings\n",
    "    # sentence_embeddings = F.normalize(\n",
    "    #     sentence_embeddings.reshape(embedding_size, -1).mean(axis=1).expand(1, -1),\n",
    "    #     p=2,\n",
    "    #     dim=1,\n",
    "    # )\n",
    "    sentence_embeddings = sentence_embeddings.reshape(embedding_size, -1).mean(axis=1).expand(1, -1)\n",
    "    return sentence_embeddings[0]\n",
    "\n",
    "\n",
    "@lru_cache(maxsize=1000)\n",
    "def similarity(sentence1: str, sentence2: str) -> float:\n",
    "    vector1 = get_ml_embedding(sentence1)\n",
    "    vector2 = get_ml_embedding(sentence2)\n",
    "    return (vector1 @ vector2).sum() / (vector1.norm() * vector2.norm())"
   ]
  },
  {
   "cell_type": "code",
   "execution_count": 6,
   "metadata": {},
   "outputs": [
    {
     "data": {
      "text/plain": [
       "tensor(0.9238)"
      ]
     },
     "execution_count": 6,
     "metadata": {},
     "output_type": "execute_result"
    }
   ],
   "source": [
    "similarity(\"Hoon\", \"hoon\")"
   ]
  },
  {
   "cell_type": "code",
   "execution_count": 7,
   "metadata": {},
   "outputs": [
    {
     "data": {
      "text/plain": [
       "tensor(0.2040)"
      ]
     },
     "execution_count": 7,
     "metadata": {},
     "output_type": "execute_result"
    }
   ],
   "source": [
    "similarity(\"DET\", \"ROOT\")"
   ]
  },
  {
   "cell_type": "code",
   "execution_count": 8,
   "metadata": {},
   "outputs": [],
   "source": [
    "def get_ml_embeddings(sentence: List[str]) -> torch.Tensor:\n",
    "    return torch.stack([get_ml_embedding(s) for s in sentence])"
   ]
  },
  {
   "cell_type": "code",
   "execution_count": 9,
   "metadata": {},
   "outputs": [],
   "source": [
    "from ga_ner import linguistic_features as lf\n",
    "num_docs = 10"
   ]
  },
  {
   "attachments": {},
   "cell_type": "markdown",
   "metadata": {},
   "source": [
    "## Transform data\n"
   ]
  },
  {
   "cell_type": "code",
   "execution_count": 10,
   "metadata": {},
   "outputs": [],
   "source": [
    "from ga_ner.models import Vocabulary\n",
    "\n",
    "enconding = \"iso-8859-1\"\n",
    "vocab = Vocabulary.from_iob(\"data/train/esp.train.txt\", enconding, num_docs)"
   ]
  },
  {
   "cell_type": "code",
   "execution_count": 10,
   "metadata": {},
   "outputs": [],
   "source": [
    "vocab.to_file(\"data/vocabs/conn-2002-uncased-vocab.txt\")"
   ]
  },
  {
   "attachments": {},
   "cell_type": "markdown",
   "metadata": {},
   "source": [
    "### Evolutinary NER Rules\n"
   ]
  },
  {
   "attachments": {},
   "cell_type": "markdown",
   "metadata": {},
   "source": [
    "1. Take a example of conll 2002\n",
    "2. Create Ner rule with samples using genetic algorithm\n",
    "3. Label data with rules\n",
    "4. Train neural network with data labeled with rules\n",
    "5. Select samples with high precision\n",
    "6. repeat steps 2-5 with selected samples until precision is high enough\n"
   ]
  },
  {
   "cell_type": "code",
   "execution_count": 29,
   "metadata": {},
   "outputs": [],
   "source": [
    "import numpy as np\n",
    "from ga_ner.models import GANER, Document, Corpus, Vocabulary\n",
    "import spacy\n",
    "from spacy.tokens import DocBin\n",
    "\n",
    "if TYPE_CHECKING:\n",
    "    from spacy.tokens import Doc as SpacyDoc"
   ]
  },
  {
   "attachments": {},
   "cell_type": "markdown",
   "metadata": {},
   "source": [
    "### 1. Take a example of conll 2002\n",
    "\n",
    "1. Load conll2002 to spacy documents\n",
    "2. Load Vocabulary from conll2002\n",
    "3. Take random samples from spacy documents\n",
    "4. Convert Spacy models to Corpus object from samples\n"
   ]
  },
  {
   "attachments": {},
   "cell_type": "markdown",
   "metadata": {},
   "source": [
    "##### 1. Load conll2002 to spacy models\n"
   ]
  },
  {
   "cell_type": "code",
   "execution_count": 23,
   "metadata": {},
   "outputs": [],
   "source": [
    "nlp = spacy.load(\"es_dep_news_trf\", exclude=[\"ner\"])"
   ]
  },
  {
   "cell_type": "code",
   "execution_count": 24,
   "metadata": {},
   "outputs": [],
   "source": [
    "# Load spacy documents\n",
    "from spacy.training.converters import conll_ner_to_docs\n",
    "\n",
    "conll_file = \"data/train/esp.train.txt\"\n",
    "with open(conll_file, \"r\", encoding=\"iso-8859-1\") as file:\n",
    "    input_data = file.read()\n",
    "docs = conll_ner_to_docs(input_data, n_sents=1, no_print=False, model=\"es_dep_news_trf\")"
   ]
  },
  {
   "cell_type": "code",
   "execution_count": 40,
   "metadata": {},
   "outputs": [],
   "source": [
    "# Simple load\n",
    "spacy_ner_doc = list(docs)"
   ]
  },
  {
   "cell_type": "code",
   "execution_count": null,
   "metadata": {},
   "outputs": [],
   "source": [
    "# Add to spacy_ner_doc pos and dep tags\n",
    "\n",
    "for d in nlp.pipe(spacy_ner_doc, disable=[\"tok2vec\", \"tagger\", \"attribute_ruler\"]):\n",
    "    print([(t.text, t.pos_, t.dep_) for t in d])"
   ]
  },
  {
   "cell_type": "code",
   "execution_count": 36,
   "metadata": {},
   "outputs": [],
   "source": [
    "# Save to disk\n",
    "doc_bin = DocBin(\n",
    "    docs=nlp.pipe(\n",
    "        spacy_ner_doc, \n",
    "        disable=[\"tok2vec\", \"tagger\", \"attribute_ruler\"])\n",
    "    )\n",
    "doc_bin.to_disk(\"./data/ner_ea.spacy\")"
   ]
  },
  {
   "cell_type": "code",
   "execution_count": 38,
   "metadata": {},
   "outputs": [
    {
     "name": "stdout",
     "output_type": "stream",
     "text": [
      "Melbourne       PROPN      ROOT       LOC       \n",
      "(               PUNCT      punct                \n",
      "Australia       PROPN      flat       LOC       \n",
      ")               PUNCT      punct                \n",
      ",               PUNCT      punct                \n",
      "25              NUM        nummod               \n",
      "may             NOUN       appos                \n",
      "(               PUNCT      punct                \n",
      "EFE             PROPN      flat       ORG       \n",
      ")               PUNCT      punct                \n",
      ".               PUNCT      punct                \n",
      "-               PUNCT      ROOT                 \n",
      "El              DET        det                  \n",
      "Abogado         PROPN      nsubj      PER       \n",
      "General         PROPN      flat       PER       \n",
      "del             ADP        case       PER       \n",
      "Estado          PROPN      flat       PER       \n",
      ",               PUNCT      punct                \n",
      "Daryl           PROPN      flat       PER       \n",
      "Williams        PROPN      flat       PER       \n",
      ",               PUNCT      punct                \n",
      "subrayó         VERB       ROOT                 \n",
      "hoy             ADV        advmod               \n",
      "la              DET        det                  \n",
      "necesidad       NOUN       obj                  \n",
      "de              ADP        mark                 \n",
      "tomar           VERB       acl                  \n",
      "medidas         NOUN       obj                  \n",
      "para            ADP        mark                 \n",
      "proteger        VERB       acl                  \n",
      "al              ADP        case                 \n",
      "sistema         NOUN       obj                  \n",
      "judicial        ADJ        amod                 \n",
      "australiano     ADJ        amod                 \n",
      "frente          NOUN       case                 \n",
      "a               ADP        fixed                \n",
      "una             DET        det                  \n",
      "página          NOUN       obl                  \n",
      "de              ADP        case                 \n",
      "internet        NOUN       nmod                 \n",
      "que             PRON       nsubj                \n",
      "imposibilita    VERB       acl                  \n",
      "el              DET        det                  \n",
      "cumplimiento    NOUN       obj                  \n",
      "de              ADP        case                 \n",
      "los             DET        det                  \n",
      "principios      NOUN       nmod                 \n",
      "básicos         ADJ        amod                 \n",
      "de              ADP        case                 \n",
      "la              DET        det                  \n",
      "Ley             PROPN      nmod       MISC      \n",
      ".               PUNCT      punct                \n",
      "La              DET        det                  \n",
      "petición        NOUN       nsubj                \n",
      "del             ADP        case                 \n",
      "Abogado         PROPN      nmod       PER       \n",
      "General         PROPN      flat       PER       \n",
      "tiene           VERB       ROOT                 \n",
      "lugar           NOUN       compound             \n",
      "después         ADV        advmod               \n",
      "de              ADP        mark                 \n",
      "que             SCONJ      mark                 \n",
      "un              DET        det                  \n",
      "juez            NOUN       nsubj                \n",
      "del             ADP        case                 \n",
      "Tribunal        PROPN      nmod       ORG       \n",
      "Supremo         PROPN      flat       ORG       \n",
      "del             ADP        case                 \n",
      "estado          NOUN       nmod                 \n",
      "de              ADP        case                 \n",
      "Victoria        PROPN      nmod       LOC       \n",
      "(               PUNCT      punct                \n",
      "Australia       PROPN      flat       LOC       \n",
      ")               PUNCT      punct                \n",
      "se              PRON       expl:pv              \n",
      "viera           VERB       advcl                \n",
      "forzado         ADJ        obj                  \n",
      "a               ADP        mark                 \n",
      "disolver        VERB       xcomp                \n",
      "un              DET        det                  \n",
      "jurado          NOUN       obj                  \n",
      "popular         ADJ        amod                 \n",
      "y               CCONJ      cc                   \n",
      "suspender       VERB       conj                 \n",
      "el              DET        det                  \n",
      "proceso         NOUN       obj                  \n",
      "ante            ADP        case                 \n",
      "el              DET        det                  \n",
      "argumento       NOUN       obl                  \n",
      "de              ADP        case                 \n",
      "la              DET        det                  \n",
      "defensa         NOUN       nmod                 \n",
      "de              ADP        mark                 \n",
      "que             SCONJ      mark                 \n",
      "las             DET        det                  \n",
      "personas        NOUN       nsubj                \n",
      "que             PRON       nsubj                \n",
      "lo              PRON       obj                  \n",
      "componían       VERB       acl                  \n",
      "podían          AUX        aux                  \n",
      "haber           AUX        aux                  \n",
      "obtenido        VERB       acl                  \n",
      "información     NOUN       obj                  \n",
      "sobre           ADP        case                 \n",
      "el              DET        det                  \n",
      "acusado         NOUN       nmod                 \n",
      "a               ADP        case                 \n",
      "través          NOUN       fixed                \n",
      "de              ADP        fixed                \n",
      "la              DET        det                  \n",
      "página          NOUN       obl                  \n",
      "CrimeNet        PROPN      appos      MISC      \n",
      ".               PUNCT      punct                \n",
      "Esta            DET        det                  \n",
      "página          NOUN       nsubj                \n",
      "web             ADJ        amod                 \n",
      "lleva           VERB       ROOT                 \n",
      "un              DET        det                  \n",
      "mes             NOUN       obj                  \n",
      "de              ADP        case                 \n",
      "existencia      NOUN       nmod                 \n",
      ",               PUNCT      punct                \n",
      "tiempo          NOUN       appos                \n",
      "en              ADP        case                 \n",
      "el              DET        det                  \n",
      "que             PRON       obl                  \n",
      "ha              AUX        aux                  \n",
      "sido            AUX        aux                  \n",
      "visitada        VERB       acl                  \n",
      "en              ADP        case                 \n",
      "más             ADV        advmod               \n",
      "de              ADP        case                 \n",
      "un              NUM        nummod               \n",
      "millón          NOUN       obl                  \n",
      "de              ADP        case                 \n",
      "ocasiones       NOUN       nmod                 \n",
      ",               PUNCT      punct                \n",
      "y               CCONJ      cc                   \n",
      "facilita        VERB       conj                 \n",
      "información     NOUN       obj                  \n",
      "sobre           ADP        case                 \n",
      "miles           NUM        nummod               \n",
      "de              ADP        case                 \n",
      "crímenes        NOUN       nmod                 \n",
      "y               CCONJ      cc                   \n",
      "criminales      NOUN       conj                 \n",
      "ya              ADV        advmod               \n",
      "enjuiciados     ADJ        amod                 \n",
      "o               CCONJ      cc                   \n",
      "aún             ADV        advmod               \n",
      "perseguidos     ADJ        conj                 \n",
      ",               PUNCT      punct                \n",
      "datos           NOUN       conj                 \n",
      "que             PRON       nsubj                \n",
      "salen           VERB       acl                  \n",
      "de              ADP        case                 \n",
      "artículos       NOUN       obl                  \n",
      "de              ADP        case                 \n",
      "periódicos      NOUN       nmod                 \n",
      "y               CCONJ      cc                   \n",
      "archivos        NOUN       conj                 \n",
      "judiciales      ADJ        amod                 \n",
      ".               PUNCT      punct                \n"
     ]
    }
   ],
   "source": [
    "# load from disk\n",
    "# Load the DocBin from the file\n",
    "doc_bin_loaded = DocBin().from_disk(\"./data/ner_ea.spacy\")\n",
    "\n",
    "# Get the list of Spacy Docs from the DocBin\n",
    "docs_loaded = list(doc_bin_loaded.get_docs(nlp.vocab))\n",
    "\n",
    "# Print the text of each Spacy Doc\n",
    "for doc in docs_loaded[:5]:\n",
    "    for token in doc:\n",
    "        print(f\"{token.text:{15}} {token.pos_:{10}} {token.dep_:{10}} {token.ent_type_:{10}}\")"
   ]
  },
  {
   "cell_type": "code",
   "execution_count": 41,
   "metadata": {},
   "outputs": [],
   "source": [
    "# Load spacy documents\n",
    "from spacy.training.converters import conll_ner_to_docs\n",
    "\n",
    "conll_file = \"data/test/esp.testa.txt\"\n",
    "with open(conll_file, \"r\", encoding=\"iso-8859-1\") as file:\n",
    "    input_data = file.read()\n",
    "docs = conll_ner_to_docs(input_data, n_sents=1, no_print=False, model=\"es_dep_news_trf\")"
   ]
  },
  {
   "cell_type": "code",
   "execution_count": 42,
   "metadata": {},
   "outputs": [
    {
     "name": "stdout",
     "output_type": "stream",
     "text": [
      "\u001b[38;5;4mℹ Grouping every 1 sentences into a document.\u001b[0m\n",
      "\u001b[38;5;3m⚠ To generate better training data, you may want to group sentences\n",
      "into documents with `-n 10`.\u001b[0m\n"
     ]
    }
   ],
   "source": [
    "# Simple load\n",
    "spacy_ner_doc = list(docs)"
   ]
  },
  {
   "cell_type": "code",
   "execution_count": 44,
   "metadata": {},
   "outputs": [],
   "source": [
    "# Save to disk\n",
    "doc_bin = DocBin(\n",
    "    docs=nlp.pipe(\n",
    "        spacy_ner_doc, \n",
    "        disable=[\"tok2vec\", \"tagger\", \"attribute_ruler\"])\n",
    "    )\n",
    "doc_bin.to_disk(\"./data/validation.spacy\")"
   ]
  },
  {
   "cell_type": "code",
   "execution_count": 45,
   "metadata": {},
   "outputs": [
    {
     "name": "stdout",
     "output_type": "stream",
     "text": [
      "Sao             PROPN      ROOT       LOC       \n",
      "Paulo           PROPN      flat       LOC       \n",
      "(               PUNCT      punct                \n",
      "Brasil          PROPN      flat       LOC       \n",
      ")               PUNCT      punct                \n",
      ",               PUNCT      punct                \n",
      "23              NUM        nummod               \n",
      "may             NOUN       appos                \n",
      "(               PUNCT      punct                \n",
      "EFECOM          PROPN      flat       ORG       \n",
      ")               PUNCT      punct                \n",
      ".               PUNCT      punct                \n",
      "-               PUNCT      ROOT                 \n",
      "La              DET        det                  \n",
      "multinacional   NOUN       nsubj                \n",
      "española        ADJ        amod                 \n",
      "Telefónica      PROPN      appos      ORG       \n",
      "ha              AUX        aux                  \n",
      "impuesto        VERB       ccomp                \n",
      "un              DET        det                  \n",
      "récord          NOUN       obj                  \n",
      "mundial         ADJ        amod                 \n",
      "al              ADP        case                 \n",
      "poner           VERB       advcl                \n",
      "en              ADP        case                 \n",
      "servicio        NOUN       obl                  \n",
      "tres            NUM        nummod               \n",
      "millones        NOUN       obj                  \n",
      "de              ADP        case                 \n",
      "nuevas          ADJ        amod                 \n",
      "líneas          NOUN       nmod                 \n",
      "en              ADP        case                 \n",
      "el              DET        det                  \n",
      "estado          NOUN       obl                  \n",
      "brasileño       ADJ        amod                 \n",
      "de              ADP        case                 \n",
      "Sao             PROPN      nmod       LOC       \n",
      "Paulo           PROPN      flat       LOC       \n",
      "desde           ADP        mark                 \n",
      "que             SCONJ      mark                 \n",
      "asumió          VERB       advcl                \n",
      "el              DET        det                  \n",
      "control         NOUN       obj                  \n",
      "de              ADP        case                 \n",
      "la              DET        det                  \n",
      "operadora       NOUN       nmod                 \n",
      "Telesp          PROPN      appos      ORG       \n",
      "hace            VERB       advcl                \n",
      "20              NUM        nummod               \n",
      "meses           NOUN       obj                  \n",
      ",               PUNCT      punct                \n",
      "anunció         VERB       ROOT                 \n",
      "hoy             ADV        advmod               \n",
      "el              DET        det                  \n",
      "presidente      NOUN       nsubj                \n",
      "de              ADP        case                 \n",
      "Telefónica      PROPN      nmod       ORG       \n",
      "do              ADP        case       ORG       \n",
      "Brasil          PROPN      flat       ORG       \n",
      ",               PUNCT      punct                \n",
      "Fernando        PROPN      appos      PER       \n",
      "Xavier          PROPN      flat       PER       \n",
      "Ferreira        PROPN      flat       PER       \n",
      ".               PUNCT      punct                \n",
      "En              ADP        case                 \n",
      "un              DET        det                  \n",
      "balance         NOUN       obl                  \n",
      "que             PRON       obj                  \n",
      "hizo            VERB       acl                  \n",
      "de              ADP        case                 \n",
      "la              DET        det                  \n",
      "gestión         NOUN       obj                  \n",
      "de              ADP        case                 \n",
      "Telefónica      PROPN      nmod       ORG       \n",
      "en              ADP        case                 \n",
      "Sao             PROPN      nmod       LOC       \n",
      "Paulo           PROPN      flat       LOC       \n",
      "desde           ADP        case                 \n",
      "agosto          NOUN       obl                  \n",
      "de              ADP        case                 \n",
      "1998            NUM        compound             \n",
      ",               PUNCT      punct                \n",
      "Ferreira        PROPN      nsubj      PER       \n",
      "subrayó         VERB       ROOT                 \n",
      "que             SCONJ      mark                 \n",
      "la              DET        det                  \n",
      "empresa         NOUN       nsubj                \n",
      "ha              AUX        aux                  \n",
      "cumplido        VERB       ccomp                \n",
      "todas           DET        det                  \n",
      "las             DET        det                  \n",
      "metas           NOUN       obj                  \n",
      "fijadas         ADJ        amod                 \n",
      "por             ADP        case                 \n",
      "el              DET        det                  \n",
      "órgano          NOUN       obj                  \n",
      "regulador       ADJ        amod                 \n",
      "del             ADP        case                 \n",
      "sector          NOUN       nmod                 \n",
      ",               PUNCT      punct                \n",
      "la              DET        det                  \n",
      "Agencia         PROPN      appos      ORG       \n",
      "Nacional        PROPN      flat       ORG       \n",
      "de              ADP        case       ORG       \n",
      "Telecomunicaciones PROPN      flat       ORG       \n",
      "(               PUNCT      punct                \n",
      "ANATEL          PROPN      flat       ORG       \n",
      ")               PUNCT      punct                \n",
      ",               PUNCT      punct                \n",
      "en              ADP        case                 \n",
      "cuanto          NOUN       fixed                \n",
      "a               ADP        fixed                \n",
      "universalización NOUN       nmod                 \n",
      "y               CCONJ      cc                   \n",
      "calidad         NOUN       conj                 \n",
      "del             ADP        case                 \n",
      "servicio        NOUN       nmod                 \n",
      "prestado        ADJ        amod                 \n",
      ".               PUNCT      punct                \n",
      "\"               PUNCT      punct                \n",
      "Telefónica      PROPN      nsubj      ORG       \n",
      "asumió          VERB       ccomp                \n",
      "un              DET        det                  \n",
      "compromiso      NOUN       obj                  \n",
      "con             ADP        case                 \n",
      "Brasil          PROPN      nmod       LOC       \n",
      ",               PUNCT      punct                \n",
      "y               CCONJ      cc                   \n",
      "en              ADP        conj                 \n",
      "especial        ADJ        fixed                \n",
      "con             ADP        case                 \n",
      "Sao             PROPN      nmod       LOC       \n",
      "Paulo           PROPN      flat       LOC       \n",
      "en              ADP        case                 \n",
      "1998            NOUN       obl                  \n",
      "(               PUNCT      punct                \n",
      "año             NOUN       appos                \n",
      "de              ADP        case                 \n",
      "privatización   NOUN       nmod                 \n",
      "del             ADP        case                 \n",
      "sistema         NOUN       nmod                 \n",
      "Telebras        PROPN      appos      MISC      \n",
      ")               PUNCT      punct                \n",
      "y               CCONJ      cc                   \n",
      "estamos         VERB       conj                 \n",
      "aquí            ADV        advmod               \n",
      "para            ADP        mark                 \n",
      "prestar         VERB       advcl                \n",
      "cuentas         NOUN       obj                  \n",
      "\"               PUNCT      punct                \n",
      ",               PUNCT      punct                \n",
      "dijo            VERB       ROOT                 \n",
      "Ferreira        PROPN      nsubj      PER       \n",
      "en              ADP        case                 \n",
      "el              DET        det                  \n",
      "acto            NOUN       obl                  \n",
      "de              ADP        case                 \n",
      "instalación     NOUN       nmod                 \n",
      "de              ADP        case                 \n",
      "la              DET        det                  \n",
      "línea           NOUN       nmod                 \n",
      "número          NOUN       appos                \n",
      "tres            NUM        nummod               \n",
      "millones        NOUN       appos                \n",
      "de              ADP        case                 \n",
      "la              DET        det                  \n",
      "gestión         NOUN       nmod                 \n",
      "de              ADP        case                 \n",
      "Telefónica      PROPN      nmod       ORG       \n",
      ".               PUNCT      punct                \n"
     ]
    }
   ],
   "source": [
    "# load from disk\n",
    "# Load the DocBin from the file\n",
    "doc_bin_loaded = DocBin().from_disk(\"./data/validation.spacy\")\n",
    "\n",
    "# Get the list of Spacy Docs from the DocBin\n",
    "docs_loaded = list(doc_bin_loaded.get_docs(nlp.vocab))\n",
    "\n",
    "# Print the text of each Spacy Doc\n",
    "for doc in docs_loaded[:5]:\n",
    "    for token in doc:\n",
    "        print(f\"{token.text:{15}} {token.pos_:{10}} {token.dep_:{10}} {token.ent_type_:{10}}\")"
   ]
  },
  {
   "cell_type": "code",
   "execution_count": 46,
   "metadata": {},
   "outputs": [],
   "source": [
    "# Load spacy documents\n",
    "from spacy.training.converters import conll_ner_to_docs\n",
    "\n",
    "conll_file = \"data/test/esp.testb.txt\"\n",
    "with open(conll_file, \"r\", encoding=\"iso-8859-1\") as file:\n",
    "    input_data = file.read()\n",
    "docs = conll_ner_to_docs(input_data, n_sents=1, no_print=False, model=\"es_dep_news_trf\")"
   ]
  },
  {
   "cell_type": "code",
   "execution_count": 47,
   "metadata": {},
   "outputs": [
    {
     "name": "stdout",
     "output_type": "stream",
     "text": [
      "\u001b[38;5;4mℹ Grouping every 1 sentences into a document.\u001b[0m\n",
      "\u001b[38;5;3m⚠ To generate better training data, you may want to group sentences\n",
      "into documents with `-n 10`.\u001b[0m\n"
     ]
    }
   ],
   "source": [
    "# Simple load\n",
    "spacy_ner_doc = list(docs)"
   ]
  },
  {
   "cell_type": "code",
   "execution_count": 48,
   "metadata": {},
   "outputs": [],
   "source": [
    "# Save to disk\n",
    "doc_bin = DocBin(\n",
    "    docs=nlp.pipe(\n",
    "        spacy_ner_doc, \n",
    "        disable=[\"tok2vec\", \"tagger\", \"attribute_ruler\"])\n",
    "    )\n",
    "doc_bin.to_disk(\"./data/test.spacy\")"
   ]
  },
  {
   "cell_type": "code",
   "execution_count": 49,
   "metadata": {},
   "outputs": [
    {
     "name": "stdout",
     "output_type": "stream",
     "text": [
      "La              DET        det        LOC       \n",
      "Coruña          PROPN      ROOT       LOC       \n",
      ",               PUNCT      punct                \n",
      "23              NUM        appos                \n",
      "may             NOUN       dep                  \n",
      "(               PUNCT      punct                \n",
      "EFECOM          PROPN      appos      ORG       \n",
      ")               PUNCT      punct                \n",
      ".               PUNCT      punct                \n",
      "-               PUNCT      ROOT                 \n",
      "Las             DET        det                  \n",
      "reservas        NOUN       nsubj                \n",
      "\"               PUNCT      punct                \n",
      "on              ADJ        amod                 \n",
      "line            ADJ        amod                 \n",
      "\"               PUNCT      punct                \n",
      "de              ADP        case                 \n",
      "billetes        NOUN       nmod                 \n",
      "aéreos          ADJ        amod                 \n",
      "a               ADP        case                 \n",
      "través          NOUN       fixed                \n",
      "de              ADP        fixed                \n",
      "Internet        PROPN      nmod       MISC      \n",
      "aumentaron      VERB       ccomp                \n",
      "en              ADP        case                 \n",
      "España          PROPN      obl        LOC       \n",
      "un              DET        det                  \n",
      "300             NUM        obj                  \n",
      "por             ADP        case                 \n",
      "ciento          NUM        compound             \n",
      "en              ADP        case                 \n",
      "el              DET        det                  \n",
      "primer          ADJ        amod                 \n",
      "trimestre       NOUN       obl                  \n",
      "de              ADP        case                 \n",
      "este            DET        det                  \n",
      "año             NOUN       nmod                 \n",
      "con             ADP        case                 \n",
      "respecto        NOUN       fixed                \n",
      "al              DET        det                  \n",
      "mismo           DET        det                  \n",
      "período         NOUN       obl                  \n",
      "de              ADP        case                 \n",
      "1999            NOUN       nmod                 \n",
      ",               PUNCT      punct                \n",
      "aseguró         VERB       ROOT                 \n",
      "hoy             ADV        advmod               \n",
      "Iñigo           PROPN      nsubj      PER       \n",
      "García          PROPN      flat       PER       \n",
      "Aranda          PROPN      flat       PER       \n",
      ",               PUNCT      punct                \n",
      "responsable     NOUN       appos                \n",
      "de              ADP        case                 \n",
      "comunicación    NOUN       nmod                 \n",
      "de              ADP        case                 \n",
      "Savia           PROPN      nmod       ORG       \n",
      "Amadeus         PROPN      flat       ORG       \n",
      ".               PUNCT      punct                \n",
      "García          PROPN      nsubj      PER       \n",
      "Aranda          PROPN      flat       PER       \n",
      "presentó        VERB       ROOT                 \n",
      "a               ADP        case                 \n",
      "la              DET        det                  \n",
      "prensa          NOUN       obj                  \n",
      "el              DET        det                  \n",
      "sistema         NOUN       obj                  \n",
      "Amadeus         PROPN      appos      MISC      \n",
      ",               PUNCT      punct                \n",
      "que             PRON       obj                  \n",
      "utilizan        VERB       acl                  \n",
      "la              DET        det                  \n",
      "mayor           ADJ        amod                 \n",
      "parte           NOUN       nsubj                \n",
      "de              ADP        case                 \n",
      "las             DET        det                  \n",
      "agencias        NOUN       nmod                 \n",
      "de              ADP        case                 \n",
      "viajes          NOUN       nmod                 \n",
      "españolas       ADJ        amod                 \n",
      "para            ADP        mark                 \n",
      "reservar        VERB       advcl                \n",
      "billetes        NOUN       obj                  \n",
      "de              ADP        case                 \n",
      "avión           NOUN       nmod                 \n",
      "o               CCONJ      cc                   \n",
      "tren            NOUN       conj                 \n",
      ",               PUNCT      punct                \n",
      "así             ADV        cc                   \n",
      "como            SCONJ      fixed                \n",
      "plazas          NOUN       conj                 \n",
      "de              ADP        case                 \n",
      "hotel           NOUN       nmod                 \n",
      ",               PUNCT      punct                \n",
      "y               CCONJ      cc                   \n",
      "que             PRON       obj                  \n",
      "ahora           ADV        advmod               \n",
      "pueden          AUX        aux                  \n",
      "utilizar        VERB       conj                 \n",
      "también         ADV        advmod               \n",
      "los             DET        det                  \n",
      "usuarios        NOUN       nsubj                \n",
      "finales         ADJ        amod                 \n",
      "a               ADP        case                 \n",
      "través          NOUN       fixed                \n",
      "de              ADP        fixed                \n",
      "Internet        PROPN      nmod       MISC      \n",
      ".               PUNCT      punct                \n",
      "Los             DET        det                  \n",
      "clientes        NOUN       nsubj                \n",
      "pueden          AUX        aux                  \n",
      "utilizar        VERB       xcomp                \n",
      "el              DET        det                  \n",
      "portal          NOUN       obj                  \n",
      "\"               PUNCT      punct                \n",
      "viajesydestinos.com PROPN      appos      MISC      \n",
      "\"               PUNCT      punct                \n",
      ",               PUNCT      punct                \n",
      "que             PRON       nsubj                \n",
      "el              DET        det                  \n",
      "pasado          ADJ        amod                 \n",
      "año             NOUN       obl                  \n",
      "recibió         VERB       acl                  \n",
      "ya              ADV        advmod               \n",
      "más             ADV        advmod               \n",
      "de              ADP        case                 \n",
      "medio           NUM        nummod               \n",
      "millón          NOUN       obj                  \n",
      "de              ADP        case                 \n",
      "visitas         NOUN       nmod                 \n",
      "de              ADP        case                 \n",
      "Internautas     PROPN      nmod       MISC      \n",
      ",               PUNCT      punct                \n",
      "para            ADP        mark                 \n",
      "consultar       VERB       advcl                \n",
      "tarifas         NOUN       obj                  \n",
      "de              ADP        case                 \n",
      "billetes        NOUN       nmod                 \n",
      "de              ADP        case                 \n",
      "transporte      NOUN       nmod                 \n",
      ",               PUNCT      punct                \n",
      "plazas          NOUN       conj                 \n",
      "hoteleras       ADJ        amod                 \n",
      "o               CCONJ      cc                   \n",
      "paquetes        NOUN       conj                 \n",
      "turísticos      ADJ        amod                 \n",
      ",               PUNCT      punct                \n",
      "aunque          SCONJ      mark                 \n",
      "la              DET        det                  \n",
      "venta           NOUN       nsubj                \n",
      "final           ADJ        amod                 \n",
      "corre           VERB       advcl                \n",
      "siempre         ADV        advmod               \n",
      "a               ADP        case                 \n",
      "cargo           NOUN       fixed                \n",
      "de              ADP        fixed                \n",
      "una             DET        det                  \n",
      "agencia         NOUN       obl                  \n",
      "de              ADP        case                 \n",
      "viajes          NOUN       nmod                 \n",
      ",               PUNCT      punct                \n",
      "explicó         VERB       ROOT                 \n",
      "el              DET        det                  \n",
      "responsable     NOUN       nsubj                \n",
      "de              ADP        case                 \n",
      "Savia           PROPN      nmod       ORG       \n",
      "Amadeus         PROPN      flat       ORG       \n",
      ".               PUNCT      punct                \n"
     ]
    }
   ],
   "source": [
    "# load from disk\n",
    "# Load the DocBin from the file\n",
    "doc_bin_loaded = DocBin().from_disk(\"./data/test.spacy\")\n",
    "\n",
    "# Get the list of Spacy Docs from the DocBin\n",
    "docs_loaded = list(doc_bin_loaded.get_docs(nlp.vocab))\n",
    "\n",
    "# Print the text of each Spacy Doc\n",
    "for doc in docs_loaded[:5]:\n",
    "    for token in doc:\n",
    "        print(f\"{token.text:{15}} {token.pos_:{10}} {token.dep_:{10}} {token.ent_type_:{10}}\")"
   ]
  },
  {
   "cell_type": "code",
   "execution_count": 26,
   "metadata": {},
   "outputs": [
    {
     "data": {
      "text/plain": [
       "8323"
      ]
     },
     "execution_count": 26,
     "metadata": {},
     "output_type": "execute_result"
    }
   ],
   "source": [
    "samples_len = len(spacy_ner_doc)\n",
    "samples_len"
   ]
  },
  {
   "attachments": {},
   "cell_type": "markdown",
   "metadata": {},
   "source": [
    "##### 2. Load Vocabulary from conll2002\n"
   ]
  },
  {
   "cell_type": "code",
   "execution_count": 27,
   "metadata": {},
   "outputs": [],
   "source": [
    "vocabulary = Vocabulary.from_file(\n",
    "    \"data/vocabs/conn-2002-uncased-vocab.txt\", include_special=False\n",
    ")"
   ]
  },
  {
   "attachments": {},
   "cell_type": "markdown",
   "metadata": {},
   "source": [
    "2784 = Vocab\n",
    "\n",
    "62 = Dep\n",
    "\n",
    "19 = POS\n",
    "\n",
    "2703 = Word\n"
   ]
  },
  {
   "attachments": {},
   "cell_type": "markdown",
   "metadata": {},
   "source": [
    "##### 3. Take random samples from spacy documents\n"
   ]
  },
  {
   "cell_type": "code",
   "execution_count": 17,
   "metadata": {},
   "outputs": [],
   "source": [
    "sample_is_complete_1 = np.zeros(samples_len, dtype=bool)"
   ]
  },
  {
   "cell_type": "code",
   "execution_count": 18,
   "metadata": {},
   "outputs": [],
   "source": [
    "np.random.seed(42)\n",
    "selected_indices = np.random.choice(samples_len, size=samples_len, replace=False)\n",
    "# selected_indices_1 = selected_indices[:10]"
   ]
  },
  {
   "cell_type": "code",
   "execution_count": 19,
   "metadata": {},
   "outputs": [
    {
     "data": {
      "text/plain": [
       "8323"
      ]
     },
     "execution_count": 19,
     "metadata": {},
     "output_type": "execute_result"
    }
   ],
   "source": [
    "samples_len"
   ]
  },
  {
   "cell_type": "code",
   "execution_count": 20,
   "metadata": {},
   "outputs": [],
   "source": [
    "#  Select index based in entity type\n",
    "# Count number of entities by type\n",
    "from collections import Counter\n",
    "\n",
    "entity_counter = Counter()\n",
    "\n",
    "for doc in spacy_ner_doc:\n",
    "    for ent in doc.ents:\n",
    "        entity_counter[ent.label_] += 1\n",
    "\n",
    "# Normalize\n",
    "total_entities = sum(entity_counter.values())\n",
    "for k in entity_counter:\n",
    "    entity_counter[k] = entity_counter[k] / total_entities\n",
    "\n",
    "# Select indices\n",
    "# Add index if entity type is less proporcional\n",
    "# Selected indices remove\n",
    "# Do until all entity types are selected\n",
    "selected_indexes_stratified = []\n",
    "was_selected = np.zeros(samples_len, dtype=bool)\n",
    "entity_selected_counter = Counter()\n",
    "while not was_selected.all():\n",
    "    for i in selected_indices:\n",
    "        doc = spacy_ner_doc[i]\n",
    "        if not was_selected[i]:\n",
    "            if len(doc.ents)==0:\n",
    "                was_selected[i] = True\n",
    "                continue\n",
    "            total_selected = sum(entity_selected_counter.values())\n",
    "            if total_selected==0 or entity_selected_counter[doc.ents[0].label_]/total_selected < entity_counter[doc.ents[0].label_]:\n",
    "                selected_indexes_stratified.append(i)\n",
    "                for ent in doc.ents:\n",
    "                    was_selected[i] = True\n",
    "                    entity_selected_counter[ent.label_] += 1"
   ]
  },
  {
   "cell_type": "code",
   "execution_count": 21,
   "metadata": {},
   "outputs": [
    {
     "data": {
      "text/plain": [
       "Counter({'LOC': 0.26141078838174275,\n",
       "         'ORG': 0.39312692839663793,\n",
       "         'PER': 0.2298648792424726,\n",
       "         'MISC': 0.11559740397914672})"
      ]
     },
     "execution_count": 21,
     "metadata": {},
     "output_type": "execute_result"
    }
   ],
   "source": [
    "entity_counter"
   ]
  },
  {
   "cell_type": "code",
   "execution_count": 22,
   "metadata": {},
   "outputs": [
    {
     "data": {
      "text/plain": [
       "[7000, 1346, 5204, 4952, 7423, 4509, 7468, 533, 4619, 1385]"
      ]
     },
     "execution_count": 22,
     "metadata": {},
     "output_type": "execute_result"
    }
   ],
   "source": [
    "selected_indices_1 = selected_indexes_stratified[:10]\n",
    "selected_indices_1"
   ]
  },
  {
   "attachments": {},
   "cell_type": "markdown",
   "metadata": {},
   "source": [
    "##### 4. Convert Spacy models to Corpus object\n"
   ]
  },
  {
   "cell_type": "code",
   "execution_count": 23,
   "metadata": {},
   "outputs": [],
   "source": [
    "def sample_spacy_docs(\n",
    "    docs: List[\"SpacyDoc\"],\n",
    "    selected_indices: Iterable[int],\n",
    "    sample_is_complete: Iterable[int],\n",
    ") -> Iterable[\"SpacyDoc\"]:\n",
    "    \"\"\"\n",
    "    Sample a list of spacy documents of selected index.\n",
    "    If doc is not complete, it will be completed in spacy pipeline.\n",
    "    \"\"\"\n",
    "    spacy_models = [\n",
    "        docs[index] for index in selected_indices if not sample_is_complete[index]\n",
    "    ]\n",
    "\n",
    "    # Complement spacy documents\n",
    "    spacy_models = list(\n",
    "        nlp.pipe(spacy_models, disable=[\"tok2vec\", \"tagger\", \"attribute_ruler\"])\n",
    "    )\n",
    "\n",
    "    # Reassign spacy document\n",
    "    index_doc = 0\n",
    "    for index in selected_indices:\n",
    "        if not sample_is_complete[index]:\n",
    "            spacy_models[index_doc] = spacy_ner_doc[index]\n",
    "            sample_is_complete[index] = True\n",
    "            index_doc += 1\n",
    "        yield docs[index]"
   ]
  },
  {
   "cell_type": "code",
   "execution_count": 24,
   "metadata": {},
   "outputs": [
    {
     "data": {
      "application/vnd.jupyter.widget-view+json": {
       "model_id": "d2eed425d53547cf8fe32f3a6d9b6c27",
       "version_major": 2,
       "version_minor": 0
      },
      "text/plain": [
       "  0%|          | 0/10 [00:00<?, ?it/s]"
      ]
     },
     "metadata": {},
     "output_type": "display_data"
    },
    {
     "name": "stderr",
     "output_type": "stream",
     "text": [
      "/home/jraba/Dev/gar-lener-es/env/lib/python3.10/site-packages/torch/amp/autocast_mode.py:198: UserWarning: User provided device_type of 'cuda', but CUDA is not available. Disabling\n",
      "  warnings.warn('User provided device_type of \\'cuda\\', but CUDA is not available. Disabling')\n"
     ]
    }
   ],
   "source": [
    "corpus_1 = Corpus.from_spacy_docs(\n",
    "    sample_spacy_docs(spacy_ner_doc, selected_indices_1, sample_is_complete_1),\n",
    "    total_samples=len(selected_indices_1),\n",
    "    vocab=vocabulary,\n",
    "    embeding_func=get_ml_embedding,\n",
    "    emb_size=embedding_size,\n",
    ")"
   ]
  },
  {
   "cell_type": "code",
   "execution_count": 30,
   "metadata": {},
   "outputs": [],
   "source": [
    "spacy_docs = list(\n",
    "    sample_spacy_docs(spacy_ner_doc, selected_indices_1, sample_is_complete_1)\n",
    ")"
   ]
  },
  {
   "cell_type": "code",
   "execution_count": 36,
   "metadata": {},
   "outputs": [],
   "source": [
    "# # spaCy docs to conll\n",
    "# from spacy.training import offsets_to_biluo_tags\n",
    "# from tqdm.auto import tqdm as tdqm\n",
    "\n",
    "# results = []\n",
    "# for doc in tdqm(spacy_ner_doc):\n",
    "#     # Preliminary: whole sentence\n",
    "#     whole_sentence = doc.text\n",
    "#     # 1st item (CoNLL 2003): word\n",
    "#     words = [token.text for token in doc]\n",
    "#     # 2nd item (CoNLL 2003): POS\n",
    "#     pos = [token.pos_ for token in doc]\n",
    "#     # 3rd item (CoNLL 2003): syntactic dependency\n",
    "#     dep = [token.dep_ for token in doc]\n",
    "#     # 4th item (CoNLL 2003): named entities\n",
    "#     spacy_entities = [(ent.start_char, ent.end_char, ent.label_) for ent in doc.ents]\n",
    "#     biluo_entities = offsets_to_biluo_tags(doc, spacy_entities)\n",
    "#     results.append((whole_sentence, words, pos, dep, biluo_entities))\n",
    "\n",
    "# # write to file\n",
    "# with open(\"data/train/esp.train.conll\", \"w\", encoding=\"utf-8\") as f:\n",
    "#     for result in tdqm(results):\n",
    "#         # print(\"-DOCSTART- -X- -X- O\")\n",
    "#         if result[0].strip() == \"-\":\n",
    "#             f.write(\"-DOCSTART- -X- -X- O\\n\")\n",
    "#         else:\n",
    "#             for w, x, y, z in zip(result[1], result[2], result[3], result[4]):\n",
    "#                 f.write(f\"{w} {x} {y} {z}\\n\")\n",
    "#         f.write(\"\\n\")\n"
   ]
  },
  {
   "cell_type": "code",
   "execution_count": 37,
   "metadata": {},
   "outputs": [],
   "source": [
    "# spacy_ner_doc[0]._.conll_str"
   ]
  },
  {
   "cell_type": "code",
   "execution_count": 32,
   "metadata": {},
   "outputs": [],
   "source": [
    "vocab_ent = Vocabulary.from_list(list(corpus_1.entities.keys()), include_special=False)"
   ]
  },
  {
   "cell_type": "code",
   "execution_count": 33,
   "metadata": {},
   "outputs": [
    {
     "data": {
      "text/plain": [
       "tensor([-0.0702, -0.0671,  0.0422,  0.0751, -0.0545, -0.0136, -0.0125,  0.0699,\n",
       "         0.0931,  0.0150, -0.1770, -0.0753,  0.1406, -0.0690,  0.0584,  0.0122,\n",
       "         0.0424, -0.0066, -0.0469,  0.2698, -0.0530, -0.1566, -0.1648,  0.0829,\n",
       "         0.0109, -0.0457, -0.1312, -0.0837,  0.0892, -0.1082,  0.0966, -0.0172])"
      ]
     },
     "execution_count": 33,
     "metadata": {},
     "output_type": "execute_result"
    }
   ],
   "source": [
    "corpus_1.documents[0].unk_id"
   ]
  },
  {
   "cell_type": "code",
   "execution_count": 53,
   "metadata": {},
   "outputs": [],
   "source": [
    "corpus_1.to_text_array(\n",
    "    input_filename=\"input.txt\",\n",
    "    target_filename=\"target.txt\",\n",
    "    metadata_filename=\"metadata.txt\",\n",
    ")"
   ]
  },
  {
   "attachments": {},
   "cell_type": "markdown",
   "metadata": {},
   "source": [
    "### 2. Create Ner rule with samples using genetic algorithm\n",
    "\n",
    "1. From corpus create datasets by entities to predict\n",
    "   - From datasets:\n",
    "     - Convert to array\n",
    "     - Get representation of documents for entities to predict\n",
    "1. To Train Genetic Algorithm for entity\n",
    "1. Get best genetic ner rules\n"
   ]
  },
  {
   "attachments": {},
   "cell_type": "markdown",
   "metadata": {},
   "source": [
    "**Candidate Words**: are the words that can be used activate a new gene in the rule, that word are taken from words that create the entity to predict."
   ]
  },
  {
   "cell_type": "code",
   "execution_count": null,
   "metadata": {},
   "outputs": [],
   "source": [
    "def create_candidate_words(\n",
    "        corpus:Corpus, \n",
    "        candidate_words: Optional[np.ndarray] = None, \n",
    "        save_path: str = None):\n",
    "    \"\"\"\n",
    "    Create candidate words from corpus\n",
    "    :param corpus_1: corpus_1\n",
    "    :param candidate_words: candidate words\n",
    "    :param save_path: save path\n",
    "    :return: candidate words\n",
    "    \"\"\"\n",
    "    if candidate_words is None:\n",
    "        candidate_words = np.empty((0, 2))\n",
    "    for document in corpus.documents:\n",
    "        for entity in document.entities:\n",
    "            for index_entiy in range(entity.start, entity.end):\n",
    "                for index_feature in range(3):\n",
    "                    candidate_words = np.vstack(\n",
    "                        (\n",
    "                            candidate_words,\n",
    "                            np.append(\n",
    "                                index_feature,\n",
    "                                document.tokens[index_entiy][index_feature].value,\n",
    "                            ),\n",
    "                        )\n",
    "                    )\n",
    "    if save_path:\n",
    "        np.savetxt(save_path, candidate_words, fmt=\"%s\", delimiter=\",\")\n",
    "    return candidate_words"
   ]
  },
  {
   "cell_type": "code",
   "execution_count": 49,
   "metadata": {},
   "outputs": [],
   "source": [
    "# A candidate word is a index feature + embedding\n",
    "candidate_words = np.zeros((0, embedding_size + 1), dtype=np.float32)\n",
    "for document in corpus_1.documents:\n",
    "    for entity in document.entities:\n",
    "        for index_entiy in range(entity.start, entity.end):\n",
    "            for index_feature in range(3):\n",
    "                candidate_words = np.vstack(\n",
    "                    (\n",
    "                        candidate_words,\n",
    "                        np.append(\n",
    "                            index_feature,\n",
    "                            document.tokens[index_entiy][index_feature].value,\n",
    "                        ),\n",
    "                    )\n",
    "                )"
   ]
  },
  {
   "cell_type": "code",
   "execution_count": 50,
   "metadata": {},
   "outputs": [
    {
     "name": "stdout",
     "output_type": "stream",
     "text": [
      "(171, 33)\n"
     ]
    }
   ],
   "source": [
    "print(candidate_words.shape)\n",
    "# write to file\n",
    "with open(\"data/train/esp.train.candidate_words\", \"w\", encoding=\"utf-8\") as f:\n",
    "    for candidate_word in candidate_words:\n",
    "        f.write(\",\".join([str(x) for x in candidate_word]))\n",
    "        f.write(f\"\\n\")"
   ]
  },
  {
   "attachments": {},
   "cell_type": "markdown",
   "metadata": {},
   "source": [
    "**Parent Population** are created using entities in training corpus. Use diferent lenfth of entities. For First loop create tuples with length equal 1 for each feature of token then create 3 individuals (3x1). For second loop create tuples with length equals 2 for each feature and combinate posibilities, then create 18 individual (3²x2), repetead until complete the length parent population."
   ]
  },
  {
   "attachments": {},
   "cell_type": "markdown",
   "metadata": {},
   "source": [
    "##### 1. From corpus create datasets by entities to predict\n"
   ]
  },
  {
   "attachments": {},
   "cell_type": "markdown",
   "metadata": {},
   "source": [
    "### Structure\n",
    "\n",
    "\n",
    "Each individual has next structure:\n",
    "\n",
    "    - first token is size of rule or number of segments will be used\n",
    "    - second is fitness value\n",
    "    - third is entity type to predict\n",
    "    - next tokens are segments of rule\n",
    "\n",
    "Each segment has next structure:\n",
    "\n",
    "    - first token indicate if a entity is predicted\n",
    "    - second token is value for linguistic feature type\n",
    "    - next tokens are embedding values for linguistic feature value\n",
    "\n",
    "An individual has 7 seven segments. To indicate that there is an entity is used value 1 else 0. The segments that are not used are filled with 0. Size of segment is 2 + embedding size.\n",
    "\n",
    "## Example:\n",
    "\n",
    "An individual which size is 3, fitness value is 0.5, entity type is PER, and has 3 segments wich embedding size is 2.\n",
    "The first segment is for word feature and has value \"John\" and embedding [0.1, 0.2].\n",
    "The second segment is for pos feature and has value \"NOUN\" and embedding [0.4, 0.5].\n",
    "The third segment is for dep feature and has value \"aux\" and embedding [0.7, 0.8].\n",
    "The 2 fisrt segments are indicators for entity prediction.\n",
    "\n",
    "| 3.0 | 0.5 | 1.0 | 1.0 | 0.0 | 0.1 | 0.2 | 1.0 | 1.0 | 0.4 | 0.5 | 0.0 | 2.0 | 0.7 | 0.8 | 0.0 | 0.0 | 0.0 | 0.0 | 0.0 | 0.0 | 0.0 | 0.0 | 0.0 | 0.0 | 0.0 | 0.0 | 0.0 | 0.0 | 0.0 | 0.0 |\n",
    "| --- | --- | --- | --- | --- | --- | --- | --- | --- | --- | --- | --- | --- | --- | --- | --- | --- | --- | --- | --- | --- | --- | --- | --- | --- | --- | --- | --- | --- | --- | --- |\n",
    "\n",
    "Size of individual is 3 + 7 \\* (2 + 2) = 31\n"
   ]
  },
  {
   "cell_type": "code",
   "execution_count": 25,
   "metadata": {},
   "outputs": [],
   "source": [
    "# Load candidate words\n",
    "candidate_words = np.loadtxt(\n",
    "    \"data/train/esp.train.candidate_words\", delimiter=\",\", dtype=np.float32\n",
    ")"
   ]
  },
  {
   "cell_type": "code",
   "execution_count": 26,
   "metadata": {},
   "outputs": [],
   "source": [
    "entity_names = []\n",
    "with open(\"entity_names.txt\", \"r\") as file:\n",
    "    for line in file:\n",
    "        entity_names.append(line.strip())"
   ]
  },
  {
   "cell_type": "code",
   "execution_count": 27,
   "metadata": {},
   "outputs": [
    {
     "data": {
      "text/plain": [
       "array(['O', 'PER', 'MISC', 'ORG', 'LOC'], dtype='<U4')"
      ]
     },
     "execution_count": 27,
     "metadata": {},
     "output_type": "execute_result"
    }
   ],
   "source": [
    "entity_map = np.array([\"O\"] + entity_names)\n",
    "entity_map"
   ]
  },
  {
   "cell_type": "code",
   "execution_count": 28,
   "metadata": {},
   "outputs": [
    {
     "data": {
      "text/plain": [
       "{'O': 0, 'PER': 1, 'MISC': 2, 'ORG': 3, 'LOC': 4}"
      ]
     },
     "execution_count": 28,
     "metadata": {},
     "output_type": "execute_result"
    }
   ],
   "source": [
    "entity_map_inv = {entity: index for index, entity in enumerate(entity_map)}\n",
    "entity_map_inv"
   ]
  },
  {
   "cell_type": "code",
   "execution_count": 29,
   "metadata": {},
   "outputs": [
    {
     "data": {
      "text/plain": [
       "81"
      ]
     },
     "execution_count": 29,
     "metadata": {},
     "output_type": "execute_result"
    }
   ],
   "source": [
    "from itertools import product\n",
    "\n",
    "len(list(product(range(3), range(3), range(3), range(3))))"
   ]
  },
  {
   "cell_type": "code",
   "execution_count": 30,
   "metadata": {},
   "outputs": [
    {
     "data": {
      "text/plain": [
       "[(0, 0, 0),\n",
       " (0, 0, 1),\n",
       " (0, 0, 2),\n",
       " (0, 1, 0),\n",
       " (0, 1, 1),\n",
       " (0, 1, 2),\n",
       " (0, 2, 0),\n",
       " (0, 2, 1),\n",
       " (0, 2, 2),\n",
       " (1, 0, 0),\n",
       " (1, 0, 1),\n",
       " (1, 0, 2),\n",
       " (1, 1, 0),\n",
       " (1, 1, 1),\n",
       " (1, 1, 2),\n",
       " (1, 2, 0),\n",
       " (1, 2, 1),\n",
       " (1, 2, 2),\n",
       " (2, 0, 0),\n",
       " (2, 0, 1),\n",
       " (2, 0, 2),\n",
       " (2, 1, 0),\n",
       " (2, 1, 1),\n",
       " (2, 1, 2),\n",
       " (2, 2, 0),\n",
       " (2, 2, 1),\n",
       " (2, 2, 2)]"
      ]
     },
     "execution_count": 30,
     "metadata": {},
     "output_type": "execute_result"
    }
   ],
   "source": [
    "list(product(range(3), range(3), range(3)))"
   ]
  },
  {
   "cell_type": "code",
   "execution_count": 40,
   "metadata": {},
   "outputs": [
    {
     "name": "stdout",
     "output_type": "stream",
     "text": [
      "Entity(label=ORG, name=Lucchetti, start=5, end=6)\n",
      "Entity(label=ORG, name=Grupo Luksic, start=10, end=12)\n",
      "Entity(label=LOC, name=Argentina, start=33, end=34)\n",
      "Entity(label=LOC, name=Perú, start=35, end=36)\n",
      "Entity(label=LOC, name=Chile, start=37, end=38)\n",
      "Entity(label=MISC, name=Educación, Cultura. Deportes, start=10, end=13)\n",
      "Entity(label=PER, name=Pilar del Castillo, start=14, end=17)\n",
      "Entity(label=PER, name=Bonet, start=23, end=24)\n",
      "Entity(label=ORG, name=Consejo de Ministros, start=25, end=28)\n",
      "Entity(label=MISC, name=Oferta Pública de Suscripción, start=20, end=24)\n",
      "Entity(label=MISC, name=OPS, start=25, end=26)\n",
      "Entity(label=ORG, name=Federación Nacional de Industrias Lácteas, start=4, end=9)\n",
      "Entity(label=ORG, name=FENIL, start=10, end=11)\n",
      "Entity(label=PER, name=Pedro Ara, start=13, end=15)\n",
      "Entity(label=ORG, name=Inlac, start=31, end=32)\n",
      "Entity(label=LOC, name=Ohmhajer, start=21, end=22)\n",
      "Entity(label=ORG, name=Etiopía, start=31, end=32)\n",
      "Entity(label=ORG, name=Eritrea, start=39, end=40)\n",
      "Entity(label=LOC, name=Vitoria, start=0, end=1)\n",
      "Entity(label=ORG, name=EFE, start=5, end=6)\n",
      "Entity(label=LOC, name=Tundu Wada, start=18, end=20)\n",
      "Entity(label=PER, name=Lamela, start=2, end=3)\n",
      "Entity(label=ORG, name=Congreso de los Diputados, start=13, end=17)\n",
      "Entity(label=MISC, name=Agricultura, start=21, end=22)\n",
      "Entity(label=PER, name=Miguel Arias Cañete, start=23, end=26)\n",
      "Entity(label=PER, name=González, start=14, end=15)\n",
      "Entity(label=LOC, name=casa de Doña Serafina, start=8, end=12)\n",
      "Entity(label=LOC, name=Alameda del Ayuntamiento, start=16, end=19)\n",
      "Entity(label=LOC, name=Casa de Cultura, start=35, end=38)\n"
     ]
    }
   ],
   "source": [
    "for document in corpus_1.documents:\n",
    "    for entity in document.entities:\n",
    "        print(entity)"
   ]
  },
  {
   "cell_type": "code",
   "execution_count": 40,
   "metadata": {},
   "outputs": [],
   "source": [
    "from tqdm.auto import tqdm, trange\n",
    "import random\n",
    "\n",
    "entity_dataset: Dict[str, Dict[str, np.ndarray]] = {}\n",
    "max_size_doc = 172\n",
    "s_init_pop = 400\n",
    "gen_size = 7\n",
    "max_len = 3 + gen_size * (embedding_size + 2)\n",
    "# First 3 columns are for size, fitness and entity\n",
    "parent_population = np.zeros((s_init_pop, max_len), dtype=np.float32)\n",
    "# Size = 1\n",
    "parent_population[:, 0] = 1\n",
    "# Entity = 1 for first 100 samples\n",
    "parent_population[:100, 2] = 1\n",
    "# Entity = 2 for next 100 samples\n",
    "parent_population[100:200, 2] = 2\n",
    "# Entity = 3 for next 100 samples\n",
    "parent_population[200:300, 2] = 3\n",
    "# Entity = 4 for next 100 samples\n",
    "parent_population[300:400, 2] = 4\n",
    "\n",
    "random.seed(42)\n",
    "\n",
    "# add entities to parent population\n",
    "for individual_index, individual in enumerate(parent_population):\n",
    "    candidate_index = random.randint(0, len(candidate_words) - 1)\n",
    "    # Add 1 to indicate that it's a entity\n",
    "    parent_population[individual_index][3 : 3 + embedding_size + 2] = np.concatenate(\n",
    "        ([1], candidate_words[candidate_index])\n",
    "    )"
   ]
  },
  {
   "cell_type": "code",
   "execution_count": 41,
   "metadata": {},
   "outputs": [
    {
     "data": {
      "text/plain": [
       "[Entity(label=ORG, name=Lucchetti, start=5, end=6),\n",
       " Entity(label=ORG, name=Grupo Luksic, start=10, end=12),\n",
       " Entity(label=LOC, name=Argentina, start=33, end=34),\n",
       " Entity(label=LOC, name=Perú, start=35, end=36),\n",
       " Entity(label=LOC, name=Chile, start=37, end=38)]"
      ]
     },
     "execution_count": 41,
     "metadata": {},
     "output_type": "execute_result"
    }
   ],
   "source": [
    "corpus_1.documents[0].entities"
   ]
  },
  {
   "cell_type": "code",
   "execution_count": 41,
   "metadata": {},
   "outputs": [
    {
     "data": {
      "application/vnd.jupyter.widget-view+json": {
       "model_id": "28da7c99d0a941a4b0851790ffc2ce1f",
       "version_major": 2,
       "version_minor": 0
      },
      "text/plain": [
       "  0%|          | 0/10 [00:00<?, ?it/s]"
      ]
     },
     "metadata": {},
     "output_type": "display_data"
    },
    {
     "data": {
      "application/vnd.jupyter.widget-view+json": {
       "model_id": "6a32f027f57549879a3c79c842bb6c3f",
       "version_major": 2,
       "version_minor": 0
      },
      "text/plain": [
       "  0%|          | 0/10 [00:00<?, ?it/s]"
      ]
     },
     "metadata": {},
     "output_type": "display_data"
    },
    {
     "data": {
      "application/vnd.jupyter.widget-view+json": {
       "model_id": "90ac4f75c8b24e5cbb44b2ef2f57dda4",
       "version_major": 2,
       "version_minor": 0
      },
      "text/plain": [
       "  0%|          | 0/10 [00:00<?, ?it/s]"
      ]
     },
     "metadata": {},
     "output_type": "display_data"
    }
   ],
   "source": [
    "from tqdm.auto import tqdm, trange\n",
    "import random\n",
    "\n",
    "entity_dataset: Dict[str, Dict[str, np.ndarray]] = {}\n",
    "max_size_doc = 172\n",
    "s_init_pop = 400\n",
    "gen_size = 7\n",
    "max_len = 3 + gen_size * (embedding_size + 2)\n",
    "# First 3 columns are for size, fitness and entity\n",
    "parent_population = np.zeros((s_init_pop, max_len), dtype=np.float32)\n",
    "\n",
    "# Initialize population\n",
    "cur_ind_len = 1\n",
    "cur_pop_len = 0\n",
    "fishished = False\n",
    "any_entity = True\n",
    "previous_start = 0\n",
    "while not fishished and any_entity:\n",
    "    any_entity = False\n",
    "    for document in tqdm(corpus_1.documents):\n",
    "        for entity in document.entities:\n",
    "            fishished = fishished or cur_pop_len >= s_init_pop\n",
    "            if entity.end - entity.start - previous_start >= cur_ind_len  and not fishished and entity.start - previous_start > 0:\n",
    "                any_entity = True\n",
    "                feature_values = []\n",
    "                for index_feature in range(entity.start-previous_start, entity.start+cur_ind_len):\n",
    "                    feature_values.append(range(3))\n",
    "\n",
    "                for combination_value in product(*feature_values):\n",
    "                    parent_population[cur_pop_len, 0] = cur_ind_len\n",
    "                    parent_population[cur_pop_len, 1] = 0\n",
    "                    parent_population[cur_pop_len, 2] = entity_map_inv[entity.label]\n",
    "                    for index_combination, index_feature in enumerate(combination_value):\n",
    "                        start_index = 3 + index_combination * (embedding_size + 2)\n",
    "                        end_index = start_index + (embedding_size + 2)\n",
    "                        index_token = entity.start + index_combination - previous_start\n",
    "                        entity_id = entity_map_inv[entity.label] if index_token >= entity.start else 0\n",
    "                        parent_population[cur_pop_len][start_index] = entity_id\n",
    "                        parent_population[cur_pop_len][start_index+1] = index_feature\n",
    "                        parent_population[cur_pop_len][start_index+2:end_index] = document.tokens[index_token][index_feature].value\n",
    "                    cur_pop_len += 1\n",
    "\n",
    "                    if cur_pop_len >= s_init_pop:\n",
    "                        fishished = True\n",
    "                        break\n",
    "    cur_ind_len += 1\n",
    "    if not any_entity and cur_pop_len < s_init_pop:\n",
    "        any_entity = True\n",
    "        cur_ind_len = 1\n",
    "        previous_start += 1\n",
    "\n",
    "\n"
   ]
  },
  {
   "cell_type": "code",
   "execution_count": null,
   "metadata": {},
   "outputs": [],
   "source": [
    "from itertools import product"
   ]
  },
  {
   "cell_type": "code",
   "execution_count": 42,
   "metadata": {},
   "outputs": [
    {
     "name": "stdout",
     "output_type": "stream",
     "text": [
      "5 37\n",
      "39 71\n",
      "73 105\n",
      "107 139\n",
      "141 173\n",
      "175 207\n",
      "209 241\n"
     ]
    }
   ],
   "source": [
    "# Get index where embedding is in\n",
    "embedding_list = []\n",
    "for index in range(3, max_len, embedding_size + 2):\n",
    "    print(index+2, index+embedding_size+2)\n",
    "    embedding_list.extend(range(index+2, index+embedding_size+2))"
   ]
  },
  {
   "cell_type": "code",
   "execution_count": 43,
   "metadata": {},
   "outputs": [
    {
     "data": {
      "text/plain": [
       "7.0"
      ]
     },
     "execution_count": 43,
     "metadata": {},
     "output_type": "execute_result"
    }
   ],
   "source": [
    "(max_len-3)/34"
   ]
  },
  {
   "cell_type": "code",
   "execution_count": null,
   "metadata": {},
   "outputs": [],
   "source": [
    "def read_inpu_txt(input_filename, target_filename, metadata_filename, num_docs, max_size_doc, embedding_size):\n",
    "    doc_dataset = np.zeros((num_docs, max_size_doc * embedding_size * 3), dtype=np.float32)\n",
    "    target_doc = np.zeros((num_docs, max_size_doc), dtype=np.int32)\n",
    "    metadata_doc = np.zeros((num_docs, 4), dtype=np.int32)\n",
    "    with open(input_filename) as input_file, open(target_filename) as target_file, open(\n",
    "    metadata_filename\n",
    "    ) as metadata_file:\n",
    "        for doc_index, line in enumerate(input_file):\n",
    "            input_doc = np.array([float(x) for x in line.split(\",\")], dtype=np.float32)\n",
    "            doc_dataset[doc_index, : input_doc.shape[0]] = input_doc\n",
    "        for doc_index, line in enumerate(target_file):\n",
    "            line_target = np.array([int(x) for x in line.split(\",\")])\n",
    "            target_doc[doc_index, : line_target.shape[0]] = line_target\n",
    "        for doc_index, line in enumerate(metadata_file):\n",
    "            line_metadata = np.array([int(x) for x in line.split(\",\")])\n",
    "            metadata_doc[doc_index, : line_metadata.shape[0]] = line_metadata\n",
    "    return doc_dataset, target_doc, metadata_doc"
   ]
  },
  {
   "cell_type": "code",
   "execution_count": 44,
   "metadata": {},
   "outputs": [],
   "source": [
    "# Init doc dataset with initial file\n",
    "# Transform to document spacy to numpy array\n",
    "import numpy as np\n",
    "\n",
    "doc_dataset = np.zeros((num_docs, max_size_doc * embedding_size * 3), dtype=np.float32)\n",
    "target_doc = np.zeros((num_docs, max_size_doc), dtype=np.int32)\n",
    "metadata_doc = np.zeros((num_docs, 4), dtype=np.int32)\n",
    "# TODO Function to read from file\n",
    "with open(\"input.txt\") as input_file, open(\"target.txt\") as target_file, open(\n",
    "    \"metadata.txt\"\n",
    ") as metadata_file:\n",
    "    for doc_index, line in enumerate(input_file):\n",
    "        input_doc = np.array([float(x) for x in line.split(\",\")], dtype=np.float32)\n",
    "        doc_dataset[doc_index, : input_doc.shape[0]] = input_doc\n",
    "    for doc_index, line in enumerate(target_file):\n",
    "        line_target = np.array([int(x) for x in line.split(\",\")])\n",
    "        target_doc[doc_index, : line_target.shape[0]] = line_target\n",
    "    for doc_index, line in enumerate(metadata_file):\n",
    "        line_metadata = np.array([int(x) for x in line.split(\",\")])\n",
    "        metadata_doc[doc_index, : line_metadata.shape[0]] = line_metadata\n",
    "\n",
    "assert doc_dataset.shape == (num_docs, max_size_doc * embedding_size * 3)\n",
    "assert target_doc.shape == (num_docs, max_size_doc)\n",
    "assert metadata_doc.shape == (num_docs, 4)"
   ]
  },
  {
   "cell_type": "code",
   "execution_count": 45,
   "metadata": {},
   "outputs": [
    {
     "data": {
      "text/plain": [
       "array([[ 46,   5, 100,   4],\n",
       "       [ 34,   4, 100,   4],\n",
       "       [ 34,   2, 100,   4],\n",
       "       [ 46,   4, 100,   4],\n",
       "       [ 41,   3, 100,   4],\n",
       "       [  8,   2, 100,   4],\n",
       "       [ 46,   1, 100,   4],\n",
       "       [ 49,   4, 100,   4],\n",
       "       [ 29,   1, 100,   4],\n",
       "       [ 39,   3, 100,   4]], dtype=int32)"
      ]
     },
     "execution_count": 45,
     "metadata": {},
     "output_type": "execute_result"
    }
   ],
   "source": [
    "metadata_doc"
   ]
  },
  {
   "attachments": {},
   "cell_type": "markdown",
   "metadata": {},
   "source": [
    "##### 2. To Train Genetic Algorithm for entity\n"
   ]
  },
  {
   "attachments": {},
   "cell_type": "markdown",
   "metadata": {},
   "source": [
    "<p style=\"text-align: center;\">Individual fitness</p>\n",
    "\n",
    "$$f_i=\\frac{TP_i}{TP_i+FP_i} * \\log_2(TP_i+FP_i)$$\n",
    "\n",
    "<p style=\"text-align: center;\">Sharing function</p>\n",
    "\n",
    "$$\n",
    "sh(d_{i,j}) = \\left \\{\n",
    "    \\begin{array}{l}\n",
    "    1  - \\frac{d_{i,j}}{\\sigma_{share}}, d_{i,j} < {\\sigma_{share}}  \\\\\n",
    "    0, otherwise\n",
    "    \\end{array}\n",
    "\\right \\}\n",
    "$$\n",
    "\n",
    "<p style=\"text-align: center;\">Individual shared fitness</p>\n",
    "\n",
    "$$f^t_i = \\frac{f_i}{\\sum_{j=1}^N sh(d_{i,j})}$$\n",
    "\n",
    "\n",
    "$$\n",
    "  \\text{fitness}(\\text{ind}, \\text{doc}) = \\begin{cases}\n",
    "    -1.0                                                                                                                                                                                                 & \\text{if } \\text{retrive\\_doc} = 0 \\\\\n",
    "    0.8 \\times \\text{Precision} + 0.1 \\times \\frac{\\log_2(\\text{ind size})}{\\log_2(7)} + 0.1 \\times ind\\_seq & \\text{otherwise}\n",
    "  \\end{cases}\n",
    "$$"
   ]
  },
  {
   "attachments": {},
   "cell_type": "markdown",
   "metadata": {},
   "source": [
    "<div style=\"text-align: center;\">\n",
    "\n",
    "<p style=\"text-align: center;\">Island model</p>\n",
    "\n",
    "![image.png](./img/island_ae.svg)\n",
    "\n",
    "</div>\n"
   ]
  },
  {
   "cell_type": "code",
   "execution_count": 46,
   "metadata": {},
   "outputs": [],
   "source": [
    "# from pytorch_lightning.callbacks import ModelCheckpoint\n",
    "# from pytorch_lightning.callbacks.early_stopping import EarlyStopping\n",
    "# import pytorch_lightning as pl\n",
    "# from ga_ner.ml.models import TransformerModel\n",
    "# from ga_ner.ml.loss import accuracy_loss\n",
    "\n",
    "\n",
    "# checkpoint_callback = ModelCheckpoint(\n",
    "#     \"./checkpoints_p\", save_weights_only=True, monitor=\"val_loss\", mode=\"min\"\n",
    "# )\n",
    "\n",
    "# trainer = pl.Trainer(callbacks=[checkpoint_callback], enable_progress_bar=False)\n",
    "# model = TransformerModel.load_from_checkpoint(\"checkpoints/epoch=304-step=3050.ckpt\")\n",
    "# trainer.model = model\n"
   ]
  },
  {
   "cell_type": "code",
   "execution_count": 45,
   "metadata": {},
   "outputs": [
    {
     "data": {
      "text/plain": [
       "(10, 16512)"
      ]
     },
     "execution_count": 45,
     "metadata": {},
     "output_type": "execute_result"
    }
   ],
   "source": [
    "doc_dataset.shape"
   ]
  },
  {
   "cell_type": "code",
   "execution_count": 163,
   "metadata": {},
   "outputs": [
    {
     "data": {
      "application/vnd.jupyter.widget-view+json": {
       "model_id": "11a01766298345e59fa96e8efcf8f9e3",
       "version_major": 2,
       "version_minor": 0
      },
      "text/plain": [
       "  0%|          | 0/1000 [00:00<?, ?it/s]"
      ]
     },
     "metadata": {},
     "output_type": "display_data"
    },
    {
     "name": "stdout",
     "output_type": "stream",
     "text": [
      "Saving 217 individuals\n",
      "Saving 275 individuals\n",
      "Saving 305 individuals\n",
      "Saving 328 individuals\n",
      "Saving 349 individuals\n",
      "Saving 362 individuals\n",
      "Saving 362 individuals\n",
      "Saving 366 individuals\n",
      "Saving 364 individuals\n",
      "Saving 367 individuals\n",
      "Saving 360 individuals\n",
      "Saving 367 individuals\n",
      "Saving 368 individuals\n",
      "Saving 369 individuals\n",
      "Saving 366 individuals\n",
      "Saving 367 individuals\n",
      "Saving 366 individuals\n",
      "Saving 365 individuals\n",
      "Saving 366 individuals\n",
      "Saving 370 individuals\n",
      "Saving 369 individuals\n",
      "Saving 364 individuals\n",
      "Saving 366 individuals\n",
      "Saving 362 individuals\n",
      "Saving 368 individuals\n",
      "Saving 366 individuals\n",
      "Saving 364 individuals\n",
      "Saving 360 individuals\n",
      "Saving 355 individuals\n",
      "Saving 359 individuals\n",
      "Saving 357 individuals\n",
      "Saving 362 individuals\n",
      "Saving 357 individuals\n",
      "Saving 363 individuals\n",
      "Saving 368 individuals\n",
      "Saving 364 individuals\n",
      "Saving 362 individuals\n",
      "Saving 368 individuals\n",
      "Saving 368 individuals\n"
     ]
    }
   ],
   "source": [
    "from ga_ner.models import GANER, Document, Corpus, Vocabulary\n",
    "from ga_ner.utils.numba import select, fitness\n",
    "\n",
    "# from ga_ner.utils.numba import select\n",
    "# from evolution_rules import select\n",
    "ga_ner = GANER(\n",
    "    map_inv_entity=None,#map_inv_entity\n",
    "    n_population=400,\n",
    "    max_len=max_len,\n",
    "    mask_id=0,#corpus_1.documents[0].mask_id\n",
    "    unknown_id=0,#corpus_1.documents[0].unk_id\n",
    "    candidate_words=candidate_words,\n",
    "    random_state=42,\n",
    "    n_top=100,\n",
    "    threshold=0.8,\n",
    "    select=select,\n",
    "    fitness=fitness,\n",
    "    num_threads=16,\n",
    "    embedding_size=embedding_size,\n",
    ")\n",
    "ga_ner.train(\n",
    "    doc_dataset,\n",
    "    target_doc,\n",
    "    metadata_doc,\n",
    "    max_iter=1000,\n",
    "    tol=15,\n",
    "    base_population=parent_population,\n",
    "    num_islands=4,\n",
    "    num_threads=16,\n",
    ")\n",
    "\n",
    "# 2015_Book_IntroductionToEvolutionaryComp.pdf 80, 108, 120, 145,294"
   ]
  },
  {
   "cell_type": "code",
   "execution_count": 110,
   "metadata": {},
   "outputs": [
    {
     "ename": "AttributeError",
     "evalue": "'GANER' object has no attribute 'data'",
     "output_type": "error",
     "traceback": [
      "\u001b[0;31m---------------------------------------------------------------------------\u001b[0m",
      "\u001b[0;31mAttributeError\u001b[0m                            Traceback (most recent call last)",
      "Cell \u001b[0;32mIn[110], line 3\u001b[0m\n\u001b[1;32m      1\u001b[0m \u001b[39m# Save entity names of ga_entities in file\u001b[39;00m\n\u001b[1;32m      2\u001b[0m \u001b[39mwith\u001b[39;00m \u001b[39mopen\u001b[39m(\u001b[39m\"\u001b[39m\u001b[39mentity_names.txt\u001b[39m\u001b[39m\"\u001b[39m, \u001b[39m\"\u001b[39m\u001b[39mw\u001b[39m\u001b[39m\"\u001b[39m) \u001b[39mas\u001b[39;00m file:\n\u001b[0;32m----> 3\u001b[0m     \u001b[39mfor\u001b[39;00m entity \u001b[39min\u001b[39;00m ga_ner\u001b[39m.\u001b[39;49mdata\u001b[39m.\u001b[39mkeys():\n\u001b[1;32m      4\u001b[0m         file\u001b[39m.\u001b[39mwrite(entity)\n\u001b[1;32m      5\u001b[0m         file\u001b[39m.\u001b[39mwrite(\u001b[39m\"\u001b[39m\u001b[39m\\n\u001b[39;00m\u001b[39m\"\u001b[39m)\n",
      "\u001b[0;31mAttributeError\u001b[0m: 'GANER' object has no attribute 'data'"
     ]
    }
   ],
   "source": [
    "# Save entity names of ga_entities in file\n",
    "with open(\"entity_names.txt\", \"w\") as file:\n",
    "    for entity in ga_ner.data.keys():\n",
    "        file.write(entity)\n",
    "        file.write(\"\\n\")\n"
   ]
  },
  {
   "cell_type": "code",
   "execution_count": 49,
   "metadata": {},
   "outputs": [
    {
     "ename": "AttributeError",
     "evalue": "'GANER' object has no attribute 'data'",
     "output_type": "error",
     "traceback": [
      "\u001b[0;31m---------------------------------------------------------------------------\u001b[0m",
      "\u001b[0;31mAttributeError\u001b[0m                            Traceback (most recent call last)",
      "Cell \u001b[0;32mIn[49], line 1\u001b[0m\n\u001b[0;32m----> 1\u001b[0m \u001b[39mfor\u001b[39;00m ent \u001b[39min\u001b[39;00m ga_ner\u001b[39m.\u001b[39;49mdata\u001b[39m.\u001b[39mkeys():\n\u001b[1;32m      2\u001b[0m     \u001b[39mprint\u001b[39m(corpus_1\u001b[39m.\u001b[39mdocuments[\u001b[39m0\u001b[39m]\u001b[39m.\u001b[39mvocab_ent[ent], ent)\n",
      "\u001b[0;31mAttributeError\u001b[0m: 'GANER' object has no attribute 'data'"
     ]
    }
   ],
   "source": [
    "for ent in ga_ner.data.keys():\n",
    "    print(corpus_1.documents[0].vocab_ent[ent], ent)"
   ]
  },
  {
   "attachments": {},
   "cell_type": "markdown",
   "metadata": {},
   "source": [
    "### Test Genetic Algorithm"
   ]
  },
  {
   "cell_type": "code",
   "execution_count": 49,
   "metadata": {},
   "outputs": [],
   "source": [
    "num_val = 100"
   ]
  },
  {
   "cell_type": "code",
   "execution_count": 31,
   "metadata": {},
   "outputs": [],
   "source": [
    "array_rules = np.load(f\"best_population.npy\")\n",
    "array_fitness = np.load(f\"best_fitness.npy\")\n",
    "fitness_: np.ndarray = array_fitness"
   ]
  },
  {
   "attachments": {},
   "cell_type": "markdown",
   "metadata": {},
   "source": [
    "#### Transform data\n"
   ]
  },
  {
   "cell_type": "code",
   "execution_count": 32,
   "metadata": {},
   "outputs": [],
   "source": [
    "import re\n",
    "\n",
    "def clean_text(text):\n",
    "    \"\"\"Transform text to lowercase and remove punctuationand extra whitespace.\"\"\"\n",
    "    # text = text.lower()\n",
    "    text = re.sub(r\" +\", \" \", text)\n",
    "    return text"
   ]
  },
  {
   "cell_type": "code",
   "execution_count": 41,
   "metadata": {},
   "outputs": [],
   "source": [
    "# Retrieve words from embedding\n",
    "with open(\"data/vocabs/conn-2002-uncased-vocab.txt\", \"r\", encoding=\"utf-8\") as iob_file:\n",
    "    # POS TAGS\n",
    "    word_list = list(lf.pos_tags.keys())\n",
    "    # DEP TAGS\n",
    "    word_list.extend(lf.dep_tags.keys())\n",
    "    word_list.extend([clean_text(x.strip()) for x in iob_file.readlines()])\n",
    "    # Remove duplicates\n",
    "    word_list = list(set(word_list))\n",
    "    # Save words_list to file\n",
    "    np.save(\"data/vocabs/word_list.npy\", word_list)"
   ]
  },
  {
   "cell_type": "code",
   "execution_count": 42,
   "metadata": {},
   "outputs": [],
   "source": [
    "word_embeddings = get_ml_embeddings(word_list)\n",
    "# word_embeddings to file\n",
    "np.save(\"word_embeddings.npy\", word_embeddings)"
   ]
  },
  {
   "cell_type": "code",
   "execution_count": 43,
   "metadata": {},
   "outputs": [],
   "source": [
    "word_list = np.load(\"data/vocabs/word_list.npy\")\n",
    "word_embeddings = np.load(\"word_embeddings.npy\")"
   ]
  },
  {
   "cell_type": "code",
   "execution_count": 44,
   "metadata": {},
   "outputs": [],
   "source": [
    "index_rules = np.arange(array_rules.shape[0])"
   ]
  },
  {
   "cell_type": "code",
   "execution_count": 45,
   "metadata": {},
   "outputs": [],
   "source": [
    "# Retrieve values from array\n",
    "#  A rule is list of patterns\n",
    "rules: List = []\n",
    "for rule in array_rules:\n",
    "    size_rule = int(rule[0])\n",
    "    # A pattern is a list tuples (word, entity)\n",
    "    pattern: List = []\n",
    "    for i in range(size_rule):\n",
    "        # Use cosine similarity to get the most similar word in the embedding\n",
    "        start_index = 3 + i * (embedding_size + 2) + 2\n",
    "        word_embedding = rule[start_index : start_index + embedding_size]\n",
    "        similarities = np.dot(word_embeddings, word_embedding)/(np.linalg.norm(word_embeddings, axis=1) * np.linalg.norm(word_embedding))\n",
    "        most_similar_word = word_list[np.argmax(similarities)]\n",
    "        pattern.append((most_similar_word, int(rule[start_index - 2])))\n",
    "    rules.append(pattern)"
   ]
  },
  {
   "cell_type": "code",
   "execution_count": 46,
   "metadata": {},
   "outputs": [
    {
     "data": {
      "text/plain": [
       "[[('conj', 2)],\n",
       " [('flat', 1)],\n",
       " [('Rulfo', 1)],\n",
       " [('acusó', 1)],\n",
       " [('Congreso', 1)],\n",
       " [('diputados', 1)],\n",
       " [('grupo', 1)],\n",
       " [('consejo', 1)],\n",
       " [('argentino', 2)],\n",
       " [('Perú', 2)],\n",
       " [('licencias', 3)],\n",
       " [('oferta', 3)],\n",
       " [('pública', 3)],\n",
       " [('Arias', 4)],\n",
       " [('Areces', 4)],\n",
       " [('Pilar', 4)],\n",
       " [('Gijón', 4)],\n",
       " [('nmod', 1), ('acusó', 1)],\n",
       " [('del', 1), ('ni', 2)],\n",
       " [('diputados', 1), ('sobre', 1)],\n",
       " [('ministros', 1), ('PROPN', 1)],\n",
       " [('case', 2), ('argentino', 2)],\n",
       " [('Pilar', 2), ('case', 4)],\n",
       " [('Efe', 2), ('Perú', 2)],\n",
       " [('obl', 3), ('pública', 2)],\n",
       " [('licencias', 3), ('de', 3)],\n",
       " [('grupo', 3), ('consejo', 1)],\n",
       " [('sobre', 4), ('Bonet', 4)],\n",
       " [('del', 4), ('appos', 4)],\n",
       " [('appos', 4), ('ADP', 0)],\n",
       " [('flat', 1), ('ADP', 0)],\n",
       " [('case', 1), ('diputados', 1)],\n",
       " [('nsubj', 0), ('flat', 1)],\n",
       " [('obj', 0), ('diputados', 1)],\n",
       " [('flat', 0), ('flat', 1)],\n",
       " [('flat', 0), ('flat', 4)],\n",
       " [('nmod', 0), ('flat', 1)],\n",
       " [('Arias', 0), ('flat', 4)],\n",
       " [('Arias', 0), ('Areces', 4)],\n",
       " [('cultura', 0), ('PROPN', 3)],\n",
       " [('hombre', 0), ('PROPN', 4)],\n",
       " [('casa', 0), ('PROPN', 2)],\n",
       " [('grupo', 0), ('flat', 1)],\n",
       " [('agrícola', 0), ('flat', 1)],\n",
       " [('PROPN', 1), ('acusó', 0)],\n",
       " [('PROPN', 1), ('leche', 0)],\n",
       " [('PROPN', 1), ('industria', 0)],\n",
       " [('PROPN', 1), ('ministros', 1)],\n",
       " [('nsubj', 1), ('flat', 1)],\n",
       " [('flat', 1), ('flat', 0)],\n",
       " [('tuvo', 1), ('ministros', 1)],\n",
       " [('Congreso', 1), ('de', 1)],\n",
       " [('diputados', 1), ('ADP', 1)],\n",
       " [('diputados', 1), ('flat', 1)],\n",
       " [('diputados', 1), ('case', 1)],\n",
       " [('consejo', 1), ('PROPN', 1)],\n",
       " [('PROPN', 2), ('presunta', 0)],\n",
       " [('nmod', 2), ('flat', 0)],\n",
       " [('PROPN', 3), ('appos', 0)],\n",
       " [('PROPN', 3), ('licencias', 0)],\n",
       " [('PROPN', 3), ('licencias', 3)],\n",
       " [('flat', 3), ('PROPN', 3)],\n",
       " [('flat', 3), ('case', 3)],\n",
       " [('licencias', 3), ('flat', 0)],\n",
       " [('licencias', 3), ('flat', 3)],\n",
       " [('ir', 3), ('licencias', 3)],\n",
       " [('pública', 3), ('ADP', 3)],\n",
       " [('pública', 3), ('case', 3)],\n",
       " [('PROPN', 4), ('Arias', 4)],\n",
       " [('appos', 4), ('flat', 0)],\n",
       " [('appos', 4), ('case', 0)],\n",
       " [('flat', 4), ('flat', 4)],\n",
       " [('Arias', 4), ('PROPN', 0)],\n",
       " [('Arias', 4), ('flat', 0)],\n",
       " [('Arias', 4), ('ADP', 4)],\n",
       " [('Vitoria', 4), ('PROPN', 0)],\n",
       " [('Vitoria', 4), ('PROPN', 4)],\n",
       " [('Vitoria', 4), ('flat', 4)],\n",
       " [('Pilar', 4), ('Alava', 4)],\n",
       " [('Gijón', 4), ('ADP', 0)],\n",
       " [('Gijón', 4), ('flat', 4)],\n",
       " [('Gijón', 4), ('Arias', 4)],\n",
       " [('nsubj', 0), ('PROPN', 1), ('de', 1)],\n",
       " [('obl', 0), ('pública', 2), ('Efe', 3)],\n",
       " [('conj', 0), ('Alava', 4), ('PROPN', 2)],\n",
       " [('case', 1), ('case', 0), ('ADP', 1)],\n",
       " [('PROPN', 2), ('hombre', 0), ('PROPN', 4)],\n",
       " [('nsubj', 2), ('nmod', 0), ('flat', 1)],\n",
       " [('Gándara', 2), ('nmod', 0), ('flat', 1)],\n",
       " [('flat', 4), ('PROPN', 4), ('PROPN', 0)],\n",
       " [('obl', 1), ('diputados', 1), ('flat', 1)],\n",
       " [('Gijón', 1), ('madrileño', 4), ('PROPN', 4)],\n",
       " [('Gijón', 1), ('madrileño', 4), ('flat', 4)],\n",
       " [('consejo', 1), ('PROPN', 1), ('de', 1)],\n",
       " [('consejo', 1), ('case', 1), ('PROPN', 1)],\n",
       " [('PROPN', 2), ('ir', 2), ('Perú', 2)],\n",
       " [('nmod', 2), ('case', 1), ('Perú', 2)],\n",
       " [('obl', 3), ('pública', 2), ('Federación', 3)],\n",
       " [('licencias', 3), ('PROPN', 3), ('flat', 3)],\n",
       " [('licencias', 3), ('obj', 3), ('PROPN', 3)],\n",
       " [('appos', 4), ('PROPN', 0), ('flat', 0)],\n",
       " [('appos', 4), ('PROPN', 4), ('flat', 0)],\n",
       " [('flat', 4), ('PROPN', 4), ('Alava', 4)],\n",
       " [('andaluz', 4), ('Gijón', 4), ('flat', 4)],\n",
       " [('flat', 3), ('del', 3), ('flat', 3)],\n",
       " [('ADP', 0), ('nsubj', 1), ('flat', 1)],\n",
       " [('PROPN', 0), ('flat', 0), ('flat', 4)],\n",
       " [('PROPN', 0), ('flat', 1), ('flat', 0)],\n",
       " [('PROPN', 0), ('flat', 1), ('grupo', 0)],\n",
       " [('PROPN', 0), ('industria', 4), ('PROPN', 4)],\n",
       " [('appos', 0), ('Pilar', 4), ('PROPN', 0)],\n",
       " [('appos', 0), ('Pilar', 4), ('PROPN', 4)],\n",
       " [('appos', 0), ('industria', 4), ('flat', 4)],\n",
       " [('obj', 0), ('flat', 0), ('flat', 4)],\n",
       " [('flat', 0), ('PROPN', 0), ('flat', 3)],\n",
       " [('flat', 0), ('ADP', 3), ('flat', 3)],\n",
       " [('flat', 0), ('appos', 3), ('flat', 0)],\n",
       " [('case', 0), ('de', 0), ('flat', 1)],\n",
       " [('case', 0), ('nacional', 0), ('PROPN', 1)],\n",
       " [('case', 0), ('cultura', 1), ('flat', 1)],\n",
       " [('case', 0), ('consejo', 1), ('PROPN', 1)],\n",
       " [('nmod', 0), ('flat', 3), ('obl', 0)],\n",
       " [('Arias', 0), ('flat', 1), ('case', 0)],\n",
       " [('Vitoria', 0), ('los', 1), ('PROPN', 0)],\n",
       " [('leche', 0), ('flat', 0), ('flat', 1)],\n",
       " [('casa', 0), ('case', 0), ('PROPN', 2)],\n",
       " [('Congreso', 0), ('flat', 1), ('ADP', 0)],\n",
       " [('de', 0), ('agrícola', 0), ('flat', 1)],\n",
       " [('Gijón', 0), ('presunta', 4), ('PROPN', 0)],\n",
       " [('Federación', 0), ('flat', 1), ('tuvo', 0)],\n",
       " [('Federación', 0), ('flat', 1), ('Areces', 0)],\n",
       " [('deportes', 0), ('flat', 0), ('flat', 1)],\n",
       " [('ADP', 1), ('oferta', 0), ('PROPN', 0)],\n",
       " [('ADP', 1), ('oferta', 0), ('flat', 0)],\n",
       " [('ADP', 1), ('oferta', 0), ('flat', 1)],\n",
       " [('ADP', 1), ('Areces', 1), ('flat', 1)],\n",
       " [('PROPN', 1), ('nsubj', 0), ('los', 1)],\n",
       " [('PROPN', 1), ('case', 0), ('agrícola', 1)],\n",
       " [('PROPN', 1), ('case', 1), ('agrícola', 1)],\n",
       " [('PROPN', 1), ('tuvo', 1), ('ministros', 1)],\n",
       " [('PROPN', 1), ('Alava', 1), ('ministros', 1)],\n",
       " [('obj', 1), ('del', 1), ('ministros', 1)],\n",
       " [('flat', 1), ('ADP', 0), ('ADP', 0)],\n",
       " [('flat', 1), ('grupo', 0), ('flat', 0)],\n",
       " [('case', 1), ('ADP', 0), ('ministros', 1)],\n",
       " [('case', 1), ('case', 1), ('diputados', 1)],\n",
       " [('case', 1), ('tuvo', 1), ('flat', 1)],\n",
       " [('nmod', 1), ('de', 1), ('argentino', 1)],\n",
       " [('obl', 1), ('tuvo', 1), ('ministros', 1)],\n",
       " [('tuvo', 1), ('los', 1), ('PROPN', 0)],\n",
       " [('tuvo', 1), ('los', 1), ('flat', 0)],\n",
       " [('leche', 1), ('los', 1), ('PROPN', 1)],\n",
       " [('leche', 1), ('los', 1), ('flat', 1)],\n",
       " [('Congreso', 1), ('ADP', 1), ('nsubj', 1)],\n",
       " [('diputados', 1), ('ADP', 1), ('obj', 1)],\n",
       " [('nmod', 2), ('case', 0), ('flat', 0)],\n",
       " [('PROPN', 3), ('PROPN', 0), ('licencias', 0)],\n",
       " [('PROPN', 3), ('appos', 0), ('det', 0)],\n",
       " [('PROPN', 3), ('appos', 0), ('tuvo', 0)],\n",
       " [('PROPN', 3), ('appos', 0), ('sobre', 0)],\n",
       " [('PROPN', 3), ('appos', 0), ('licencias', 0)],\n",
       " [('PROPN', 3), ('de', 0), ('licencias', 0)],\n",
       " [('PROPN', 3), ('flat', 3), ('Feria', 3)],\n",
       " [('appos', 3), ('flat', 3), ('ADP', 3)],\n",
       " [('appos', 3), ('flat', 3), ('case', 3)],\n",
       " [('flat', 3), ('Gándara', 0), ('PROPN', 0)],\n",
       " [('flat', 3), ('Feria', 3), ('flat', 0)],\n",
       " [('flat', 3), ('Feria', 3), ('PROPN', 3)],\n",
       " [('nmod', 3), ('cultura', 0), ('obj', 0)],\n",
       " [('nmod', 3), ('cultura', 0), ('ADP', 3)],\n",
       " [('obl', 3), ('PROPN', 0), ('nsubj', 0)],\n",
       " [('obl', 3), ('flat', 0), ('PROPN', 3)],\n",
       " [('licencias', 3), ('PROPN', 3), ('ADP', 0)],\n",
       " [('pública', 3), ('obj', 3), ('PROPN', 3)],\n",
       " [('pública', 3), ('case', 3), ('PROPN', 3)],\n",
       " [('PROPN', 4), ('Arias', 0), ('Areces', 4)],\n",
       " [('appos', 4), ('ADP', 0), ('ADP', 4)],\n",
       " [('appos', 4), ('nsubj', 0), ('PROPN', 0)],\n",
       " [('appos', 4), ('flat', 0), ('andaluz', 0)],\n",
       " [('appos', 4), ('educativa', 0), ('PROPN', 0)],\n",
       " [('appos', 4), ('educativa', 0), ('flat', 0)],\n",
       " [('appos', 4), ('educativa', 0), ('PROPN', 4)],\n",
       " [('appos', 4), ('Efe', 0), ('PROPN', 0)],\n",
       " [('appos', 4), ('Efe', 0), ('flat', 4)],\n",
       " [('appos', 4), ('Federación', 0), ('PROPN', 0)],\n",
       " [('appos', 4), ('appos', 4), ('PROPN', 0)],\n",
       " [('appos', 4), ('presunta', 4), ('PROPN', 0)],\n",
       " [('appos', 4), ('Málaga', 4), ('flat', 0)],\n",
       " [('appos', 4), ('Pilar', 4), ('PROPN', 4)],\n",
       " [('appos', 4), ('Efe', 4), ('PROPN', 0)],\n",
       " [('appos', 4), ('del', 4), ('appos', 4)],\n",
       " [('appos', 4), ('Federación', 4), ('flat', 4)],\n",
       " [('Gijón', 4), ('PROPN', 4), ('Arias', 4)],\n",
       " [('Gijón', 4), ('PROPN', 4), ('sobre', 4)],\n",
       " [('Gijón', 4), ('flat', 4), ('flat', 4)],\n",
       " [('Gijón', 4), ('Gándara', 4), ('flat', 4)],\n",
       " [('flat', 0), ('Gándara', 2), ('PROPN', 0), ('flat', 1)],\n",
       " [('obl', 0), ('flat', 1), ('PROPN', 0), ('del', 2)],\n",
       " [('nsubj', 3), ('obl', 2), ('del', 3), ('flat', 2)],\n",
       " [('flat', 3), ('PROPN', 3), ('de', 3), ('PROPN', 3)],\n",
       " [('appos', 4), ('appos', 4), ('ADP', 0), ('flat', 0)],\n",
       " [('nmod', 0), ('sobre', 2), ('ADP', 1), ('case', 1)],\n",
       " [('obl', 0), ('PROPN', 2), ('ir', 2), ('Perú', 2)],\n",
       " [('de', 0), ('Gijón', 1), ('madrileño', 4), ('flat', 4)],\n",
       " [('los', 1), ('PROPN', 1), ('nsubj', 0), ('los', 1)],\n",
       " [('ADP', 3), ('PROPN', 3), ('ADP', 2), ('PROPN', 0)],\n",
       " [('PROPN', 3), ('PROPN', 3), ('flat', 0), ('leche', 3)],\n",
       " [('case', 3), ('ADP', 0), ('PROPN', 3), ('ADP', 3)],\n",
       " [('case', 4), ('appos', 4), ('flat', 0), ('flat', 4)],\n",
       " [('Gijón', 4), ('PROPN', 0), ('PROPN', 4), ('Federación', 4)],\n",
       " [('PROPN', 1), ('ADP', 1), ('obl', 1), ('ADP', 1)],\n",
       " [('PROPN', 1), ('Congreso', 1), ('ADP', 1), ('nsubj', 1)],\n",
       " [('PROPN', 3), ('pública', 2), ('case', 3), ('appos', 3)],\n",
       " [('appos', 3), ('obl', 3), ('PROPN', 3), ('ADP', 3)],\n",
       " [('obj', 3), ('appos', 3), ('flat', 3), ('ADP', 3)],\n",
       " [('de', 3), ('flat', 3), ('PROPN', 3), ('flat', 3)],\n",
       " [('de', 3), ('licencias', 3), ('obj', 3), ('PROPN', 3)],\n",
       " [('PROPN', 4), ('flat', 4), ('PROPN', 4), ('Alava', 4)],\n",
       " [('PROPN', 4), ('Pilar', 4), ('PROPN', 4), ('Areces', 4)],\n",
       " [('PROPN', 4), ('Gijón', 4), ('flat', 4), ('PROPN', 4)],\n",
       " [('Gijón', 4), ('flat', 4), ('flat', 4), ('sobre', 4)],\n",
       " [('Gijón', 4), ('Gándara', 4), ('flat', 4), ('sobre', 4)],\n",
       " [('ADP', 0), ('andaluz', 0), ('flat', 1), ('PROPN', 0)],\n",
       " [('PROPN', 0), ('ADP', 0), ('nsubj', 1), ('appos', 1)],\n",
       " [('PROPN', 0), ('flat', 0), ('appos', 3), ('flat', 0)],\n",
       " [('PROPN', 0), ('flat', 0), ('appos', 3), ('licencias', 0)],\n",
       " [('PROPN', 0), ('case', 0), ('ADP', 0), ('flat', 1)],\n",
       " [('PROPN', 0), ('case', 0), ('del', 0), ('flat', 1)],\n",
       " [('PROPN', 0), ('educativa', 0), ('flat', 1), ('PROPN', 0)],\n",
       " [('PROPN', 0), ('sobre', 0), ('ADP', 0), ('flat', 1)],\n",
       " [('PROPN', 0), ('ADP', 1), ('appos', 0), ('flat', 0)],\n",
       " [('PROPN', 0), ('ADP', 1), ('oferta', 0), ('flat', 0)],\n",
       " [('PROPN', 0), ('flat', 1), ('ADP', 0), ('ADP', 0)],\n",
       " [('PROPN', 0), ('flat', 1), ('leche', 0), ('PROPN', 0)],\n",
       " [('PROPN', 0), ('madrileño', 1), ('los', 1), ('flat', 1)],\n",
       " [('PROPN', 0), ('Congreso', 1), ('ADP', 1), ('nsubj', 1)],\n",
       " [('flat', 0), ('sobre', 0), ('PROPN', 0), ('flat', 1)],\n",
       " [('nmod', 0), ('PROPN', 0), ('case', 1), ('diputados', 1)],\n",
       " [('nmod', 0), ('flat', 0), ('madrileño', 0), ('PROPN', 1)],\n",
       " [('nmod', 0), ('flat', 1), ('ADP', 0), ('de', 0)],\n",
       " [('nmod', 0), ('flat', 1), ('de', 0), ('case', 0)],\n",
       " [('nmod', 0), ('flat', 1), ('grupo', 0), ('PROPN', 0)],\n",
       " [('nmod', 0), ('flat', 1), ('grupo', 0), ('flat', 0)],\n",
       " [('obl', 0), ('flat', 3), ('Gándara', 0), ('PROPN', 0)],\n",
       " [('Arias', 0), ('PROPN', 4), ('PROPN', 4), ('flat', 4)],\n",
       " [('Congreso', 0), ('PROPN', 0), ('andaluz', 0), ('flat', 1)],\n",
       " [('Congreso', 0), ('flat', 1), ('ADP', 0), ('PROPN', 0)],\n",
       " [('del', 0), ('appos', 4), ('ADP', 0), ('ADP', 4)],\n",
       " [('diputados', 0), ('de', 0), ('case', 1), ('PROPN', 0)],\n",
       " [('diputados', 0), ('case', 1), ('case', 1), ('diputados', 1)],\n",
       " [('diputados', 0), ('case', 1), ('del', 1), ('PROPN', 0)],\n",
       " [('Federación', 0), ('PROPN', 0), ('flat', 1), ('PROPN', 0)],\n",
       " [('Federación', 0), ('PROPN', 0), ('flat', 1), ('flat', 0)],\n",
       " [('Federación', 0), ('flat', 1), ('Feria', 0), ('flat', 0)],\n",
       " [('Federación', 0), ('flat', 1), ('grupo', 0), ('PROPN', 0)],\n",
       " [('Federación', 0), ('flat', 1), ('consejo', 0), ('flat', 0)],\n",
       " [('consejo', 0), ('flat', 3), ('ADP', 3), ('flat', 3)],\n",
       " [('PROPN', 1), ('ADP', 0), ('conj', 0), ('PROPN', 0)],\n",
       " [('PROPN', 1), ('nsubj', 0), ('los', 1), ('PROPN', 0)],\n",
       " [('PROPN', 1), ('case', 0), ('case', 1), ('diputados', 1)],\n",
       " [('PROPN', 1), ('case', 0), ('Arias', 1), ('flat', 1)],\n",
       " [('PROPN', 1), ('case', 0), ('cultura', 1), ('flat', 1)],\n",
       " [('PROPN', 1), ('case', 0), ('Gándara', 1), ('PROPN', 1)],\n",
       " [('PROPN', 1), ('case', 0), ('Gándara', 1), ('flat', 1)],\n",
       " [('PROPN', 1), ('industria', 0), ('los', 1), ('PROPN', 0)],\n",
       " [('PROPN', 1), ('ADP', 1), ('oferta', 0), ('PROPN', 0)],\n",
       " [('PROPN', 1), ('ADP', 1), ('oferta', 0), ('flat', 1)],\n",
       " [('PROPN', 1), ('case', 1), ('case', 1), ('diputados', 1)],\n",
       " [('PROPN', 1), ('tuvo', 1), ('los', 1), ('PROPN', 0)],\n",
       " [('PROPN', 1), ('leche', 1), ('los', 1), ('flat', 1)],\n",
       " [('PROPN', 1), ('de', 1), ('argentino', 0), ('PROPN', 1)],\n",
       " [('flat', 1), ('ADP', 0), ('ADP', 0), ('PROPN', 0)],\n",
       " [('flat', 1), ('ADP', 0), ('obl', 0), ('leche', 0)],\n",
       " [('flat', 1), ('PROPN', 0), ('flat', 0), ('PROPN', 0)],\n",
       " [('flat', 1), ('PROPN', 0), ('flat', 0), ('flat', 0)],\n",
       " [('flat', 1), ('nsubj', 0), ('flat', 0), ('PROPN', 0)],\n",
       " [('flat', 1), ('case', 0), ('obl', 0), ('flat', 0)],\n",
       " [('flat', 1), ('case', 0), ('obl', 0), ('leche', 0)],\n",
       " [('flat', 1), ('de', 0), ('case', 0), ('flat', 0)],\n",
       " [('flat', 1), ('Gijón', 0), ('flat', 0), ('PROPN', 0)],\n",
       " [('nmod', 1), ('Gándara', 1), ('los', 1), ('PROPN', 0)],\n",
       " [('nmod', 1), ('de', 1), ('educativa', 1), ('PROPN', 1)],\n",
       " [('PROPN', 3), ('PROPN', 0), ('flat', 3), ('flat', 3)],\n",
       " [('PROPN', 3), ('PROPN', 0), ('Málaga', 3), ('PROPN', 3)],\n",
       " [('PROPN', 3), ('appos', 0), ('de', 0), ('licencias', 0)],\n",
       " [('PROPN', 3), ('flat', 0), ('case', 0), ('diputados', 0)],\n",
       " [('PROPN', 3), ('flat', 0), ('argentino', 3), ('PROPN', 0)],\n",
       " [('PROPN', 3), ('det', 0), ('de', 0), ('PROPN', 0)],\n",
       " [('PROPN', 3), ('ADP', 3), ('ADP', 3), ('PROPN', 3)],\n",
       " [('PROPN', 3), ('PROPN', 3), ('flat', 0), ('flat', 0)],\n",
       " [('PROPN', 3), ('PROPN', 3), ('ADP', 3), ('conj', 3)],\n",
       " [('PROPN', 3), ('PROPN', 3), ('PROPN', 3), ('licencias', 3)],\n",
       " [('PROPN', 3), ('PROPN', 3), ('flat', 3), ('licencias', 3)],\n",
       " [('PROPN', 3), ('flat', 3), ('ADP', 3), ('PROPN', 3)],\n",
       " [('PROPN', 3), ('flat', 3), ('ADP', 3), ('conj', 3)],\n",
       " [('PROPN', 3), ('flat', 3), ('PROPN', 3), ('flat', 3)],\n",
       " [('PROPN', 3), ('flat', 3), ('hombre', 3), ('flat', 3)],\n",
       " [('PROPN', 3), ('pública', 3), ('case', 3), ('PROPN', 3)],\n",
       " [('obl', 3), ('PROPN', 0), ('nsubj', 0), ('PROPN', 3)],\n",
       " [('obl', 3), ('PROPN', 0), ('flat', 0), ('flat', 3)],\n",
       " [('obl', 3), ('flat', 0), ('flat', 0), ('PROPN', 3)],\n",
       " [('licencias', 3), ('PROPN', 3), ('PROPN', 3), ('flat', 0)],\n",
       " [('appos', 4), ('PROPN', 4), ('flat', 0), ('andaluz', 0)],\n",
       " [('nmod', 4), ('Doña', 0), ('obl', 0), ('ADP', 0)],\n",
       " [('appos', 3), ('obl', 3), ('obl', 3), ('PROPN', 3), ('ADP', 3)],\n",
       " [('Gándara', 3), ('PROPN', 3), ('pública', 2), ('case', 3), ('appos', 3)],\n",
       " [('de', 3), ('obj', 3), ('appos', 3), ('flat', 3), ('ADP', 3)],\n",
       " [('los', 1), ('nmod', 0), ('PROPN', 1), ('nsubj', 0), ('diputados', 1)],\n",
       " [('educativa', 3), ('obj', 3), ('flat', 3), ('Efe', 0), ('PROPN', 0)],\n",
       " [('PROPN', 1), ('nmod', 1), ('de', 1), ('argentino', 0), ('PROPN', 1)],\n",
       " [('case', 1), ('PROPN', 1), ('case', 0), ('cultura', 1), ('flat', 1)],\n",
       " [('PROPN', 3), ('ADP', 3), ('PROPN', 3), ('ADP', 2), ('PROPN', 0)],\n",
       " [('flat', 3), ('ADP', 0), ('flat', 3), ('Feria', 3), ('PROPN', 3)],\n",
       " [('PROPN', 1), ('PROPN', 1), ('leche', 1), ('los', 1), ('flat', 1)],\n",
       " [('ha', 1), ('nmod', 1), ('de', 1), ('argentino', 1), ('PROPN', 1)],\n",
       " [('PROPN', 3), ('flat', 3), ('PROPN', 3), ('de', 3), ('PROPN', 3)],\n",
       " [('PROPN', 3), ('det', 3), ('flat', 3), ('PROPN', 3), ('flat', 3)],\n",
       " [('DET', 0), ('PROPN', 3), ('flat', 3), ('nmod', 3), ('PROPN', 0)],\n",
       " [('DET', 0), ('nmod', 3), ('flat', 3), ('case', 0), ('flat', 3)],\n",
       " [('ADP', 0), ('PROPN', 0), ('andaluz', 0), ('flat', 1), ('PROPN', 0)],\n",
       " [('ADP', 0), ('Arias', 0), ('PROPN', 4), ('PROPN', 4), ('flat', 4)],\n",
       " [('PROPN', 0), ('ADP', 0), ('nsubj', 1), ('tuvo', 1), ('flat', 1)],\n",
       " [('PROPN', 0), ('PROPN', 0), ('educativa', 0), ('flat', 1), ('PROPN', 0)],\n",
       " [('PROPN', 0), ('case', 0), ('PROPN', 0), ('Doña', 0), ('PROPN', 3)],\n",
       " [('PROPN', 0), ('ha', 0), ('de', 4), ('PROPN', 0), ('PROPN', 4)],\n",
       " [('PROPN', 0), ('PROPN', 1), ('case', 0), ('case', 1), ('diputados', 1)],\n",
       " [('PROPN', 0), ('PROPN', 1), ('ADP', 1), ('Areces', 1), ('flat', 1)],\n",
       " [('PROPN', 0), ('flat', 1), ('PROPN', 0), ('flat', 0), ('PROPN', 0)],\n",
       " [('PROPN', 0), ('flat', 1), ('casa', 0), ('PROPN', 0), ('flat', 0)],\n",
       " [('PROPN', 0), ('flat', 1), ('de', 0), ('case', 0), ('flat', 0)],\n",
       " [('PROPN', 0), ('flat', 1), ('licencias', 0), ('PROPN', 0), ('flat', 0)],\n",
       " [('nmod', 0), ('flat', 0), ('madrileño', 0), ('PROPN', 1), ('leche', 0)],\n",
       " [('nmod', 0), ('flat', 1), ('ADP', 0), ('appos', 0), ('ADP', 0)],\n",
       " [('nmod', 0), ('flat', 1), ('ADP', 0), ('appos', 0), ('leche', 0)],\n",
       " [('nmod', 0), ('flat', 1), ('PROPN', 0), ('grupo', 0), ('flat', 0)],\n",
       " [('nmod', 0), ('flat', 1), ('obj', 0), ('grupo', 0), ('PROPN', 0)],\n",
       " [('nmod', 0), ('flat', 1), ('grupo', 0), ('PROPN', 0), ('PROPN', 0)],\n",
       " [('tuvo', 0), ('PROPN', 3), ('flat', 3), ('PROPN', 3), ('flat', 3)],\n",
       " [('Congreso', 0), ('PROPN', 0), ('andaluz', 0), ('PROPN', 0), ('flat', 1)],\n",
       " [('ni', 0), ('PROPN', 3), ('PROPN', 0), ('Málaga', 3), ('flat', 3)],\n",
       " [('Federación', 0), ('flat', 1), ('obj', 0), ('PROPN', 0), ('PROPN', 0)],\n",
       " [('Federación', 0), ('flat', 1), ('acusó', 0), ('PROPN', 0), ('PROPN', 0)],\n",
       " [('Federación', 0), ('flat', 1), ('consejo', 0), ('PROPN', 0), ('flat', 0)],\n",
       " [('deportes', 0), ('PROPN', 3), ('PROPN', 0), ('Málaga', 3), ('flat', 3)],\n",
       " [('flat', 1), ('PROPN', 0), ('ADP', 0), ('flat', 0), ('PROPN', 0)],\n",
       " [('del', 1), ('flat', 0), ('case', 0), ('flat', 0), ('PROPN', 0)],\n",
       " [('PROPN', 3), ('case', 0), ('flat', 3), ('Congreso', 0), ('PROPN', 3)],\n",
       " [('PROPN', 3), ('PROPN', 3), ('PROPN', 0), ('PROPN', 0), ('flat', 3)],\n",
       " [('PROPN', 3), ('PROPN', 3), ('PROPN', 3), ('det', 0), ('flat', 3)],\n",
       " [('PROPN', 3), ('Efe', 3), ('flat', 3), ('ni', 0), ('flat', 3)],\n",
       " [('andaluz', 2),\n",
       "  ('nmod', 0),\n",
       "  ('flat', 1),\n",
       "  ('ADP', 0),\n",
       "  ('de', 0),\n",
       "  ('PROPN', 0)],\n",
       " [('DET', 3),\n",
       "  ('obl', 3),\n",
       "  ('PROPN', 0),\n",
       "  ('nsubj', 0),\n",
       "  ('PROPN', 3),\n",
       "  ('case', 3)],\n",
       " [('educativa', 0),\n",
       "  ('PROPN', 0),\n",
       "  ('PROPN', 4),\n",
       "  ('appos', 0),\n",
       "  ('PROPN', 4),\n",
       "  ('PROPN', 4)],\n",
       " [('PROPN', 3), ('det', 3), ('flat', 3), ('flat', 3), ('de', 3), ('PROPN', 3)],\n",
       " [('flat', 3),\n",
       "  ('det', 0),\n",
       "  ('flat', 3),\n",
       "  ('Efe', 0),\n",
       "  ('PROPN', 0),\n",
       "  ('PROPN', 3)],\n",
       " [('DET', 0),\n",
       "  ('PROPN', 3),\n",
       "  ('flat', 3),\n",
       "  ('licencias', 3),\n",
       "  ('flat', 3),\n",
       "  ('leche', 3)],\n",
       " [('deportes', 1),\n",
       "  ('PROPN', 0),\n",
       "  ('Congreso', 1),\n",
       "  ('ADP', 1),\n",
       "  ('nsubj', 1),\n",
       "  ('PROPN', 1)],\n",
       " [('PROPN', 3),\n",
       "  ('pública', 3),\n",
       "  ('PROPN', 3),\n",
       "  ('flat', 3),\n",
       "  ('PROPN', 3),\n",
       "  ('flat', 3)],\n",
       " [('PROPN', 3),\n",
       "  ('PROPN', 3),\n",
       "  ('PROPN', 3),\n",
       "  ('flat', 3),\n",
       "  ('det', 0),\n",
       "  ('flat', 3)],\n",
       " [('PROPN', 3),\n",
       "  ('PROPN', 3),\n",
       "  ('case', 3),\n",
       "  ('det', 0),\n",
       "  ('de', 0),\n",
       "  ('PROPN', 0)],\n",
       " [('PROPN', 3),\n",
       "  ('flat', 3),\n",
       "  ('det', 0),\n",
       "  ('flat', 3),\n",
       "  ('Efe', 0),\n",
       "  ('PROPN', 0)],\n",
       " [('PROPN', 3), ('flat', 3), ('det', 0), ('flat', 3), ('Efe', 0), ('ni', 3)],\n",
       " [('PROPN', 3),\n",
       "  ('pública', 3),\n",
       "  ('PROPN', 3),\n",
       "  ('PROPN', 0),\n",
       "  ('Málaga', 0),\n",
       "  ('Efe', 0)],\n",
       " [('PROPN', 3),\n",
       "  ('pública', 3),\n",
       "  ('PROPN', 3),\n",
       "  ('PROPN', 0),\n",
       "  ('Málaga', 0),\n",
       "  ('flat', 3)],\n",
       " [('PROPN', 0),\n",
       "  ('appos', 0),\n",
       "  ('PROPN', 3),\n",
       "  ('case', 3),\n",
       "  ('PROPN', 4),\n",
       "  ('PROPN', 4),\n",
       "  ('flat', 0)],\n",
       " [('PROPN', 0),\n",
       "  ('appos', 0),\n",
       "  ('PROPN', 3),\n",
       "  ('PROPN', 4),\n",
       "  ('PROPN', 4),\n",
       "  ('PROPN', 4),\n",
       "  ('flat', 0)],\n",
       " [('DET', 0),\n",
       "  ('PROPN', 3),\n",
       "  ('flat', 3),\n",
       "  ('licencias', 3),\n",
       "  ('flat', 3),\n",
       "  ('leche', 3),\n",
       "  ('PROPN', 0)],\n",
       " [('DET', 0),\n",
       "  ('obl', 3),\n",
       "  ('flat', 3),\n",
       "  ('licencias', 3),\n",
       "  ('flat', 3),\n",
       "  ('Alava', 3),\n",
       "  ('PROPN', 3)]]"
      ]
     },
     "execution_count": 46,
     "metadata": {},
     "output_type": "execute_result"
    }
   ],
   "source": [
    "rules"
   ]
  },
  {
   "cell_type": "code",
   "execution_count": 47,
   "metadata": {},
   "outputs": [
    {
     "data": {
      "text/plain": [
       "[('DET', 0),\n",
       " ('obl', 3),\n",
       " ('flat', 3),\n",
       " ('licencias', 3),\n",
       " ('flat', 3),\n",
       " ('Alava', 3),\n",
       " ('PROPN', 3)]"
      ]
     },
     "execution_count": 47,
     "metadata": {},
     "output_type": "execute_result"
    }
   ],
   "source": [
    "rules[-1]"
   ]
  },
  {
   "cell_type": "code",
   "execution_count": 48,
   "metadata": {},
   "outputs": [],
   "source": [
    "pos_embeddings = get_ml_embedding(\"PROPN\")"
   ]
  },
  {
   "cell_type": "code",
   "execution_count": 49,
   "metadata": {},
   "outputs": [
    {
     "data": {
      "text/plain": [
       "'PROPN'"
      ]
     },
     "execution_count": 49,
     "metadata": {},
     "output_type": "execute_result"
    }
   ],
   "source": [
    "similarities = np.dot(word_embeddings, pos_embeddings)/(np.linalg.norm(word_embeddings, axis=1) * np.linalg.norm(pos_embeddings))\n",
    "most_similar_word = word_list[np.argmax(similarities)]\n",
    "most_similar_word"
   ]
  },
  {
   "attachments": {},
   "cell_type": "markdown",
   "metadata": {},
   "source": [
    "##### 3. Ner using genetic rules\n"
   ]
  },
  {
   "cell_type": "code",
   "execution_count": null,
   "metadata": {},
   "outputs": [],
   "source": []
  },
  {
   "cell_type": "code",
   "execution_count": 65,
   "metadata": {},
   "outputs": [],
   "source": [
    "# Get list of features of population by entity type\n",
    "# Use a document base to convert array to Feature using global index\n",
    "from ga_ner.models import Feature, Rule, Document, Vocabulary\n",
    "import numpy as np\n",
    "from typing import List, Dict, Tuple, Iterable"
   ]
  },
  {
   "cell_type": "code",
   "execution_count": 66,
   "metadata": {},
   "outputs": [],
   "source": [
    "vocabulary = Vocabulary.from_file(\n",
    "    \"data/vocabs/conn-2002-uncased-vocab.txt\", include_special=False\n",
    ")\n",
    "\n",
    "vocab_ent = Vocabulary.from_list(entity_names, include_special=False)\n",
    "\n",
    "document = Document.from_text(\"\", vocab=vocabulary, vocab_ent=vocab_ent)"
   ]
  },
  {
   "cell_type": "code",
   "execution_count": 59,
   "metadata": {},
   "outputs": [],
   "source": [
    "from ga_ner.models import Feature, Rule, Document, Vocabulary\n",
    "\n",
    "\n",
    "def get_features(\n",
    "    ga_pupulation: np.ndarray,\n",
    "    array_fitness: np.ndarray,\n",
    "    document: Document,\n",
    ") -> List[Rule]:\n",
    "    \"\"\"\n",
    "    Decode Ga rules to Rule object.\n",
    "    \"\"\"\n",
    "    rules = []\n",
    "    for index in range(ga_pupulation.shape[0]):\n",
    "        # firts element is the length of the rule\n",
    "        end_rule = int(ga_pupulation[index, 0]) + 3\n",
    "        entity_type = corpus_1.vocab_ent[ga_pupulation[index, 2]]\n",
    "        rules.append(\n",
    "            document.rule_from_array(\n",
    "                ga_pupulation[index, 3:end_rule],\n",
    "                int(ga_pupulation[index, 2]),\n",
    "                array_fitness[index],\n",
    "            )\n",
    "        )\n",
    "    return rules\n"
   ]
  },
  {
   "cell_type": "code",
   "execution_count": 24,
   "metadata": {},
   "outputs": [],
   "source": [
    "# Read rules from file\n",
    "rules = np.zeros((0, 10), dtype=np.float32)\n",
    "with open(\"data/rules/mpi/population_8.txt\", \"r\") as file:\n",
    "    for line in file:\n",
    "        rules = np.vstack((rules, np.array(line.strip().split(\" \")).astype(np.float32)))\n",
    "rules = np.unique(rules, axis=0)\n"
   ]
  },
  {
   "cell_type": "code",
   "execution_count": 67,
   "metadata": {},
   "outputs": [
    {
     "data": {
      "text/plain": [
       "'PER'"
      ]
     },
     "execution_count": 67,
     "metadata": {},
     "output_type": "execute_result"
    }
   ],
   "source": [
    "vocab_ent.inverse()[1]"
   ]
  },
  {
   "cell_type": "code",
   "execution_count": 29,
   "metadata": {},
   "outputs": [],
   "source": [
    "# fitness_ = cpp_fitness(\n",
    "#     rules,\n",
    "#     entity_dataset[\"ALL\"][\"input\"],\n",
    "#     entity_dataset[\"ALL\"][\"target\"][:, :, 0],\n",
    "#     entity_dataset[\"ALL\"][\"meta\"],\n",
    "#     corpus_1.documents[0].unk_id,\n",
    "#     8,\n",
    "# ).base\n"
   ]
  },
  {
   "cell_type": "code",
   "execution_count": 60,
   "metadata": {},
   "outputs": [
    {
     "ename": "NameError",
     "evalue": "name 'get_features' is not defined",
     "output_type": "error",
     "traceback": [
      "\u001b[0;31m---------------------------------------------------------------------------\u001b[0m",
      "\u001b[0;31mNameError\u001b[0m                                 Traceback (most recent call last)",
      "Cell \u001b[0;32mIn[60], line 2\u001b[0m\n\u001b[1;32m      1\u001b[0m \u001b[39m## Decode rules to Rule object\u001b[39;00m\n\u001b[0;32m----> 2\u001b[0m obj_rules \u001b[39m=\u001b[39m get_features(\n\u001b[1;32m      3\u001b[0m     rules, np\u001b[39m.\u001b[39mzeros(rules\u001b[39m.\u001b[39mshape[\u001b[39m0\u001b[39m]), corpus_1\u001b[39m.\u001b[39mdocuments[\u001b[39m0\u001b[39m]\n\u001b[1;32m      4\u001b[0m )  \u001b[39m# Count rules by entity type\u001b[39;00m\n\u001b[1;32m      5\u001b[0m \u001b[39mfrom\u001b[39;00m \u001b[39mcollections\u001b[39;00m \u001b[39mimport\u001b[39;00m Counter\n\u001b[1;32m      7\u001b[0m counter_rule \u001b[39m=\u001b[39m Counter([rule\u001b[39m.\u001b[39mentity \u001b[39mfor\u001b[39;00m rule \u001b[39min\u001b[39;00m obj_rules])\n",
      "\u001b[0;31mNameError\u001b[0m: name 'get_features' is not defined"
     ]
    }
   ],
   "source": [
    "## Decode rules to Rule object\n",
    "obj_rules = get_features(\n",
    "    rules, np.zeros(rules.shape[0]), corpus_1.documents[0]\n",
    ")  # Count rules by entity type\n",
    "from collections import Counter\n",
    "\n",
    "counter_rule = Counter([rule.entity for rule in obj_rules])\n",
    "print(counter_rule)\n",
    "# get value the least common entity type\n",
    "min_value = min(counter_rule.values())\n",
    "print(min_value)\n",
    "\n",
    "# Index of rules by entity type. Each can be at most min_value\n",
    "index_rules = []\n",
    "counter_balance = Counter()\n",
    "for i in fitness_.argsort()[::-1]:\n",
    "    if counter_balance[obj_rules[i].entity] < min_value:\n",
    "        index_rules.append(i)\n",
    "        counter_balance[obj_rules[i].entity] += 1\n"
   ]
  },
  {
   "cell_type": "code",
   "execution_count": 27,
   "metadata": {},
   "outputs": [
    {
     "ename": "NameError",
     "evalue": "name 'obj_rules' is not defined",
     "output_type": "error",
     "traceback": [
      "\u001b[0;31m---------------------------------------------------------------------------\u001b[0m",
      "\u001b[0;31mNameError\u001b[0m                                 Traceback (most recent call last)",
      "Cell \u001b[0;32mIn[27], line 3\u001b[0m\n\u001b[1;32m      1\u001b[0m current_entity \u001b[39m=\u001b[39m \u001b[39m1\u001b[39m\n\u001b[1;32m      2\u001b[0m \u001b[39mfor\u001b[39;00m i \u001b[39min\u001b[39;00m index_rules:\n\u001b[0;32m----> 3\u001b[0m     \u001b[39mif\u001b[39;00m obj_rules[i]\u001b[39m.\u001b[39mentity \u001b[39m==\u001b[39m current_entity:\n\u001b[1;32m      4\u001b[0m         \u001b[39mprint\u001b[39m(obj_rules[i]\u001b[39m.\u001b[39mto_dict(vocab\u001b[39m=\u001b[39mvocabulary, vocab_entities\u001b[39m=\u001b[39mvocab_ent))\n\u001b[1;32m      5\u001b[0m         current_entity \u001b[39m=\u001b[39m (current_entity) \u001b[39m%\u001b[39m \u001b[39m4\u001b[39m \u001b[39m+\u001b[39m \u001b[39m1\u001b[39m\n",
      "\u001b[0;31mNameError\u001b[0m: name 'obj_rules' is not defined"
     ]
    }
   ],
   "source": [
    "current_entity = 1\n",
    "for i in index_rules:\n",
    "    if obj_rules[i].entity == current_entity:\n",
    "        print(obj_rules[i].to_dict(vocab=vocabulary, vocab_entities=vocab_ent))\n",
    "        current_entity = (current_entity) % 4 + 1\n"
   ]
  },
  {
   "cell_type": "code",
   "execution_count": 67,
   "metadata": {},
   "outputs": [
    {
     "name": "stdout",
     "output_type": "stream",
     "text": [
      "\u001b[38;5;4mℹ Grouping every 1 sentences into a document.\u001b[0m\n",
      "\u001b[38;5;3m⚠ To generate better training data, you may want to group sentences\n",
      "into documents with `-n 10`.\u001b[0m\n"
     ]
    }
   ],
   "source": [
    "from spacy.training.converters import conll_ner_to_docs\n",
    "\n",
    "conll_file = \"data/test/esp.testa.txt\"\n",
    "with open(conll_file, \"r\", encoding=\"iso-8859-1\") as file:\n",
    "    input_data = file.read()\n",
    "docs_val = conll_ner_to_docs(\n",
    "    input_data, n_sents=1, no_print=False, model=\"es_dep_news_trf\"\n",
    ")\n",
    "# Simple load\n",
    "spacy_ner_doc_val = list(docs_val)\n",
    "samples_len = len(spacy_ner_doc_val)"
   ]
  },
  {
   "cell_type": "code",
   "execution_count": 68,
   "metadata": {},
   "outputs": [],
   "source": [
    "num_val=100\n",
    "sample_is_complete_val = np.zeros(samples_len, dtype=bool)\n",
    "np.random.seed(0)\n",
    "selected_indices_val = np.random.choice(samples_len, size=num_val, replace=False)"
   ]
  },
  {
   "cell_type": "code",
   "execution_count": 162,
   "metadata": {},
   "outputs": [
    {
     "data": {
      "application/vnd.jupyter.widget-view+json": {
       "model_id": "c6f5993d987c4e7085edb2dfaac71266",
       "version_major": 2,
       "version_minor": 0
      },
      "text/plain": [
       "  0%|          | 0/100 [00:00<?, ?it/s]"
      ]
     },
     "metadata": {},
     "output_type": "display_data"
    }
   ],
   "source": [
    "from ga_ner.models import GANER, Document, Corpus, Vocabulary\n",
    "\n",
    "corpus_val = Corpus.from_spacy_docs(\n",
    "    sample_spacy_docs(spacy_ner_doc_val, selected_indices_val, sample_is_complete_val),\n",
    "    total_samples=len(selected_indices_val),\n",
    "    vocab=vocabulary,\n",
    "    embeding_func=get_ml_embedding,\n",
    "    vocab_ent=vocab_ent,\n",
    "    emb_size=embedding_size,\n",
    ")\n"
   ]
  },
  {
   "cell_type": "code",
   "execution_count": 70,
   "metadata": {},
   "outputs": [
    {
     "data": {
      "text/plain": [
       "[Entity(label=MISC, name=Geles, start=8, end=9),\n",
       " Entity(label=LOC, name=Nueva York, start=10, end=12),\n",
       " Entity(label=ORG, name=EFE, start=16, end=17)]"
      ]
     },
     "execution_count": 70,
     "metadata": {},
     "output_type": "execute_result"
    }
   ],
   "source": [
    "corpus_val.documents[0].entities"
   ]
  },
  {
   "cell_type": "code",
   "execution_count": 71,
   "metadata": {},
   "outputs": [
    {
     "name": "stdout",
     "output_type": "stream",
     "text": [
      "( PUNCT punct \n",
      "añade VERB ROOT \n",
      "un DET det \n",
      "cambio NOUN obj \n",
      "en ADP case \n",
      "el DET det \n",
      "equipo NOUN obl \n",
      "de ADP case \n",
      "Geles PROPN nmod MISC\n",
      ") PUNCT punct \n",
      "Nueva PROPN obl LOC\n",
      "York PROPN flat LOC\n",
      ", PUNCT punct \n",
      "23 NUM appos \n",
      "may NOUN appos \n",
      "( PUNCT punct \n",
      "EFE PROPN flat ORG\n",
      ") PUNCT punct \n",
      ". PUNCT punct \n"
     ]
    }
   ],
   "source": [
    "for token in spacy_ner_doc_val[selected_indices_val[0]]:\n",
    "    print(token.text, token.pos_, token.dep_, token.ent_type_)"
   ]
  },
  {
   "cell_type": "code",
   "execution_count": 72,
   "metadata": {},
   "outputs": [],
   "source": [
    "corpus_val.to_text_array(\n",
    "    input_filename=\"data/val/input.txt\",\n",
    "    target_filename=\"data/val/target.txt\",\n",
    "    metadata_filename=\"data/val/meta.txt\",\n",
    ")"
   ]
  },
  {
   "attachments": {},
   "cell_type": "markdown",
   "metadata": {},
   "source": [
    "Predict entities using genetic rules from next samples from training. Take 20% additional samples from training to test.\n",
    "Select best predicted segments and it add to training corpus."
   ]
  },
  {
   "cell_type": "code",
   "execution_count": 80,
   "metadata": {},
   "outputs": [],
   "source": [
    "current_training_size = num_docs"
   ]
  },
  {
   "cell_type": "code",
   "execution_count": 83,
   "metadata": {},
   "outputs": [
    {
     "data": {
      "application/vnd.jupyter.widget-view+json": {
       "model_id": "87f67651f5ad41fa90f6ea2f9373fb58",
       "version_major": 2,
       "version_minor": 0
      },
      "text/plain": [
       "  0%|          | 0/2 [00:00<?, ?it/s]"
      ]
     },
     "metadata": {},
     "output_type": "display_data"
    },
    {
     "name": "stderr",
     "output_type": "stream",
     "text": [
      "/home/jraba/Dev/gar-lener-es/env/lib/python3.10/site-packages/torch/amp/autocast_mode.py:198: UserWarning: User provided device_type of 'cuda', but CUDA is not available. Disabling\n",
      "  warnings.warn('User provided device_type of \\'cuda\\', but CUDA is not available. Disabling')\n"
     ]
    }
   ],
   "source": [
    "index_end = current_training_size + int(current_training_size * 0.2)\n",
    "corpus_test = Corpus.from_spacy_docs(\n",
    "    sample_spacy_docs(spacy_ner_doc, selected_indices[current_training_size:index_end], sample_is_complete_1),\n",
    "    total_samples=len(selected_indices[current_training_size:index_end]),\n",
    "    vocab=vocabulary,\n",
    "    embeding_func=get_ml_embedding,\n",
    "    vocab_ent=vocab_ent,\n",
    "    emb_size=embedding_size,\n",
    ")"
   ]
  },
  {
   "cell_type": "code",
   "execution_count": 82,
   "metadata": {},
   "outputs": [
    {
     "data": {
      "text/plain": [
       "(10, 2)"
      ]
     },
     "execution_count": 82,
     "metadata": {},
     "output_type": "execute_result"
    }
   ],
   "source": [
    "current_training_size,int(current_training_size*0.2)"
   ]
  },
  {
   "attachments": {},
   "cell_type": "markdown",
   "metadata": {},
   "source": [
    "##### Predict entities with ner rules\n"
   ]
  },
  {
   "cell_type": "code",
   "execution_count": 73,
   "metadata": {},
   "outputs": [],
   "source": [
    "from typing import List, Dict, Tuple, Iterable\n",
    "\n",
    "\n",
    "def slice_doc(\n",
    "    doc: np.ndarray,\n",
    "    rule: np.ndarray,\n",
    "    doc_size: int,\n",
    "    embedding_size: int,\n",
    "    num_features: int = 3,\n",
    ") -> Iterable[Tuple[int, int]]:\n",
    "    \"\"\"Return indices where entity is located in the document.\"\"\"\n",
    "    rule_size: int = int(rule[0])\n",
    "    entity_mask = np.zeros(rule_size, dtype=np.int16)\n",
    "    # individual_data = rule[3 : 3 + rule_size].reshape(-1, 1)\n",
    "    # Fill individual data, ignore first 2 elements for each segment\n",
    "    # TODO convert to function\n",
    "    individual_data = np.zeros(rule_size * embedding_size, dtype=np.float32)\n",
    "    feature_array = np.zeros(rule_size, dtype=np.int32)\n",
    "    for index in range(rule_size):\n",
    "        start_index = index * (embedding_size + 2) + 2 + 3\n",
    "        end_index = start_index + embedding_size\n",
    "        individual_data[index * embedding_size : (index + 1) * embedding_size] = rule[\n",
    "            start_index:end_index\n",
    "        ]\n",
    "        feature_array[index] = rule[start_index-1]\n",
    "    # Set mask of entity\n",
    "    for index in range(rule_size):\n",
    "        entity_mask[index] = rule[index * (embedding_size + 2) + 3]\n",
    "\n",
    "    similarity_threshold: float = 0.8\n",
    "    for index in range(0, doc_size - rule_size + 2):\n",
    "        start_index = index * embedding_size * num_features\n",
    "        end_index = (index + rule_size) * embedding_size * num_features\n",
    "        sliced_doc = np.zeros(rule_size * embedding_size, dtype=np.float32)\n",
    "        for index_feature in range(feature_array.shape[0]):\n",
    "            feature = feature_array[index_feature].item()\n",
    "            displacement = feature * embedding_size\n",
    "            segment_start = index_feature * embedding_size\n",
    "            index_segment_doc = (\n",
    "                start_index + displacement + index_feature * embedding_size * num_features\n",
    "            )\n",
    "            if end_index < index_segment_doc + embedding_size:\n",
    "                raise ValueError(\"Index out of range\")\n",
    "            sliced_doc[segment_start : segment_start + embedding_size] = doc[\n",
    "                index_segment_doc : index_segment_doc + embedding_size\n",
    "            ]\n",
    "\n",
    "        # assert sliced_doc.shape == (rule_size * embedding_size, num_features)\n",
    "\n",
    "        index_doc = index + 1\n",
    "        # Cosine similarity\n",
    "        similarity: np.ndarray = sliced_doc @ individual_data\n",
    "        similarity /= np.linalg.norm(sliced_doc) * np.linalg.norm(\n",
    "            individual_data\n",
    "        )\n",
    "\n",
    "        if (similarity > 1+1e-6).any():\n",
    "            raise ValueError(\"Similarity greater than 1\")\n",
    "        if (similarity > similarity_threshold).any():\n",
    "            for index_rule in range(rule_size):\n",
    "                start_index = index_doc + index_rule\n",
    "                end_index = start_index + 1\n",
    "                yield start_index, end_index, entity_mask[index_rule].item()\n",
    "            # if rule_size == 1:\n",
    "            #     yield index_doc, index_doc + 1\n",
    "            # else:\n",
    "            #     start_index = index_doc\n",
    "            #     end_index = index_doc + 1\n",
    "            #     for index_include in range(rule_size - 1):\n",
    "            #         if (\n",
    "            #             index_include == rule_size - 2\n",
    "            #             and entity_mask[index_include + 1] > 0\n",
    "            #         ):\n",
    "            #             end_index = index_doc + index_include + 2\n",
    "            #             if not entity_mask[index_include] > 0:\n",
    "            #                 start_index = index_doc + index_include + 1\n",
    "            #             yield start_index, end_index\n",
    "            #         elif not entity_mask[index_include] > 0:\n",
    "            #             start_index = index_doc + index_include + 1\n",
    "            #         elif not entity_mask[index_include + 1] > 0:\n",
    "            #             end_index = index_doc + index_include + 1\n",
    "            #             yield start_index, end_index\n",
    "            #             start_index = index_doc + index_include + 1\n",
    "            #         elif index_include == rule_size - 2:\n",
    "            #             end_index = index_doc + index_include + 2\n",
    "            #             yield start_index, end_index\n",
    "            #         else:\n",
    "            #             end_index = index_doc + index_include + 1\n"
   ]
  },
  {
   "cell_type": "code",
   "execution_count": 74,
   "metadata": {},
   "outputs": [],
   "source": [
    "# plot confusion matrix normalized\n",
    "from sklearn.metrics import confusion_matrix\n",
    "from sklearn.metrics import classification_report\n",
    "import seaborn as sns\n",
    "import matplotlib.pyplot as plt\n",
    "import pandas as pd\n",
    "\n",
    "\n",
    "def print_cm(target, predict, labels, normalize=True):\n",
    "    cm = confusion_matrix(target, predict, labels=labels)\n",
    "    if normalize:\n",
    "        cm = cm.astype(\"float\") / cm.sum(axis=1)[:, np.newaxis]\n",
    "    df_cm = pd.DataFrame(cm, index=labels, columns=labels)\n",
    "    plt.figure(figsize=(10, 7))\n",
    "    sns.heatmap(df_cm, annot=True, fmt=\".2f\", cmap=\"Blues\")\n"
   ]
  },
  {
   "cell_type": "code",
   "execution_count": 168,
   "metadata": {},
   "outputs": [],
   "source": [
    "from tqdm.auto import tqdm, trange\n",
    "\n",
    "target = []\n",
    "predict = []\n",
    "num_tags = len(entity_names) + 1\n",
    "input_data_all = np.array([])\n",
    "\n",
    "# load validation data from file\n",
    "max_size_doc = 172\n",
    "s_init_pop = 400\n",
    "gen_size = 7\n",
    "max_len = 3 + gen_size * (embedding_size + 2)\n",
    "val_doc_dataset = np.zeros(\n",
    "    (num_val, max_size_doc * embedding_size * 3), dtype=np.float32\n",
    ")\n",
    "val_target_doc = np.zeros((num_val, max_size_doc), dtype=np.int32)\n",
    "val_metadata_doc = np.zeros((num_val, 4), dtype=np.int32)\n",
    "with open(\"data/val/input.txt\", \"r\") as val_input_file, open(\n",
    "    \"data/val/target.txt\"\n",
    ") as val_target_file, open(\"data/val/meta.txt\") as val_metadata_file:\n",
    "    for doc_index, line in enumerate(val_input_file):\n",
    "        input_doc = np.array([float(x) for x in line.split(\",\")], dtype=np.float32)\n",
    "        val_doc_dataset[doc_index, : input_doc.shape[0]] = input_doc\n",
    "    for doc_index, line in enumerate(val_target_file):\n",
    "        line_target = np.array([int(x) for x in line.split(\",\")])\n",
    "        val_target_doc[doc_index, : line_target.shape[0]] = line_target\n",
    "    for doc_index, line in enumerate(val_metadata_file):\n",
    "        line_metadata = np.array([int(x) for x in line.split(\",\")])\n",
    "        val_metadata_doc[doc_index, : line_metadata.shape[0]] = line_metadata"
   ]
  },
  {
   "cell_type": "code",
   "execution_count": 169,
   "metadata": {},
   "outputs": [],
   "source": [
    "\n",
    "def get_all_targets(val_doc_dataset, val_target_doc, val_metadata_doc):\n",
    "    target_data_all = np.array([], dtype=int)\n",
    "    for index_doc in trange(val_doc_dataset.shape[0]):\n",
    "        if val_target_doc[index_doc].sum() == 0:\n",
    "            continue\n",
    "        doc_size = val_metadata_doc[index_doc, 0].item()\n",
    "        target_data = val_target_doc[index_doc][1:doc_size+1]\n",
    "        # get rules for each entity\n",
    "        target.extend(entity_map[target_data].tolist())\n",
    "        # get votes from rules\n",
    "        target_data_all = np.concatenate((target_data_all, target_data))\n",
    "\n",
    "    return target_data_all\n",
    "\n",
    "\n",
    "def majority_vote(val_doc_dataset, val_target_doc, val_metadata_doc):\n",
    "    votes_all = np.array([], dtype=int)\n",
    "    doc_len_list = []\n",
    "    fitness_active = np.zeros((len(index_rules),), dtype=bool)\n",
    "\n",
    "    for index_doc, array_doc in enumerate(tqdm(val_doc_dataset)):\n",
    "        if val_target_doc[index_doc].sum() == 0:\n",
    "            continue\n",
    "\n",
    "        input_data = np.zeros((gen_size * embedding_size, len(array_rules)), dtype=float)\n",
    "        doc_size = val_metadata_doc[index_doc, 0].item()\n",
    "        target_data = val_target_doc[index_doc][1:doc_size+1]\n",
    "        doc_len_list.append(array_doc[0])\n",
    "        # get rules for each entity\n",
    "        index_data = 0\n",
    "        target.extend(entity_map[target_data].tolist())\n",
    "        \n",
    "        # get votes from rules\n",
    "        votes = np.zeros((val_metadata_doc[index_doc][0], 5), dtype=float)\n",
    "        for index_rule in range(array_rules.shape[0]):\n",
    "            slices: Iterable[Tuple[int, int, int]] = slice_doc(\n",
    "                array_doc,\n",
    "                array_rules[index_rule],\n",
    "                doc_size=doc_size,\n",
    "                embedding_size=embedding_size,\n",
    "            )\n",
    "            for start, end, entity_id in slices:\n",
    "                # input_data[start:end, index_data] = array_fitness[index_rule]\n",
    "                # entity_id = int(array_rules[index_rule, 2])\n",
    "                input_data[\n",
    "                    start - 1 : end - 1, index_data\n",
    "                ] = entity_id  # +log2_rules[index_rule]\n",
    "                # votes[start-2:end-2, int(entity_id)] = votes[start-2:end-2, int(entity_id)] + array_fitness[index_rule]\n",
    "                # votes[start - 2 : end - 2, int(entity_id)] += 1\n",
    "                votes[start - 2 : end - 2, int(entity_id)] += array_fitness[index_rule]\n",
    "                # votes[start-2:end-2, int(entity_id)] = votes[start-2:end-2, int(entity_id)] + array_rules[index_rule][2]\n",
    "                fitness_active[index_rule] = True\n",
    "                # total_emit += end - start\n",
    "                # parcial_obs[start - 2 : end - 2] += 1\n",
    "\n",
    "                # update rule emit prob\n",
    "                # rule_emit_prob[int(entity_id), index_rule] += total_emit\n",
    "                # rule_emit_prob[0, index_rule] += array_doc[0] - total_emit\n",
    "                # index_data += 1\n",
    "\n",
    "        votes_all = np.vstack((votes_all, votes)) if votes_all.size else votes\n",
    "\n",
    "    # Predict with majority vote using the best rules\n",
    "    votes_all_2 = votes_all.copy()\n",
    "    predict = []\n",
    "    # If column 0 is 0, fill with mean of the other columns\n",
    "    # filter_zero = votes_all_2[:, 0] < array_fitness[fitness_active].mean(axis=0)\n",
    "    # votes_all_2[filter_zero, 0] += votes_all_2[filter_zero, 1:].sum(axis=1) / 2\n",
    "    votes_all_2[:, 0] += 1\n",
    "    # votes_all_2[filter_zero, 0] = array_fitness[fitness_active].mean(axis=0)\n",
    "\n",
    "    # If column 0 is less than 0.5, fill with 0.5\n",
    "    # votes_all_2[:, 0] = np.where(votes_all_2[:, 0] > 0.5, votes_all_2[:, 0], 0.5)\n",
    "    means = votes_all_2[:,:].sum(axis=1)/2\n",
    "    votes_all_2[:, 0] = np.where(votes_all_2[:, 0] > means, votes_all_2[:, 0], means)\n",
    "    predict = entity_map[votes_all_2.argmax(axis=1)].tolist()\n",
    "    return predict, votes_all_2,  array_fitness.mean(axis=0).item()\n"
   ]
  },
  {
   "attachments": {},
   "cell_type": "markdown",
   "metadata": {},
   "source": [
    "Usar corpus text, predict and filter segments text that predition greater than fitness mean.\n",
    "\n",
    "Use new segments to predict to retrain ner rules."
   ]
  },
  {
   "cell_type": "code",
   "execution_count": 170,
   "metadata": {},
   "outputs": [
    {
     "data": {
      "application/vnd.jupyter.widget-view+json": {
       "model_id": "999f8043a02b42ff95636f84da90ed4e",
       "version_major": 2,
       "version_minor": 0
      },
      "text/plain": [
       "  0%|          | 0/100 [00:00<?, ?it/s]"
      ]
     },
     "metadata": {},
     "output_type": "display_data"
    },
    {
     "data": {
      "application/vnd.jupyter.widget-view+json": {
       "model_id": "5bf3148f390246189a70a9a2556df01c",
       "version_major": 2,
       "version_minor": 0
      },
      "text/plain": [
       "  0%|          | 0/100 [00:00<?, ?it/s]"
      ]
     },
     "metadata": {},
     "output_type": "display_data"
    }
   ],
   "source": [
    "target_data_all = get_all_targets(val_doc_dataset, val_target_doc, val_metadata_doc)\n",
    "predict, votes_all_2, fitness_mean = majority_vote(val_doc_dataset, val_target_doc, val_metadata_doc)"
   ]
  },
  {
   "cell_type": "code",
   "execution_count": 171,
   "metadata": {},
   "outputs": [
    {
     "name": "stderr",
     "output_type": "stream",
     "text": [
      "/home/jraba/Dev/gar-lener-es/env/lib/python3.10/site-packages/sklearn/metrics/_classification.py:1327: UndefinedMetricWarning: Precision and F-score are ill-defined and being set to 0.0 in labels with no predicted samples. Use `zero_division` parameter to control this behavior.\n",
      "  _warn_prf(average, modifier, msg_start, len(result))\n",
      "/home/jraba/Dev/gar-lener-es/env/lib/python3.10/site-packages/sklearn/metrics/_classification.py:1327: UndefinedMetricWarning: Precision and F-score are ill-defined and being set to 0.0 in labels with no predicted samples. Use `zero_division` parameter to control this behavior.\n",
      "  _warn_prf(average, modifier, msg_start, len(result))\n",
      "/home/jraba/Dev/gar-lener-es/env/lib/python3.10/site-packages/sklearn/metrics/_classification.py:1327: UndefinedMetricWarning: Precision and F-score are ill-defined and being set to 0.0 in labels with no predicted samples. Use `zero_division` parameter to control this behavior.\n",
      "  _warn_prf(average, modifier, msg_start, len(result))\n",
      "/tmp/ipykernel_625805/4224228738.py:12: RuntimeWarning: invalid value encountered in true_divide\n",
      "  cm = cm.astype(\"float\") / cm.sum(axis=1)[:, np.newaxis]\n"
     ]
    },
    {
     "name": "stdout",
     "output_type": "stream",
     "text": [
      "              precision    recall  f1-score   support\n",
      "\n",
      "         LOC       0.00      0.00      0.00         2\n",
      "        MISC       0.00      0.00      0.00         1\n",
      "           O       0.83      0.86      0.84        28\n",
      "         ORG       0.00      0.00      0.00         2\n",
      "\n",
      "    accuracy                           0.73        33\n",
      "   macro avg       0.21      0.21      0.21        33\n",
      "weighted avg       0.70      0.73      0.71        33\n",
      "\n"
     ]
    },
    {
     "data": {
      "image/png": "[encoded data removed]",
      "text/plain": [
       "<Figure size 1000x700 with 2 Axes>"
      ]
     },
     "metadata": {},
     "output_type": "display_data"
    }
   ],
   "source": [
    "t = 19+14 #+51+5#+43+14+46 #2334\n",
    "print(classification_report(entity_map[target_data_all[:t]], predict[:t]))\n",
    "print_cm(entity_map[target_data_all[:t]], predict[:t], entity_map)"
   ]
  },
  {
   "cell_type": "code",
   "execution_count": 153,
   "metadata": {},
   "outputs": [
    {
     "name": "stderr",
     "output_type": "stream",
     "text": [
      "/home/jraba/Dev/gar-lener-es/env/lib/python3.10/site-packages/sklearn/metrics/_classification.py:1327: UndefinedMetricWarning: Precision and F-score are ill-defined and being set to 0.0 in labels with no predicted samples. Use `zero_division` parameter to control this behavior.\n",
      "  _warn_prf(average, modifier, msg_start, len(result))\n",
      "/home/jraba/Dev/gar-lener-es/env/lib/python3.10/site-packages/sklearn/metrics/_classification.py:1327: UndefinedMetricWarning: Precision and F-score are ill-defined and being set to 0.0 in labels with no predicted samples. Use `zero_division` parameter to control this behavior.\n",
      "  _warn_prf(average, modifier, msg_start, len(result))\n",
      "/home/jraba/Dev/gar-lener-es/env/lib/python3.10/site-packages/sklearn/metrics/_classification.py:1327: UndefinedMetricWarning: Precision and F-score are ill-defined and being set to 0.0 in labels with no predicted samples. Use `zero_division` parameter to control this behavior.\n",
      "  _warn_prf(average, modifier, msg_start, len(result))\n"
     ]
    },
    {
     "name": "stdout",
     "output_type": "stream",
     "text": [
      "              precision    recall  f1-score   support\n",
      "\n",
      "         LOC       0.02      0.02      0.02        59\n",
      "        MISC       0.00      0.00      0.00        69\n",
      "           O       0.90      0.96      0.93      1993\n",
      "         ORG       0.25      0.02      0.04       126\n",
      "         PER       0.18      0.28      0.22        87\n",
      "\n",
      "    accuracy                           0.83      2334\n",
      "   macro avg       0.27      0.25      0.24      2334\n",
      "weighted avg       0.79      0.83      0.80      2334\n",
      "\n"
     ]
    },
    {
     "data": {
      "image/png": "[encoded data removed]",
      "text/plain": [
       "<Figure size 1000x700 with 2 Axes>"
      ]
     },
     "metadata": {},
     "output_type": "display_data"
    }
   ],
   "source": [
    "t = 2334# 19+14 +51+5#+43+14+46\n",
    "print(classification_report(entity_map[target_data_all[:t]], predict[:t]))\n",
    "print_cm(entity_map[target_data_all[:t]], predict[:t], entity_map)"
   ]
  },
  {
   "cell_type": "code",
   "execution_count": null,
   "metadata": {},
   "outputs": [],
   "source": [
    "#+43+14+46\n",
    "print(classification_report(entity_map[target_data_all[:t]], predict[:t]))\n",
    "print_cm(entity_map[target_data_all[:t]], predict[:t], entity_map)"
   ]
  },
  {
   "cell_type": "code",
   "execution_count": 97,
   "metadata": {},
   "outputs": [
    {
     "name": "stdout",
     "output_type": "stream",
     "text": [
      "              precision    recall  f1-score   support\n",
      "\n",
      "         LOC       0.01      0.02      0.01        59\n",
      "        MISC       0.00      0.00      0.00        69\n",
      "           O       0.89      0.87      0.88      1993\n",
      "         ORG       0.19      0.05      0.08       126\n",
      "         PER       0.07      0.18      0.10        87\n",
      "\n",
      "    accuracy                           0.75      2334\n",
      "   macro avg       0.23      0.22      0.21      2334\n",
      "weighted avg       0.77      0.75      0.76      2334\n",
      "\n"
     ]
    },
    {
     "data": {
      "image/png": "[encoded data removed]",
      "text/plain": [
       "<Figure size 1000x700 with 2 Axes>"
      ]
     },
     "metadata": {},
     "output_type": "display_data"
    }
   ],
   "source": [
    "t = 2334# 19+14 +51+5#+43+14+46\n",
    "print(classification_report(entity_map[target_data_all[:t]], predict[:t]))\n",
    "print_cm(entity_map[target_data_all[:t]], predict[:t], entity_map)"
   ]
  },
  {
   "cell_type": "code",
   "execution_count": 78,
   "metadata": {},
   "outputs": [
    {
     "name": "stdout",
     "output_type": "stream",
     "text": [
      "              precision    recall  f1-score   support\n",
      "\n",
      "         LOC       0.02      0.02      0.02        59\n",
      "        MISC       0.00      0.00      0.00        69\n",
      "           O       0.87      0.95      0.91      1993\n",
      "         ORG       0.10      0.01      0.01       126\n",
      "         PER       0.10      0.09      0.09        87\n",
      "\n",
      "    accuracy                           0.81      2334\n",
      "   macro avg       0.22      0.21      0.21      2334\n",
      "weighted avg       0.75      0.81      0.78      2334\n",
      "\n"
     ]
    },
    {
     "data": {
      "image/png": "[encoded data removed]",
      "text/plain": [
       "<Figure size 1000x700 with 2 Axes>"
      ]
     },
     "metadata": {},
     "output_type": "display_data"
    }
   ],
   "source": [
    "t = 2334# 19+14 +51+5#+43+14+46\n",
    "print(classification_report(entity_map[target_data_all[:t]], predict[:t]))\n",
    "print_cm(entity_map[target_data_all[:t]], predict[:t], entity_map)"
   ]
  },
  {
   "cell_type": "code",
   "execution_count": 40,
   "metadata": {},
   "outputs": [],
   "source": [
    "# add tagger to the pipeline to spacy_ner_doc\n",
    "nlp2 = spacy.load(\"es_core_news_md\", disable=[\"ner\"])\n"
   ]
  },
  {
   "cell_type": "code",
   "execution_count": 41,
   "metadata": {},
   "outputs": [
    {
     "data": {
      "text/plain": [
       "Melbourne ( Australia ) , 25 may ( EFE ) . "
      ]
     },
     "execution_count": 41,
     "metadata": {},
     "output_type": "execute_result"
    }
   ],
   "source": [
    "index = 0\n",
    "doc_spa = nlp2(str(spacy_ner_doc[index]))\n",
    "doc_spa.ents = spacy_ner_doc[index].ents\n",
    "doc_spa\n"
   ]
  },
  {
   "cell_type": "code",
   "execution_count": 42,
   "metadata": {},
   "outputs": [],
   "source": [
    "target = []\n",
    "array_rules = rules[index_rules]\n",
    "array_fitness = fitness_[index_rules]\n",
    "# doc = corpus_1.documents[1]\n",
    "doc = Document.from_spacy_document(doc_spa, vocabulary, vocab_ent)\n",
    "array_doc = doc.to_array(exclude_label=True)\n",
    "input_data = np.zeros((array_doc[0], len(array_rules)), dtype=float)\n",
    "target_data = np.zeros(array_doc[0], dtype=int)\n",
    "unk_id = doc.unk_id\n",
    "# get rules for each entity\n",
    "index_data = 0\n",
    "target_data[:] = doc.to_entity_array()[2:-1]\n",
    "target.extend(entity_map[doc.to_entity_array()[2:-1]].tolist())\n",
    "# target_tensor[index_doc, array_doc[0]] = tag_to_ix[STOP_TAG]\n",
    "\n",
    "# index_rules = np.argsort(np.load(f\"best_fitness.npy\"))[::-1]\n",
    "# array_rules = np.load(f\"best_population.npy\")[index_rules][:200]\n",
    "# array_fitness = np.load(f\"best_fitness.npy\")[index_rules][:200]\n",
    "# get votes from rules\n",
    "votes = np.zeros((array_doc[0], 5), dtype=float)\n",
    "for index_rule in range(array_rules.shape[0]):\n",
    "    slices = slice_doc(array_doc, array_rules[index_rule], unk_id)\n",
    "    for start, end in slices:\n",
    "        # input_data[start:end, index_data] = array_fitness[index_rule]\n",
    "        entity_id = array_rules[index_rule, 2]\n",
    "        input_data[\n",
    "            start - 2 : end - 2, index_data\n",
    "        ] = entity_id  # +log2_rules[index_rule]\n",
    "        votes[start - 2 : end - 2, int(entity_id)] = (\n",
    "            votes[start - 2 : end - 2, int(entity_id)] + array_fitness[index_rule]\n",
    "        )\n",
    "        # votes[start-2:end-2, int(entity_id)] = votes[start-2:end-2, int(entity_id)] + 1\n",
    "\n",
    "    index_data += 1\n"
   ]
  },
  {
   "cell_type": "code",
   "execution_count": 169,
   "metadata": {},
   "outputs": [
    {
     "name": "stdout",
     "output_type": "stream",
     "text": [
      "['O', 'O', 'LOC', 'O', 'O', 'O', 'O', 'O', 'O', 'O', 'O', 'O', 'O', 'O', 'O', 'O', 'O', 'O', 'O', 'O', 'O', 'O', 'O', 'O', 'O', 'O', 'O', 'O', 'O', 'O', 'O', 'O', 'O', 'O', 'O', 'O', 'O', 'O', 'O', 'O', 'O', 'O', 'O', 'O', 'O', 'O', 'O', 'O', 'O', 'O']\n",
      "['O', 'O', 'O', 'O', 'O', 'O', 'O', 'O', 'MISC', 'O', 'LOC', 'LOC', 'O', 'O', 'O', 'O', 'ORG', 'O', 'O', 'O', 'ORG', 'O', 'O', 'O', 'O', 'O', 'O', 'O', 'O', 'O', 'O', 'O', 'O', 'O', 'O', 'ORG', 'O', 'O', 'O', 'O', 'O', 'O', 'O', 'O', 'O', 'O', 'O', 'O', 'O', 'O', 'O', 'O', 'O', 'ORG', 'ORG', 'O', 'ORG', 'O', 'O', 'ORG', 'O', 'O', 'O', 'O', 'O', 'O', 'O', 'O', 'O', 'O', 'O', 'O', 'O', 'O', 'O', 'O', 'O', 'O', 'O', 'O', 'O', 'O', 'O', 'MISC', 'O', 'O', 'O', 'ORG', 'O', 'O', 'O', 'O', 'O', 'O', 'O', 'O', 'O', 'LOC', 'O', 'O', 'LOC', 'O', 'O', 'O', 'O', 'O', 'O', 'O', 'O', 'O', 'O', 'O', 'PER', 'O', 'O', 'O', 'O', 'O', 'O', 'O', 'O', 'O', 'O', 'O', 'O', 'O', 'O', 'O', 'O', 'O', 'O', 'O', 'O', 'O', 'O', 'O', 'O', 'O', 'O', 'O', 'O', 'O', 'O', 'O', 'O', 'O', 'O', 'O', 'PER', 'O', 'PER', 'O', 'ORG', 'O', 'O', 'O', 'O', 'O', 'O', 'O', 'O', 'O', 'MISC', 'O', 'O', 'O', 'O', 'O', 'O', 'O', 'O', 'O', 'O', 'O', 'O', 'O', 'O', 'O', 'O', 'O', 'O', 'O', 'O', 'O', 'O', 'O', 'O', 'O', 'O', 'O', 'O', 'O', 'O', 'O', 'O', 'O', 'O', 'O', 'O', 'O', 'O', 'O', 'O', 'O', 'O', 'PER', 'PER', 'O', 'O', 'ORG', 'ORG', 'O', 'O', 'O', 'O', 'O', 'O', 'O', 'O', 'O', 'O', 'O', 'MISC', 'MISC', 'MISC', 'O', 'O', 'O', 'O', 'O', 'O', 'O', 'O', 'O', 'O', 'O', 'O', 'O', 'O', 'O', 'O', 'O', 'O', 'O', 'O', 'O', 'O', 'O', 'O', 'O', 'MISC', 'O', 'O', 'O', 'O', 'O', 'O', 'O', 'O', 'O', 'LOC', 'O', 'O', 'O', 'O', 'O', 'O', 'O', 'O', 'O', 'O', 'ORG', 'ORG', 'O', 'PER', 'PER', 'PER', 'O', 'O', 'O', 'O', 'O', 'O', 'O', 'O', 'O', 'O', 'O', 'O', 'O', 'O', 'O', 'ORG', 'ORG', 'ORG', 'O', 'O', 'O', 'O', 'O', 'O', 'O', 'O', 'O', 'O', 'O', 'O', 'O', 'ORG', 'O', 'O', 'O', 'O', 'O', 'O', 'O', 'O', 'O', 'O', 'O', 'O', 'O', 'O', 'O', 'O', 'O', 'O', 'PER', 'O', 'O', 'O', 'O', 'O', 'O', 'O', 'O', 'O', 'PER', 'O', 'O', 'ORG', 'O', 'O', 'O', 'O', 'O', 'O', 'O', 'O', 'O', 'O', 'O', 'O', 'O', 'O', 'O', 'O', 'O', 'O', 'O', 'O', 'O', 'O', 'O', 'O', 'O', 'O', 'O', 'O', 'MISC', 'O', 'MISC', 'MISC', 'O', 'O', 'O', 'O', 'O', 'O', 'O', 'O', 'O', 'O', 'O', 'O', 'O', 'O', 'O', 'O', 'O', 'O', 'O', 'O', 'O', 'O', 'O', 'O', 'O', 'O', 'O', 'O', 'O', 'O', 'O', 'O', 'O', 'O', 'O', 'O', 'O', 'O', 'O', 'O', 'O', 'O', 'O', 'O', 'O', 'O', 'PER', 'PER', 'O', 'O', 'O', 'ORG', 'O', 'O', 'O', 'O', 'O', 'O', 'O', 'O', 'O', 'O', 'O', 'O', 'O', 'O', 'O', 'O', 'O', 'O', 'O', 'MISC', 'MISC', 'MISC', 'O', 'LOC', 'O', 'O', 'O', 'O', 'O', 'O', 'O', 'O', 'O', 'O', 'O', 'O', 'O', 'O', 'O', 'O', 'O', 'O', 'O', 'O', 'LOC', 'O', 'O', 'LOC', 'O', 'O', 'O', 'O', 'MISC', 'MISC', 'MISC', 'MISC', 'MISC', 'MISC', 'MISC', 'MISC', 'MISC', 'O', 'O', 'MISC', 'MISC', 'O', 'O', 'ORG', 'ORG', 'O', 'O', 'O', 'O', 'O', 'O', 'O', 'O', 'O', 'O', 'O', 'O', 'MISC', 'MISC', 'O', 'O', 'O', 'O', 'O', 'O', 'O', 'ORG', 'ORG', 'ORG', 'O', 'LOC', 'O', 'O', 'O', 'O', 'O', 'O', 'O', 'O', 'O', 'O', 'O', 'O', 'O', 'O', 'O', 'O', 'O', 'PER', 'O', 'O', 'O', 'O', 'O', 'O', 'O', 'O', 'O', 'O', 'O', 'O', 'O', 'O', 'O', 'O', 'O', 'O', 'MISC', 'MISC', 'MISC', 'MISC', 'O', 'O', 'O', 'O', 'O', 'O', 'O', 'ORG', 'O', 'O', 'ORG', 'ORG', 'ORG', 'O', 'O', 'ORG', 'O', 'O', 'ORG', 'O', 'O', 'ORG', 'O', 'O', 'ORG', 'O', 'O', 'ORG', 'ORG', 'ORG', 'O', 'O', 'ORG', 'ORG', 'ORG', 'ORG', 'ORG', 'O', 'O', 'ORG', 'O', 'O', 'ORG', 'O', 'O', 'ORG', 'ORG', 'O', 'O', 'ORG', 'ORG', 'O', 'O', 'ORG', 'O', 'PER', 'O', 'O', 'O', 'O', 'O', 'O', 'O', 'ORG', 'O', 'O', 'O', 'O', 'O', 'O', 'O', 'O', 'O', 'O', 'O', 'O', 'O', 'O', 'O', 'O', 'O', 'O', 'O', 'O', 'PER', 'PER', 'O', 'O', 'O', 'O', 'O', 'O', 'O', 'O', 'O', 'O', 'O', 'O', 'O', 'O', 'O', 'O', 'O', 'O', 'LOC', 'O', 'O', 'O', 'O', 'O', 'O', 'O', 'O', 'O', 'O', 'O', 'O', 'O', 'O', 'O', 'O', 'O', 'O', 'O', 'O', 'O', 'O', 'O', 'O', 'O', 'O', 'O', 'O', 'O', 'O', 'O', 'O', 'O', 'O', 'PER', 'PER', 'O', 'O', 'O', 'O', 'O', 'O', 'O', 'O', 'O', 'O', 'O', 'O', 'O', 'O', 'O', 'O', 'O', 'O', 'O', 'O', 'O', 'O', 'O', 'O', 'LOC', 'LOC', 'O', 'O', 'O', 'O', 'O', 'O', 'O', 'O', 'O', 'MISC', 'MISC', 'O', 'O', 'O', 'O', 'O', 'O', 'O', 'O', 'ORG', 'ORG', 'O', 'O', 'O', 'O', 'O', 'O', 'O', 'O', 'O', 'O', 'O', 'O', 'O', 'O', 'ORG', 'ORG', 'O', 'O', 'ORG', 'ORG', 'ORG', 'O', 'O', 'O', 'O', 'O', 'O', 'O', 'O', 'O', 'O', 'O', 'O', 'O', 'O', 'O', 'O', 'O', 'O', 'O', 'O', 'O', 'O', 'O', 'O', 'O', 'O', 'O', 'PER', 'PER', 'O', 'O', 'O', 'O', 'O', 'O', 'O', 'O', 'ORG', 'ORG', 'ORG', 'O', 'O', 'O', 'O', 'O', 'O', 'O', 'O', 'O', 'O', 'O', 'O', 'O', 'LOC', 'O', 'O', 'O', 'O', 'O', 'O', 'O', 'O', 'O', 'O', 'O', 'O', 'O', 'O', 'O', 'O', 'O', 'O', 'O', 'O', 'O', 'O', 'O', 'O', 'O', 'O', 'O', 'MISC', 'MISC', 'MISC', 'O', 'PER', 'PER', 'O', 'O', 'O', 'O', 'O', 'O', 'O', 'O', 'O', 'O', 'O', 'O', 'O', 'O', 'O', 'O', 'O', 'O', 'LOC', 'O', 'O', 'O', 'O', 'ORG', 'O', 'O', 'O', 'O', 'O', 'O', 'O', 'O', 'PER', 'PER', 'O', 'O', 'O', 'O', 'O', 'O', 'O', 'O', 'O', 'O', 'O', 'O', 'O', 'O', 'O', 'O', 'O', 'O', 'O', 'O', 'O', 'O', 'O', 'O', 'O', 'O', 'O', 'O', 'O', 'O', 'LOC', 'O', 'O', 'O', 'O', 'ORG', 'O', 'O', 'O', 'O', 'O', 'O', 'O', 'O', 'O', 'O', 'O', 'O', 'O', 'O', 'MISC', 'MISC', 'O', 'O', 'O', 'O', 'O', 'O', 'O', 'O', 'O', 'O', 'O', 'O', 'O', 'O', 'O', 'O', 'O', 'O', 'O', 'O', 'O', 'O', 'O', 'O', 'O', 'O', 'O', 'O', 'O', 'O', 'O', 'O', 'O', 'O', 'O', 'O', 'O', 'O', 'O', 'O', 'O', 'O', 'O', 'ORG', 'ORG', 'ORG', 'ORG', 'PER', 'PER', 'O', 'O', 'O', 'O', 'O', 'O', 'O', 'O', 'O', 'O', 'O', 'O', 'O', 'O', 'O', 'O', 'O', 'PER', 'O', 'PER', 'PER', 'O', 'PER', 'O', 'O', 'O', 'O', 'O', 'ORG', 'ORG', 'O', 'O', 'O', 'O', 'O', 'O', 'O', 'O', 'O', 'O', 'O', 'ORG', 'ORG', 'ORG', 'ORG', 'ORG', 'ORG', 'ORG', 'ORG', 'O', 'ORG', 'O', 'O', 'ORG', 'ORG', 'ORG', 'ORG', 'ORG', 'ORG', 'ORG', 'ORG', 'O', 'ORG', 'O', 'O', 'O', 'O', 'O', 'O', 'O', 'O', 'O', 'O', 'O', 'O', 'O', 'O', 'O', 'O', 'O', 'O', 'O', 'O', 'O', 'O', 'MISC', 'MISC', 'MISC', 'MISC', 'O', 'O', 'O', 'O', 'O', 'O', 'O', 'O', 'O', 'O', 'PER', 'PER', 'PER', 'O', 'O', 'O', 'O', 'O', 'O', 'O', 'PER', 'PER', 'PER', 'LOC', 'O', 'O', 'O', 'O', 'ORG', 'O', 'O', 'O', 'O', 'O', 'O', 'O', 'O', 'O', 'O', 'O', 'O', 'O', 'O', 'O', 'O', 'O', 'LOC', 'LOC', 'O', 'O', 'O', 'O', 'O', 'O', 'O', 'O', 'O', 'O', 'O', 'O', 'O', 'O', 'O', 'O', 'O', 'O', 'O', 'O', 'O', 'O', 'O', 'O', 'O', 'O', 'O', 'O', 'O', 'O', 'O', 'O', 'O', 'O', 'O', 'O', 'O', 'O', 'O', 'O', 'ORG', 'O', 'O', 'LOC', 'O', 'O', 'O', 'O', 'ORG', 'O', 'O', 'O', 'O', 'O', 'O', 'O', 'O', 'O', 'ORG', 'ORG', 'ORG', 'ORG', 'O', 'ORG', 'O', 'O', 'O', 'O', 'O', 'O', 'O', 'O', 'O', 'O', 'MISC', 'O', 'O', 'O', 'O', 'LOC', 'O', 'LOC', 'O', 'LOC', 'O', 'LOC', 'LOC', 'O', 'O', 'O', 'O', 'O', 'PER', 'O', 'O', 'O', 'O', 'PER', 'O', 'O', 'O', 'O', 'O', 'O', 'O', 'O', 'O', 'O', 'O', 'O', 'O', 'PER', 'O', 'O', 'PER', 'PER', 'O', 'O', 'MISC', 'MISC', 'O', 'O', 'PER', 'PER', 'O', 'MISC', 'MISC', 'MISC', 'MISC', 'MISC', 'MISC', 'O', 'O', 'O', 'O', 'O', 'O', 'O', 'O', 'O', 'O', 'O', 'O', 'LOC', 'O', 'O', 'O', 'O', 'ORG', 'O', 'O', 'O', 'O', 'O', 'O', 'O', 'LOC', 'O', 'O', 'O', 'O', 'O', 'O', 'O', 'O', 'O', 'O', 'O', 'O', 'O', 'O', 'O', 'O', 'O', 'O', 'O', 'O', 'O', 'O', 'O', 'O', 'O', 'O', 'O', 'O', 'O', 'O', 'O', 'O', 'O', 'O', 'O', 'O', 'O', 'O', 'O', 'O', 'O', 'O', 'O', 'O', 'O', 'O', 'O', 'O', 'O', 'O', 'O', 'O', 'O', 'O', 'O', 'O', 'O', 'O', 'PER', 'O', 'O', 'O', 'O', 'O', 'O', 'O', 'O', 'O', 'O', 'O', 'O', 'O', 'O', 'O', 'O', 'O', 'O', 'O', 'O', 'O', 'O', 'O', 'O', 'O', 'O', 'O', 'O', 'O', 'O', 'O', 'O', 'O', 'O', 'O', 'O', 'O', 'O', 'O', 'O', 'O', 'O', 'O', 'O', 'O', 'O', 'O', 'O', 'O', 'O', 'O', 'O', 'O', 'O', 'O', 'O', 'O', 'O', 'O', 'O', 'O', 'O', 'O', 'LOC', 'O', 'O', 'O', 'O', 'O', 'ORG', 'ORG', 'ORG', 'ORG', 'ORG', 'ORG', 'O', 'PER', 'PER', 'O', 'O', 'O', 'O', 'O', 'O', 'O', 'O', 'O', 'O', 'O', 'O', 'O', 'O', 'O', 'O', 'O', 'O', 'O', 'O', 'O', 'O', 'O', 'LOC', 'O', 'O', 'O', 'O', 'MISC', 'MISC', 'MISC', 'MISC', 'O', 'O', 'O', 'O', 'O', 'O', 'O', 'O', 'O', 'O', 'O', 'O', 'O', 'O', 'O', 'O', 'O', 'O', 'O', 'O', 'O', 'O', 'O', 'O', 'O', 'O', 'O', 'O', 'O', 'O', 'O', 'O', 'O', 'O', 'O', 'O', 'O', 'O', 'LOC', 'O', 'LOC', 'O', 'O', 'O', 'O', 'O', 'ORG', 'O', 'O', 'LOC', 'O', 'O', 'O', 'O', 'ORG', 'O', 'O', 'O', 'O', 'O', 'O', 'O', 'O', 'O', 'O', 'O', 'O', 'O', 'O', 'O', 'O', 'PER', 'PER', 'O', 'ORG', 'O', 'O', 'O', 'O', 'O', 'O', 'O', 'O', 'O', 'O', 'O', 'O', 'O', 'O', 'O', 'PER', 'PER', 'PER', 'O', 'O', 'O', 'O', 'O', 'O', 'O', 'O', 'O', 'O', 'O', 'O', 'O', 'PER', 'PER', 'O', 'O', 'O', 'LOC', 'O', 'O', 'O', 'O', 'O', 'O', 'O', 'O', 'O', 'O', 'O', 'O', 'O', 'O', 'O', 'O', 'O', 'O', 'O', 'O', 'PER', 'PER', 'O', 'O', 'O', 'O', 'O', 'O', 'O', 'O', 'O', 'O', 'O', 'O', 'O', 'O', 'O', 'O', 'O', 'O', 'O', 'O', 'O', 'O', 'O', 'O', 'O', 'O', 'O', 'O', 'O', 'O', 'O', 'O', 'O', 'O', 'O', 'O', 'O', 'O', 'LOC', 'LOC', 'O', 'O', 'O', 'O', 'O', 'O', 'O', 'O', 'O', 'O', 'O', 'O', 'O', 'O', 'O', 'O', 'O', 'O', 'O', 'O', 'O', 'O', 'O', 'O', 'ORG', 'O', 'O', 'O', 'ORG', 'O', 'O', 'O', 'O', 'O', 'O', 'O', 'O', 'O', 'O', 'O', 'O', 'O', 'O', 'O', 'O', 'O', 'O', 'O', 'O', 'O', 'O', 'O', 'O', 'O', 'ORG', 'O', 'O', 'O', 'O', 'LOC', 'LOC', 'O', 'O', 'O', 'O', 'O', 'O', 'O', 'O', 'O', 'O', 'O', 'O', 'O', 'O', 'O', 'O', 'O', 'O', 'LOC', 'LOC', 'O', 'O', 'O', 'O', 'O', 'O', 'O', 'O', 'O', 'O', 'O', 'O', 'O', 'O', 'O', 'LOC', 'O', 'O', 'ORG', 'O', 'O', 'O', 'O', 'O', 'O', 'O', 'O', 'O', 'O', 'O', 'O', 'O', 'O', 'O', 'PER', 'PER', 'PER', 'O', 'O', 'O', 'O', 'O', 'O', 'ORG', 'O', 'O', 'O', 'O', 'O', 'O', 'O', 'O', 'O', 'O', 'O', 'O', 'O', 'O', 'O', 'O', 'O', 'O', 'O', 'O', 'O', 'O', 'O', 'O', 'O', 'O', 'O', 'O', 'O', 'O', 'O', 'O', 'O', 'ORG', 'ORG', 'ORG', 'O', 'O', 'O', 'O', 'O', 'O', 'O', 'O', 'O', 'O', 'O', 'O', 'O', 'O', 'O', 'O', 'O', 'O', 'O', 'O', 'O', 'O', 'O', 'O', 'O', 'O', 'O', 'O', 'O', 'LOC', 'LOC', 'O', 'O', 'O', 'O', 'ORG', 'O', 'O', 'O', 'MISC', 'O', 'ORG', 'O', 'O', 'O', 'O', 'ORG', 'O', 'O', 'LOC', 'O', 'ORG', 'O', 'O', 'PER', 'O', 'O', 'O', 'O', 'O', 'O', 'O', 'O', 'O', 'O', 'O', 'O', 'LOC', 'O', 'O', 'O', 'ORG', 'O', 'O', 'ORG', 'O', 'O', 'O', 'O', 'O', 'O', 'O', 'O', 'O', 'O', 'O', 'O', 'O', 'O', 'O', 'O', 'LOC', 'O', 'O', 'O', 'O', 'LOC', 'LOC', 'O', 'O', 'O', 'O', 'O', 'O', 'O', 'O', 'O', 'O', 'MISC', 'O', 'PER', 'PER', 'O', 'ORG', 'O', 'O', 'PER', 'PER', 'O', 'ORG', 'O', 'O', 'O', 'O', 'O', 'O', 'O', 'O', 'O', 'O', 'O', 'O', 'ORG', 'ORG', 'O', 'O', 'O', 'O', 'PER', 'O', 'O', 'O', 'O', 'PER', 'O', 'O', 'O', 'O', 'PER', 'O', 'O', 'O', 'O', 'PER', 'PER', 'O', 'O', 'O', 'O', 'PER', 'O', 'O', 'O', 'O', 'O', 'O', 'O', 'O', 'PER', 'O', 'O', 'O', 'O', 'PER', 'PER', 'O', 'O', 'O', 'O', 'PER', 'O', 'O', 'O', 'O', 'PER', 'O', 'O', 'O', 'O', 'O', 'O', 'O', 'O', 'O', 'O', 'O', 'O', 'LOC', 'O', 'O', 'O', 'O', 'O', 'O', 'O', 'O', 'O', 'O', 'O', 'O', 'O', 'O', 'O', 'O', 'PER', 'PER', 'PER', 'O', 'O', 'O', 'O', 'O', 'ORG', 'O', 'PER', 'PER', 'PER', 'O', 'O', 'O', 'O', 'O', 'O', 'O', 'O', 'O', 'O', 'O', 'O', 'O', 'O', 'O', 'O', 'O', 'O', 'O', 'O', 'O', 'LOC', 'LOC', 'O', 'O', 'O', 'O', 'O', 'O', 'O', 'O', 'O', 'O', 'MISC', 'O', 'O', 'O', 'O', 'O', 'O', 'O', 'O', 'O', 'O', 'O', 'O', 'O', 'O', 'O', 'O', 'O', 'O', 'O', 'LOC', 'O', 'PER', 'O', 'O', 'O', 'O', 'O', 'O', 'O', 'PER', 'O', 'O', 'PER', 'O', 'O', 'O', 'O', 'O', 'O', 'O', 'O', 'O', 'O', 'O', 'O', 'O', 'O', 'O', 'PER', 'O', 'O', 'O', 'O', 'O', 'O', 'O', 'O', 'O', 'O', 'O', 'O', 'O', 'O', 'O', 'O', 'O', 'LOC', 'LOC', 'O', 'O', 'O', 'O', 'O', 'O', 'O', 'O', 'O', 'O', 'O', 'O', 'O', 'O', 'O', 'O', 'O', 'O', 'MISC', 'MISC', 'MISC', 'MISC', 'MISC', 'MISC', 'O', 'O', 'O', 'O', 'O', 'O', 'O', 'O', 'O', 'O', 'O', 'MISC', 'MISC', 'O', 'O', 'O', 'O', 'O', 'O', 'O', 'O', 'O', 'O', 'O', 'O', 'O', 'O', 'O', 'O', 'O', 'O', 'O', 'O', 'O', 'O', 'LOC', 'O', 'O', 'O', 'O', 'ORG', 'O', 'O', 'ORG', 'O', 'O', 'O', 'O', 'O', 'O', 'O', 'O', 'O', 'ORG', 'ORG', 'O', 'LOC', 'O', 'O', 'O', 'O', 'O', 'O', 'O', 'O', 'O', 'O', 'O', 'O', 'O', 'O', 'O', 'PER', 'O', 'O', 'LOC', 'LOC', 'LOC', 'O', 'O', 'O', 'O', 'O', 'O', 'O', 'O', 'O', 'O', 'O', 'O', 'O', 'MISC', 'MISC', 'MISC', 'MISC', 'O', 'LOC', 'O', 'O', 'O', 'O', 'ORG', 'O', 'O', 'O', 'O', 'O', 'O', 'LOC', 'O', 'O', 'O', 'O', 'O', 'O', 'O', 'O', 'O', 'O', 'O', 'O', 'O', 'O', 'O', 'O', 'O', 'O', 'O', 'O', 'O', 'O', 'O', 'O', 'O', 'O', 'O', 'O', 'O', 'O', 'O', 'O', 'O', 'PER', 'PER', 'O', 'O', 'O', 'O', 'O', 'O', 'O', 'O', 'O', 'O', 'O', 'O', 'O', 'O', 'O', 'O', 'O', 'O', 'O', 'O', 'O', 'O', 'O', 'O', 'O', 'O', 'O', 'O', 'O', 'O', 'O', 'O', 'O', 'O', 'O', 'O', 'O', 'O', 'O', 'O', 'O', 'O', 'O', 'O', 'O', 'O', 'O', 'O']\n"
     ]
    }
   ],
   "source": [
    "votes[:, 0] = votes[:, 1:].sum(axis=1) / 2\n",
    "votes[:, 0] = np.where(votes[:, 0] > 0.5, votes[:, 0], 0.5)\n",
    "predicted_entities = entity_map[votes.argmax(axis=1)].tolist()\n",
    "print(predicted_entities)\n",
    "print(target)\n"
   ]
  },
  {
   "cell_type": "code",
   "execution_count": 44,
   "metadata": {},
   "outputs": [
    {
     "data": {
      "text/html": [
       "<span class=\"tex2jax_ignore\"><div class=\"entities\" style=\"line-height: 2.5; direction: ltr\">\n",
       "<mark class=\"entity\" style=\"background: #ff9561; padding: 0.45em 0.6em; margin: 0 0.25em; line-height: 1; border-radius: 0.35em;\">\n",
       "    Melbourne\n",
       "    <span style=\"font-size: 0.8em; font-weight: bold; line-height: 1; border-radius: 0.35em; vertical-align: middle; margin-left: 0.5rem\">LOC</span>\n",
       "</mark>\n",
       " ( \n",
       "<mark class=\"entity\" style=\"background: #ff9561; padding: 0.45em 0.6em; margin: 0 0.25em; line-height: 1; border-radius: 0.35em;\">\n",
       "    Australia\n",
       "    <span style=\"font-size: 0.8em; font-weight: bold; line-height: 1; border-radius: 0.35em; vertical-align: middle; margin-left: 0.5rem\">LOC</span>\n",
       "</mark>\n",
       " ) , 25 may ( \n",
       "<mark class=\"entity\" style=\"background: #7aecec; padding: 0.45em 0.6em; margin: 0 0.25em; line-height: 1; border-radius: 0.35em;\">\n",
       "    EFE\n",
       "    <span style=\"font-size: 0.8em; font-weight: bold; line-height: 1; border-radius: 0.35em; vertical-align: middle; margin-left: 0.5rem\">ORG</span>\n",
       "</mark>\n",
       " ) . </div></span>"
      ],
      "text/plain": [
       "<IPython.core.display.HTML object>"
      ]
     },
     "metadata": {},
     "output_type": "display_data"
    }
   ],
   "source": [
    "spacy.displacy.render(doc_spa, style=\"ent\", jupyter=True, options={\"distance\": 100})\n"
   ]
  },
  {
   "cell_type": "code",
   "execution_count": 45,
   "metadata": {},
   "outputs": [
    {
     "data": {
      "text/html": [
       "<span class=\"tex2jax_ignore\"><div class=\"entities\" style=\"line-height: 2.5; direction: ltr\">\n",
       "<mark class=\"entity\" style=\"background: #ff9561; padding: 0.45em 0.6em; margin: 0 0.25em; line-height: 1; border-radius: 0.35em;\">\n",
       "    Melbourne\n",
       "    <span style=\"font-size: 0.8em; font-weight: bold; line-height: 1; border-radius: 0.35em; vertical-align: middle; margin-left: 0.5rem\">LOC</span>\n",
       "</mark>\n",
       " ( \n",
       "<mark class=\"entity\" style=\"background: #ff9561; padding: 0.45em 0.6em; margin: 0 0.25em; line-height: 1; border-radius: 0.35em;\">\n",
       "    Australia\n",
       "    <span style=\"font-size: 0.8em; font-weight: bold; line-height: 1; border-radius: 0.35em; vertical-align: middle; margin-left: 0.5rem\">LOC</span>\n",
       "</mark>\n",
       " ) , 25 may ( \n",
       "<mark class=\"entity\" style=\"background: #ff9561; padding: 0.45em 0.6em; margin: 0 0.25em; line-height: 1; border-radius: 0.35em;\">\n",
       "    EFE\n",
       "    <span style=\"font-size: 0.8em; font-weight: bold; line-height: 1; border-radius: 0.35em; vertical-align: middle; margin-left: 0.5rem\">LOC</span>\n",
       "</mark>\n",
       " ) . </div></span>"
      ],
      "text/plain": [
       "<IPython.core.display.HTML object>"
      ]
     },
     "metadata": {},
     "output_type": "display_data"
    }
   ],
   "source": [
    "# Define start and end each entity predicted\n",
    "ex = [\n",
    "    {\"text\": str(doc_spa), \"ents\": [], \"title\": None},\n",
    "]\n",
    "\n",
    "prev_entity = predicted_entities[0]\n",
    "start = 0\n",
    "end = 0\n",
    "for index, entity in enumerate(predicted_entities):\n",
    "    if entity != prev_entity:\n",
    "        if prev_entity != \"O\":\n",
    "            span = doc_spa[start : end + 1]\n",
    "            ex[0][\"ents\"].append(\n",
    "                {\"start\": span.start_char, \"end\": span.end_char, \"label\": prev_entity}\n",
    "            )\n",
    "        start = index\n",
    "        prev_entity = entity\n",
    "    end = index\n",
    "if entity == prev_entity and prev_entity != \"O\":\n",
    "    span = doc_spa[start : end + 1]\n",
    "    ex[0][\"ents\"].append(\n",
    "        {\"start\": span.start_char, \"end\": span.end_char, \"label\": prev_entity}\n",
    "    )\n",
    "\n",
    "\n",
    "# Render the entities\n",
    "spacy.displacy.render(ex, style=\"ent\", manual=True, jupyter=True)\n"
   ]
  },
  {
   "attachments": {},
   "cell_type": "markdown",
   "metadata": {},
   "source": []
  },
  {
   "cell_type": "code",
   "execution_count": 46,
   "metadata": {},
   "outputs": [
    {
     "data": {
      "text/html": [
       "<span class=\"tex2jax_ignore\"><div class=\"entities\" style=\"line-height: 2.5; direction: ltr\">\n",
       "<mark class=\"entity\" style=\"background: #ddd; padding: 0.45em 0.6em; margin: 0 0.25em; line-height: 1; border-radius: 0.35em;\">\n",
       "    Melbourne\n",
       "    <span style=\"font-size: 0.8em; font-weight: bold; line-height: 1; border-radius: 0.35em; vertical-align: middle; margin-left: 0.5rem\">PER</span>\n",
       "</mark>\n",
       " ( \n",
       "<mark class=\"entity\" style=\"background: #7aecec; padding: 0.45em 0.6em; margin: 0 0.25em; line-height: 1; border-radius: 0.35em;\">\n",
       "    Australia\n",
       "    <span style=\"font-size: 0.8em; font-weight: bold; line-height: 1; border-radius: 0.35em; vertical-align: middle; margin-left: 0.5rem\">ORG</span>\n",
       "</mark>\n",
       " ) , 25 may ( \n",
       "<mark class=\"entity\" style=\"background: #7aecec; padding: 0.45em 0.6em; margin: 0 0.25em; line-height: 1; border-radius: 0.35em;\">\n",
       "    EFE\n",
       "    <span style=\"font-size: 0.8em; font-weight: bold; line-height: 1; border-radius: 0.35em; vertical-align: middle; margin-left: 0.5rem\">ORG</span>\n",
       "</mark>\n",
       " ) . </div></span>"
      ],
      "text/plain": [
       "<IPython.core.display.HTML object>"
      ]
     },
     "metadata": {},
     "output_type": "display_data"
    }
   ],
   "source": [
    "# Define start and end each entity predicted\n",
    "ex = [\n",
    "    {\"text\": str(doc_spa), \"ents\": [], \"title\": None},\n",
    "]\n",
    "predicted_entities = entity_map[classifier.predict(input_data)].tolist()\n",
    "prev_entity = predicted_entities[0]\n",
    "start = 0\n",
    "end = 0\n",
    "for index, entity in enumerate(predicted_entities):\n",
    "    if entity != prev_entity:\n",
    "        if prev_entity != \"O\":\n",
    "            span = doc_spa[start : end + 1]\n",
    "            ex[0][\"ents\"].append(\n",
    "                {\"start\": span.start_char, \"end\": span.end_char, \"label\": prev_entity}\n",
    "            )\n",
    "        start = index\n",
    "        prev_entity = entity\n",
    "    end = index\n",
    "if entity == prev_entity and prev_entity != \"O\":\n",
    "    span = doc_spa[start : end + 1]\n",
    "    ex[0][\"ents\"].append(\n",
    "        {\"start\": span.start_char, \"end\": span.end_char, \"label\": prev_entity}\n",
    "    )\n",
    "\n",
    "\n",
    "# Render the entities\n",
    "spacy.displacy.render(ex, style=\"ent\", manual=True, jupyter=True)\n"
   ]
  },
  {
   "cell_type": "code",
   "execution_count": 47,
   "metadata": {},
   "outputs": [
    {
     "data": {
      "text/html": [
       "<span class=\"tex2jax_ignore\"><svg xmlns=\"http://www.w3.org/2000/svg\" xmlns:xlink=\"http://www.w3.org/1999/xlink\" xml:lang=\"es\" id=\"047f619b4c7841fc8b1440008fff1763-0\" class=\"displacy\" width=\"550\" height=\"337.0\" direction=\"ltr\" style=\"max-width: none; height: 337.0px; color: #000000; background: #ffffff; font-family: Arial; direction: ltr\">\n",
       "<text class=\"displacy-token\" fill=\"currentColor\" text-anchor=\"middle\" y=\"247.0\">\n",
       "    <tspan class=\"displacy-word\" fill=\"currentColor\" x=\"50\">Melbourne (</tspan>\n",
       "    <tspan class=\"displacy-tag\" dy=\"2em\" fill=\"currentColor\" x=\"50\">PROPN</tspan>\n",
       "</text>\n",
       "\n",
       "<text class=\"displacy-token\" fill=\"currentColor\" text-anchor=\"middle\" y=\"247.0\">\n",
       "    <tspan class=\"displacy-word\" fill=\"currentColor\" x=\"150\">Australia ) ,</tspan>\n",
       "    <tspan class=\"displacy-tag\" dy=\"2em\" fill=\"currentColor\" x=\"150\">PROPN</tspan>\n",
       "</text>\n",
       "\n",
       "<text class=\"displacy-token\" fill=\"currentColor\" text-anchor=\"middle\" y=\"247.0\">\n",
       "    <tspan class=\"displacy-word\" fill=\"currentColor\" x=\"250\">25</tspan>\n",
       "    <tspan class=\"displacy-tag\" dy=\"2em\" fill=\"currentColor\" x=\"250\">NUM</tspan>\n",
       "</text>\n",
       "\n",
       "<text class=\"displacy-token\" fill=\"currentColor\" text-anchor=\"middle\" y=\"247.0\">\n",
       "    <tspan class=\"displacy-word\" fill=\"currentColor\" x=\"350\">may (</tspan>\n",
       "    <tspan class=\"displacy-tag\" dy=\"2em\" fill=\"currentColor\" x=\"350\">NUM</tspan>\n",
       "</text>\n",
       "\n",
       "<text class=\"displacy-token\" fill=\"currentColor\" text-anchor=\"middle\" y=\"247.0\">\n",
       "    <tspan class=\"displacy-word\" fill=\"currentColor\" x=\"450\">EFE ) .</tspan>\n",
       "    <tspan class=\"displacy-tag\" dy=\"2em\" fill=\"currentColor\" x=\"450\">PROPN</tspan>\n",
       "</text>\n",
       "\n",
       "<g class=\"displacy-arrow\">\n",
       "    <path class=\"displacy-arc\" id=\"arrow-047f619b4c7841fc8b1440008fff1763-0-0\" stroke-width=\"2px\" d=\"M70,202.0 C70,152.0 135.0,152.0 135.0,202.0\" fill=\"none\" stroke=\"currentColor\"/>\n",
       "    <text dy=\"1.25em\" style=\"font-size: 0.8em; letter-spacing: 1px\">\n",
       "        <textPath xlink:href=\"#arrow-047f619b4c7841fc8b1440008fff1763-0-0\" class=\"displacy-label\" startOffset=\"50%\" side=\"left\" fill=\"currentColor\" text-anchor=\"middle\">flat</textPath>\n",
       "    </text>\n",
       "    <path class=\"displacy-arrowhead\" d=\"M135.0,204.0 L143.0,192.0 127.0,192.0\" fill=\"currentColor\"/>\n",
       "</g>\n",
       "\n",
       "<g class=\"displacy-arrow\">\n",
       "    <path class=\"displacy-arc\" id=\"arrow-047f619b4c7841fc8b1440008fff1763-0-1\" stroke-width=\"2px\" d=\"M70,202.0 C70,102.0 240.0,102.0 240.0,202.0\" fill=\"none\" stroke=\"currentColor\"/>\n",
       "    <text dy=\"1.25em\" style=\"font-size: 0.8em; letter-spacing: 1px\">\n",
       "        <textPath xlink:href=\"#arrow-047f619b4c7841fc8b1440008fff1763-0-1\" class=\"displacy-label\" startOffset=\"50%\" side=\"left\" fill=\"currentColor\" text-anchor=\"middle\">appos</textPath>\n",
       "    </text>\n",
       "    <path class=\"displacy-arrowhead\" d=\"M240.0,204.0 L248.0,192.0 232.0,192.0\" fill=\"currentColor\"/>\n",
       "</g>\n",
       "\n",
       "<g class=\"displacy-arrow\">\n",
       "    <path class=\"displacy-arc\" id=\"arrow-047f619b4c7841fc8b1440008fff1763-0-2\" stroke-width=\"2px\" d=\"M70,202.0 C70,52.0 345.0,52.0 345.0,202.0\" fill=\"none\" stroke=\"currentColor\"/>\n",
       "    <text dy=\"1.25em\" style=\"font-size: 0.8em; letter-spacing: 1px\">\n",
       "        <textPath xlink:href=\"#arrow-047f619b4c7841fc8b1440008fff1763-0-2\" class=\"displacy-label\" startOffset=\"50%\" side=\"left\" fill=\"currentColor\" text-anchor=\"middle\">flat</textPath>\n",
       "    </text>\n",
       "    <path class=\"displacy-arrowhead\" d=\"M345.0,204.0 L353.0,192.0 337.0,192.0\" fill=\"currentColor\"/>\n",
       "</g>\n",
       "\n",
       "<g class=\"displacy-arrow\">\n",
       "    <path class=\"displacy-arc\" id=\"arrow-047f619b4c7841fc8b1440008fff1763-0-3\" stroke-width=\"2px\" d=\"M70,202.0 C70,2.0 450.0,2.0 450.0,202.0\" fill=\"none\" stroke=\"currentColor\"/>\n",
       "    <text dy=\"1.25em\" style=\"font-size: 0.8em; letter-spacing: 1px\">\n",
       "        <textPath xlink:href=\"#arrow-047f619b4c7841fc8b1440008fff1763-0-3\" class=\"displacy-label\" startOffset=\"50%\" side=\"left\" fill=\"currentColor\" text-anchor=\"middle\">flat</textPath>\n",
       "    </text>\n",
       "    <path class=\"displacy-arrowhead\" d=\"M450.0,204.0 L458.0,192.0 442.0,192.0\" fill=\"currentColor\"/>\n",
       "</g>\n",
       "</svg></span>"
      ],
      "text/plain": [
       "<IPython.core.display.HTML object>"
      ]
     },
     "metadata": {},
     "output_type": "display_data"
    },
    {
     "data": {
      "text/plain": [
       "3887"
      ]
     },
     "execution_count": 47,
     "metadata": {},
     "output_type": "execute_result"
    }
   ],
   "source": [
    "from pathlib import Path\n",
    "\n",
    "spacy.displacy.render(doc_spa, style=\"dep\", jupyter=True, options={\"distance\": 100})\n",
    "\n",
    "svg = spacy.displacy.render(\n",
    "    doc_spa, style=\"dep\", jupyter=False, options={\"distance\": 120}\n",
    ")\n",
    "output_path = Path(\"./docs/img/sentence.svg\")\n",
    "output_path.open(\"w\", encoding=\"utf-8\").write(svg)\n"
   ]
  },
  {
   "cell_type": "code",
   "execution_count": 220,
   "metadata": {},
   "outputs": [
    {
     "data": {
      "text/plain": [
       "1.5268041"
      ]
     },
     "execution_count": 220,
     "metadata": {},
     "output_type": "execute_result"
    }
   ],
   "source": [
    "array_fitness.mean(axis=0)"
   ]
  },
  {
   "cell_type": "code",
   "execution_count": 262,
   "metadata": {},
   "outputs": [
    {
     "data": {
      "text/plain": [
       "2334"
      ]
     },
     "execution_count": 262,
     "metadata": {},
     "output_type": "execute_result"
    }
   ],
   "source": [
    "# Predict with majority vote using the best rules\n",
    "votes_all_2 = votes_all.copy()\n",
    "predict = []\n",
    "# If column 0 is 0, fill with mean of the other columns\n",
    "filter_zero = votes_all_2[:, 0] < array_fitness.mean(axis=0)\n",
    "# votes_all_2[filter_zero, 0] += votes_all_2[filter_zero, 1:].sum(axis=1) / 2\n",
    "# votes_all_2[:, 0] += 1\n",
    "votes_all_2[filter_zero, 0] = array_fitness.mean(axis=0)\n",
    "\n",
    "# If column 0 is less than 0.5, fill with 0.5\n",
    "# votes_all_2[:, 0] = np.where(votes_all_2[:, 0] > 0.5, votes_all_2[:, 0], 0.5)\n",
    "means = votes_all_2[:,:].sum(axis=1)/2\n",
    "votes_all_2[:, 0] = np.where(votes_all_2[:, 0] > means, votes_all_2[:, 0], means)\n",
    "predict = entity_map[votes_all_2.argmax(axis=1)].tolist()\n",
    "len(predict)"
   ]
  },
  {
   "cell_type": "code",
   "execution_count": 263,
   "metadata": {},
   "outputs": [
    {
     "data": {
      "text/plain": [
       "0"
      ]
     },
     "execution_count": 263,
     "metadata": {},
     "output_type": "execute_result"
    }
   ],
   "source": [
    "((votes_all_2[:, 1] == 0) & (votes_all_2[:,2] == 0)& (votes_all_2[:,3] == 0)& (votes_all_2[:,4]> votes_all_2[:,0])).sum()"
   ]
  },
  {
   "cell_type": "code",
   "execution_count": 264,
   "metadata": {},
   "outputs": [
    {
     "data": {
      "text/plain": [
       "(array([], dtype=int64), array([], dtype=int64))"
      ]
     },
     "execution_count": 264,
     "metadata": {},
     "output_type": "execute_result"
    }
   ],
   "source": [
    "np.where([(votes_all_2[:,4]> votes_all_2[:,0])])"
   ]
  },
  {
   "cell_type": "code",
   "execution_count": 265,
   "metadata": {},
   "outputs": [
    {
     "data": {
      "text/plain": [
       "(5,)"
      ]
     },
     "execution_count": 265,
     "metadata": {},
     "output_type": "execute_result"
    }
   ],
   "source": [
    "votes_all_2[4].shape"
   ]
  },
  {
   "cell_type": "code",
   "execution_count": 266,
   "metadata": {},
   "outputs": [
    {
     "name": "stdout",
     "output_type": "stream",
     "text": [
      "              precision    recall  f1-score   support\n",
      "\n",
      "         LOC       0.00      0.00      0.00        59\n",
      "        MISC       0.05      0.03      0.04        69\n",
      "           O       0.96      0.89      0.92      1993\n",
      "         ORG       0.22      0.76      0.34       126\n",
      "         PER       0.00      0.00      0.00        87\n",
      "\n",
      "    accuracy                           0.80      2334\n",
      "   macro avg       0.24      0.34      0.26      2334\n",
      "weighted avg       0.83      0.80      0.81      2334\n",
      "\n"
     ]
    },
    {
     "name": "stderr",
     "output_type": "stream",
     "text": [
      "/home/jraba/Dev/gar-lener-es/env/lib/python3.10/site-packages/sklearn/metrics/_classification.py:1327: UndefinedMetricWarning: Precision and F-score are ill-defined and being set to 0.0 in labels with no predicted samples. Use `zero_division` parameter to control this behavior.\n",
      "  _warn_prf(average, modifier, msg_start, len(result))\n",
      "/home/jraba/Dev/gar-lener-es/env/lib/python3.10/site-packages/sklearn/metrics/_classification.py:1327: UndefinedMetricWarning: Precision and F-score are ill-defined and being set to 0.0 in labels with no predicted samples. Use `zero_division` parameter to control this behavior.\n",
      "  _warn_prf(average, modifier, msg_start, len(result))\n",
      "/home/jraba/Dev/gar-lener-es/env/lib/python3.10/site-packages/sklearn/metrics/_classification.py:1327: UndefinedMetricWarning: Precision and F-score are ill-defined and being set to 0.0 in labels with no predicted samples. Use `zero_division` parameter to control this behavior.\n",
      "  _warn_prf(average, modifier, msg_start, len(result))\n"
     ]
    },
    {
     "data": {
      "image/png": "[encoded data removed]",
      "text/plain": [
       "<Figure size 1000x700 with 2 Axes>"
      ]
     },
     "metadata": {},
     "output_type": "display_data"
    }
   ],
   "source": [
    "t = 2334# 19+14 +51+5#+43+14+46\n",
    "print(classification_report(entity_map[target_data_all[:t]], predict[:t]))\n",
    "print_cm(entity_map[target_data_all[:t]], predict[:t], entity_map)"
   ]
  },
  {
   "cell_type": "code",
   "execution_count": 50,
   "metadata": {},
   "outputs": [
    {
     "data": {
      "application/vnd.jupyter.widget-view+json": {
       "model_id": "6781f573daf849dd9c8eb94b51188e5d",
       "version_major": 2,
       "version_minor": 0
      },
      "text/plain": [
       "  0%|          | 0/100 [00:00<?, ?it/s]"
      ]
     },
     "metadata": {},
     "output_type": "display_data"
    },
    {
     "name": "stdout",
     "output_type": "stream",
     "text": [
      "              precision    recall  f1-score   support\n",
      "\n",
      "         LOC       0.26      0.39      0.31        59\n",
      "        MISC       0.10      0.06      0.07        69\n",
      "           O       0.97      0.99      0.98      1993\n",
      "         ORG       0.55      0.43      0.48       126\n",
      "         PER       0.31      0.28      0.29        87\n",
      "\n",
      "    accuracy                           0.89      2334\n",
      "   macro avg       0.44      0.43      0.43      2334\n",
      "weighted avg       0.88      0.89      0.89      2334\n",
      "\n"
     ]
    },
    {
     "data": {
      "image/png": "[encoded data removed]",
      "text/plain": [
       "<Figure size 720x504 with 2 Axes>"
      ]
     },
     "metadata": {
      "needs_background": "light"
     },
     "output_type": "display_data"
    }
   ],
   "source": [
    "target = []\n",
    "predict = []\n",
    "votes_all_val = np.array([], dtype=float)\n",
    "\n",
    "for doc in tqdm(corpus_val.documents[:266]):\n",
    "    if len(doc.entities) == 0:\n",
    "        continue\n",
    "\n",
    "    # index_rule = fitness_.argsort()[::-1][:400]\n",
    "    array_rules = rules[index_rules]\n",
    "    array_doc = doc.to_array(exclude_label=True)\n",
    "    input_data = np.zeros((array_doc[0], len(array_rules)), dtype=float)\n",
    "    target_data = np.zeros(array_doc[0], dtype=float)\n",
    "    unk_id = doc.unk_id\n",
    "    # get rules for each entity\n",
    "    index_data = 0\n",
    "    target_data[:] = doc.to_entity_array()[2:-1]\n",
    "    target.extend(entity_map[doc.to_entity_array()[2:-1]].tolist())\n",
    "\n",
    "    # for entity_index, entity in enumerate(entity_names, 1):\n",
    "    # array_rules = np.load(f\"best_population.npy\")\n",
    "    # array_fitness = np.load(f\"best_fitness.npy\")\n",
    "\n",
    "    # get votes from rules\n",
    "    votes = np.zeros((array_doc[0], 5), dtype=float)\n",
    "    for index_rule in range(array_rules.shape[0]):\n",
    "        slices = slice_doc(array_doc, array_rules[index_rule], unk_id)\n",
    "        # log2_rules = np.log10(array_rules[:, 0])\n",
    "        for start, end in slices:\n",
    "            entity_id = array_rules[index_rule, 2]\n",
    "            input_data[start - 2 : end - 2, index_data] = entity_id\n",
    "            # input_data[start:end, index_data] = array_rules[index_rule, 2]# +log2_rules[index_rule]\n",
    "            votes[start - 2 : end - 2, int(array_rules[index_rule, 2])] = (\n",
    "                votes[start - 2 : end - 2, int(array_rules[index_rule, 2])]\n",
    "                + array_fitness[index_rule]\n",
    "            )\n",
    "        index_data += 1\n",
    "\n",
    "    # extend input data all with input data\n",
    "    votes_all_val = np.vstack((votes_all_val, votes)) if votes_all_val.size else votes\n",
    "    predict.extend(entity_map[classifier.predict(input_data)].tolist())\n",
    "\n",
    "print(classification_report(target, predict))\n",
    "print_cm(target, predict, entity_map)\n"
   ]
  },
  {
   "cell_type": "code",
   "execution_count": 51,
   "metadata": {},
   "outputs": [
    {
     "name": "stderr",
     "output_type": "stream",
     "text": [
      "/home/jraba/Dev/gar-lener-es/env/lib/python3.9/site-packages/sklearn/metrics/_classification.py:1327: UndefinedMetricWarning: Precision and F-score are ill-defined and being set to 0.0 in labels with no predicted samples. Use `zero_division` parameter to control this behavior.\n",
      "  _warn_prf(average, modifier, msg_start, len(result))\n",
      "/home/jraba/Dev/gar-lener-es/env/lib/python3.9/site-packages/sklearn/metrics/_classification.py:1327: UndefinedMetricWarning: Precision and F-score are ill-defined and being set to 0.0 in labels with no predicted samples. Use `zero_division` parameter to control this behavior.\n",
      "  _warn_prf(average, modifier, msg_start, len(result))\n",
      "/home/jraba/Dev/gar-lener-es/env/lib/python3.9/site-packages/sklearn/metrics/_classification.py:1327: UndefinedMetricWarning: Precision and F-score are ill-defined and being set to 0.0 in labels with no predicted samples. Use `zero_division` parameter to control this behavior.\n",
      "  _warn_prf(average, modifier, msg_start, len(result))\n"
     ]
    },
    {
     "name": "stdout",
     "output_type": "stream",
     "text": [
      "              precision    recall  f1-score   support\n",
      "\n",
      "         LOC       0.13      0.85      0.22        59\n",
      "        MISC       0.03      0.01      0.02        69\n",
      "           O       0.99      0.91      0.95      1993\n",
      "         ORG       0.45      0.26      0.33       126\n",
      "         PER       0.00      0.00      0.00        87\n",
      "\n",
      "    accuracy                           0.81      2334\n",
      "   macro avg       0.32      0.41      0.30      2334\n",
      "weighted avg       0.87      0.81      0.83      2334\n",
      "\n"
     ]
    },
    {
     "data": {
      "image/png": "[encoded data removed]",
      "text/plain": [
       "<Figure size 720x504 with 2 Axes>"
      ]
     },
     "metadata": {
      "needs_background": "light"
     },
     "output_type": "display_data"
    }
   ],
   "source": [
    "predict = []\n",
    "votes_all[:, 0] = votes_all[:, 1:].sum(axis=1) / 2\n",
    "votes_all[:, 0] = np.where(votes_all[:, 0] > 0.5, votes_all[:, 0], 0.5)\n",
    "predict = entity_map[votes_all_val.argmax(axis=1)].tolist()\n",
    "print(classification_report(target, predict))\n",
    "print_cm(target, predict, entity_map)\n"
   ]
  },
  {
   "cell_type": "code",
   "execution_count": 49,
   "metadata": {},
   "outputs": [
    {
     "name": "stdout",
     "output_type": "stream",
     "text": [
      "[(1, 1.0), (2, 1.9151450447623743), (3, 2.5060519776903307), (4, 3.7249354066606433), (5, 4.586968827467744), (6, 4.965085200562017), (8, 5.670728764478765)]\n"
     ]
    },
    {
     "data": {
      "image/png": "[encoded data removed]",
      "text/plain": [
       "<Figure size 432x288 with 1 Axes>"
      ]
     },
     "metadata": {
      "needs_background": "light"
     },
     "output_type": "display_data"
    },
    {
     "name": "stdout",
     "output_type": "stream",
     "text": [
      "[(1, 1.0), (2, 0.9575725223811872), (3, 0.8353506592301102), (4, 0.9312338516651608), (5, 0.9173937654935488), (6, 0.8275142000936695), (8, 0.7088410955598456)]\n"
     ]
    },
    {
     "data": {
      "image/png": "[encoded data removed]",
      "text/plain": [
       "<Figure size 432x288 with 1 Axes>"
      ]
     },
     "metadata": {
      "needs_background": "light"
     },
     "output_type": "display_data"
    }
   ],
   "source": [
    "# Plot speedup openmp from file\n",
    "\n",
    "import matplotlib.pyplot as plt\n",
    "import numpy as np\n",
    "import pandas as pd\n",
    "\n",
    "df_opemmp = pd.read_csv(\"data/rules/openmp/time.txt\", sep=\",\", header=None)\n",
    "df_opemmp.columns = [\"Num threads\", \"time\"]\n",
    "df_opemmp[\"speedup\"] = df_opemmp[\"time\"][0] / df_opemmp[\"time\"]\n",
    "df_opemmp[\"efficiency\"] = df_opemmp[\"speedup\"] / df_opemmp[\"Num threads\"]\n",
    "print([i for i in zip(df_opemmp[\"Num threads\"], df_opemmp[\"speedup\"])])\n",
    "plt.plot(df_opemmp[\"Num threads\"], df_opemmp[\"speedup\"], label=\"Speedup\")\n",
    "plt.xlabel(\"Number of threads\")\n",
    "plt.ylabel(\"Speedup\")\n",
    "plt.title(\"Speedup OpenMP\")\n",
    "plt.legend()\n",
    "plt.show()\n",
    "\n",
    "# Plot efficiency openmp from dataframe\n",
    "print([i for i in zip(df_opemmp[\"Num threads\"], df_opemmp[\"efficiency\"])])\n",
    "plt.plot(df_opemmp[\"Num threads\"], df_opemmp[\"efficiency\"], label=\"Efficiency\")\n",
    "plt.xlabel(\"Number of threads\")\n",
    "plt.ylabel(\"Efficiency\")\n",
    "plt.title(\"Efficiency OpenMP\")\n",
    "plt.legend()\n",
    "plt.show()\n"
   ]
  },
  {
   "cell_type": "code",
   "execution_count": 64,
   "metadata": {},
   "outputs": [
    {
     "name": "stdout",
     "output_type": "stream",
     "text": [
      "[(4096, 79.31664723086192), (2048, 34.484143834956846), (1024, 16.84999583312248), (512, 10.321562380469098), (256, 5.665460392158735), (128, 2.983193630682609), (64, 2.007584246546774)]\n"
     ]
    },
    {
     "name": "stderr",
     "output_type": "stream",
     "text": [
      "/home/jraba/Dev/gar-lener-es/env/lib/python3.9/site-packages/IPython/core/pylabtools.py:151: UserWarning: This figure includes Axes that are not compatible with tight_layout, so results might be incorrect.\n",
      "  fig.canvas.print_figure(bytes_io, **kw)\n"
     ]
    },
    {
     "data": {
      "image/png": "[encoded data removed]",
      "text/plain": [
       "<Figure size 504x360 with 1 Axes>"
      ]
     },
     "metadata": {
      "needs_background": "light"
     },
     "output_type": "display_data"
    },
    {
     "name": "stdout",
     "output_type": "stream",
     "text": [
      "[(4096, 0.019364415827847148), (2048, 0.016837960856912523), (1024, 0.016455074055783673), (512, 0.020159301524353707), (256, 0.02213070465687006), (128, 0.02330620023970788), (64, 0.031368503852293346)]\n"
     ]
    },
    {
     "data": {
      "text/plain": [
       "[<matplotlib.lines.Line2D at 0x7f1145c789d0>]"
      ]
     },
     "execution_count": 64,
     "metadata": {},
     "output_type": "execute_result"
    },
    {
     "data": {
      "image/png": "[encoded data removed]",
      "text/plain": [
       "<Figure size 504x360 with 1 Axes>"
      ]
     },
     "metadata": {
      "needs_background": "light"
     },
     "output_type": "display_data"
    }
   ],
   "source": [
    "# Plot speedup cuda from file\n",
    "\n",
    "import matplotlib.pyplot as plt\n",
    "import numpy as np\n",
    "import pandas as pd\n",
    "from pathlib import Path\n",
    "\n",
    "plt.rcParams[\"figure.figsize\"] = [7.00, 5.0]\n",
    "# plt.rcParams[\"figure.autolayout\"] = True\n",
    "fig, ax = plt.subplots()\n",
    "\n",
    "df_cuda = pd.read_csv(\"data/rules/cuda/time.txt\", sep=\",\", header=None)\n",
    "df_cuda.columns = [\"Num threads\", \"time\"]\n",
    "df_cuda[\"speedup\"] = df_opemmp[\"time\"][0] / df_cuda[\"time\"]\n",
    "df_cuda[\"efficiency\"] = df_cuda[\"speedup\"] / df_cuda[\"Num threads\"]\n",
    "print([i for i in zip(df_cuda[\"Num threads\"], df_cuda[\"speedup\"])])\n",
    "plt.plot(df_cuda[\"Num threads\"], df_cuda[\"speedup\"], label=\"Speedup\")\n",
    "plt.xlabel(\"Number of threads\")\n",
    "plt.ylabel(\"Speedup\")\n",
    "plt.title(\"Speedup CUDA\")\n",
    "plt.legend()\n",
    "plt.show()\n",
    "# save plot svg\n",
    "plot_path = Path(\"docs/img/speedup_cuda.svg\")\n",
    "fig.savefig(plot_path, format=\"svg\")\n",
    "\n",
    "\n",
    "# Plot efficiency cuda from dataframe\n",
    "print([i for i in zip(df_cuda[\"Num threads\"], df_cuda[\"efficiency\"])])\n",
    "plt.plot(df_cuda[\"Num threads\"], df_cuda[\"efficiency\"], label=\"Efficiency\")\n"
   ]
  },
  {
   "cell_type": "code",
   "execution_count": 100,
   "metadata": {},
   "outputs": [
    {
     "name": "stdout",
     "output_type": "stream",
     "text": [
      "[(1, 1.0), (2, 1.6719849982419814), (3, 2.42244933537705), (4, 3.394441712536286), (5, 4.228881186044765), (6, 4.732803998761446), (8, 5.898214733615764)]\n"
     ]
    },
    {
     "data": {
      "image/png": "[encoded data removed]",
      "text/plain": [
       "<Figure size 432x288 with 1 Axes>"
      ]
     },
     "metadata": {
      "needs_background": "light"
     },
     "output_type": "display_data"
    },
    {
     "name": "stdout",
     "output_type": "stream",
     "text": [
      "[(1, 1.0), (2, 0.8359924991209907), (3, 0.80748311179235), (4, 0.8486104281340715), (5, 0.845776237208953), (6, 0.7888006664602409), (8, 0.7372768417019705)]\n"
     ]
    },
    {
     "data": {
      "text/plain": [
       "[<matplotlib.lines.Line2D at 0x7fa71e2651c0>]"
      ]
     },
     "execution_count": 100,
     "metadata": {},
     "output_type": "execute_result"
    },
    {
     "data": {
      "image/png": "[encoded data removed]",
      "text/plain": [
       "<Figure size 432x288 with 1 Axes>"
      ]
     },
     "metadata": {
      "needs_background": "light"
     },
     "output_type": "display_data"
    }
   ],
   "source": [
    "# Plot speedup mpi from file\n",
    "\n",
    "import matplotlib.pyplot as plt\n",
    "import numpy as np\n",
    "import pandas as pd\n",
    "\n",
    "df_mpi = pd.read_csv(\"data/rules/mpi/time.txt\", sep=\",\", header=None)\n",
    "df_mpi.columns = [\"Num cores\", \"time\"]\n",
    "df_mpi[\"speedup\"] = df_mpi[\"time\"][0] / df_mpi[\"time\"]\n",
    "print([i for i in zip(df_mpi[\"Num cores\"], df_mpi[\"speedup\"])])\n",
    "\n",
    "plt.plot(df_mpi[\"Num cores\"], df_mpi[\"speedup\"], label=\"Speedup\")\n",
    "plt.xlabel(\"Number of cores\")\n",
    "plt.ylabel(\"Speedup\")\n",
    "plt.title(\"Speedup MPI\")\n",
    "plt.legend()\n",
    "plt.show()\n",
    "\n",
    "# Plot efficiency mpi from dataframe\n",
    "df_mpi[\"efficiency\"] = df_mpi[\"speedup\"] / df_mpi[\"Num cores\"]\n",
    "print([i for i in zip(df_mpi[\"Num cores\"], df_mpi[\"efficiency\"])])\n",
    "plt.plot(df_mpi[\"Num cores\"], df_mpi[\"efficiency\"], label=\"Efficiency\")\n"
   ]
  },
  {
   "cell_type": "code",
   "execution_count": 66,
   "metadata": {},
   "outputs": [
    {
     "name": "stderr",
     "output_type": "stream",
     "text": [
      "/home/jraba/Dev/gar-lener-es/env/lib/python3.9/site-packages/IPython/core/pylabtools.py:151: UserWarning: This figure includes Axes that are not compatible with tight_layout, so results might be incorrect.\n",
      "  fig.canvas.print_figure(bytes_io, **kw)\n"
     ]
    },
    {
     "data": {
      "image/png": "[encoded data removed]",
      "text/plain": [
       "<Figure size 504x360 with 1 Axes>"
      ]
     },
     "metadata": {
      "needs_background": "light"
     },
     "output_type": "display_data"
    }
   ],
   "source": [
    "# Speed up openmp vs mpi\n",
    "\n",
    "import matplotlib.pyplot as plt\n",
    "import numpy as np\n",
    "import pandas as pd\n",
    "\n",
    "fig, ax = plt.subplots()\n",
    "\n",
    "df_opemmp = pd.read_csv(\"data/rules/openmp/time.txt\", sep=\",\", header=None)\n",
    "df_opemmp.columns = [\"Num Cores\", \"time\"]\n",
    "df_opemmp[\"opemMP\"] = df_opemmp[\"time\"][0] / df_opemmp[\"time\"]\n",
    "\n",
    "df_mpi = pd.read_csv(\"data/rules/mpi/time.txt\", sep=\",\", header=None)\n",
    "df_mpi.columns = [\"Num Cores\", \"time\"]\n",
    "df_mpi[\"MPI\"] = df_mpi[\"time\"][0] / df_mpi[\"time\"]\n",
    "\n",
    "df = pd.merge(df_opemmp, df_mpi, on=\"Num Cores\")\n",
    "\n",
    "plt.plot(df[\"Num Cores\"], df[\"opemMP\"], label=\"OpenMP\")\n",
    "plt.plot(df[\"Num Cores\"], df[\"MPI\"], label=\"MPI\")\n",
    "plt.xlabel(\"Number of Cores\")\n",
    "plt.ylabel(\"Speedup\")\n",
    "plt.title(\"Speedup OpenMP vs MPI\")\n",
    "plt.legend()\n",
    "plt.show()\n",
    "\n",
    "# Save plot svg\n",
    "plot_path = Path(\"docs/img/speedup_openmp_vs_mpi.svg\")\n",
    "fig.savefig(plot_path)\n"
   ]
  },
  {
   "cell_type": "code",
   "execution_count": 79,
   "metadata": {},
   "outputs": [
    {
     "data": {
      "text/plain": [
       "[('reykdæla', 0.5446478724479675),\n",
       " ('skútu', 0.5289386510848999),\n",
       " ('heiðreks', 0.5280407667160034),\n",
       " ('herrauðs', 0.5191207528114319),\n",
       " ('hólmverja', 0.510186493396759),\n",
       " ('hálfsrekka', 0.4899718463420868),\n",
       " ('honum', 0.48458901047706604),\n",
       " ('harðar', 0.4820405840873718),\n",
       " ('einhenda', 0.4651539921760559),\n",
       " ('bósa', 0.46174266934394836)]"
      ]
     },
     "execution_count": 79,
     "metadata": {},
     "output_type": "execute_result"
    }
   ],
   "source": [
    "glove_model.similar_by_word(\"ok\")\n"
   ]
  },
  {
   "cell_type": "code",
   "execution_count": 78,
   "metadata": {},
   "outputs": [
    {
     "data": {
      "text/plain": [
       "[('decir', 0.5594726204872131),\n",
       " ('ahora', 0.557867169380188),\n",
       " ('momento', 0.5535587668418884),\n",
       " ('bien', 0.5518989562988281),\n",
       " ('entonces', 0.5475482940673828),\n",
       " ('esto', 0.545325756072998),\n",
       " ('ya', 0.5442531704902649),\n",
       " ('mismo', 0.5441809892654419),\n",
       " ('qué', 0.5419682860374451),\n",
       " ('antes', 0.5414453148841858),\n",
       " ('punto', 0.5410882234573364),\n",
       " ('lo', 0.5372406244277954),\n",
       " ('primero', 0.5341662764549255),\n",
       " ('después', 0.532163143157959),\n",
       " ('hoy', 0.5310840010643005),\n",
       " ('aquí', 0.5272326469421387),\n",
       " ('aunque', 0.5249930024147034),\n",
       " ('saber', 0.5249620079994202),\n",
       " ('eso', 0.5240964293479919),\n",
       " ('pero', 0.5238576531410217),\n",
       " ('cuál', 0.5230103135108948),\n",
       " ('exactamente', 0.5227974653244019),\n",
       " ('sí', 0.521439790725708),\n",
       " ('todo', 0.5205981731414795),\n",
       " ('pues', 0.520323634147644),\n",
       " ('vez', 0.5202968716621399),\n",
       " ('ver', 0.5187309980392456),\n",
       " ('mejor', 0.5186758637428284)]"
      ]
     },
     "execution_count": 78,
     "metadata": {},
     "output_type": "execute_result"
    }
   ],
   "source": [
    "glove_model.most_similar_cosmul(\n",
    "    positive=[\"afirmar\", \"si\", \"ok\"], negative=[\"negar\"], topn=28\n",
    ")\n"
   ]
  },
  {
   "cell_type": "code",
   "execution_count": 127,
   "metadata": {},
   "outputs": [
    {
     "ename": "ModuleNotFoundError",
     "evalue": "No module named 'pyemd'",
     "output_type": "error",
     "traceback": [
      "\u001b[0;31m---------------------------------------------------------------------------\u001b[0m",
      "\u001b[0;31mModuleNotFoundError\u001b[0m                       Traceback (most recent call last)",
      "\u001b[1;32m/home/jraba/Dev/gar-lener-es/NER EA.ipynb Cell 104\u001b[0m in \u001b[0;36m<cell line: 1>\u001b[0;34m()\u001b[0m\n\u001b[0;32m----> <a href='vscode-notebook-cell:/home/jraba/Dev/gar-lener-es/NER%20EA.ipynb#Y204sZmlsZQ%3D%3D?line=0'>1</a>\u001b[0m glove_model\u001b[39m.\u001b[39;49mwmdistance(\u001b[39m\"\u001b[39;49m\u001b[39maceptar\u001b[39;49m\u001b[39m\"\u001b[39;49m, \u001b[39m\"\u001b[39;49m\u001b[39mrechazar\u001b[39;49m\u001b[39m\"\u001b[39;49m)\n",
      "File \u001b[0;32m~/Dev/gar-lener-es/env/lib/python3.9/site-packages/gensim/models/keyedvectors.py:959\u001b[0m, in \u001b[0;36mKeyedVectors.wmdistance\u001b[0;34m(self, document1, document2, norm)\u001b[0m\n\u001b[1;32m    918\u001b[0m \u001b[39m\"\"\"Compute the Word Mover's Distance between two documents.\u001b[39;00m\n\u001b[1;32m    919\u001b[0m \n\u001b[1;32m    920\u001b[0m \u001b[39mWhen using this code, please consider citing the following papers:\u001b[39;00m\n\u001b[0;32m   (...)\u001b[0m\n\u001b[1;32m    955\u001b[0m \n\u001b[1;32m    956\u001b[0m \u001b[39m\"\"\"\u001b[39;00m\n\u001b[1;32m    957\u001b[0m \u001b[39m# If pyemd C extension is available, import it.\u001b[39;00m\n\u001b[1;32m    958\u001b[0m \u001b[39m# If pyemd is attempted to be used, but isn't installed, ImportError will be raised in wmdistance\u001b[39;00m\n\u001b[0;32m--> 959\u001b[0m \u001b[39mfrom\u001b[39;00m \u001b[39mpyemd\u001b[39;00m \u001b[39mimport\u001b[39;00m emd\n\u001b[1;32m    961\u001b[0m \u001b[39m# Remove out-of-vocabulary words.\u001b[39;00m\n\u001b[1;32m    962\u001b[0m len_pre_oov1 \u001b[39m=\u001b[39m \u001b[39mlen\u001b[39m(document1)\n",
      "\u001b[0;31mModuleNotFoundError\u001b[0m: No module named 'pyemd'"
     ]
    }
   ],
   "source": [
    "glove_model.wmdistance(\"aceptar\", \"rechazar\")\n"
   ]
  },
  {
   "cell_type": "code",
   "execution_count": null,
   "metadata": {},
   "outputs": [],
   "source": [
    "model.get_mean_vector((\";\",))\n"
   ]
  },
  {
   "cell_type": "code",
   "execution_count": 126,
   "metadata": {},
   "outputs": [
    {
     "data": {
      "text/plain": [
       "0.0"
      ]
     },
     "execution_count": 126,
     "metadata": {},
     "output_type": "execute_result"
    }
   ],
   "source": [
    "glove_model.n_similarity(\"colombia ,\".split(), \"colombia ,\".split())\n"
   ]
  },
  {
   "cell_type": "code",
   "execution_count": 106,
   "metadata": {},
   "outputs": [
    {
     "name": "stdout",
     "output_type": "stream",
     "text": [
      "0.2227398253551897\n"
     ]
    }
   ],
   "source": [
    "nlp = spacy.load(\"es_core_news_md\")\n",
    "\n",
    "search_doc = nlp(\"si aceptar\")\n",
    "\n",
    "main_doc = nlp(\"ok\")\n",
    "\n",
    "print(main_doc.similarity(search_doc))\n"
   ]
  }
 ],
 "metadata": {
  "kernelspec": {
   "display_name": "Python 3.9.7 ('env': venv)",
   "language": "python",
   "name": "python3"
  },
  "language_info": {
   "codemirror_mode": {
    "name": "ipython",
    "version": 3
   },
   "file_extension": ".py",
   "mimetype": "text/x-python",
   "name": "python",
   "nbconvert_exporter": "python",
   "pygments_lexer": "ipython3",
   "version": "3.10.9"
  },
  "orig_nbformat": 4,
  "vscode": {
   "interpreter": {
    "hash": "58a42617e7e8ac5b5deb10f20d2ac009e9df1a8d2d4c12f179252e868903bd47"
   }
  }
 },
 "nbformat": 4,
 "nbformat_minor": 2
}
