{
 "cells": [
  {
   "cell_type": "code",
   "execution_count": 1,
   "metadata": {},
   "outputs": [],
   "source": [
    "import numpy as np\n",
    "import pyximport\n",
    "pyximport.install(pyimport=True)\n"
   ]
  },
  {
   "cell_type": "code",
   "execution_count": 2,
   "metadata": {},
   "outputs": [],
   "source": [
    "%load_ext Cython"
   ]
  },
  {
   "cell_type": "code",
   "execution_count": 149,
   "metadata": {},
   "outputs": [],
   "source": [
    "%%cython --compile-args=-fopenmp --link-args=-fopenmp\n",
    "\n",
    "import numpy as np\n",
    "from cython.parallel import parallel, prange\n",
    "\n",
    "ctypedef fused number_t:\n",
    "    int\n",
    "    double\n",
    "    float\n",
    "    long long\n",
    "\n",
    "ctypedef fused float_t:\n",
    "    double\n",
    "    float\n",
    "\n",
    "cimport cython\n",
    "\n",
    "\n",
    "def swap_fitness(\n",
    "    float[:,::1] population,\n",
    "    float[:] population_fitness,\n",
    "    int index,\n",
    "    float[:,::1] population2,\n",
    "    float[:] population2_fitness,\n",
    "    int index2,\n",
    "):\n",
    "    \"\"\"Swap positions between two populations.\"\"\"\n",
    "    cdef float[:] temp_swap = population[index].copy()\n",
    "    cdef float temp_swap_fitness = population_fitness[index]\n",
    "    population[index] = population2[index2]\n",
    "    population_fitness[index] = population2_fitness[index2]\n",
    "    population2[index2] = temp_swap\n",
    "    population2_fitness[index2] = temp_swap_fitness\n",
    "\n",
    "\n",
    "@cython.boundscheck(False) # turn off bounds-checking for entire function\n",
    "@cython.wraparound(False)  # turn off negative index wrapping for entire function \n",
    "def best_generation(\n",
    "    float[:,::1] population,\n",
    "    float[:] population_fitness,\n",
    "    float[:,::1] offspring_population,\n",
    "    float[:] offspring_population_fitness,\n",
    "    int n_population,\n",
    "):\n",
    "    \"\"\"Get best generation.\n",
    "    Get best population from population and offspring by fitness.\n",
    "    Similat to tournament selection.\n",
    "\n",
    "    \"\"\"\n",
    "    cdef int index\n",
    "    for index in range(n_population):\n",
    "        # Horizontal swap\n",
    "        if index + 1 < n_population:\n",
    "            if population_fitness[index] < population_fitness[index + 1]:\n",
    "                swap_fitness(\n",
    "                    population,\n",
    "                    population_fitness,\n",
    "                    index,\n",
    "                    population,\n",
    "                    population_fitness,\n",
    "                    index + 1,\n",
    "                )\n",
    "            if (\n",
    "                offspring_population_fitness[index]\n",
    "                > offspring_population_fitness[index + 1]\n",
    "            ):\n",
    "                swap_fitness(\n",
    "                    offspring_population,\n",
    "                    offspring_population_fitness,\n",
    "                    index,\n",
    "                    offspring_population,\n",
    "                    offspring_population_fitness,\n",
    "                    index + 1,\n",
    "                )\n",
    "            if (\n",
    "                offspring_population_fitness[index + n_population]\n",
    "                > offspring_population_fitness[index + n_population + 1]\n",
    "            ):\n",
    "                swap_fitness(\n",
    "                    offspring_population,\n",
    "                    offspring_population_fitness,\n",
    "                    index + n_population,\n",
    "                    offspring_population,\n",
    "                    offspring_population_fitness,\n",
    "                    index + n_population + 1,\n",
    "                )\n",
    "        # Vertical swap\n",
    "        if population_fitness[index] < offspring_population_fitness[index]:\n",
    "            swap_fitness(\n",
    "                population,\n",
    "                population_fitness,\n",
    "                index,\n",
    "                offspring_population,\n",
    "                offspring_population_fitness,\n",
    "                index,\n",
    "            )\n",
    "        if (\n",
    "            population_fitness[index]\n",
    "            < offspring_population_fitness[index + n_population]\n",
    "        ):\n",
    "            swap_fitness(\n",
    "                population,\n",
    "                population_fitness,\n",
    "                index,\n",
    "                offspring_population,\n",
    "                offspring_population_fitness,\n",
    "                index + n_population,\n",
    "            )\n",
    "\n",
    "@cython.boundscheck(False)\n",
    "@cython.wraparound(False)\n",
    "cpdef inline float cosine_similarity(float[:] vector_a, float[:] vector_b) nogil:\n",
    "    \"\"\"Calculate cosine similarity between two vectors.\"\"\"\n",
    "    cdef float dot_product = 0.0\n",
    "    cdef float norm_a = 0.0\n",
    "    cdef float norm_b = 0.0\n",
    "    cdef Py_ssize_t i\n",
    "    for i in range(vector_a.shape[0]):\n",
    "        dot_product += vector_a[i] * vector_b[i]\n",
    "        norm_a += vector_a[i] ** 2\n",
    "        norm_b += vector_b[i] ** 2\n",
    "    return dot_product / (norm_a**0.5 * norm_b**0.5)\n",
    "\n",
    "\n",
    "@cython.boundscheck(False) # turn off bounds-checking for entire function\n",
    "@cython.wraparound(False)  # turn off negative index wrapping for entire function \n",
    "def select(\n",
    "    float[:,::1] population,\n",
    "    float[:] population_fitness,\n",
    "    float[:,::1] offspring_population,\n",
    "    float[:] offspring_population_fitness,\n",
    "    int n_population,\n",
    "    float threshold,\n",
    ") -> np.ndarray:\n",
    "    \"\"\"Select individuals.\n",
    "    Use shared fitness.\n",
    "    The fitness is shared using cosine similarity.\n",
    "    \"\"\"\n",
    "    cdef int num_population = population.shape[0]\n",
    "    # Group individuals by cosine similarity\n",
    "    cdef int total_population = num_population + offspring_population.shape[0]\n",
    "    cdef float[:] num_members = np.zeros(total_population, dtype=np.float32)\n",
    "    population[:, 1] = -100\n",
    "    offspring_population[:, 1] = -100\n",
    "    cdef Py_ssize_t index_start_ind = 2\n",
    "    cdef float simil = 0.0\n",
    "    # Fitness shared using cosine similarity\n",
    "   \n",
    "    cdef Py_ssize_t index, index2\n",
    "    \n",
    "    for index in prange(total_population, nogil=True):\n",
    "        # Calculate cosine similarity for population\n",
    "        for index2 in range(total_population):\n",
    "            # Population with itself\n",
    "            if index < num_population and index2 < num_population:\n",
    "                simil = cosine_similarity(\n",
    "                    population[index, index_start_ind:],\n",
    "                    population[index2, index_start_ind:],\n",
    "                )\n",
    "                if simil > threshold:\n",
    "                    num_members[index] += simil\n",
    "            # Population with offspring\n",
    "            elif index < num_population and index2 >= num_population:\n",
    "                simil = cosine_similarity(\n",
    "                    population[index, index_start_ind:],\n",
    "                    offspring_population[index2 - num_population, index_start_ind:],\n",
    "                )\n",
    "                if simil > threshold:\n",
    "                    num_members[index] += simil\n",
    "            # Offspring with offspring\n",
    "            elif index >= num_population and index2 >= num_population:\n",
    "                simil = cosine_similarity(\n",
    "                    offspring_population[index - num_population, index_start_ind:],\n",
    "                    offspring_population[index2 - num_population, index_start_ind:],\n",
    "                )\n",
    "                if simil > threshold:\n",
    "                    num_members[index] += simil\n",
    "            # Offspring with population\n",
    "            elif index >= num_population and index2 < num_population:\n",
    "                simil = cosine_similarity(\n",
    "                    offspring_population[index - num_population, index_start_ind:],\n",
    "                    population[index2, index_start_ind:],\n",
    "                )\n",
    "                if simil > threshold:\n",
    "                    num_members[index] += simil\n",
    "\n",
    "    for index in range(population.shape[0]):\n",
    "        population_fitness[index] = population_fitness[index] / num_members[index]\n",
    "\n",
    "    for index in range(offspring_population.shape[0]):\n",
    "        offspring_population_fitness[index] = (\n",
    "            offspring_population_fitness[index] / num_members[index + num_population]\n",
    "        )\n",
    "\n",
    "    best_generation(\n",
    "        population,\n",
    "        population_fitness,\n",
    "        offspring_population,\n",
    "        offspring_population_fitness,\n",
    "        n_population,\n",
    "    )\n",
    "    "
   ]
  },
  {
   "cell_type": "code",
   "execution_count": 150,
   "metadata": {},
   "outputs": [],
   "source": [
    "population = np.array([[1,2,3,5], [7,8,9,10]], dtype=np.float32)\n",
    "population_fitness = np.array([1.,2.], dtype=np.float32)\n",
    "index = 0\n",
    "population2 = np.array([[11,12,13,14], [15,16,17,18], [21,22,23,24], [25,26,27,28]], dtype=np.float32)\n",
    "population2_fitness = np.array([4.,3.,2.,1.], dtype=np.float32)\n",
    "index2 = 0\n",
    "\n",
    "select(population, population_fitness, population2, population2_fitness, 2, 0.9)\n",
    "\n"
   ]
  },
  {
   "cell_type": "code",
   "execution_count": 151,
   "metadata": {},
   "outputs": [
    {
     "data": {
      "text/plain": [
       "0.9785742163658142"
      ]
     },
     "execution_count": 151,
     "metadata": {},
     "output_type": "execute_result"
    }
   ],
   "source": [
    "cosine_similarity(\n",
    "    np.array([-1,13,-1,13,-1,13], dtype=np.float32), \n",
    "    np.array([1,13,2,13,2,13], dtype=np.float32)\n",
    ")"
   ]
  },
  {
   "cell_type": "code",
   "execution_count": 152,
   "metadata": {},
   "outputs": [
    {
     "data": {
      "text/plain": [
       "array([0.        , 1.11394335, 0.        , 1.62324929, 1.62324929,\n",
       "       2.62324929])"
      ]
     },
     "execution_count": 152,
     "metadata": {},
     "output_type": "execute_result"
    }
   ],
   "source": [
    "np.log10([1,13,1,42,42,420])"
   ]
  },
  {
   "cell_type": "code",
   "execution_count": 153,
   "metadata": {},
   "outputs": [
    {
     "ename": "ValueError",
     "evalue": "Buffer dtype mismatch, expected 'float' but got 'double'",
     "output_type": "error",
     "traceback": [
      "\u001b[0;31m---------------------------------------------------------------------------\u001b[0m",
      "\u001b[0;31mValueError\u001b[0m                                Traceback (most recent call last)",
      "\u001b[1;32m/home/jraba/Dev/gar-lener-es/notebooks/cython_functions.ipynb Cell 7\u001b[0m in \u001b[0;36m<cell line: 1>\u001b[0;34m()\u001b[0m\n\u001b[0;32m----> <a href='vscode-notebook-cell:/home/jraba/Dev/gar-lener-es/notebooks/cython_functions.ipynb#W5sZmlsZQ%3D%3D?line=0'>1</a>\u001b[0m \u001b[39m0.5\u001b[39m\u001b[39m*\u001b[39m(\u001b[39m1\u001b[39m\u001b[39m+\u001b[39mcosine_similarity(\n\u001b[1;32m      <a href='vscode-notebook-cell:/home/jraba/Dev/gar-lener-es/notebooks/cython_functions.ipynb#W5sZmlsZQ%3D%3D?line=1'>2</a>\u001b[0m     np\u001b[39m.\u001b[39;49marray([\u001b[39m-\u001b[39;49m\u001b[39m1.11394335\u001b[39;49m, \u001b[39m1.62324929\u001b[39;49m, \u001b[39m1.62324929\u001b[39;49m,\u001b[39m2.62324929\u001b[39;49m]), \n\u001b[1;32m      <a href='vscode-notebook-cell:/home/jraba/Dev/gar-lener-es/notebooks/cython_functions.ipynb#W5sZmlsZQ%3D%3D?line=2'>3</a>\u001b[0m     np\u001b[39m.\u001b[39;49marray([\u001b[39m1.11394335\u001b[39;49m, \u001b[39m1.62324929\u001b[39;49m, \u001b[39m1.62324929\u001b[39;49m,\u001b[39m2.62324929\u001b[39;49m])))\n",
      "File \u001b[0;32m_cython_magic_b21c38764ef2c01ff0df45819f6f9e96.pyx:111\u001b[0m, in \u001b[0;36m_cython_magic_b21c38764ef2c01ff0df45819f6f9e96.cosine_similarity\u001b[0;34m()\u001b[0m\n",
      "\u001b[0;31mValueError\u001b[0m: Buffer dtype mismatch, expected 'float' but got 'double'"
     ]
    }
   ],
   "source": [
    "0.5*(1+cosine_similarity(\n",
    "    np.array([-1.11394335, 1.62324929, 1.62324929,2.62324929]), \n",
    "    np.array([1.11394335, 1.62324929, 1.62324929,2.62324929])))"
   ]
  },
  {
   "cell_type": "code",
   "execution_count": 154,
   "metadata": {},
   "outputs": [],
   "source": [
    "def ned(array_1, array_2):\n",
    "    return (1-((2*np.sum(array_1 * array_2))/(np.sum(array_1**2) + np.sum(array_2**2))))*0.5"
   ]
  },
  {
   "cell_type": "code",
   "execution_count": 155,
   "metadata": {},
   "outputs": [
    {
     "data": {
      "text/plain": [
       "0.9892668950621054"
      ]
     },
     "execution_count": 155,
     "metadata": {},
     "output_type": "execute_result"
    }
   ],
   "source": [
    "1-ned(np.array([-13,-42,42,420]), np.array([13,42,42,420]))"
   ]
  },
  {
   "cell_type": "code",
   "execution_count": 156,
   "metadata": {},
   "outputs": [
    {
     "data": {
      "text/plain": [
       "array([[  15., -100.,   17.,   18.],\n",
       "       [  11., -100.,   13.,   14.]], dtype=float32)"
      ]
     },
     "execution_count": 156,
     "metadata": {},
     "output_type": "execute_result"
    }
   ],
   "source": [
    "population"
   ]
  },
  {
   "cell_type": "code",
   "execution_count": 157,
   "metadata": {},
   "outputs": [
    {
     "data": {
      "text/plain": [
       "array([[   7., -100.,    9.,   10.],\n",
       "       [   1., -100.,    3.,    5.],\n",
       "       [  25., -100.,   27.,   28.],\n",
       "       [  21., -100.,   23.,   24.]], dtype=float32)"
      ]
     },
     "execution_count": 157,
     "metadata": {},
     "output_type": "execute_result"
    }
   ],
   "source": [
    "population2"
   ]
  },
  {
   "cell_type": "code",
   "execution_count": 158,
   "metadata": {},
   "outputs": [
    {
     "data": {
      "text/plain": [
       "array([0.50198543, 0.66912055], dtype=float32)"
      ]
     },
     "execution_count": 158,
     "metadata": {},
     "output_type": "execute_result"
    }
   ],
   "source": [
    "population_fitness"
   ]
  },
  {
   "cell_type": "code",
   "execution_count": 159,
   "metadata": {},
   "outputs": [
    {
     "data": {
      "text/plain": [
       "array([0.33444494, 0.16989033, 0.16740428, 0.3347596 ], dtype=float32)"
      ]
     },
     "execution_count": 159,
     "metadata": {},
     "output_type": "execute_result"
    }
   ],
   "source": [
    "population2_fitness"
   ]
  },
  {
   "cell_type": "code",
   "execution_count": 160,
   "metadata": {},
   "outputs": [],
   "source": [
    "array_1 = np.random.uniform(0, 1000, size=(3000)).astype(np.float32)\n",
    "array_2 = np.random.uniform(0, 1000, size=(3000)).astype(np.float32)"
   ]
  },
  {
   "cell_type": "code",
   "execution_count": 161,
   "metadata": {},
   "outputs": [
    {
     "name": "stdout",
     "output_type": "stream",
     "text": [
      "2.67 µs ± 8.54 ns per loop (mean ± std. dev. of 7 runs, 100,000 loops each)\n"
     ]
    }
   ],
   "source": [
    "timeit_result = %timeit -o cosine_similarity(array_1, array_2)"
   ]
  },
  {
   "cell_type": "code",
   "execution_count": 37,
   "metadata": {},
   "outputs": [
    {
     "data": {
      "text/plain": [
       "0.7446993768686008"
      ]
     },
     "execution_count": 37,
     "metadata": {},
     "output_type": "execute_result"
    }
   ],
   "source": [
    "cosine_similarity(array_1, array_2)"
   ]
  },
  {
   "cell_type": "code",
   "execution_count": null,
   "metadata": {},
   "outputs": [
    {
     "data": {
      "text/plain": [
       "0.12371255471209491"
      ]
     },
     "metadata": {},
     "output_type": "display_data"
    }
   ],
   "source": [
    "ned(array_1, array_2)"
   ]
  },
  {
   "cell_type": "code",
   "execution_count": null,
   "metadata": {},
   "outputs": [
    {
     "name": "stdout",
     "output_type": "stream",
     "text": [
      "145 µs ± 1.62 µs per loop (mean ± std. dev. of 7 runs, 10,000 loops each)\n"
     ]
    }
   ],
   "source": [
    "timeit_result = %timeit -o cosine_similarity_sklearn(array_1.reshape(1, -1), array_2.reshape(1, -1))"
   ]
  },
  {
   "cell_type": "code",
   "execution_count": null,
   "metadata": {},
   "outputs": [
    {
     "data": {
      "text/plain": [
       "(None, None)"
      ]
     },
     "metadata": {},
     "output_type": "display_data"
    }
   ],
   "source": [
    "import pyximport\n",
    "pyximport.install(pyimport=True)"
   ]
  },
  {
   "cell_type": "code",
   "execution_count": 15,
   "metadata": {},
   "outputs": [
    {
     "name": "stderr",
     "output_type": "stream",
     "text": [
      "\n",
      "Error compiling Cython file:\n",
      "------------------------------------------------------------\n",
      "...\n",
      "         #for sliced_doc, sliced_targed in slice_doc(doc, target, individual_size, doc_size):\n",
      "         #    macth_tokens: np.ndarray = (sliced_doc == np.abs(individual_data)) | (\n",
      "         #        mask_unknown\n",
      "         #    )\n",
      "    for index in range(0, doc_size - individual_size + 2):\n",
      "        cdef int[:] sliced_doc = doc[index : index + individual_size]\n",
      "            ^\n",
      "------------------------------------------------------------\n",
      "\n",
      "/home/jraba/.cache/ipython/cython/_cython_magic_6eab27922a6593776746341fc97fa021.pyx:64:13: cdef statement not allowed here\n"
     ]
    }
   ],
   "source": [
    "%%cython --compile-args=-fopenmp --link-args=-fopenmp\n",
    "\n",
    "\n",
    "import numpy as np\n",
    "from cython.parallel import parallel, prange\n",
    "\n",
    "cimport cython\n",
    "\n",
    "@cython.boundscheck(False) # turn off bounds-checking for entire function\n",
    "@cython.wraparound(False)  # turn off negative index wrapping for entire function\n",
    "cpdef slice_doc(\n",
    "    float[:,::1] doc,\n",
    "    int[:,::1] target,\n",
    "    int windows, \n",
    "    int doc_size\n",
    "):\n",
    "    \"\"\"Generate slice of doc.\"\"\"\n",
    "    # slices: List[Tuple[np.ndarray, np.ndarray]] = []\n",
    "    # for index in range(0, doc_size - windows + 2):\n",
    "    #     slices.append((doc[index : index + windows], target[index : index + windows]))\n",
    "    # return slices\n",
    "\n",
    "\n",
    "\n",
    "cpdef inline float perfomance_by_doc(\n",
    "    float[:] individual,\n",
    "    float[:,::1] doc,\n",
    "    int[:] target,\n",
    "    int doc_size,\n",
    "    int individual_size,\n",
    "    int unknown_id,\n",
    "\n",
    ")nogil:\n",
    "    \"\"\"Performance of individual on doc.\"\"\"\n",
    "\n",
    "    #individual_data = individual[:individual_size].reshape(-1, 1)\n",
    "    #entity_mask: np.ndarray = individual_data > 0\n",
    "    #mask_unknown: np.ndarray = individual_data == unknown_id\n",
    "    #union_doc: int = 0\n",
    "    #intercep_doc: int = 0\n",
    "    #retrive_doc: int = 0\n",
    "    cdef float[:] individual_data = individual[:individual_size]\n",
    "    cdef int[:] entity_mask = np.zeros(individual_size, dtype=int)\n",
    "    for index in range(individual_size):\n",
    "        if individual_data[index] > 0:\n",
    "            entity_mask[index] = 1\n",
    "    cdef int[:] mask_unknown = np.zeros(individual_size, dtype=int)\n",
    "    for index in range(individual_size):\n",
    "        if individual_data[index] == unknown_id:\n",
    "            mask_unknown[index] = 1\n",
    "    cdef int union_doc = 0\n",
    "    cdef int intercep_doc = 0\n",
    "    cdef int retrive_doc = 0\n",
    "\n",
    "         #if individual_size > doc_size + 2:\n",
    "         #    return 0.0\n",
    "    if individual_size > doc_size + 2:\n",
    "        return 0.0\n",
    "\n",
    "         #for sliced_doc, sliced_targed in slice_doc(doc, target, individual_size, doc_size):\n",
    "         #    macth_tokens: np.ndarray = (sliced_doc == np.abs(individual_data)) | (\n",
    "         #        mask_unknown\n",
    "         #    )\n",
    "    for index in range(0, doc_size - individual_size + 2):\n",
    "        cdef int[:] sliced_doc = doc[index : index + individual_size]\n",
    "        cdef int[:] sliced_targed = target[index : index + individual_size]\n",
    "        # cdef int[:] macth_tokens = np.zeros(individual_size, dtype=int)\n",
    "        # for index2 in range(individual_size):\n",
    "        #     if sliced_doc[index2] == np.abs(individual_data[index2]) or mask_unknown[index2] == 1:\n",
    "        #         macth_tokens[index2] = 1\n",
    "    #for i in range(0, doc_size - individual_size + 2):\n",
    "\n",
    "         #    any_match = np_any_axis1(macth_tokens)\n",
    "         #    total_match = np.sum(any_match)\n",
    "\n",
    "         #    predict_span: np.ndarray = np.zeros(individual_size, dtype=np.bool8)\n",
    "         #    if total_match == individual_size:\n",
    "         #        # predict_span: np.ndarray = np_sum_axis1(macth_tokens * entity_mask)\n",
    "         #        # np_sum_axis1(macth_tokens * entity_mask)\n",
    "         #        for i in range(individual_size):\n",
    "         #            predict_span[i] = np.sum(macth_tokens[i] * entity_mask[i])\n",
    "\n",
    "         #    intercep_doc += (predict_span * sliced_targed.flatten()).sum()\n",
    "         #    union_doc += (predict_span | sliced_targed.flatten()).sum()\n",
    "         #    retrive_doc += predict_span.sum()\n",
    "         #    if intercep_doc > retrive_doc:\n",
    "         #        print(f\"{intercep_doc} {retrive_doc}\")\n",
    "\n",
    "         #if union_doc == 0:\n",
    "         #    return -1.0\n",
    "\n",
    "         #if intercep_doc == 0:\n",
    "         #    return 0.0\n",
    "\n",
    "         #if intercep_doc / retrive_doc > 1:\n",
    "         #    print(intercep_doc / retrive_doc, intercep_doc, retrive_doc)\n",
    "\n",
    "         #return (intercep_doc / retrive_doc) * np.log2(intercep_doc)\n",
    "\n",
    "\n",
    "\n",
    "# def fitness_by_individual(self, individual: np.ndarray) -> float:\n",
    "#     \"\"\"Fitness function.\n",
    "#     Return fitness of individual.\n",
    "#     F1 score\n",
    "#     F(R) = frac{2*S_p*S_r,S_p + S_r)\n",
    "#     \"\"\"\n",
    "#     entity_type = self.map_inv_entity[individual[2]]\n",
    "#     perfomance_doc = np.zeros(len(self.data[entity_type][\"input\"]))\n",
    "#     individual_size: int = int(individual[0])\n",
    "#     indivual_rep = individual[3:]\n",
    "\n",
    "#     for index_doc, doc in enumerate(self.data[entity_type][\"input\"]):\n",
    "         #perfomance = self.perfomance_by_doc(\n",
    "         #    indivual_rep,\n",
    "         #    doc,\n",
    "         #    self.data[entity_type][\"target\"][index_doc],\n",
    "         #    int(self.data[entity_type][\"meta\"][index_doc, 0]),\n",
    "         #    individual_size,\n",
    "         #)\n",
    "         #perfomance_doc[index_doc] = perfomance\n",
    "\n",
    "#     # if perfomance_doc[perfomance_doc >= 0].mean() > 1:\n",
    "#     #     print(perfomance_doc[perfomance_doc >= 0].mean())\n",
    "#     return perfomance_doc[perfomance_doc >= 0].mean()\n",
    "\n",
    "# def fitness(self, population: np.ndarray) -> np.ndarray:\n",
    "#     \"\"\"Fitness function.\n",
    "#     Return fitness of population.\n",
    "#     F1 score\n",
    "#     F(R) = frac{2*S_p*S_r,S_p + S_r)\n",
    "#     \"\"\"\n",
    "#     return np.array(\n",
    "         #[self.fitness_by_individual(individual) for individual in population],\n",
    "         #dtype=np.float32,\n",
    "#     )"
   ]
  }
 ],
 "metadata": {
  "kernelspec": {
   "display_name": "Python 3.9.7 ('env': venv)",
   "language": "python",
   "name": "python3"
  },
  "language_info": {
   "codemirror_mode": {
    "name": "ipython",
    "version": 3
   },
   "file_extension": ".py",
   "mimetype": "text/x-python",
   "name": "python",
   "nbconvert_exporter": "python",
   "pygments_lexer": "ipython3",
   "version": "3.9.7"
  },
  "orig_nbformat": 4,
  "vscode": {
   "interpreter": {
    "hash": "58a42617e7e8ac5b5deb10f20d2ac009e9df1a8d2d4c12f179252e868903bd47"
   }
  }
 },
 "nbformat": 4,
 "nbformat_minor": 2
}
