{
 "cells": [
  {
   "attachments": {},
   "cell_type": "markdown",
   "metadata": {},
   "source": [
    "# NER with Evolutionary Algorithms\n"
   ]
  },
  {
   "attachments": {},
   "cell_type": "markdown",
   "metadata": {},
   "source": [
    "- Take example of conll 2002 &check;\n",
    "- Transform example to Doument object\n",
    "  - Create vocabulary from corpus text\n",
    "  - Create vocabulary from corpus iob\n",
    "  - Create vocabulary from file &check;\n",
    "  - Create vocabulary from spacy\n",
    "  - Create vocabulary from conll2002 &check;\n",
    "  - Create vocabulary from spacy after preprocessing\n",
    "- Transform Document object to array &check;\n",
    "- Create text documents to WORD POS DEPREL\n",
    "  - Train neural network with word lemma pos deprel to predict next token\n",
    "- Generate rules using genetic algorithm\n",
    "  - Generate init population\n",
    "    - Create chromosome\n",
    "    - Select next token:\n",
    "      - Get transition data\n",
    "      - Filter samples evaluating their quality\n",
    "  - Create fitness function\n",
    "    - Evaluate fitness function\n",
    "  - Create mutation function\n",
    "    - Change token\n",
    "    - Change transition\n",
    "  - Create crossover function\n",
    "    - Change token\n",
    "    - Change transition\n",
    "  - Evaluate population\n",
    "    - Evaluate fitness\n",
    "    - Select best samples\n",
    "- Join rules\n",
    "  - Support vector machine\n"
   ]
  },
  {
   "attachments": {},
   "cell_type": "markdown",
   "metadata": {},
   "source": [
    "## Config\n"
   ]
  },
  {
   "cell_type": "code",
   "execution_count": 187,
   "metadata": {},
   "outputs": [
    {
     "name": "stdout",
     "output_type": "stream",
     "text": [
      "The autoreload extension is already loaded. To reload it, use:\n",
      "  %reload_ext autoreload\n"
     ]
    }
   ],
   "source": [
    "%load_ext autoreload\n",
    "%autoreload 2"
   ]
  },
  {
   "cell_type": "code",
   "execution_count": 188,
   "metadata": {},
   "outputs": [],
   "source": [
    "from typing import List,TYPE_CHECKING,Iterable,Dict, Optional\n",
    "import numpy as np"
   ]
  },
  {
   "cell_type": "code",
   "execution_count": 189,
   "metadata": {},
   "outputs": [],
   "source": [
    "import torch\n",
    "from transformers import AutoModel, AutoTokenizer"
   ]
  },
  {
   "cell_type": "code",
   "execution_count": 190,
   "metadata": {},
   "outputs": [],
   "source": [
    "model_path = \"symanto/sn-xlm-roberta-base-snli-mnli-anli-xnli\"\n",
    "model_path = \"hiiamsid/sentence_similarity_spanish_es\"\n",
    "cache_dir = \"/home/jraba/Dev/cache-ml-models\"\n",
    "tokenizer = AutoTokenizer.from_pretrained(model_path, cache_dir=cache_dir)\n",
    "model_ml = AutoModel.from_pretrained(model_path, cache_dir=cache_dir)"
   ]
  },
  {
   "cell_type": "code",
   "execution_count": 191,
   "metadata": {},
   "outputs": [],
   "source": [
    "from functools import lru_cache\n",
    "import torch.nn.functional as F\n",
    "from scipy.linalg import norm\n",
    "\n",
    "embedding_size = 32\n",
    "\n",
    "@lru_cache(maxsize=1000)\n",
    "def get_ml_embedding(sentence: str) -> torch.Tensor:\n",
    "    def mean_pooling(model_output, attention_mask):\n",
    "        token_embeddings = model_output[0]\n",
    "        # First element of model_output contains all token embeddings\n",
    "        input_mask_expanded = (\n",
    "            attention_mask.unsqueeze(-1).expand(token_embeddings.size()).float()\n",
    "        )\n",
    "        return torch.sum(token_embeddings * input_mask_expanded, 1) / torch.clamp(\n",
    "            input_mask_expanded.sum(1), min=1e-9\n",
    "        )\n",
    "\n",
    "    encoded_input = tokenizer(\n",
    "        sentence,\n",
    "        padding=True,\n",
    "        truncation=True,\n",
    "        return_tensors=\"pt\",\n",
    "        max_length=8,\n",
    "    )\n",
    "    # Compute token embeddings\n",
    "    with torch.no_grad():\n",
    "        model_output = model_ml(**encoded_input)\n",
    "    # Perform pooling\n",
    "    sentence_embeddings = mean_pooling(model_output, encoded_input[\"attention_mask\"])\n",
    "    # Normalize embeddings\n",
    "    # sentence_embeddings = F.normalize(\n",
    "    #     sentence_embeddings.reshape(embedding_size, -1).mean(axis=1).expand(1, -1),\n",
    "    #     p=2,\n",
    "    #     dim=1,\n",
    "    # )\n",
    "    sentence_embeddings = sentence_embeddings.reshape(embedding_size, -1).mean(axis=1).expand(1, -1)\n",
    "    return sentence_embeddings[0]\n",
    "\n",
    "\n",
    "@lru_cache(maxsize=1000)\n",
    "def similarity(sentence1: str, sentence2: str, ml_embedding=get_ml_embedding) -> float:\n",
    "    vector1 = ml_embedding(sentence1)\n",
    "    vector2 = ml_embedding(sentence2)\n",
    "    return (vector1 @ vector2).sum() / (norm(vector1) * norm(vector2))"
   ]
  },
  {
   "cell_type": "code",
   "execution_count": 192,
   "metadata": {},
   "outputs": [
    {
     "data": {
      "text/plain": [
       "tensor(0.3428)"
      ]
     },
     "execution_count": 192,
     "metadata": {},
     "output_type": "execute_result"
    }
   ],
   "source": [
    "similarity(\"appost\", \"flat\")"
   ]
  },
  {
   "cell_type": "code",
   "execution_count": 193,
   "metadata": {},
   "outputs": [],
   "source": [
    "def get_ml_embeddings(sentence: List[str]) -> torch.Tensor:\n",
    "    return torch.stack([get_ml_embedding(s) for s in sentence])"
   ]
  },
  {
   "cell_type": "code",
   "execution_count": 194,
   "metadata": {},
   "outputs": [],
   "source": [
    "from ga_ner import linguistic_features as lf\n",
    "num_docs = 10"
   ]
  },
  {
   "cell_type": "code",
   "execution_count": 195,
   "metadata": {},
   "outputs": [
    {
     "name": "stdout",
     "output_type": "stream",
     "text": [
      "['O' 'PER' 'MISC' 'ORG' 'LOC']\n"
     ]
    }
   ],
   "source": [
    "entity_names = []\n",
    "with open(\"entity_names.txt\", \"r\") as file:\n",
    "    for line in file:\n",
    "        entity_names.append(line.strip())\n",
    "entity_map = np.array([\"O\"] + entity_names)\n",
    "print(entity_map)"
   ]
  },
  {
   "cell_type": "code",
   "execution_count": 196,
   "metadata": {},
   "outputs": [
    {
     "data": {
      "text/plain": [
       "{'O': 0, 'PER': 1, 'MISC': 2, 'ORG': 3, 'LOC': 4}"
      ]
     },
     "execution_count": 196,
     "metadata": {},
     "output_type": "execute_result"
    }
   ],
   "source": [
    "entity_map_inv = {entity: index for index, entity in enumerate(entity_map)}\n",
    "entity_map_inv"
   ]
  },
  {
   "attachments": {},
   "cell_type": "markdown",
   "metadata": {},
   "source": [
    "## Transform data\n"
   ]
  },
  {
   "cell_type": "code",
   "execution_count": 197,
   "metadata": {},
   "outputs": [],
   "source": [
    "from ga_ner.models import Vocabulary\n",
    "\n",
    "enconding = \"iso-8859-1\"\n",
    "vocab = Vocabulary.from_iob(\"data/train/esp.train.txt\", enconding, num_docs)"
   ]
  },
  {
   "attachments": {},
   "cell_type": "markdown",
   "metadata": {},
   "source": [
    "### Evolutinary NER Rules\n"
   ]
  },
  {
   "attachments": {},
   "cell_type": "markdown",
   "metadata": {},
   "source": [
    "1. Take a example of conll 2002\n",
    "2. Create Ner rule with samples using genetic algorithm\n",
    "3. Label data with rules\n",
    "4. Train neural network with data labeled with rules\n",
    "5. Select samples with high precision\n",
    "6. repeat steps 2-5 with selected samples until precision is high enough\n"
   ]
  },
  {
   "cell_type": "code",
   "execution_count": 198,
   "metadata": {},
   "outputs": [],
   "source": [
    "import numpy as np\n",
    "from ga_ner.models import GANER, Document, Corpus, Vocabulary\n",
    "import spacy\n",
    "from spacy.tokens import DocBin\n",
    "\n",
    "if TYPE_CHECKING:\n",
    "    from spacy.tokens import Doc as SpacyDoc"
   ]
  },
  {
   "attachments": {},
   "cell_type": "markdown",
   "metadata": {},
   "source": [
    "### 1. Take a example of conll 2002\n",
    "\n",
    "1. Load conll2002 to spacy documents\n",
    "2. Load Vocabulary from conll2002\n",
    "3. Take random samples from spacy documents\n",
    "4. Convert Spacy models to Corpus object from samples\n"
   ]
  },
  {
   "attachments": {},
   "cell_type": "markdown",
   "metadata": {},
   "source": [
    "##### 1. Load conll2002 to spacy models\n"
   ]
  },
  {
   "cell_type": "code",
   "execution_count": 199,
   "metadata": {},
   "outputs": [],
   "source": [
    "nlp = spacy.load(\"es_dep_news_trf\", exclude=[\"ner\"])"
   ]
  },
  {
   "cell_type": "code",
   "execution_count": 200,
   "metadata": {},
   "outputs": [],
   "source": [
    "# load from disk\n",
    "# Load the DocBin from the file\n",
    "doc_bin_loaded = DocBin().from_disk(\"./data/ner_ea.spacy\")\n",
    "# Simple load\n",
    "spacy_ner_doc = list(doc_bin_loaded.get_docs(nlp.vocab))"
   ]
  },
  {
   "cell_type": "code",
   "execution_count": 201,
   "metadata": {},
   "outputs": [
    {
     "data": {
      "text/plain": [
       "8323"
      ]
     },
     "execution_count": 201,
     "metadata": {},
     "output_type": "execute_result"
    }
   ],
   "source": [
    "samples_len = len(spacy_ner_doc)\n",
    "samples_len"
   ]
  },
  {
   "attachments": {},
   "cell_type": "markdown",
   "metadata": {},
   "source": [
    "##### 2. Load Vocabulary from conll2002\n"
   ]
  },
  {
   "cell_type": "code",
   "execution_count": 202,
   "metadata": {},
   "outputs": [],
   "source": [
    "vocabulary = Vocabulary.from_file(\n",
    "    \"data/vocabs/conn-2002-uncased-vocab.txt\", include_special=False\n",
    ")"
   ]
  },
  {
   "attachments": {},
   "cell_type": "markdown",
   "metadata": {},
   "source": [
    "2784 = Vocab\n",
    "\n",
    "62 = Dep\n",
    "\n",
    "19 = POS\n",
    "\n",
    "2703 = Word\n"
   ]
  },
  {
   "attachments": {},
   "cell_type": "markdown",
   "metadata": {},
   "source": [
    "##### 3. Take random samples from spacy documents\n"
   ]
  },
  {
   "cell_type": "code",
   "execution_count": 203,
   "metadata": {},
   "outputs": [],
   "source": [
    "sample_is_complete_1 = np.zeros(samples_len, dtype=bool)"
   ]
  },
  {
   "cell_type": "code",
   "execution_count": 204,
   "metadata": {},
   "outputs": [],
   "source": [
    "np.random.seed(42)\n",
    "selected_indices = np.random.choice(samples_len, size=samples_len, replace=False)"
   ]
  },
  {
   "cell_type": "code",
   "execution_count": 205,
   "metadata": {},
   "outputs": [],
   "source": [
    "#  Select index based in entity type\n",
    "# Count number of entities by type\n",
    "# TODO convert to function\n",
    "from collections import Counter\n",
    "\n",
    "entity_counter = Counter()\n",
    "\n",
    "for doc in spacy_ner_doc:\n",
    "    for ent in doc.ents:\n",
    "        entity_counter[ent.label_] += 1\n",
    "\n",
    "# Normalize\n",
    "total_entities = sum(entity_counter.values())\n",
    "for k in entity_counter:\n",
    "    entity_counter[k] = entity_counter[k] / total_entities\n",
    "\n",
    "# Select indices\n",
    "# Add index if entity type is less proporcional\n",
    "# Selected indices remove\n",
    "# Do until all entity types are selected\n",
    "selected_indexes_stratified = []\n",
    "was_selected = np.zeros(samples_len, dtype=bool)\n",
    "entity_selected_counter = Counter()\n",
    "while not was_selected.all():\n",
    "    for i in selected_indices:\n",
    "        doc = spacy_ner_doc[i]\n",
    "        if not was_selected[i]:\n",
    "            if len(doc.ents)==0:\n",
    "                was_selected[i] = True\n",
    "                continue\n",
    "            total_selected = sum(entity_selected_counter.values())\n",
    "            if total_selected==0 or entity_selected_counter[doc.ents[0].label_]/total_selected < entity_counter[doc.ents[0].label_]:\n",
    "                selected_indexes_stratified.append(i)\n",
    "                for ent in doc.ents:\n",
    "                    was_selected[i] = True\n",
    "                    entity_selected_counter[ent.label_] += 1"
   ]
  },
  {
   "cell_type": "code",
   "execution_count": 206,
   "metadata": {},
   "outputs": [
    {
     "data": {
      "text/plain": [
       "Counter({'LOC': 0.26141078838174275,\n",
       "         'ORG': 0.39312692839663793,\n",
       "         'PER': 0.2298648792424726,\n",
       "         'MISC': 0.11559740397914672})"
      ]
     },
     "execution_count": 206,
     "metadata": {},
     "output_type": "execute_result"
    }
   ],
   "source": [
    "entity_counter"
   ]
  },
  {
   "cell_type": "code",
   "execution_count": 207,
   "metadata": {},
   "outputs": [
    {
     "data": {
      "text/plain": [
       "[7000, 1346, 5204, 4952, 7423, 4509, 7468, 533, 4619, 1385]"
      ]
     },
     "execution_count": 207,
     "metadata": {},
     "output_type": "execute_result"
    }
   ],
   "source": [
    "selected_indices_1 = selected_indexes_stratified[:10]\n",
    "selected_indices_1"
   ]
  },
  {
   "attachments": {},
   "cell_type": "markdown",
   "metadata": {},
   "source": [
    "##### 4. Convert Spacy models to Corpus object\n"
   ]
  },
  {
   "cell_type": "code",
   "execution_count": 208,
   "metadata": {},
   "outputs": [],
   "source": [
    "def sample_spacy_docs(\n",
    "    docs: List[\"SpacyDoc\"],\n",
    "    selected_indices: Iterable[int],\n",
    "    sample_is_complete: Iterable[int],\n",
    "    spacy_ner_doc: List[\"SpacyDoc\"],\n",
    ") -> Iterable[\"SpacyDoc\"]:\n",
    "    \"\"\"\n",
    "    Sample a list of spacy documents of selected index.\n",
    "    If doc is not complete, it will be completed in spacy pipeline.\n",
    "    \"\"\"\n",
    "    spacy_models = [\n",
    "        docs[index] for index in selected_indices if not sample_is_complete[index]\n",
    "    ]\n",
    "\n",
    "    # Complement spacy documents\n",
    "    spacy_models = list(\n",
    "        nlp.pipe(spacy_models, disable=[\"tok2vec\", \"tagger\", \"attribute_ruler\"])\n",
    "    )\n",
    "\n",
    "    # Reassign spacy document\n",
    "    index_doc = 0\n",
    "    for index in selected_indices:\n",
    "        if not sample_is_complete[index]:\n",
    "            spacy_models[index_doc] = spacy_ner_doc[index]\n",
    "            sample_is_complete[index] = True\n",
    "            index_doc += 1\n",
    "        yield docs[index]"
   ]
  },
  {
   "cell_type": "code",
   "execution_count": 209,
   "metadata": {},
   "outputs": [],
   "source": [
    "corpus_1 = Corpus.from_spacy_docs(\n",
    "    [spacy_ner_doc[i] for i in selected_indices_1],\n",
    "    total_samples=len(selected_indices_1),\n",
    "    vocab=vocabulary,\n",
    "    embeding_func=get_ml_embedding,\n",
    "    emb_size=embedding_size,\n",
    ")"
   ]
  },
  {
   "cell_type": "code",
   "execution_count": 210,
   "metadata": {},
   "outputs": [],
   "source": [
    "vocab_ent = Vocabulary.from_list(list(corpus_1.entities.keys()), include_special=False)"
   ]
  },
  {
   "cell_type": "code",
   "execution_count": 211,
   "metadata": {},
   "outputs": [
    {
     "data": {
      "text/plain": [
       "<ga_ner.models.Vocabulary at 0x7faee211fc70>"
      ]
     },
     "execution_count": 211,
     "metadata": {},
     "output_type": "execute_result"
    }
   ],
   "source": [
    "vocab_ent"
   ]
  },
  {
   "cell_type": "code",
   "execution_count": 212,
   "metadata": {},
   "outputs": [
    {
     "data": {
      "text/plain": [
       "tensor([-0.0752,  0.0727, -0.3078, -0.1361, -0.2211, -0.0871,  0.0590, -0.2226,\n",
       "        -0.1626, -0.0243, -0.1104,  0.0617,  0.0547, -0.0320,  0.2031, -0.2466,\n",
       "        -0.1107, -0.1206,  0.0536, -0.0825, -0.0116,  0.1728,  0.0445, -0.0081,\n",
       "         0.1834,  0.0147, -0.0176, -0.1171, -0.0791,  0.1014,  0.1307,  0.0012])"
      ]
     },
     "execution_count": 212,
     "metadata": {},
     "output_type": "execute_result"
    }
   ],
   "source": [
    "corpus_1.documents[0].unk_id"
   ]
  },
  {
   "attachments": {},
   "cell_type": "markdown",
   "metadata": {},
   "source": [
    "### 2. Create Ner rule with samples using genetic algorithm\n",
    "\n",
    "1. From corpus create datasets by entities to predict\n",
    "   - From datasets:\n",
    "     - Convert to array\n",
    "     - Get representation of documents for entities to predict\n",
    "1. To Train Genetic Algorithm for entity\n",
    "1. Get best genetic ner rules\n"
   ]
  },
  {
   "attachments": {},
   "cell_type": "markdown",
   "metadata": {},
   "source": [
    "**Candidate Words**: are the words that can be used activate a new gene in the rule, that word are taken from words that create the entity to predict."
   ]
  },
  {
   "attachments": {},
   "cell_type": "markdown",
   "metadata": {},
   "source": [
    "**Parent Population** are created using entities in training corpus. Use diferent lenfth of entities. For First loop create tuples with length equal 1 for each feature of token then create 3 individuals (3x1). For second loop create tuples with length equals 2 for each feature and combinate posibilities, then create 18 individual (3²x2), repetead until complete the length parent population."
   ]
  },
  {
   "attachments": {},
   "cell_type": "markdown",
   "metadata": {},
   "source": [
    "##### 1. From corpus create datasets by entities to predict\n"
   ]
  },
  {
   "attachments": {},
   "cell_type": "markdown",
   "metadata": {},
   "source": [
    "### Structure\n",
    "\n",
    "\n",
    "Each individual has next structure:\n",
    "\n",
    "    - first token is size of rule or number of segments will be used\n",
    "    - second is fitness value\n",
    "    - third is entity type to predict\n",
    "    - next tokens are segments of rule\n",
    "\n",
    "Each segment has next structure:\n",
    "\n",
    "    - first token indicate if a entity is predicted\n",
    "    - second token is value for linguistic feature type\n",
    "    - next tokens are embedding values for linguistic feature value\n",
    "\n",
    "An individual has 7 seven segments. To indicate that there is an entity is used value 1 else 0. The segments that are not used are filled with 0. Size of segment is 2 + embedding size.\n",
    "\n",
    "## Example:\n",
    "\n",
    "An individual which size is 3, fitness value is 0.5, entity type is PER, and has 3 segments wich embedding size is 2.\n",
    "The first segment is for word feature and has value \"John\" and embedding [0.1, 0.2].\n",
    "The second segment is for pos feature and has value \"NOUN\" and embedding [0.4, 0.5].\n",
    "The third segment is for dep feature and has value \"aux\" and embedding [0.7, 0.8].\n",
    "The 2 fisrt segments are indicators for entity prediction.\n",
    "\n",
    "| 3.0 | 0.5 | 1.0 | 1.0 | 0.0 | 0.1 | 0.2 | 1.0 | 1.0 | 0.4 | 0.5 | 0.0 | 2.0 | 0.7 | 0.8 | 0.0 | 0.0 | 0.0 | 0.0 | 0.0 | 0.0 | 0.0 | 0.0 | 0.0 | 0.0 | 0.0 | 0.0 | 0.0 | 0.0 | 0.0 | 0.0 |\n",
    "| --- | --- | --- | --- | --- | --- | --- | --- | --- | --- | --- | --- | --- | --- | --- | --- | --- | --- | --- | --- | --- | --- | --- | --- | --- | --- | --- | --- | --- | --- | --- |\n",
    "\n",
    "Size of individual is 3 + 7 \\* (2 + 2) = 31\n"
   ]
  },
  {
   "cell_type": "code",
   "execution_count": 213,
   "metadata": {},
   "outputs": [],
   "source": [
    "def create_candidate_words(\n",
    "        corpus:Corpus,\n",
    "        embedding_size:int,\n",
    "        candidate_words: Optional[np.ndarray] = None, \n",
    "        save_path: str = None):\n",
    "    \"\"\"\n",
    "    Create candidate words from corpus\n",
    "    :param corpus_1: corpus_1\n",
    "    :param candidate_words: candidate words\n",
    "    :param save_path: save path\n",
    "    :return: candidate words\n",
    "    \"\"\"\n",
    "    if candidate_words is None:\n",
    "        candidate_words = np.empty((0, embedding_size + 1))\n",
    "    for document in corpus.documents:\n",
    "        for entity in document.entities:\n",
    "            for index_entiy in range(entity.start, entity.end):\n",
    "                for index_feature in range(3):\n",
    "                    candidate_words = np.vstack(\n",
    "                        (\n",
    "                            candidate_words,\n",
    "                            np.append(\n",
    "                                index_feature,\n",
    "                                document.tokens[index_entiy][index_feature].value,\n",
    "                            ),\n",
    "                        )\n",
    "                    )\n",
    "    if save_path:\n",
    "        np.savetxt(save_path, candidate_words, fmt=\"%s\", delimiter=\",\")\n",
    "    return candidate_words"
   ]
  },
  {
   "cell_type": "code",
   "execution_count": 237,
   "metadata": {},
   "outputs": [],
   "source": [
    "create_candidate_words(corpus_1, embedding_size, save_path=\"data/train/esp.train.candidate_words\")\n",
    "# Load candidate words\n",
    "candidate_words = np.loadtxt(\n",
    "    \"data/train/esp.train.candidate_words\", delimiter=\",\", dtype=np.float32\n",
    ")"
   ]
  },
  {
   "cell_type": "code",
   "execution_count": 215,
   "metadata": {},
   "outputs": [],
   "source": [
    "from typing import List\n",
    "from tqdm.auto import tqdm\n",
    "from itertools import product\n",
    "\n",
    "def create_parent_population(\n",
    "        population_size, \n",
    "        documents:List[Document],\n",
    "        cromossome_size, \n",
    "        base_population:Optional[np.ndarray]=None):\n",
    "    parent_population = np.zeros((population_size, cromossome_size), dtype=np.float32)\n",
    "    # Initialize population\n",
    "    cur_ind_len = 1\n",
    "    cur_pop_len = 0\n",
    "    fishished = False\n",
    "    any_entity = True\n",
    "    previous_start = 0\n",
    "    if base_population is not None:\n",
    "        cur_pop_len = base_population.shape[0]\n",
    "        parent_population[:cur_pop_len] = base_population\n",
    "\n",
    "    if len(documents) == 0:\n",
    "        return parent_population\n",
    "    \n",
    "    entity_len = np.array([len(document.entities) for document in documents])\n",
    "    \n",
    "    while not fishished and any_entity:\n",
    "        any_entity = False\n",
    "        for document in documents:\n",
    "            for entity in document.entities:\n",
    "                fishished = fishished or cur_pop_len >= population_size\n",
    "                if entity.end - entity.start - previous_start >= cur_ind_len  and not fishished and entity.start - previous_start > 0:\n",
    "                    any_entity = True\n",
    "                    feature_values = []\n",
    "                    for index_feature in range(entity.start-previous_start, entity.start+cur_ind_len):\n",
    "                        feature_values.append(range(3))\n",
    "\n",
    "                    for combination_value in product(*feature_values):\n",
    "                        parent_population[cur_pop_len, 0] = cur_ind_len\n",
    "                        parent_population[cur_pop_len, 1] = 0\n",
    "                        parent_population[cur_pop_len, 2] = entity_map_inv[entity.label]\n",
    "                        for index_combination, index_feature in enumerate(combination_value):\n",
    "                            start_index = 3 + index_combination * (embedding_size + 2)\n",
    "                            end_index = start_index + (embedding_size + 2)\n",
    "                            index_token = entity.start + index_combination - previous_start\n",
    "                            entity_id = entity_map_inv[entity.label] if index_token >= entity.start else 0\n",
    "                            parent_population[cur_pop_len][start_index] = entity_id\n",
    "                            parent_population[cur_pop_len][start_index+1] = index_feature\n",
    "                            parent_population[cur_pop_len][start_index+2:end_index] = document.tokens[index_token][index_feature].value\n",
    "                        cur_pop_len += 1\n",
    "\n",
    "                        if cur_pop_len >= population_size:\n",
    "                            fishished = True\n",
    "                            break\n",
    "        cur_ind_len += 1\n",
    "        if not any_entity and cur_pop_len < population_size:\n",
    "            any_entity = True\n",
    "            cur_ind_len = 1\n",
    "            previous_start += 1\n",
    "        # If start index is greater than entity length, then reset\n",
    "        if previous_start >= entity_len.max():\n",
    "            previous_start = 0\n",
    "            \n",
    "    return parent_population"
   ]
  },
  {
   "cell_type": "code",
   "execution_count": 216,
   "metadata": {},
   "outputs": [
    {
     "data": {
      "text/plain": [
       "81"
      ]
     },
     "execution_count": 216,
     "metadata": {},
     "output_type": "execute_result"
    }
   ],
   "source": [
    "from itertools import product\n",
    "\n",
    "len(list(product(range(3), range(3), range(3), range(3))))"
   ]
  },
  {
   "cell_type": "code",
   "execution_count": 217,
   "metadata": {},
   "outputs": [
    {
     "name": "stdout",
     "output_type": "stream",
     "text": [
      "Entity(label=ORG, name=Lucchetti, start=5, end=6)\n",
      "Entity(label=ORG, name=Grupo Luksic, start=10, end=12)\n",
      "Entity(label=LOC, name=Argentina, start=33, end=34)\n",
      "Entity(label=LOC, name=Perú, start=35, end=36)\n",
      "Entity(label=LOC, name=Chile, start=37, end=38)\n",
      "Entity(label=MISC, name=Educación, Cultura. Deportes, start=10, end=13)\n",
      "Entity(label=PER, name=Pilar del Castillo, start=14, end=17)\n",
      "Entity(label=PER, name=Bonet, start=23, end=24)\n",
      "Entity(label=ORG, name=Consejo de Ministros, start=25, end=28)\n",
      "Entity(label=MISC, name=Oferta Pública de Suscripción, start=20, end=24)\n",
      "Entity(label=MISC, name=OPS, start=25, end=26)\n",
      "Entity(label=ORG, name=Federación Nacional de Industrias Lácteas, start=4, end=9)\n",
      "Entity(label=ORG, name=FENIL, start=10, end=11)\n",
      "Entity(label=PER, name=Pedro Ara, start=13, end=15)\n",
      "Entity(label=ORG, name=Inlac, start=31, end=32)\n",
      "Entity(label=LOC, name=Ohmhajer, start=21, end=22)\n",
      "Entity(label=ORG, name=Etiopía, start=31, end=32)\n",
      "Entity(label=ORG, name=Eritrea, start=39, end=40)\n",
      "Entity(label=LOC, name=Vitoria, start=0, end=1)\n",
      "Entity(label=ORG, name=EFE, start=5, end=6)\n",
      "Entity(label=LOC, name=Tundu Wada, start=18, end=20)\n",
      "Entity(label=PER, name=Lamela, start=2, end=3)\n",
      "Entity(label=ORG, name=Congreso de los Diputados, start=13, end=17)\n",
      "Entity(label=MISC, name=Agricultura, start=21, end=22)\n",
      "Entity(label=PER, name=Miguel Arias Cañete, start=23, end=26)\n",
      "Entity(label=PER, name=González, start=14, end=15)\n",
      "Entity(label=LOC, name=casa de Doña Serafina, start=8, end=12)\n",
      "Entity(label=LOC, name=Alameda del Ayuntamiento, start=16, end=19)\n",
      "Entity(label=LOC, name=Casa de Cultura, start=35, end=38)\n"
     ]
    }
   ],
   "source": [
    "for document in corpus_1.documents:\n",
    "    for entity in document.entities:\n",
    "        print(entity)"
   ]
  },
  {
   "cell_type": "code",
   "execution_count": 218,
   "metadata": {},
   "outputs": [],
   "source": [
    "def read_input_txt(input_filename, target_filename, metadata_filename, num_docs, max_size_doc, embedding_size):\n",
    "    doc_dataset = np.zeros((num_docs, max_size_doc * embedding_size * 3), dtype=np.float32)\n",
    "    target_doc = np.zeros((num_docs, max_size_doc), dtype=np.int32)\n",
    "    metadata_doc = np.zeros((num_docs, 4), dtype=np.int32)\n",
    "    with open(input_filename) as input_file, open(target_filename) as target_file, open(\n",
    "    metadata_filename\n",
    "    ) as metadata_file:\n",
    "        for doc_index, line in enumerate(input_file):\n",
    "            input_doc = np.array([float(x) for x in line.split(\",\")], dtype=np.float32)\n",
    "            doc_dataset[doc_index, : input_doc.shape[0]] = input_doc\n",
    "        for doc_index, line in enumerate(target_file):\n",
    "            line_target = np.array([int(x) for x in line.split(\",\")])\n",
    "            target_doc[doc_index, : line_target.shape[0]] = line_target\n",
    "        for doc_index, line in enumerate(metadata_file):\n",
    "            line_metadata = np.array([int(x) for x in line.split(\",\")])\n",
    "            metadata_doc[doc_index, : line_metadata.shape[0]] = line_metadata\n",
    "    return doc_dataset, target_doc, metadata_doc\n",
    "\n",
    "max_size_doc = 172\n",
    "\n",
    "doc_dataset, target_doc, metadata_doc = read_input_txt(\"input.txt\", \"target.txt\", \"metadata.txt\", num_docs, max_size_doc, embedding_size)\n",
    "assert doc_dataset.shape == (num_docs, max_size_doc * embedding_size * 3)\n",
    "assert target_doc.shape == (num_docs, max_size_doc)\n",
    "assert metadata_doc.shape == (num_docs, 4)"
   ]
  },
  {
   "cell_type": "code",
   "execution_count": 219,
   "metadata": {},
   "outputs": [
    {
     "data": {
      "text/plain": [
       "array([[ 46,   5, 100,   0],\n",
       "       [ 34,   4, 100,   1],\n",
       "       [ 34,   2, 100,   2],\n",
       "       [ 46,   4, 100,   3],\n",
       "       [ 41,   3, 100,   4],\n",
       "       [  8,   2, 100,   5],\n",
       "       [ 46,   1, 100,   6],\n",
       "       [ 49,   4, 100,   7],\n",
       "       [ 29,   1, 100,   8],\n",
       "       [ 39,   3, 100,   9]], dtype=int32)"
      ]
     },
     "execution_count": 219,
     "metadata": {},
     "output_type": "execute_result"
    }
   ],
   "source": [
    "metadata_doc"
   ]
  },
  {
   "attachments": {},
   "cell_type": "markdown",
   "metadata": {},
   "source": [
    "##### 2. To Train Genetic Algorithm for entity\n"
   ]
  },
  {
   "attachments": {},
   "cell_type": "markdown",
   "metadata": {},
   "source": [
    "<p style=\"text-align: center;\">Individual fitness</p>\n",
    "\n",
    "$$f_i=\\frac{TP_i}{TP_i+FP_i} * \\log_2(TP_i+FP_i)$$\n",
    "\n",
    "<p style=\"text-align: center;\">Sharing function</p>\n",
    "\n",
    "$$\n",
    "sh(d_{i,j}) = \\left \\{\n",
    "    \\begin{array}{l}\n",
    "    1  - \\frac{d_{i,j}}{\\sigma_{share}}, d_{i,j} < {\\sigma_{share}}  \\\\\n",
    "    0, otherwise\n",
    "    \\end{array}\n",
    "\\right \\}\n",
    "$$\n",
    "\n",
    "<p style=\"text-align: center;\">Individual shared fitness</p>\n",
    "\n",
    "$$f^t_i = \\frac{f_i}{\\sum_{j=1}^N sh(d_{i,j})}$$\n",
    "\n",
    "\n",
    "$$\n",
    "  \\text{fitness}(\\text{ind}, \\text{doc}) = \\begin{cases}\n",
    "    -1.0                                                                                                                                                                                                 & \\text{if } \\text{retrive\\_doc} = 0 \\\\\n",
    "    0.8 \\times \\text{Precision} + 0.1 \\times \\frac{\\log_2(\\text{ind size})}{\\log_2(7)} + 0.1 \\times ind\\_seq & \\text{otherwise}\n",
    "  \\end{cases}\n",
    "$$"
   ]
  },
  {
   "attachments": {},
   "cell_type": "markdown",
   "metadata": {},
   "source": [
    "<div style=\"text-align: center;\">\n",
    "\n",
    "<p style=\"text-align: center;\">Island model</p>\n",
    "\n",
    "![image.png](./img/island_ae.svg)\n",
    "\n",
    "</div>\n"
   ]
  },
  {
   "cell_type": "code",
   "execution_count": 220,
   "metadata": {},
   "outputs": [
    {
     "data": {
      "text/plain": [
       "(10, 16512)"
      ]
     },
     "execution_count": 220,
     "metadata": {},
     "output_type": "execute_result"
    }
   ],
   "source": [
    "doc_dataset.shape"
   ]
  },
  {
   "cell_type": "code",
   "execution_count": 248,
   "metadata": {},
   "outputs": [],
   "source": [
    "from typing import List, Dict, Tuple, Iterable\n",
    "import numpy as np\n",
    "from ga_ner.utils.numba.similarity import cosine_similarity\n",
    "\n",
    "def slice_doc(\n",
    "    doc: np.ndarray,\n",
    "    rule: np.ndarray,\n",
    "    doc_size: int,\n",
    "    embedding_size: int,\n",
    "    num_features: int = 3,\n",
    ") -> Iterable[Tuple[int, int]]:\n",
    "    \"\"\"Return indices where entity is located in the document.\"\"\"\n",
    "    rule_size: int = int(rule[0])\n",
    "    entity_mask = np.zeros(rule_size, dtype=np.int16)\n",
    "    # individual_data = rule[3 : 3 + rule_size].reshape(-1, 1)\n",
    "    # Fill individual data, ignore first 2 elements for each segment\n",
    "    # TODO convert to function\n",
    "    individual_data = np.zeros(rule_size * embedding_size, dtype=np.float32)\n",
    "    feature_array = np.zeros(rule_size, dtype=np.int32)\n",
    "    for index in range(rule_size):\n",
    "        start_index = index * (embedding_size + 2) + 2 + 3\n",
    "        end_index = start_index + embedding_size\n",
    "        individual_data[index * embedding_size : (index + 1) * embedding_size] = rule[\n",
    "            start_index:end_index\n",
    "        ]\n",
    "        feature_array[index] = rule[start_index-1]\n",
    "    # Set mask of entity\n",
    "    for index in range(rule_size):\n",
    "        entity_mask[index] = rule[index * (embedding_size + 2) + 3]\n",
    "\n",
    "    similarity_threshold: float = 0.8\n",
    "    for index in range(0, doc_size - rule_size + 2):\n",
    "        start_index = index * embedding_size * num_features\n",
    "        end_index = (index + rule_size) * embedding_size * num_features\n",
    "        sliced_doc = np.zeros(rule_size * embedding_size, dtype=np.float32)\n",
    "        for index_feature in range(feature_array.shape[0]):\n",
    "            feature = feature_array[index_feature].item()\n",
    "            displacement = feature * embedding_size\n",
    "            \n",
    "            segment_start = index_feature * embedding_size\n",
    "            index_segment_doc = (\n",
    "                start_index + displacement + index_feature * embedding_size * num_features\n",
    "            )\n",
    "            if index_segment_doc >= doc.shape[0]:\n",
    "                print(f\"{index} Doc size is too long \", doc_size)\n",
    "                break\n",
    "            if end_index < index_segment_doc + embedding_size:\n",
    "                raise ValueError(\"Index out of range\")\n",
    "            if sliced_doc[segment_start : segment_start + embedding_size].shape != doc[\n",
    "                index_segment_doc : index_segment_doc + embedding_size\n",
    "            ].shape:\n",
    "                raise ValueError(\"Max len is too small\")\n",
    "            sliced_doc[segment_start : segment_start + embedding_size] = doc[\n",
    "                index_segment_doc : index_segment_doc + embedding_size\n",
    "            ]\n",
    "\n",
    "\n",
    "        # assert sliced_doc.shape == (rule_size * embedding_size, num_features)\n",
    "\n",
    "        index_doc = index + 1\n",
    "        # AVG Cosine similarity\n",
    "        similarity = 0\n",
    "        for index_rule in range(rule_size):\n",
    "            start_index = index_doc + index_rule\n",
    "            end_index = start_index + 1\n",
    "            similarity += cosine_similarity(\n",
    "                sliced_doc[index_rule * embedding_size : (index_rule + 1) * embedding_size],\n",
    "                individual_data[index_rule * embedding_size : (index_rule + 1) * embedding_size],\n",
    "            )\n",
    "        similarity /= rule_size\n",
    "\n",
    "        # (sliced_doc[64:96]@individual_data[64:96])/(np.linalg.norm(sliced_doc[64:96])*np.linalg.norm(individual_data[64:96]))\n",
    "\n",
    "        if similarity > 1+1e-6:\n",
    "            raise ValueError(\"Similarity greater than 1\")\n",
    "\n",
    "        if similarity > similarity_threshold:\n",
    "            for index_rule in range(rule_size):\n",
    "                start_index = index_doc + index_rule\n",
    "                end_index = start_index + 1\n",
    "                yield start_index, end_index, entity_mask[index_rule].item()\n"
   ]
  },
  {
   "cell_type": "code",
   "execution_count": 279,
   "metadata": {},
   "outputs": [],
   "source": [
    "from typing import List, Dict, Tuple, Iterable\n",
    "import numpy as np\n",
    "from ga_ner.utils.numba.similarity import cosine_similarity\n",
    "\n",
    "def slice_doc(\n",
    "    doc: np.ndarray,\n",
    "    rule: np.ndarray,\n",
    "    doc_size: int,\n",
    "    embedding_size: int,\n",
    "    num_features: int = 3,\n",
    "    similarity_threshold: float = 0.8,\n",
    ") -> Iterable[Tuple[int, int]]:\n",
    "    \"\"\"Return indices where entity is located in the document.\"\"\"\n",
    "    rule_size: int = int(rule[0])\n",
    "    entity_mask = np.zeros(rule_size, dtype=np.int16)\n",
    "    # individual_data = rule[3 : 3 + rule_size].reshape(-1, 1)\n",
    "    # Fill individual data, ignore first 2 elements for each segment\n",
    "    # TODO convert to function\n",
    "    individual_data = np.zeros(rule_size * embedding_size, dtype=np.float32)\n",
    "    feature_array = np.zeros(rule_size, dtype=np.int32)\n",
    "    for index in range(rule_size):\n",
    "        start_index = index * (embedding_size + 2) + 2 + 3\n",
    "        end_index = start_index + embedding_size\n",
    "        individual_data[index * embedding_size : (index + 1) * embedding_size] = rule[\n",
    "            start_index:end_index\n",
    "        ]\n",
    "        feature_array[index] = rule[start_index-1]\n",
    "    # Set mask of entity\n",
    "    for index in range(rule_size):\n",
    "        entity_mask[index] = rule[index * (embedding_size + 2) + 3]\n",
    "\n",
    "    for index in range(0, doc_size - rule_size + 2):\n",
    "        start_index = index * embedding_size * num_features\n",
    "        end_index = (index + rule_size) * embedding_size * num_features\n",
    "        sliced_doc = np.zeros(rule_size * embedding_size, dtype=np.float32)\n",
    "        for index_feature in range(feature_array.shape[0]):\n",
    "            feature = feature_array[index_feature].item()\n",
    "            displacement = feature * embedding_size\n",
    "            \n",
    "            segment_start = index_feature * embedding_size\n",
    "            index_segment_doc = (\n",
    "                start_index + displacement + index_feature * embedding_size * num_features\n",
    "            )\n",
    "            if index_segment_doc >= doc.shape[0]:\n",
    "                print(f\"{index} Doc size is too long \", doc_size)\n",
    "                break\n",
    "            if end_index < index_segment_doc + embedding_size:\n",
    "                raise ValueError(\"Index out of range\")\n",
    "            if sliced_doc[segment_start : segment_start + embedding_size].shape != doc[\n",
    "                index_segment_doc : index_segment_doc + embedding_size\n",
    "            ].shape:\n",
    "                raise ValueError(\"Max len is too small\")\n",
    "            sliced_doc[segment_start : segment_start + embedding_size] = doc[\n",
    "                index_segment_doc : index_segment_doc + embedding_size\n",
    "            ]\n",
    "\n",
    "\n",
    "        # assert sliced_doc.shape == (rule_size * embedding_size, num_features)\n",
    "\n",
    "        index_doc = index + 1\n",
    "        # AVG Cosine similarity\n",
    "        similarity = 0\n",
    "        for index_rule in range(rule_size):\n",
    "            start_index = index_doc + index_rule\n",
    "            end_index = start_index + 1\n",
    "            similarity += cosine_similarity(\n",
    "                sliced_doc[index_rule * embedding_size : (index_rule + 1) * embedding_size],\n",
    "                individual_data[index_rule * embedding_size : (index_rule + 1) * embedding_size],\n",
    "            )\n",
    "        similarity /= rule_size\n",
    "\n",
    "        # (sliced_doc[64:96]@individual_data[64:96])/(np.linalg.norm(sliced_doc[64:96])*np.linalg.norm(individual_data[64:96]))\n",
    "\n",
    "        if similarity > 1+1e-6:\n",
    "            raise ValueError(\"Similarity greater than 1\")\n",
    "\n",
    "        if similarity > similarity_threshold:\n",
    "            for index_rule in range(rule_size):\n",
    "                start_index = index_doc + index_rule\n",
    "                end_index = start_index + 1\n",
    "                yield start_index, end_index, entity_mask[index_rule].item()\n"
   ]
  },
  {
   "cell_type": "code",
   "execution_count": 278,
   "metadata": {},
   "outputs": [],
   "source": [
    "\n",
    "from tqdm.auto import trange, tqdm\n",
    "from typing import List, Dict, Tuple, Iterable, Callable, Optional\n",
    "from collections import Counter\n",
    "\n",
    "def get_all_targets(val_doc_dataset, val_target_doc, val_metadata_doc, entity_map):\n",
    "    target_data_all = np.array([], dtype=int)\n",
    "    for index_doc in trange(val_doc_dataset.shape[0]):\n",
    "        if val_target_doc[index_doc].sum() == 0:\n",
    "            continue\n",
    "        doc_size = val_metadata_doc[index_doc, 0].item()\n",
    "        target_data = val_target_doc[index_doc][1:doc_size+1]\n",
    "        # get rules for each entity\n",
    "        # get votes from rules\n",
    "        target_data_all = np.concatenate((target_data_all, target_data))\n",
    "\n",
    "    return entity_map[target_data_all].tolist()\n",
    "\n",
    "\n",
    "def majority_vote(\n",
    "        val_doc_dataset, \n",
    "        val_target_doc, \n",
    "        val_metadata_doc, \n",
    "        entity_map, \n",
    "        num_rules:int,\n",
    "        array_rules:np.ndarray,\n",
    "        array_fitness:np.ndarray,\n",
    "        max_len:int=172,\n",
    "        shared_function:Optional[Callable]=None,\n",
    "        similarity_threshold:float=0.8,\n",
    "        ):\n",
    "    votes_all = np.array([], dtype=int)\n",
    "    fitness_votes_all = np.array([], dtype=int)\n",
    "    doc_len_list = []\n",
    "    # Fit fitness with shared function\n",
    "    shared_fitness = None\n",
    "    if shared_function is None:\n",
    "        shared_fitness = array_fitness.copy()\n",
    "    else:\n",
    "        shared_fitness = shared_function(array_fitness)\n",
    "\n",
    "    mean_fitness = shared_fitness.mean()\n",
    "    std_fitness = shared_fitness.std()\n",
    "    for index_doc, array_doc in enumerate(tqdm(val_doc_dataset)):\n",
    "        if val_target_doc[index_doc].sum() == 0:\n",
    "            continue\n",
    "\n",
    "        doc_size = min(val_metadata_doc[index_doc, 0].item(), max_len - 1)\n",
    "        doc_len_list.append(array_doc[0])\n",
    "        \n",
    "        # get votes from rules\n",
    "        votes = np.zeros((doc_size, 5), dtype=float)\n",
    "        fitness_votes = np.zeros((val_metadata_doc[index_doc][0], 5), dtype=float)\n",
    "        for index_rule in range(array_rules.shape[0]):\n",
    "            if array_fitness[index_rule] < mean_fitness + std_fitness:\n",
    "                continue\n",
    "            slices: Iterable[Tuple[int, int, int]] = slice_doc(\n",
    "                array_doc,\n",
    "                array_rules[index_rule],\n",
    "                doc_size=doc_size,\n",
    "                embedding_size=embedding_size,\n",
    "                similarity_threshold=similarity_threshold,\n",
    "            )\n",
    "            for start, end, entity_id in slices:\n",
    "                start_span = start - 2\n",
    "                end_span = end - 2\n",
    "                votes[start_span : end_span, int(entity_id)] += 1\n",
    "                fitness_votes[start_span : end_span, int(entity_id)] += shared_fitness[index_rule]\n",
    "                \n",
    "                \n",
    "        votes_all = np.vstack((votes_all, votes)) if votes_all.size else votes\n",
    "        fitness_votes_all = np.vstack((fitness_votes_all, fitness_votes)) if fitness_votes_all.size else fitness_votes\n",
    "\n",
    "    # Predict with majority vote using the best rules\n",
    "    predict = []\n",
    "    # If column 0 is 0, fill with mean of the other columns\n",
    "    # If column 0 is less than 0.5, fill with 0.5\n",
    "    means = votes_all.sum(axis=1)*.5\n",
    "    arg_max_votes = votes_all.argmax(axis=1)\n",
    "    predict = entity_map[\n",
    "        np.where(\n",
    "        votes_all.max(axis=1) > means,\n",
    "        arg_max_votes,\n",
    "        0)].tolist()\n",
    "\n",
    "    return predict, votes_all,  fitness_votes_all"
   ]
  },
  {
   "cell_type": "code",
   "execution_count": 280,
   "metadata": {},
   "outputs": [],
   "source": [
    "def get_confidence_segments(\n",
    "        confidence_all_votes:np.ndarray, \n",
    "        val_metadata_doc:np.ndarray, \n",
    "        num_files:int, \n",
    "        predict:List[str],\n",
    "        confidence_threshold=0.8\n",
    "        ):\n",
    "    confidences_votes = []\n",
    "    start_doc = 0\n",
    "    min_segment_len = 3\n",
    "    filter_votes = np.any(confidence_all_votes > confidence_threshold, axis=1).reshape(-1,1)\n",
    "    for index_row, doc_len in enumerate(val_metadata_doc[:, 0]):\n",
    "        end_doc = start_doc + doc_len\n",
    "        # If filter are consecutive and have a minimum length then add to confidences_votes\n",
    "        current_secuence = 0\n",
    "        for filter_votes_index, secuencuence_index in enumerate(range(start_doc, end_doc)):\n",
    "            if filter_votes[secuencuence_index]:\n",
    "                current_secuence += 1\n",
    "            else:\n",
    "                if current_secuence >= min_segment_len:\n",
    "                    \n",
    "                    confidences_votes.append(( \n",
    "                        index_row, \n",
    "                        confidence_all_votes[\n",
    "                            range(secuencuence_index - current_secuence, secuencuence_index)\n",
    "                            ].max(axis=1).mean(),\n",
    "                        list(range(filter_votes_index - current_secuence, filter_votes_index)),\n",
    "                        np.array(predict)[range(secuencuence_index - current_secuence, secuencuence_index)]\n",
    "                        ))\n",
    "                current_secuence = 0\n",
    "\n",
    "        start_doc = end_doc\n",
    "    return confidences_votes"
   ]
  },
  {
   "cell_type": "code",
   "execution_count": 224,
   "metadata": {},
   "outputs": [],
   "source": [
    "# Create a custom function to sort confidences_votes by confidence (1) and length of sentence (2). The function will used by sorted() function.\n",
    "from functools import cmp_to_key\n",
    "def sort_confidence_votes(a, b):\n",
    "    # Sort by confidence\n",
    "    if a[1] > b[1]:\n",
    "        return -1\n",
    "    elif a[1] < b[1]:\n",
    "        return 1\n",
    "    else:\n",
    "        # Sort by length of sentence\n",
    "        if len(a[2]) > len(b[2]):\n",
    "            return -1\n",
    "        elif len(a[2]) < len(b[2]):\n",
    "            return 1\n",
    "        else:\n",
    "            return 0      "
   ]
  },
  {
   "cell_type": "code",
   "execution_count": 225,
   "metadata": {},
   "outputs": [],
   "source": [
    "# Remove entities\n",
    "# Add Entities predicted by the model\n",
    "# New spacy docs\n",
    "from spacy.tokens import Doc\n",
    "from spacy.tokens import Span\n",
    "\n",
    "\n",
    "def extract_confidence_segment(\n",
    "        spacy_ner_doc:List[Doc],\n",
    "        confidence_votes:List[Tuple[int, float, List[int], List[str]]],\n",
    "        num_new_documents:int,\n",
    "        selected_indices:np.ndarray,\n",
    "        metadata_doc:np.ndarray\n",
    "        ):\n",
    "\n",
    "    new_spacy_docs = []\n",
    "    for condidence_doc in confidence_votes[:num_new_documents]:\n",
    "        index_doc = condidence_doc[0]\n",
    "        segment_tokens = condidence_doc[2]\n",
    "        segment_label_tokens = condidence_doc[3]\n",
    "        spacy_doc_index = selected_indices[metadata_doc[index_doc][3]]\n",
    "        spacy_doc = spacy_ner_doc[spacy_doc_index]\n",
    "\n",
    "        # Create a empty spacy doc\n",
    "        words = [spacy_doc[index].text for index in segment_tokens]\n",
    "        spaces = [spacy_doc[index].whitespace_ for index in segment_tokens]\n",
    "        pos = [spacy_doc[index].pos_ for index in segment_tokens]\n",
    "        deps = [spacy_doc[index].dep_ for index in segment_tokens]\n",
    "\n",
    "        new_spacy_doc = Doc(spacy_doc.vocab, words=words, spaces=spaces, pos=pos, deps=deps)\n",
    "        # Add the entities\n",
    "        prev_label = None\n",
    "        next_label = None\n",
    "        end_index = 0\n",
    "        for index, label in enumerate(segment_label_tokens):\n",
    "            if prev_label != label:\n",
    "                start_index = index\n",
    "            if index + 1 < len(segment_label_tokens):\n",
    "                next_label = segment_label_tokens[index + 1]\n",
    "            else:\n",
    "                next_label = None\n",
    "\n",
    "            if label != \"O\":\n",
    "                if next_label != label:\n",
    "                    end_index = index + 1\n",
    "                    new_spacy_doc.set_ents([Span(new_spacy_doc, start_index, end_index, label)], default=\"outside\")\n",
    "            prev_label = label\n",
    "\n",
    "        new_spacy_docs.append(new_spacy_doc)\n",
    "    return new_spacy_docs"
   ]
  },
  {
   "cell_type": "code",
   "execution_count": 226,
   "metadata": {},
   "outputs": [],
   "source": [
    "def get_data_array(\n",
    "        corpus:Corpus, \n",
    "        num_docs:int,\n",
    "        max_size_doc:int, \n",
    "        embedding_size:int,\n",
    "        suffix:str=\"\"):\n",
    "    corpus.to_text_array(\n",
    "        input_filename=f\"input{suffix}.txt\",\n",
    "        target_filename=f\"target{suffix}.txt\",\n",
    "        metadata_filename=f\"metadata{suffix}.txt\",\n",
    "    )\n",
    "    return read_input_txt(\n",
    "        input_filename=f\"input{suffix}.txt\",\n",
    "        target_filename=f\"target{suffix}.txt\",\n",
    "        metadata_filename=f\"metadata{suffix}.txt\",\n",
    "        num_docs=num_docs,\n",
    "        max_size_doc=max_size_doc,\n",
    "        embedding_size=embedding_size,\n",
    "    )"
   ]
  },
  {
   "cell_type": "code",
   "execution_count": 281,
   "metadata": {},
   "outputs": [],
   "source": [
    "def get_new_documents(\n",
    "        confidence_all_votes:np.ndarray,\n",
    "        metadata_doc:np.ndarray,\n",
    "        num_docs:int,\n",
    "        predict:List[str],\n",
    "        num_new_documents:int,\n",
    "        spacy_docs:List[Doc],\n",
    "        selected_indices:np.ndarray,\n",
    "        confidence_threshold:float=0.8\n",
    "):\n",
    "    \"\"\"\n",
    "    1. Get confidence of each segment\n",
    "    2. Sort by confidence\n",
    "    3. Select the first n documents\n",
    "    4. Create new documents\n",
    "    5. Create new corpus\n",
    "    \"\"\"\n",
    "    confidence_votes = get_confidence_segments(\n",
    "        confidence_all_votes,\n",
    "        metadata_doc,\n",
    "        num_docs,\n",
    "        predict,\n",
    "        confidence_threshold=confidence_threshold\n",
    "    )\n",
    "    sorted_confidence_votes = sorted(confidence_votes, key=cmp_to_key(sort_confidence_votes))\n",
    "    return extract_confidence_segment(\n",
    "        spacy_docs,\n",
    "        sorted_confidence_votes,\n",
    "        num_new_documents,\n",
    "        selected_indices,\n",
    "        metadata_doc\n",
    "    )\n"
   ]
  },
  {
   "cell_type": "code",
   "execution_count": 228,
   "metadata": {},
   "outputs": [],
   "source": [
    "def calculate_confidence_votes(votes_all:np.ndarray, fitness_votes_all:np.ndarray):\n",
    "    total_row_votes = votes_all.sum(axis=1).reshape(-1,1)\n",
    "    total_row_votes = np.where(\n",
    "        total_row_votes == 0,\n",
    "        1,\n",
    "        total_row_votes\n",
    "    )\n",
    "    return fitness_votes_all / total_row_votes"
   ]
  },
  {
   "cell_type": "code",
   "execution_count": 229,
   "metadata": {},
   "outputs": [],
   "source": [
    "from sklearn.metrics import confusion_matrix\n",
    "\n",
    "def save_confusion_matrix(\n",
    "        corpus:Corpus,\n",
    "        array_rules:np.ndarray,\n",
    "        array_fitness:np.ndarray,\n",
    "        entity_map:np.ndarray,\n",
    "        max_size_doc:int,\n",
    "        embedding_size:int,\n",
    "        save_path:str,\n",
    "        suffix=\"_train\",\n",
    "        ):\n",
    "    \"\"\"\n",
    "    Save confusion matrix\n",
    "    \"\"\"\n",
    "    doc_dataset, doc_target, doc_metadata = get_data_array(\n",
    "        corpus=corpus,\n",
    "        num_docs=len(corpus.documents),\n",
    "        max_size_doc=max_size_doc,\n",
    "        embedding_size=embedding_size,\n",
    "        suffix=suffix\n",
    "    )\n",
    "    y_pred, _, _ = majority_vote(\n",
    "        doc_dataset, doc_target, doc_metadata, entity_map, array_rules.shape[0], array_rules, array_fitness\n",
    "    )\n",
    "    y_true = get_all_targets(\n",
    "        doc_dataset, doc_target, doc_metadata,entity_map)\n",
    "    cm = confusion_matrix(y_true, y_pred, labels=entity_map)\n",
    "    np.savetxt(save_path, cm, fmt=\"%d\", delimiter=\",\")\n",
    "    return cm     \n",
    "        "
   ]
  },
  {
   "cell_type": "code",
   "execution_count": 301,
   "metadata": {},
   "outputs": [
    {
     "data": {
      "application/vnd.jupyter.widget-view+json": {
       "model_id": "e61706c0e81f4e3e8a31783c5b2bdb7c",
       "version_major": 2,
       "version_minor": 0
      },
      "text/plain": [
       "  0%|          | 0/1000 [00:00<?, ?it/s]"
      ]
     },
     "metadata": {},
     "output_type": "display_data"
    }
   ],
   "source": [
    "from ga_ner.models import GANER, Document, Corpus, Vocabulary\n",
    "from ga_ner.utils.numba import select, fitness\n",
    "\n",
    "\n",
    "gen_size = 7\n",
    "max_len = 3 + gen_size * (embedding_size + 2)\n",
    "\n",
    "# def training(spacy_ner_doc, max_len, embedding_size):\n",
    "\"\"\"_summary_\n",
    "1. Create candidate words\n",
    "2. Create population base\n",
    "3. Training NER Rules with population base\n",
    "4. Save rule for each generation\n",
    "5. Extract new documents segments from validation corpus\n",
    "6. Update candidate words with new documents segments\n",
    "7. Update population base with from Training NER Rules\n",
    "8. Go to step 3\n",
    "\"\"\"\n",
    "doc_dataset, doc_target, doc_metadata = read_input_txt(\n",
    "    input_filename=\"input.txt\",\n",
    "    target_filename=\"target.txt\",\n",
    "    metadata_filename=\"metadata.txt\",\n",
    "    num_docs=len(corpus_1.documents),\n",
    "    max_size_doc=max_size_doc,\n",
    "    embedding_size=embedding_size,\n",
    ")\n",
    "doc_dataset_expand = doc_dataset.copy()\n",
    "target_doc_expand = doc_target.copy()\n",
    "metadata_doc_expand = doc_metadata.copy()\n",
    "# 1. Create candidate words\n",
    "corpus_new = Corpus([])\n",
    "candidate_words = create_candidate_words(\n",
    "    corpus_1,\n",
    "    embedding_size,\n",
    "    save_path=\"data/train/esp.train.candidate_words\")\n",
    "# 2. Create population base\n",
    "parent_population = create_parent_population(\n",
    "    400,\n",
    "    corpus_1.documents,\n",
    "    cromossome_size=max_len\n",
    ")\n",
    "num_new_documents = len(corpus_1.documents)\n",
    "gen_it = 0\n",
    "candidate_words_expand = create_candidate_words(\n",
    "        corpus=corpus_new,\n",
    "        embedding_size=embedding_size,\n",
    "        candidate_words=candidate_words,\n",
    "        save_path=\"data/train/esp.train.candidate_words_new.txt\",\n",
    "    )\n",
    "while num_new_documents < len(spacy_ner_doc)*0.8:\n",
    "    # 3. Training NER Rules with population base\n",
    "    \n",
    "    ga_ner = GANER(\n",
    "        map_inv_entity=None,#map_inv_entity\n",
    "        n_population=400,\n",
    "        max_len=max_len,\n",
    "        mask_id=0,#corpus_1.documents[0].mask_id\n",
    "        unknown_id=0,#corpus_1.documents[0].unk_id\n",
    "        candidate_words=candidate_words_expand,\n",
    "        random_state=42,\n",
    "        n_top=100,\n",
    "        threshold=0.95,\n",
    "        select=select,\n",
    "        fitness=fitness,\n",
    "        num_threads=16,\n",
    "        embedding_size=embedding_size,\n",
    "    )\n",
    "    ga_ner.train(\n",
    "        doc_dataset_expand,\n",
    "        target_doc_expand,\n",
    "        metadata_doc_expand,\n",
    "        max_iter=1000,\n",
    "        tol=15,\n",
    "        base_population=parent_population,\n",
    "        num_islands=4,\n",
    "        num_threads=16,\n",
    "        save_path=\"data/rules\",\n",
    "        sufix=f\"_{gen_it}\"\n",
    "\n",
    "    )\n",
    "    # 2015_Book_IntroductionToEvolutionaryComp.pdf 80, 108, 120, 145,294\n",
    "    array_rules = np.load(f\"data/rules/best_population_{gen_it}.npy\")\n",
    "    array_fitness = np.load(f\"data/rules/best_fitness_{gen_it}.npy\") \n",
    "    # 5. Extract new documents segments from training corpus\n",
    "    selected_indices_val = np.random.choice(\n",
    "        range(10,len(spacy_ner_doc)), size=num_new_documents, replace=False\n",
    "    )\n",
    "    spacy_train_doc = [spacy_ner_doc[i] for i in selected_indices_val]\n",
    "    corpus_train = Corpus.from_spacy_docs(\n",
    "        spacy_train_doc,\n",
    "        total_samples=len(spacy_train_doc),\n",
    "        vocab=vocabulary,\n",
    "        embeding_func=get_ml_embedding,\n",
    "        emb_size=embedding_size\n",
    "    )\n",
    "    train_doc_dataset, train_doc_target, train_doc_metadata = get_data_array(\n",
    "        corpus=corpus_train,\n",
    "        num_docs=len(spacy_train_doc),\n",
    "        max_size_doc=max_size_doc,\n",
    "        embedding_size=embedding_size,\n",
    "        suffix=\"_train\"\n",
    "    )\n",
    "    predict, votes_all, fitness_votes_all = majority_vote(\n",
    "        train_doc_dataset, train_doc_target, train_doc_metadata, entity_map, array_rules.shape[0], array_rules, array_fitness,\n",
    "        similarity_threshold=0.95\n",
    "    )\n",
    "    \n",
    "    confidence_all_votes = calculate_confidence_votes(\n",
    "        votes_all,\n",
    "        fitness_votes_all\n",
    "    )\n",
    "    \n",
    "    new_spacy_docs = get_new_documents(\n",
    "        confidence_all_votes,\n",
    "        train_doc_metadata,\n",
    "        num_docs,\n",
    "        predict,\n",
    "        num_new_documents,\n",
    "        spacy_ner_doc,\n",
    "        selected_indices_val,\n",
    "        confidence_threshold=0.95\n",
    "    )\n",
    "    corpus_new = Corpus.from_spacy_docs(\n",
    "        new_spacy_docs, \n",
    "        total_samples=len(new_spacy_docs), \n",
    "        vocab=vocabulary, \n",
    "        embeding_func=get_ml_embedding, \n",
    "        emb_size=embedding_size\n",
    "    )\n",
    "    # 6. Update candidate words with new documents segments\n",
    "    candidate_words_expand = create_candidate_words(\n",
    "        corpus_new,\n",
    "        embedding_size=embedding_size,\n",
    "        candidate_words=candidate_words,\n",
    "        save_path=\"data/train/esp.train.candidate_words\")\n",
    "    # 7. Update population base with from Training NER Rules\n",
    "    parent_population = create_parent_population(\n",
    "        population_size=400,\n",
    "        documents=corpus_new.documents,\n",
    "        cromossome_size=max_len,\n",
    "        base_population=ga_ner.population,\n",
    "    )\n",
    "    doc_dataset_new, doc_target_new,doc_metadata_new= get_data_array(\n",
    "        corpus=corpus_new,\n",
    "        num_docs=len(new_spacy_docs),\n",
    "        max_size_doc=max_size_doc,\n",
    "        embedding_size=embedding_size,\n",
    "        suffix=\"_new\"\n",
    "    )\n",
    "    doc_dataset_expand = np.vstack((doc_dataset, doc_dataset_new))\n",
    "    target_doc_expand = np.vstack((doc_target, doc_target_new))\n",
    "    metadata_doc_expand = np.vstack((doc_metadata, doc_metadata_new))\n",
    "    # 8. Go to step 3\n",
    "    num_new_documents += int(num_new_documents * 0.2)\n",
    "    gen_it += 1\n",
    "    "
   ]
  },
  {
   "cell_type": "code",
   "execution_count": null,
   "metadata": {},
   "outputs": [
    {
     "data": {
      "application/vnd.jupyter.widget-view+json": {
       "model_id": "8d8836546aa944f29aba947dfa3d0d91",
       "version_major": 2,
       "version_minor": 0
      },
      "text/plain": [
       "  0%|          | 0/312 [00:00<?, ?it/s]"
      ]
     },
     "metadata": {},
     "output_type": "display_data"
    }
   ],
   "source": [
    "predict, votes_all, fitness_votes_all = majority_vote(\n",
    "    train_doc_dataset, train_doc_target, train_doc_metadata, entity_map, array_rules.shape[0], array_rules, array_fitness\n",
    ")"
   ]
  },
  {
   "cell_type": "code",
   "execution_count": 71,
   "metadata": {},
   "outputs": [
    {
     "name": "stdout",
     "output_type": "stream",
     "text": [
      "[Entity(label=ORG, name=Gobierno, start=7, end=8)]\n",
      "[Entity(label=PER, name=cual ha financiado, start=2, end=5)]\n",
      "[Entity(label=MISC, name=lo, start=3, end=4)]\n",
      "[Entity(label=PER, name=Consejería, start=3, end=4)]\n",
      "[Entity(label=PER, name=que están fuertemente, start=0, end=3)]\n",
      "[Entity(label=PER, name=Luis Morales Reyes, start=0, end=3)]\n",
      "[Entity(label=PER, name=Francolí, start=0, end=1)]\n",
      "[Entity(label=PER, name=Polanco, start=0, end=1)]\n",
      "[Entity(label=PER, name=que 200.000 personas, start=0, end=3)]\n",
      "[Entity(label=PER, name=Saharaui, start=0, end=1)]\n",
      "[Entity(label=PER, name=que quedaron las, start=0, end=3)]\n",
      "[Entity(label=PER, name=realización, start=0, end=1)]\n",
      "[Entity(label=PER, name=temas, start=0, end=1)]\n",
      "[Entity(label=PER, name=Cirugía, start=0, end=1)]\n",
      "[Entity(label=PER, name=creación, start=0, end=1)]\n",
      "[Entity(label=PER, name=donde se forman, start=0, end=3)]\n",
      "[Entity(label=PER, name=que se presentan, start=0, end=3)]\n",
      "[Entity(label=ORG, name=otras de miembros, start=0, end=3)]\n",
      "[Entity(label=LOC, name=Miguel, start=0, end=1)]\n",
      "[Entity(label=PER, name=obras, start=0, end=1)]\n",
      "[Entity(label=PER, name=que quieran ser, start=0, end=3)]\n",
      "[Entity(label=PER, name=Máximo, start=2, end=3)]\n",
      "[Entity(label=PER, name=fuego, start=0, end=1)]\n",
      "[Entity(label=PER, name=creación, start=0, end=1)]\n",
      "[Entity(label=PER, name=donde se ha, start=0, end=3)]\n",
      "[Entity(label=MISC, name=apartamento, start=0, end=1)]\n",
      "[Entity(label=PER, name=que el asunto, start=0, end=3)]\n",
      "[Entity(label=PER, name=,, start=2, end=3)]\n",
      "[Entity(label=LOC, name=11, start=0, end=1)]\n",
      "[Entity(label=PER, name=cuando unos albañiles, start=0, end=3)]\n",
      "[Entity(label=PER, name=Charles de Gaulle, start=0, end=3)]\n",
      "[Entity(label=PER, name=soluciones, start=0, end=1)]\n",
      "[Entity(label=PER, name=Lauren Bisan ,, start=0, end=3)]\n",
      "[Entity(label=PER, name=Escartín, start=0, end=1)]\n",
      "[Entity(label=PER, name=todos , y, start=0, end=3)]\n",
      "[Entity(label=PER, name=dudas, start=0, end=1)]\n",
      "[Entity(label=LOC, name=encabeza, start=0, end=1)]\n",
      "[Entity(label=PER, name=Claudio Suárez y, start=0, end=3)]\n",
      "[Entity(label=PER, name=cuando los jueces, start=0, end=3)]\n",
      "[Entity(label=PER, name=donde almorzaron ,, start=0, end=3)]\n",
      "[Entity(label=PER, name=donde el pasado, start=0, end=3)]\n",
      "[Entity(label=PER, name=que los rebeldes, start=0, end=3)]\n",
      "[Entity(label=PER, name=internacionales, start=0, end=1)]\n",
      "[Entity(label=PER, name=desarrollo, start=0, end=1)]\n",
      "[Entity(label=PER, name=Santo, start=0, end=1)]\n",
      "[Entity(label=PER, name=Invierno, start=0, end=1)]\n",
      "[Entity(label=PER, name=país, start=0, end=1)]\n",
      "[Entity(label=PER, name=que el Congreso, start=0, end=3)]\n",
      "[Entity(label=PER, name=Gata, start=0, end=1)]\n",
      "[Entity(label=PER, name=actividad, start=0, end=1)]\n",
      "[Entity(label=PER, name=Garros, start=0, end=1)]\n",
      "[Entity(label=PER, name=que la Lonja, start=0, end=3)]\n",
      "[Entity(label=PER, name=a cerca de, start=0, end=3)]\n",
      "[Entity(label=PER, name=GER, start=0, end=1)]\n",
      "[Entity(label=MISC, name=bandera, start=0, end=1)]\n",
      "[Entity(label=PER, name=Marca \" para, start=0, end=3)]\n",
      "[Entity(label=PER, name=,, start=2, end=3)]\n",
      "[Entity(label=PER, name=Muñoz, start=0, end=1)]\n",
      "[Entity(label=PER, name=OPS, start=0, end=1)]\n",
      "[Entity(label=PER, name=Campeones, start=0, end=1)]\n",
      "[Entity(label=PER, name=donde este animal, start=0, end=3)]\n",
      "[Entity(label=PER, name=organización, start=0, end=1)]\n",
      "[Entity(label=PER, name=Manuel Chaves ,, start=0, end=3)]\n",
      "[Entity(label=PER, name=con, start=0, end=1)]\n",
      "[Entity(label=PER, name=,, start=0, end=1)]\n"
     ]
    }
   ],
   "source": [
    "for doc in corpus_new.documents:\n",
    "    print(doc.entities)"
   ]
  },
  {
   "cell_type": "code",
   "execution_count": 296,
   "metadata": {},
   "outputs": [
    {
     "data": {
      "application/vnd.jupyter.widget-view+json": {
       "model_id": "d02aca1a18844b16989b4a7b18ba2fba",
       "version_major": 2,
       "version_minor": 0
      },
      "text/plain": [
       "  0%|          | 0/1000 [00:00<?, ?it/s]"
      ]
     },
     "metadata": {},
     "output_type": "display_data"
    }
   ],
   "source": [
    "from ga_ner.models import GANER, Document, Corpus, Vocabulary\n",
    "from ga_ner.utils.numba import select, fitness\n",
    "\n",
    "gen_size = 7\n",
    "max_len = 3 + gen_size * (embedding_size + 2)\n",
    "# doc_dataset, doc_target, doc_metadata = read_input_txt(\n",
    "#     input_filename=\"input.txt\",\n",
    "#     target_filename=\"target.txt\",\n",
    "#     metadata_filename=\"metadata.txt\",\n",
    "#     num_docs=len(corpus_1.documents),\n",
    "#     max_size_doc=max_size_doc,\n",
    "#     embedding_size=embedding_size,\n",
    "# )\n",
    "doc_dataset, doc_target, doc_metadata =  get_data_array(\n",
    "    corpus=corpus_1,\n",
    "    num_docs=len(corpus_1.documents),\n",
    "    max_size_doc=max_size_doc,\n",
    "    embedding_size=embedding_size,\n",
    "    suffix=\"\"\n",
    ")\n",
    "doc_dataset_expand = doc_dataset.copy()\n",
    "target_doc_expand = doc_target.copy()\n",
    "metadata_doc_expand = doc_metadata.copy()\n",
    "# 1. Create candidate words\n",
    "corpus_new = Corpus([])\n",
    "candidate_words = create_candidate_words(\n",
    "    corpus_1,\n",
    "    embedding_size,\n",
    "    save_path=\"data/train/esp.train.candidate_words\")\n",
    "# 2. Create population base\n",
    "parent_population = create_parent_population(\n",
    "    400,\n",
    "    corpus_1.documents,\n",
    "    cromossome_size=max_len\n",
    ")\n",
    "num_new_documents = len(corpus_1.documents)\n",
    "gen_it = 0\n",
    "candidate_words_expand = create_candidate_words(\n",
    "        corpus=corpus_new,\n",
    "        embedding_size=embedding_size,\n",
    "        candidate_words=candidate_words,\n",
    "        save_path=\"data/train/esp.train.candidate_words_new.txt\",\n",
    "    )\n",
    " \n",
    "ga_ner = GANER(\n",
    "    map_inv_entity=None,#map_inv_entity\n",
    "    n_population=400,\n",
    "    max_len=max_len,\n",
    "    mask_id=0,#corpus_1.documents[0].mask_id\n",
    "    unknown_id=0,#corpus_1.documents[0].unk_id\n",
    "    candidate_words=candidate_words_expand,\n",
    "    random_state=42,\n",
    "    n_top=100,\n",
    "    threshold=0.95,\n",
    "    select=select,\n",
    "    fitness=fitness,\n",
    "    num_threads=16,\n",
    "    embedding_size=embedding_size,\n",
    ")\n",
    "ga_ner.train(\n",
    "    doc_dataset_expand,\n",
    "    target_doc_expand,\n",
    "    metadata_doc_expand,\n",
    "    max_iter=1000,\n",
    "    tol=15,\n",
    "    base_population=parent_population,\n",
    "    num_islands=4,\n",
    "    num_threads=16,\n",
    "    save_path=\"data/rules\",\n",
    "    sufix=f\"_{gen_it}\"\n",
    ")"
   ]
  },
  {
   "cell_type": "code",
   "execution_count": 297,
   "metadata": {},
   "outputs": [],
   "source": [
    "num_new_documents = len(corpus_1.documents)\n",
    "gen_it = 0\n",
    "# 2015_Book_IntroductionToEvolutionaryComp.pdf 80, 108, 120, 145,294\n",
    "array_rules = np.load(f\"data/rules/best_population_{gen_it}.npy\")\n",
    "array_fitness = np.load(f\"data/rules/best_fitness_{gen_it}.npy\") "
   ]
  },
  {
   "cell_type": "code",
   "execution_count": 240,
   "metadata": {},
   "outputs": [],
   "source": [
    "# 5. Extract new documents segments from training corpus\n",
    "selected_indices_val = np.random.choice(\n",
    "    range(10,len(spacy_ner_doc)), size=num_new_documents, replace=False\n",
    ")\n",
    "spacy_train_doc = [spacy_ner_doc[i] for i in selected_indices_val]\n",
    "corpus_train = Corpus.from_spacy_docs(\n",
    "    spacy_train_doc,\n",
    "    total_samples=len(spacy_train_doc),\n",
    "    vocab=vocabulary,\n",
    "    embeding_func=get_ml_embedding,\n",
    "    emb_size=embedding_size\n",
    ")\n",
    "train_doc_dataset, train_doc_target, train_doc_metadata = get_data_array(\n",
    "    corpus=corpus_train,\n",
    "    num_docs=len(spacy_train_doc),\n",
    "    max_size_doc=max_size_doc,\n",
    "    embedding_size=embedding_size,\n",
    "    suffix=\"_train\"\n",
    ")"
   ]
  },
  {
   "cell_type": "code",
   "execution_count": 298,
   "metadata": {},
   "outputs": [
    {
     "data": {
      "application/vnd.jupyter.widget-view+json": {
       "model_id": "5381aabcd3c14de2abf7174916cd572a",
       "version_major": 2,
       "version_minor": 0
      },
      "text/plain": [
       "  0%|          | 0/10 [00:00<?, ?it/s]"
      ]
     },
     "metadata": {},
     "output_type": "display_data"
    }
   ],
   "source": [
    "from ga_ner.utils.numba.functions import calculate_shared_fitness\n",
    "predict, votes_all, fitness_votes_all = majority_vote(\n",
    "    train_doc_dataset, train_doc_target, train_doc_metadata, entity_map, array_rules.shape[0], array_rules, array_fitness,\n",
    "    similarity_threshold=0.95,\n",
    ")\n",
    "\n",
    "confidence_all_votes = calculate_confidence_votes(\n",
    "    votes_all,\n",
    "    fitness_votes_all\n",
    ")\n",
    "\n",
    "new_spacy_docs = get_new_documents(\n",
    "    confidence_all_votes,\n",
    "    train_doc_metadata,\n",
    "    num_docs,\n",
    "    predict,\n",
    "    num_new_documents,\n",
    "    spacy_ner_doc,\n",
    "    selected_indices_val,\n",
    "    confidence_threshold=0.95\n",
    ")\n",
    "corpus_new = Corpus.from_spacy_docs(\n",
    "    new_spacy_docs, \n",
    "    total_samples=len(new_spacy_docs), \n",
    "    vocab=vocabulary, \n",
    "    embeding_func=get_ml_embedding, \n",
    "    emb_size=embedding_size\n",
    ")"
   ]
  },
  {
   "cell_type": "code",
   "execution_count": 286,
   "metadata": {},
   "outputs": [
    {
     "name": "stdout",
     "output_type": "stream",
     "text": [
      "[Entity(label=PER, name=PP en el Parlamento, start=1, end=5)]\n",
      "[Entity(label=PER, name=PP en el Congreso, start=1, end=5)]\n",
      "[Entity(label=PER, name=la Alianza por la Democracia., start=0, end=5)]\n"
     ]
    }
   ],
   "source": [
    "for c in corpus_new.documents:\n",
    "    print(c.entities)"
   ]
  },
  {
   "cell_type": "code",
   "execution_count": 236,
   "metadata": {},
   "outputs": [
    {
     "data": {
      "application/vnd.jupyter.widget-view+json": {
       "model_id": "a4ce6705459f46b6a6f1f6be60dfac76",
       "version_major": 2,
       "version_minor": 0
      },
      "text/plain": [
       "  0%|          | 0/1000 [00:00<?, ?it/s]"
      ]
     },
     "metadata": {},
     "output_type": "display_data"
    }
   ],
   "source": [
    "from ga_ner.models import GANER, Document, Corpus, Vocabulary\n",
    "from ga_ner.utils.numba import select, fitness\n",
    "gen_size = 7\n",
    "max_len = 3 + gen_size * (embedding_size + 2)\n",
    "\n",
    "ga_ner = GANER(\n",
    "    map_inv_entity=None,#map_inv_entity\n",
    "    n_population=400,\n",
    "    max_len=max_len,\n",
    "    mask_id=0,#corpus_1.documents[0].mask_id\n",
    "    unknown_id=0,#corpus_1.documents[0].unk_id\n",
    "    candidate_words=candidate_words,\n",
    "    random_state=42,\n",
    "    n_top=100,\n",
    "    threshold=0.8,\n",
    "    select=select,\n",
    "    fitness=fitness,\n",
    "    num_threads=16,\n",
    "    embedding_size=embedding_size,\n",
    ")\n",
    "ga_ner.train(\n",
    "    doc_dataset,\n",
    "    target_doc,\n",
    "    metadata_doc,\n",
    "    max_iter=1000,\n",
    "    tol=15,\n",
    "    base_population=parent_population,\n",
    "    num_islands=4,\n",
    "    num_threads=16,\n",
    ")\n",
    "\n",
    "# 2015_Book_IntroductionToEvolutionaryComp.pdf 80, 108, 120, 145,294"
   ]
  },
  {
   "cell_type": "code",
   "execution_count": null,
   "metadata": {},
   "outputs": [],
   "source": [
    "corpus_1.documents[0].entities[0]"
   ]
  },
  {
   "cell_type": "code",
   "execution_count": 141,
   "metadata": {},
   "outputs": [
    {
     "data": {
      "application/vnd.jupyter.widget-view+json": {
       "model_id": "353b412cb1f74c1fa5b28d398d9c63b3",
       "version_major": 2,
       "version_minor": 0
      },
      "text/plain": [
       "Downloading (…)c7362/.gitattributes:   0%|          | 0.00/1.18k [00:00<?, ?B/s]"
      ]
     },
     "metadata": {},
     "output_type": "display_data"
    },
    {
     "data": {
      "application/vnd.jupyter.widget-view+json": {
       "model_id": "5f9fffa0a33643318d1c41a46b4c5b8b",
       "version_major": 2,
       "version_minor": 0
      },
      "text/plain": [
       "Downloading (…)_Pooling/config.json:   0%|          | 0.00/190 [00:00<?, ?B/s]"
      ]
     },
     "metadata": {},
     "output_type": "display_data"
    },
    {
     "data": {
      "application/vnd.jupyter.widget-view+json": {
       "model_id": "50bdc5cc7dd2438e9af1444f34582e8b",
       "version_major": 2,
       "version_minor": 0
      },
      "text/plain": [
       "Downloading (…)de792c7362/README.md:   0%|          | 0.00/4.51k [00:00<?, ?B/s]"
      ]
     },
     "metadata": {},
     "output_type": "display_data"
    },
    {
     "data": {
      "application/vnd.jupyter.widget-view+json": {
       "model_id": "75afb303c1e24d8486f0c32cb745e135",
       "version_major": 2,
       "version_minor": 0
      },
      "text/plain": [
       "Downloading (…)792c7362/config.json:   0%|          | 0.00/701 [00:00<?, ?B/s]"
      ]
     },
     "metadata": {},
     "output_type": "display_data"
    },
    {
     "data": {
      "application/vnd.jupyter.widget-view+json": {
       "model_id": "eb6999a0f1bc4a559dffce38013edddf",
       "version_major": 2,
       "version_minor": 0
      },
      "text/plain": [
       "Downloading (…)ce_transformers.json:   0%|          | 0.00/123 [00:00<?, ?B/s]"
      ]
     },
     "metadata": {},
     "output_type": "display_data"
    },
    {
     "data": {
      "application/vnd.jupyter.widget-view+json": {
       "model_id": "d9fe83f0b40a4d34a4194db31d6eda9c",
       "version_major": 2,
       "version_minor": 0
      },
      "text/plain": [
       "Downloading (…)c7362/eval/readme.md:   0%|          | 0.00/4.00 [00:00<?, ?B/s]"
      ]
     },
     "metadata": {},
     "output_type": "display_data"
    },
    {
     "data": {
      "application/vnd.jupyter.widget-view+json": {
       "model_id": "1232dd39d8c74252b06ebb8a284bcbca",
       "version_major": 2,
       "version_minor": 0
      },
      "text/plain": [
       "Downloading (…)_sts-dev_results.csv:   0%|          | 0.00/770 [00:00<?, ?B/s]"
      ]
     },
     "metadata": {},
     "output_type": "display_data"
    },
    {
     "data": {
      "application/vnd.jupyter.widget-view+json": {
       "model_id": "62e7c257ae414672afcafa3f88f65112",
       "version_major": 2,
       "version_minor": 0
      },
      "text/plain": [
       "Downloading (…)\"pytorch_model.bin\";:   0%|          | 0.00/439M [00:00<?, ?B/s]"
      ]
     },
     "metadata": {},
     "output_type": "display_data"
    },
    {
     "data": {
      "application/vnd.jupyter.widget-view+json": {
       "model_id": "879c712c4931491f8b1bfbbe717872b7",
       "version_major": 2,
       "version_minor": 0
      },
      "text/plain": [
       "Downloading (…)nce_bert_config.json:   0%|          | 0.00/53.0 [00:00<?, ?B/s]"
      ]
     },
     "metadata": {},
     "output_type": "display_data"
    },
    {
     "data": {
      "application/vnd.jupyter.widget-view+json": {
       "model_id": "99adde9f50294fe9a19903f7560c060b",
       "version_major": 2,
       "version_minor": 0
      },
      "text/plain": [
       "Downloading (…)-mt-test_results.csv:   0%|          | 0.00/299 [00:00<?, ?B/s]"
      ]
     },
     "metadata": {},
     "output_type": "display_data"
    },
    {
     "data": {
      "application/vnd.jupyter.widget-view+json": {
       "model_id": "756a1ba6135b4d54ad43a4d409660609",
       "version_major": 2,
       "version_minor": 0
      },
      "text/plain": [
       "Downloading (…)cial_tokens_map.json:   0%|          | 0.00/112 [00:00<?, ?B/s]"
      ]
     },
     "metadata": {},
     "output_type": "display_data"
    },
    {
     "data": {
      "application/vnd.jupyter.widget-view+json": {
       "model_id": "9cef45ce73d3416a91bde7a74ae24bff",
       "version_major": 2,
       "version_minor": 0
      },
      "text/plain": [
       "Downloading (…)c7362/tokenizer.json:   0%|          | 0.00/480k [00:00<?, ?B/s]"
      ]
     },
     "metadata": {},
     "output_type": "display_data"
    },
    {
     "data": {
      "application/vnd.jupyter.widget-view+json": {
       "model_id": "ef78c993c17743a0a997896f12edf4b9",
       "version_major": 2,
       "version_minor": 0
      },
      "text/plain": [
       "Downloading (…)okenizer_config.json:   0%|          | 0.00/556 [00:00<?, ?B/s]"
      ]
     },
     "metadata": {},
     "output_type": "display_data"
    },
    {
     "data": {
      "application/vnd.jupyter.widget-view+json": {
       "model_id": "bd7d8f14e41c4309879822c2133f3c7f",
       "version_major": 2,
       "version_minor": 0
      },
      "text/plain": [
       "Downloading (…)de792c7362/vocab.txt:   0%|          | 0.00/242k [00:00<?, ?B/s]"
      ]
     },
     "metadata": {},
     "output_type": "display_data"
    },
    {
     "data": {
      "application/vnd.jupyter.widget-view+json": {
       "model_id": "8b7fb52ea18e4927a27532e01a6aeca2",
       "version_major": 2,
       "version_minor": 0
      },
      "text/plain": [
       "Downloading (…)92c7362/modules.json:   0%|          | 0.00/229 [00:00<?, ?B/s]"
      ]
     },
     "metadata": {},
     "output_type": "display_data"
    }
   ],
   "source": [
    "from sentence_transformers import SentenceTransformer\n",
    "\n",
    "model_similar = SentenceTransformer('hiiamsid/sentence_similarity_spanish_es', cache_folder=cache_dir)"
   ]
  },
  {
   "cell_type": "code",
   "execution_count": 290,
   "metadata": {},
   "outputs": [
    {
     "name": "stdout",
     "output_type": "stream",
     "text": [
      "0.5357166811053111\n",
      "0.8666146354889676\n",
      "0.48868598788937256\n",
      "0.6214043321874841\n",
      "0.5893894744516612\n"
     ]
    }
   ],
   "source": [
    "print(similarity(\"(\", \"los\", model_similar.encode))\n",
    "print(similarity(\"las\", \"los\", model_similar.encode))\n",
    "print(similarity(\"ADP\", \"PROPN\", model_similar.encode))\n",
    "print(similarity(\"DET\", \"PROPN\", model_similar.encode))\n",
    "print(similarity(\"flat\", \"det\", model_similar.encode))"
   ]
  },
  {
   "cell_type": "code",
   "execution_count": 289,
   "metadata": {},
   "outputs": [
    {
     "name": "stdout",
     "output_type": "stream",
     "text": [
      "tensor(0.5111)\n",
      "tensor(0.8720)\n",
      "tensor(0.4146)\n",
      "tensor(0.5145)\n",
      "tensor(0.5042)\n"
     ]
    }
   ],
   "source": [
    "print(similarity(\"(\", \"los\"))\n",
    "print(similarity(\"las\", \"los\"))\n",
    "print(similarity(\"ADP\", \"PROPN\"))\n",
    "print(similarity(\"DET\", \"PROPN\"))\n",
    "print(similarity(\"flat\", \"det\"))"
   ]
  },
  {
   "cell_type": "code",
   "execution_count": 132,
   "metadata": {},
   "outputs": [],
   "source": [
    "\n",
    "\n",
    "# create a dictionary to store entities with high confidence\n",
    "def get_entity_dict(documents, prefix=\"\"):\n",
    "    entity_dict = {}\n",
    "\n",
    "    # iterate through the entities in the documents and store entities with high confidence in the dictionary\n",
    "    for index_doc, document in enumerate(documents):\n",
    "        for entity in document.entities:\n",
    "            if entity.label not in entity_dict:\n",
    "                entity_dict[entity.label] = {}\n",
    "                entity_dict[entity.label][\"texts\"] = []\n",
    "                entity_dict[entity.label][\"doc_indices\"] = []\n",
    "\n",
    "            if entity.text not in entity_dict[entity.label][\"texts\"]:\n",
    "                entity_dict[entity.label][\"texts\"].append(prefix+entity.text)\n",
    "                entity_dict[entity.label][\"doc_indices\"].append(index_doc)\n",
    "\n",
    "    # Add embedings\n",
    "    for entity_label in entity_dict.keys():\n",
    "        entity_dict[entity_label][\"embeddings\"] = model_similar.encode(\n",
    "            entity_dict[entity_label][\"texts\"]\n",
    "        )\n",
    "    return entity_dict\n"
   ]
  },
  {
   "cell_type": "code",
   "execution_count": 147,
   "metadata": {},
   "outputs": [],
   "source": [
    "high_confidence_entities = get_entity_dict(corpus_1.documents)"
   ]
  },
  {
   "cell_type": "markdown",
   "metadata": {},
   "source": [
    "Local Score. Given a weakly labeled instance eq and an example ei from the high-precision set, we first compute their similarity as the cosine score between their embeddings. Then, we compute the local confidence score of eq belonging to category i as the maximum of its similarities between al examples in the high-precision set.\n",
    "\n",
    "# Create equation for local score\n",
    "\n",
    "$$\n",
    "  {score_i^{lcl}} = \\max_{j=1}^{n_{hp}} \\sum_{j=1}^N cos(x_j^{E}, x^{eq})\n",
    "$$"
   ]
  },
  {
   "cell_type": "code",
   "execution_count": 293,
   "metadata": {},
   "outputs": [],
   "source": [
    "def local_score(embedding_weak_entity, embedding_high_entities):\n",
    "    # Compute the similarity scores between eq and all examples in the high-precision set\n",
    "    from sklearn.metrics.pairwise import cosine_similarity\n",
    "    sim_all = cosine_similarity(\n",
    "        embedding_weak_entity.reshape(1, -1), embedding_high_entities\n",
    "    )\n",
    "    \n",
    "    # Compute the local confidence score of eq belonging to category i\n",
    "    local_confidence = sim_all.max()\n",
    "    \n",
    "    return local_confidence"
   ]
  },
  {
   "cell_type": "markdown",
   "metadata": {},
   "source": [
    "#### Global Score\n",
    "\n",
    "The global score is used to estimate the accuracy of an instance eq belonging to a category i. The following steps are taken to compute the global score:\n",
    "\n",
    "1. Sample a small set Es from the high precision set Hi.\n",
    "2. Compute the prototypical embedding xEs of Es as the average of embeddings of all instances in Es.\n",
    "3. Repeat the above two steps N times.\n",
    "\n",
    "The global score is then computed as the cosine similarity between the embedding of the instance eq and the prototypical embedding xEs.In our work, we sample N times\n",
    "and compute the global score as:\n",
    "\n",
    "$${score^{glb}_i} = \\frac{1}{N} \\sum_{j=1}^N cos(x_j^{Es}, x^{eq})$$\n"
   ]
  },
  {
   "cell_type": "code",
   "execution_count": 294,
   "metadata": {},
   "outputs": [],
   "source": [
    "def global_score(embedding_weak_entity, embedding_high_entities, n_samples=10, N=10):\n",
    "    from sklearn.metrics.pairwise import cosine_similarity\n",
    "    # Sample a small set Es from the high precision set Hi\n",
    "    size_samples = min(embedding_high_entities.shape[0], n_samples)\n",
    "    global_confidences = []\n",
    "    for _ in range(N):\n",
    "        indices = np.random.choice(embedding_high_entities.shape[0], size=size_samples, replace=False)\n",
    "        embedding_high_entities_sampled = embedding_high_entities[indices]\n",
    "        \n",
    "        # Compute the prototypical embedding xEs of Es as the average of embeddings of all instances in Es\n",
    "        prototypical_embedding = np.mean(embedding_high_entities_sampled, axis=0)\n",
    "        \n",
    "        # Compute the global score as the cosine similarity between the embedding of the instance eq and the prototypical embedding xEs\n",
    "        global_confidence = cosine_similarity(\n",
    "            embedding_weak_entity.reshape(1, -1), prototypical_embedding.reshape(1, -1)\n",
    "        )[0][0]\n",
    "        global_confidences.append(global_confidence)\n",
    "    \n",
    "    return np.mean(global_confidences)\n"
   ]
  },
  {
   "cell_type": "markdown",
   "metadata": {},
   "source": [
    "To balance the exploration ability and reliability,\n",
    "we compute the final confidence score of a weakly\n",
    "labeled instance belonging to a category as the\n",
    "geometric mean of its local and global scores"
   ]
  },
  {
   "cell_type": "code",
   "execution_count": 127,
   "metadata": {},
   "outputs": [],
   "source": [
    "from scipy.stats import gmean\n",
    "\n",
    "def final_confidence(embedding_weak_entity, embedding_high_entities, n_samples=10):\n",
    "    local_confidence = local_score(embedding_weak_entity, embedding_high_entities)\n",
    "    global_confidence = global_score(embedding_weak_entity, embedding_high_entities, n_samples=n_samples)\n",
    "    # Compute the geometric mean of local and global scores\n",
    "    final_score = gmean([local_confidence, global_confidence])\n",
    "    # Evaluate the final score is nan\n",
    "    if np.isnan(final_score):\n",
    "        raise ValueError(\"Final score is nan\")\n",
    "    return final_score"
   ]
  },
  {
   "cell_type": "markdown",
   "metadata": {},
   "source": [
    "We hypothesize that different categories of entities may have different thresholds for selecting high-quality weak labels. We may also need to use different thresholds at different iterations to dynamically balance exploration and reliability. For example, we may expect our learning process to be reliable at earlier iterations and be exploratory at later stages. Motivated by this hypothesis, we propose to use a dynamic threshold to select high-quality weak labels. Specifically, we hold out one entity instance in the high precision set and compute its confidence score with respect to the rest of the examples in the high-precision set. We randomly repeat T times and use the minimum value as the threshold. For category i.\n",
    "\n",
    "threshold = τ · min\n",
    "k≤T,ek∈Hi\n",
    "scorei(ek)\n",
    "\n",
    "$$threshold = \\tau\\min_{k \\leq T, e_k \\in H_i} score_i(e_k)$$"
   ]
  },
  {
   "cell_type": "code",
   "execution_count": 128,
   "metadata": {},
   "outputs": [],
   "source": [
    "import numpy as np\n",
    "\n",
    "def dynamic_threshold(high_precision_set, T):\n",
    "    # Initialize an empty list to store the confidence scores\n",
    "    confidence_scores = []\n",
    "    \n",
    "    # Iterate through each entity instance in the high-precision set\n",
    "    for i in range(high_precision_set.shape[0]):\n",
    "        # Hold out the i-th entity instance and compute its confidence score with respect to the rest of the examples in the high-precision set\n",
    "        entity_instance = high_precision_set[i]\n",
    "        rest_of_set = np.delete(high_precision_set, i, axis=0)\n",
    "        final_score = final_confidence(entity_instance, rest_of_set)\n",
    "        \n",
    "        # Repeat T times and store the minimum confidence score\n",
    "        for _ in range(T):\n",
    "            entity_instance = high_precision_set[i]\n",
    "            rest_of_set = np.delete(high_precision_set, i, axis=0)\n",
    "            final_score = final_confidence(entity_instance, rest_of_set)\n",
    "            confidence_scores.append(final_score)\n",
    "    \n",
    "    # Return the minimum confidence score as the threshold\n",
    "    threshold = np.min(confidence_scores)\n",
    "    \n",
    "    return threshold\n"
   ]
  },
  {
   "cell_type": "markdown",
   "metadata": {},
   "source": [
    "Assuming you have a list of documents called `documents` and a dynamic threshold called `threshold`"
   ]
  },
  {
   "cell_type": "code",
   "execution_count": 143,
   "metadata": {},
   "outputs": [],
   "source": [
    "def select_documents(documents, high_precision_dict:Dict, prefix=\"\"):\n",
    "    selected_documents = []\n",
    "    # Threshold by entity\n",
    "    entity_threshold = {}\n",
    "    for entity, values in high_precision_dict.items():\n",
    "        entity_threshold[entity] = dynamic_threshold(values[\"embeddings\"], T=10)\n",
    "    for document in documents:\n",
    "        all_entities_above_threshold = True\n",
    "        for entity in document.entities:\n",
    "            entity_embedding = model_similar.encode(prefix+entity.text)\n",
    "            threshold = entity_threshold[entity.label]\n",
    "            high_precision_set = high_precision_dict[entity.label][\"embeddings\"]\n",
    "            if final_confidence(entity_embedding, high_precision_set, n_samples=10) < threshold:\n",
    "                all_entities_above_threshold = False\n",
    "                break\n",
    "        if all_entities_above_threshold:\n",
    "            selected_documents.append(document)\n",
    "\n",
    "    return selected_documents"
   ]
  },
  {
   "cell_type": "code",
   "execution_count": 295,
   "metadata": {},
   "outputs": [],
   "source": [
    "selected_documents = select_documents(\n",
    "    corpus_new.documents, \n",
    "    high_confidence_entities,\n",
    ")"
   ]
  },
  {
   "cell_type": "code",
   "execution_count": 149,
   "metadata": {},
   "outputs": [
    {
     "data": {
      "text/plain": [
       "9"
      ]
     },
     "execution_count": 149,
     "metadata": {},
     "output_type": "execute_result"
    }
   ],
   "source": [
    "len(selected_documents)"
   ]
  },
  {
   "attachments": {},
   "cell_type": "markdown",
   "metadata": {},
   "source": [
    "## Test Genetic Algorithm"
   ]
  },
  {
   "cell_type": "code",
   "execution_count": 40,
   "metadata": {},
   "outputs": [],
   "source": [
    "import numpy as np\n",
    "from typing import List, Tuple, Dict, Set, Union\n",
    "num_val = 100"
   ]
  },
  {
   "cell_type": "code",
   "execution_count": 171,
   "metadata": {},
   "outputs": [],
   "source": [
    "array_rules = np.load(f\"best_population.npy\")\n",
    "array_fitness = np.load(f\"best_fitness.npy\")\n",
    "fitness_: np.ndarray = array_fitness"
   ]
  },
  {
   "cell_type": "code",
   "execution_count": 250,
   "metadata": {},
   "outputs": [],
   "source": [
    "gen_it=0\n",
    "array_rules = np.load(f\"data/rules/best_population_{gen_it}.npy\")\n",
    "array_fitness = np.load(f\"data/rules/best_fitness_{gen_it}.npy\") "
   ]
  },
  {
   "cell_type": "code",
   "execution_count": 140,
   "metadata": {},
   "outputs": [],
   "source": [
    "# np.save(f\"best_population_0.npy\", array_fitness)\n",
    "# np.save(f\"best_fitness_0.npy\", array_fitness)"
   ]
  },
  {
   "attachments": {},
   "cell_type": "markdown",
   "metadata": {},
   "source": [
    "#### Transform data\n"
   ]
  },
  {
   "attachments": {},
   "cell_type": "markdown",
   "metadata": {},
   "source": [
    "1. Load and save Validation Data (spacy docs) - Save spacy documents and load from disk\n",
    "1. Load Genetic rules\n",
    "2. Load Training Data - Save spacy documents and load from disk\n",
    "3. Select n docs from training data regarding current training size\n",
    "3. Extract new segment document\n",
    "4. Create new corpues with n docs\n",
    "5. Expand candidate words\n",
    "6. Get new parent population\n",
    "7. Retrain model\n",
    "8. Evaluate model\n",
    "9. Save model\n",
    "10. Save results\n",
    "11. Repeat from 3"
   ]
  },
  {
   "cell_type": "code",
   "execution_count": 260,
   "metadata": {},
   "outputs": [],
   "source": [
    "import re\n",
    "\n",
    "def clean_text(text):\n",
    "    \"\"\"Transform text to lowercase and remove punctuationand extra whitespace.\"\"\"\n",
    "    # text = text.lower()\n",
    "    text = re.sub(r\" +\", \" \", text)\n",
    "    return text"
   ]
  },
  {
   "cell_type": "code",
   "execution_count": 270,
   "metadata": {},
   "outputs": [],
   "source": [
    "# # Retrieve words from embedding\n",
    "# with open(\"data/vocabs/conn-2002-uncased-vocab.txt\", \"r\", encoding=\"utf-8\") as iob_file:\n",
    "#     # POS TAGS\n",
    "#     word_list = list(lf.pos_tags.keys())\n",
    "#     # DEP TAGS\n",
    "#     word_list.extend(lf.dep_tags.keys())\n",
    "#     word_list.extend([clean_text(x.strip()) for x in iob_file.readlines()])\n",
    "#     # Remove duplicates\n",
    "#     word_list = list(set(word_list))\n",
    "#     # Save words_list to file\n",
    "#     np.save(\"data/vocabs/word_list.npy\", word_list)\n",
    "\n",
    "# word_embeddings = get_ml_embeddings(word_list)\n",
    "# # word_embeddings to file\n",
    "# np.save(\"word_embeddings.npy\", word_embeddings)"
   ]
  },
  {
   "cell_type": "code",
   "execution_count": 271,
   "metadata": {},
   "outputs": [],
   "source": [
    "word_list = np.load(\"data/vocabs/word_list.npy\")\n",
    "word_embeddings = np.load(\"word_embeddings.npy\")"
   ]
  },
  {
   "cell_type": "code",
   "execution_count": 252,
   "metadata": {},
   "outputs": [],
   "source": [
    "index_rules = np.arange(array_rules.shape[0])"
   ]
  },
  {
   "cell_type": "code",
   "execution_count": 253,
   "metadata": {},
   "outputs": [],
   "source": [
    "def decode_embedding(embedding):\n",
    "    similarities = np.dot(word_embeddings, embedding)/(np.linalg.norm(word_embeddings, axis=1) * np.linalg.norm(embedding))\n",
    "    most_similar_word = word_list[np.argmax(similarities)]\n",
    "    return most_similar_word\n",
    "\n",
    "def rule_embedding_to_tuple(rule):\n",
    "    size_rule = int(rule[0])\n",
    "    # A pattern is a list tuples (word, entity)\n",
    "    pattern: List = []\n",
    "    for i in range(size_rule):\n",
    "        # Use cosine similarity to get the most similar word in the embedding\n",
    "        start_index = 3 + i * (embedding_size + 2) + 2\n",
    "        word_embedding = rule[start_index : start_index + embedding_size]\n",
    "        most_similar_word = decode_embedding(word_embedding)\n",
    "        pattern.append((most_similar_word, int(rule[start_index - 2])))\n",
    "    return pattern"
   ]
  },
  {
   "cell_type": "code",
   "execution_count": null,
   "metadata": {},
   "outputs": [],
   "source": []
  },
  {
   "cell_type": "code",
   "execution_count": 299,
   "metadata": {},
   "outputs": [],
   "source": [
    "# TODO Array rules to list rules\n",
    "# Retrieve values from array\n",
    "#  A rule is list of patterns\n",
    "rules: List = []\n",
    "for rule in array_rules:\n",
    "    size_rule = int(rule[0])\n",
    "    # A pattern is a list tuples (word, entity)\n",
    "    pattern: List = []\n",
    "    for i in range(size_rule):\n",
    "        # Use cosine similarity to get the most similar word in the embedding\n",
    "        start_index = 3 + i * (embedding_size + 2) + 2\n",
    "        word_embedding = rule[start_index : start_index + embedding_size]\n",
    "        similarities = np.dot(word_embeddings, word_embedding)/(np.linalg.norm(word_embeddings, axis=1) * np.linalg.norm(word_embedding))\n",
    "        most_similar_word = word_list[np.argmax(similarities)]\n",
    "        pattern.append((most_similar_word, int(rule[start_index - 2])))\n",
    "    rules.append(pattern)"
   ]
  },
  {
   "cell_type": "code",
   "execution_count": 300,
   "metadata": {},
   "outputs": [
    {
     "data": {
      "text/plain": [
       "[[('PROPN', 2)],\n",
       " [('PROPN', 1), ('case', 1)],\n",
       " [('conj', 2), ('PROPN', 2)],\n",
       " [('case', 0), ('PROPN', 2)],\n",
       " [('nmod', 2), ('flat', 2)],\n",
       " [('PROPN', 4), ('PROPN', 1), ('case', 1)],\n",
       " [('PROPN', 1), ('flat', 1), ('flat', 1)],\n",
       " [('PROPN', 1), ('de', 0), ('PROPN', 1)],\n",
       " [('ADP', 2), ('ADP', 2), ('PROPN', 2)],\n",
       " [('PROPN', 1), ('de', 1), ('flat', 1)],\n",
       " [('nmod', 2), ('PROPN', 2), ('de', 0)],\n",
       " [('casa', 2), ('ADP', 2), ('PROPN', 2)],\n",
       " [('flat', 3), ('PROPN', 3), ('PROPN', 3)],\n",
       " [('de', 0), ('PROPN', 2), ('flat', 2)],\n",
       " [('de', 0), ('PROPN', 2), ('nmod', 0)],\n",
       " [('PROPN', 2), ('PROPN', 2), ('PROPN', 2)],\n",
       " [('ADP', 0), ('ADP', 0), ('PROPN', 1)],\n",
       " [('ADP', 2), ('flat', 2), ('flat', 2)],\n",
       " [('nmod', 2), ('flat', 0), ('PROPN', 2)],\n",
       " [('case', 0), ('ADP', 0), ('flat', 1)],\n",
       " [('PROPN', 2), ('flat', 2), ('flat', 0)],\n",
       " [('flat', 1), ('flat', 1), ('PROPN', 1)],\n",
       " [('PROPN', 2), ('ADP', 2), ('PROPN', 2)],\n",
       " [('ADP', 2), ('ADP', 2), ('flat', 2)],\n",
       " [('obl', 0), ('PROPN', 1), ('flat', 1)],\n",
       " [('obl', 0), ('flat', 1), ('flat', 1)],\n",
       " [('case', 0), ('flat', 2), ('flat', 0)],\n",
       " [('flat', 0), ('nmod', 2), ('flat', 2)],\n",
       " [('appos', 0), ('PROPN', 2), ('flat', 2)],\n",
       " [('EFE', 0), ('appos', 4), ('PROPN', 4)],\n",
       " [('Federación', 0), ('PROPN', 1), ('flat', 1)],\n",
       " [('PROPN', 1), ('EFE', 0), ('flat', 1)],\n",
       " [('PROPN', 1), ('de', 1), ('ADP', 1)],\n",
       " [('PROPN', 1), ('de', 1), ('nmod', 1)],\n",
       " [('ADP', 1), ('de', 1), ('flat', 1)],\n",
       " [('case', 1), ('de', 1), ('flat', 1)],\n",
       " [('de', 1), ('PROPN', 1), ('det', 1)],\n",
       " [('de', 1), ('case', 1), ('flat', 1)],\n",
       " [('PROPN', 2), ('PROPN', 2), ('altura', 2)],\n",
       " [('PROPN', 2), ('obl', 2), ('PROPN', 2)],\n",
       " [('PROPN', 2), ('obl', 2), ('flat', 2)],\n",
       " [('PROPN', 2), ('case', 2), ('case', 2)],\n",
       " [('PROPN', 2), ('case', 2), ('nmod', 2)],\n",
       " [('nmod', 2), ('flat', 2), ('nsubj', 0)],\n",
       " [('Pedro', 2), ('de', 2), ('PROPN', 2)],\n",
       " [('nmod', 3), ('case', 3), ('civiles', 3)],\n",
       " [('misma', 3), ('de', 3), ('PROPN', 3)],\n",
       " [('appos', 4), ('ADP', 4), ('PROPN', 4)],\n",
       " [('appos', 4), ('case', 4), ('PROPN', 4)],\n",
       " [('appos', 4), ('case', 4), ('flat', 4)],\n",
       " [('appos', 4), ('appos', 4), ('PROPN', 4)],\n",
       " [('ADP', 0), ('nmod', 2), ('PROPN', 2), ('ADP', 2)],\n",
       " [('flat', 1), ('PROPN', 4), ('flat', 1), ('flat', 1)],\n",
       " [('nmod', 4), ('de', 0), ('nmod', 2), ('flat', 2)],\n",
       " [('PROPN', 1), ('flat', 1), ('PROPN', 0), ('PROPN', 1)],\n",
       " [('PROPN', 1), ('flat', 1), ('PROPN', 0), ('flat', 1)],\n",
       " [('PROPN', 1), ('PROPN', 0), ('de', 0), ('PROPN', 1)],\n",
       " [('nmod', 2), ('de', 2), ('PROPN', 2), ('PROPN', 2)],\n",
       " [('case', 0), ('PROPN', 1), ('case', 0), ('flat', 1)],\n",
       " [('PROPN', 1), ('ADP', 1), ('flat', 1), ('flat', 1)],\n",
       " [('case', 0), ('PROPN', 2), ('case', 2), ('PROPN', 2)],\n",
       " [('PROPN', 1), ('flat', 1), ('flat', 0), ('PROPN', 1)],\n",
       " [('PROPN', 2), ('ADP', 2), ('PROPN', 2), ('PROPN', 2)],\n",
       " [('PROPN', 2), ('ADP', 2), ('PROPN', 2), ('de', 2)],\n",
       " [('PROPN', 2), ('case', 2), ('PROPN', 2), ('flat', 2)],\n",
       " [('obl', 2), ('PROPN', 2), ('ADP', 2), ('flat', 2)],\n",
       " [('nmod', 2), ('PROPN', 2), ('ADP', 2), ('PROPN', 2)],\n",
       " [('appos', 4), ('PROPN', 4), ('PROPN', 4), ('andaluz', 4)],\n",
       " [('appos', 4), ('appos', 4), ('PROPN', 4), ('PROPN', 4)],\n",
       " [('PROPN', 1), ('ADP', 0), ('det', 0), ('PROPN', 1)],\n",
       " [('PROPN', 1), ('PROPN', 1), ('de', 1), ('flat', 1)],\n",
       " [('PROPN', 2), ('ADP', 2), ('PROPN', 2), ('flat', 0)],\n",
       " [('obl', 3), ('PROPN', 3), ('appos', 0), ('PROPN', 3)],\n",
       " [('PROPN', 1), ('PROPN', 1), ('COI', 1), ('flat', 1)],\n",
       " [('PROPN', 1), ('flat', 1), ('nmod', 1), ('flat', 1)],\n",
       " [('PROPN', 1), ('flat', 1), ('COI', 1), ('flat', 1)],\n",
       " [('obl', 1), ('ADP', 1), ('flat', 1), ('flat', 1)],\n",
       " [('case', 1), ('Nacional', 1), ('de', 1), ('PROPN', 1)],\n",
       " [('PROPN', 3), ('PROPN', 3), ('obl', 3), ('flat', 3)],\n",
       " [('NOUN', 0), ('PROPN', 2), ('ADP', 2), ('PROPN', 2)],\n",
       " [('PROPN', 1), ('PROPN', 0), ('det', 1), ('flat', 1)],\n",
       " [('PROPN', 1), ('PROPN', 1), ('det', 1), ('flat', 1)],\n",
       " [('PROPN', 1), ('case', 1), ('diferentes', 1), ('flat', 1)],\n",
       " [('PROPN', 1), ('flat', 1), ('det', 1), ('PROPN', 1)],\n",
       " [('PROPN', 1), ('de', 1), ('flat', 1), ('PROPN', 1)],\n",
       " [('PROPN', 0), ('de', 1), ('Diputados', 1), ('flat', 1)],\n",
       " [('PROPN', 0), ('PROPN', 2), ('ADP', 2), ('PROPN', 2)],\n",
       " [('PROPN', 0), ('PROPN', 2), ('ADP', 2), ('Ayuntamiento', 2)],\n",
       " [('PROPN', 0), ('PROPN', 2), ('case', 2), ('flat', 2)],\n",
       " [('NOUN', 0), ('appos', 4), ('case', 4), ('PROPN', 4)],\n",
       " [('ADP', 0), ('obl', 0), ('PROPN', 1), ('PROPN', 1)],\n",
       " [('ADP', 0), ('alianza', 0), ('PROPN', 2), ('ADP', 2)],\n",
       " [('ADP', 0), ('PROPN', 1), ('flat', 1), ('case', 0)],\n",
       " [('ADP', 0), ('PROPN', 2), ('ADP', 2), ('flat', 2)],\n",
       " [('DET', 0), ('PROPN', 2), ('ADP', 2), ('flat', 2)],\n",
       " [('obl', 0), ('PROPN', 2), ('ADP', 2), ('PROPN', 2)],\n",
       " [('obl', 0), ('PROPN', 2), ('case', 2), ('flat', 2)],\n",
       " [('case', 0), ('PROPN', 0), ('de', 0), ('flat', 1)],\n",
       " [('case', 0), ('ADP', 0), ('PROPN', 3), ('PROPN', 3)],\n",
       " [('case', 0), ('PROPN', 1), ('de', 1), ('flat', 1)],\n",
       " [('case', 0), ('flat', 1), ('de', 0), ('flat', 1)],\n",
       " [('case', 0), ('PROPN', 2), ('PROPN', 2), ('entre', 0)],\n",
       " [('case', 0), ('PROPN', 2), ('flat', 2), ('nmod', 0)],\n",
       " [('flat', 0), ('PROPN', 1), ('flat', 1), ('case', 1)],\n",
       " [('flat', 0), ('flat', 1), ('PROPN', 0), ('PROPN', 1)],\n",
       " [('flat', 0), ('flat', 1), ('ADP', 0), ('flat', 1)],\n",
       " [('flat', 0), ('PROPN', 2), ('ADP', 2), ('flat', 2)],\n",
       " [('flat', 0), ('PROPN', 2), ('case', 2), ('flat', 2)],\n",
       " [('appos', 0), ('PROPN', 2), ('ADP', 2), ('flat', 2)],\n",
       " [('appos', 0), ('PROPN', 2), ('case', 2), ('flat', 2)],\n",
       " [('alianza', 0), ('PROPN', 2), ('ADP', 2), ('PROPN', 2)],\n",
       " [('alianza', 0), ('PROPN', 2), ('ADP', 2), ('flat', 2)],\n",
       " [('andaluz', 0), ('PROPN', 4), ('PROPN', 4), ('andaluz', 4)],\n",
       " [('Congreso', 0), ('PROPN', 1), ('case', 0), ('flat', 1)],\n",
       " [('de', 0), ('PROPN', 2), ('PROPN', 2), ('de', 0)],\n",
       " [('de', 0), ('PROPN', 2), ('case', 2), ('flat', 2)],\n",
       " [('de', 0), ('PROPN', 3), ('PROPN', 3), ('iniciativa', 3)],\n",
       " [('Deportes', 0), ('PROPN', 2), ('ADP', 2), ('PROPN', 0)],\n",
       " [('Deportes', 0), ('PROPN', 2), ('case', 2), ('PROPN', 0)],\n",
       " [('Deportes', 0), ('PROPN', 2), ('case', 2), ('flat', 2)],\n",
       " [('Doña', 0), ('flat', 1), ('ADP', 0), ('flat', 1)],\n",
       " [('Doña', 0), ('PROPN', 2), ('case', 2), ('flat', 2)],\n",
       " [('Federación', 0), ('DET', 0), ('PROPN', 2), ('ADP', 2)],\n",
       " [('Federación', 0), ('PROPN', 1), ('de', 1), ('flat', 1)],\n",
       " [('Federación', 0), ('PROPN', 1), ('de', 1), ('det', 1)],\n",
       " [('Federación', 0), ('PROPN', 2), ('ADP', 2), ('PROPN', 2)],\n",
       " [('Federación', 0), ('PROPN', 2), ('ADP', 2), ('flat', 2)],\n",
       " [('Federación', 0), ('obl', 2), ('ADP', 2), ('flat', 2)],\n",
       " [('misma', 0), ('PROPN', 2), ('case', 2), ('PROPN', 2)],\n",
       " [('misma', 0), ('PROPN', 2), ('case', 2), ('flat', 2)],\n",
       " [('diferentes', 0), ('PROPN', 4), ('PROPN', 4), ('andaluz', 4)],\n",
       " [('Ceuta', 0), ('PROPN', 2), ('case', 2), ('flat', 2)],\n",
       " [('Argentina', 0), ('appos', 4), ('PROPN', 4), ('PROPN', 4)],\n",
       " [('PROPN', 1), ('PROPN', 0), ('obj', 0), ('flat', 1)],\n",
       " [('PROPN', 1), ('PROPN', 0), ('det', 0), ('flat', 1)],\n",
       " [('PROPN', 1), ('PROPN', 0), ('Doña', 0), ('flat', 1)],\n",
       " [('PROPN', 1), ('ADP', 0), ('ADP', 0), ('PROPN', 1)],\n",
       " [('PROPN', 1), ('PROPN', 1), ('Ministros', 1), ('flat', 1)],\n",
       " [('PROPN', 1), ('ADP', 1), ('Pública', 1), ('flat', 1)],\n",
       " [('PROPN', 1), ('ADP', 1), ('casa', 1), ('flat', 1)],\n",
       " [('PROPN', 1), ('ADP', 1), ('diversas', 1), ('flat', 1)],\n",
       " [('PROPN', 1), ('case', 1), ('conj', 1), ('PROPN', 1)],\n",
       " [('PROPN', 1), ('flat', 1), ('ADP', 0), ('PROPN', 1)],\n",
       " [('PROPN', 1), ('flat', 1), ('ADP', 0), ('flat', 1)],\n",
       " [('PROPN', 1), ('flat', 1), ('obj', 0), ('PROPN', 0)],\n",
       " [('PROPN', 1), ('flat', 1), ('obj', 0), ('flat', 1)],\n",
       " [('PROPN', 1), ('flat', 1), ('case', 0), ('PROPN', 1)],\n",
       " [('PROPN', 1), ('flat', 1), ('case', 0), ('flat', 1)],\n",
       " [('PROPN', 1), ('flat', 1), ('de', 0), ('PROPN', 1)],\n",
       " [('PROPN', 1), ('flat', 1), ('fiscal', 0), ('PROPN', 1)],\n",
       " [('PROPN', 1), ('flat', 1), ('EFE', 0), ('flat', 1)],\n",
       " [('PROPN', 1), ('flat', 1), ('Juan', 0), ('PROPN', 0)],\n",
       " [('PROPN', 1), ('flat', 1), ('civiles', 0), ('flat', 1)],\n",
       " [('PROPN', 1), ('flat', 1), ('Doña', 0), ('PROPN', 1)],\n",
       " [('PROPN', 1), ('flat', 1), ('Federación', 0), ('PROPN', 0)],\n",
       " [('PROPN', 1), ('flat', 1), ('Federación', 0), ('PROPN', 1)],\n",
       " [('PROPN', 1), ('flat', 1), ('Esta', 0), ('PROPN', 1)],\n",
       " [('PROPN', 1), ('de', 1), ('ADP', 1), ('flat', 1)],\n",
       " [('PROPN', 1), ('de', 1), ('case', 1), ('flat', 1)],\n",
       " [('PROPN', 1), ('de', 1), ('flat', 1), ('COI', 0)],\n",
       " [('PROPN', 1), ('de', 1), ('det', 1), ('flat', 1)],\n",
       " [('PROPN', 1), ('de', 1), ('nmod', 1), ('flat', 1)],\n",
       " [('PROPN', 1), ('de', 1), ('COI', 1), ('flat', 1)],\n",
       " [('PROPN', 1), ('de', 1), ('Nacional', 1), ('flat', 1)],\n",
       " [('PROPN', 1), ('de', 1), ('diferentes', 1), ('flat', 1)],\n",
       " [('obl', 1), ('ADP', 1), ('flat', 1), ('PROPN', 0)],\n",
       " [('flat', 1), ('ADP', 0), ('flat', 1), ('flat', 1)],\n",
       " [('flat', 1), ('de', 0), ('flat', 1), ('flat', 1)],\n",
       " [('flat', 1), ('ADP', 1), ('civiles', 1), ('flat', 1)],\n",
       " [('flat', 1), ('case', 1), ('PROPN', 0), ('PROPN', 1)],\n",
       " [('flat', 1), ('det', 1), ('flat', 1), ('diferentes', 0)],\n",
       " [('flat', 1), ('de', 1), ('det', 1), ('flat', 1)],\n",
       " [('flat', 1), ('de', 1), ('diferentes', 1), ('PROPN', 1)],\n",
       " [('nmod', 1), ('case', 1), ('flat', 1), ('flat', 1)],\n",
       " [('nmod', 1), ('flat', 1), ('flat', 1), ('flat', 1)],\n",
       " [('nmod', 1), ('de', 1), ('flat', 1), ('PROPN', 1)],\n",
       " [('Pública', 1), ('de', 1), ('flat', 1), ('PROPN', 1)],\n",
       " [('Casa', 1), ('flat', 1), ('case', 1), ('PROPN', 1)],\n",
       " [('Federación', 1), ('de', 1), ('flat', 1), ('PROPN', 1)],\n",
       " [('producción', 1), ('flat', 1), ('ADP', 0), ('flat', 1)],\n",
       " [('PROPN', 2), ('case', 0), ('flat', 2), ('PROPN', 0)],\n",
       " [('PROPN', 2), ('ADP', 2), ('PROPN', 2), ('de', 0)],\n",
       " [('PROPN', 2), ('ADP', 2), ('PROPN', 2), ('Deportes', 0)],\n",
       " [('PROPN', 2), ('ADP', 2), ('flat', 2), ('PROPN', 0)],\n",
       " [('PROPN', 2), ('ADP', 2), ('flat', 2), ('case', 0)],\n",
       " [('PROPN', 2), ('ADP', 2), ('flat', 2), ('fiscal', 0)],\n",
       " [('PROPN', 2), ('ADP', 2), ('flat', 2), ('Deportes', 0)],\n",
       " [('PROPN', 2), ('case', 2), ('PROPN', 2), ('nmod', 0)],\n",
       " [('PROPN', 2), ('case', 2), ('PROPN', 2), ('Educación.', 0)],\n",
       " [('PROPN', 2), ('case', 2), ('PROPN', 2), ('fiscal', 0)],\n",
       " [('PROPN', 2), ('case', 2), ('flat', 2), ('fiscal', 0)],\n",
       " [('Pedro', 2), ('de', 2), ('PROPN', 2), ('PROPN', 2)],\n",
       " [('PROPN', 3), ('flat', 3), ('obl', 3), ('flat', 3)],\n",
       " [('PROPN', 3), ('flat', 3), ('case', 3), ('case', 3)],\n",
       " [('PROPN', 3), ('nmod', 3), ('case', 3), ('civiles', 3)],\n",
       " [('PROPN', 3), ('conj', 3), ('case', 3), ('flat', 3)],\n",
       " [('PROPN', 3), ('conj', 3), ('de', 3), ('PROPN', 3)],\n",
       " [('PROPN', 3), ('Grupo', 3), ('case', 3), ('PROPN', 3)],\n",
       " [('PROPN', 3), ('Grupo', 3), ('case', 3), ('flat', 3)],\n",
       " [('PROPN', 3), ('diversas', 3), ('de', 3), ('PROPN', 3)],\n",
       " [('flat', 3), ('flat', 3), ('ADP', 3), ('flat', 3)],\n",
       " [('appos', 3), ('flat', 3), ('ADP', 3), ('flat', 3)],\n",
       " [('appos', 4), ('case', 4), ('PROPN', 4), ('Grupo', 0)],\n",
       " [('PROPN', 3), ('case', 0), ('PROPN', 1), ('case', 1), ('det', 0)],\n",
       " [('PROPN', 0), ('PROPN', 1), ('flat', 1), ('case', 4), ('flat', 0)],\n",
       " [('appos', 0), ('PROPN', 2), ('PROPN', 0), ('ADP', 2), ('PROPN', 2)],\n",
       " [('del', 0), ('det', 2), ('PROPN', 2), ('ADP', 2), ('flat', 0)],\n",
       " [('PROPN', 1), ('flat', 0), ('flat', 1), ('PROPN', 1), ('misma', 4)],\n",
       " [('flat', 1), ('PROPN', 1), ('case', 1), ('PROPN', 1), ('flat', 1)],\n",
       " [('flat', 1), ('PROPN', 1), ('de', 1), ('flat', 1), ('flat', 1)],\n",
       " [('PROPN', 1), ('flat', 1), ('Diputados', 0), ('PROPN', 4), ('PROPN', 1)],\n",
       " [('appos', 2), ('PROPN', 0), ('PROPN', 2), ('ADP', 2), ('flat', 2)],\n",
       " [('conj', 3), ('PROPN', 1), ('ADP', 1), ('flat', 1), ('flat', 0)],\n",
       " [('de', 4), ('PROPN', 1), ('flat', 1), ('case', 0), ('flat', 1)],\n",
       " [('de', 4), ('PROPN', 1), ('flat', 1), ('civiles', 0), ('flat', 1)],\n",
       " [('flat', 1), ('PROPN', 1), ('ADP', 1), ('flat', 1), ('flat', 1)],\n",
       " [('PROPN', 3), ('PROPN', 3), ('Pública', 3), ('obl', 3), ('flat', 3)],\n",
       " [('PROPN', 1), ('case', 1), ('flat', 0), ('flat', 1), ('flat', 1)],\n",
       " [('PROPN', 0), ('NOUN', 0), ('PROPN', 2), ('ADP', 2), ('PROPN', 2)],\n",
       " [('PROPN', 0), ('DET', 0), ('PROPN', 2), ('ADP', 2), ('PROPN', 2)],\n",
       " [('ADP', 0), ('PROPN', 1), ('flat', 0), ('flat', 1), ('PROPN', 1)],\n",
       " [('nmod', 0), ('DET', 0), ('PROPN', 2), ('ADP', 2), ('PROPN', 2)],\n",
       " [('PROPN', 1), ('flat', 0), ('flat', 1), ('PROPN', 1), ('misma', 0)],\n",
       " [('ADP', 0), ('PROPN', 1), ('de', 1), ('flat', 1), ('PROPN', 1)],\n",
       " [('case', 0), ('PROPN', 1), ('de', 1), ('flat', 1), ('PROPN', 1)],\n",
       " [('PROPN', 0), ('case', 0), ('case', 0), ('flat', 1), ('flat', 1)],\n",
       " [('PROPN', 0), ('PROPN', 1), ('flat', 1), ('flat', 0), ('PROPN', 1)],\n",
       " [('PROPN', 0), ('PROPN', 1), ('de', 1), ('det', 1), ('PROPN', 1)],\n",
       " [('PROPN', 0), ('PROPN', 3), ('flat', 3), ('ADP', 3), ('PROPN', 3)],\n",
       " [('ADP', 0), ('PROPN', 0), ('PROPN', 2), ('flat', 2), ('PROPN', 2)],\n",
       " [('ADP', 0), ('DET', 0), ('PROPN', 2), ('ADP', 2), ('flat', 2)],\n",
       " [('ADP', 0), ('flat', 0), ('PROPN', 2), ('ADP', 2), ('flat', 2)],\n",
       " [('ADP', 0), ('PROPN', 1), ('ADP', 1), ('flat', 1), ('flat', 0)],\n",
       " [('ADP', 0), ('PROPN', 1), ('de', 1), ('Nacional', 1), ('flat', 1)],\n",
       " [('obl', 0), ('PROPN', 3), ('flat', 3), ('ADP', 3), ('PROPN', 3)],\n",
       " [('case', 0), ('PROPN', 0), ('flat', 1), ('ADP', 0), ('flat', 1)],\n",
       " [('case', 0), ('PROPN', 1), ('PROPN', 0), ('case', 0), ('PROPN', 1)],\n",
       " [('case', 0), ('PROPN', 1), ('flat', 1), ('flat', 0), ('PROPN', 1)],\n",
       " [('case', 0), ('PROPN', 1), ('flat', 1), ('Ceuta', 0), ('PROPN', 1)],\n",
       " [('case', 0), ('PROPN', 3), ('flat', 3), ('case', 3), ('PROPN', 3)],\n",
       " [('flat', 0), ('DET', 0), ('PROPN', 2), ('ADP', 2), ('PROPN', 2)],\n",
       " [('flat', 0), ('DET', 0), ('PROPN', 2), ('ADP', 2), ('flat', 2)],\n",
       " [('flat', 0), ('DET', 0), ('PROPN', 2), ('case', 2), ('flat', 2)],\n",
       " [('nmod', 0), ('nmod', 0), ('appos', 4), ('PROPN', 4), ('PROPN', 4)],\n",
       " [('appos', 0), ('DET', 0), ('PROPN', 2), ('ADP', 2), ('PROPN', 2)],\n",
       " [('appos', 0), ('PROPN', 1), ('case', 1), ('PROPN', 0), ('PROPN', 1)],\n",
       " [('de', 0), ('nmod', 3), ('PROPN', 3), ('case', 3), ('misma', 0)],\n",
       " [('Federación', 0), ('DET', 0), ('PROPN', 2), ('ADP', 2), ('PROPN', 2)],\n",
       " [('Federación', 0), ('PROPN', 1), ('de', 1), ('ADP', 1), ('flat', 1)],\n",
       " [('Federación', 0), ('PROPN', 1), ('de', 1), ('det', 1), ('PROPN', 1)],\n",
       " [('Federación', 0), ('PROPN', 1), ('de', 1), ('det', 1), ('flat', 1)],\n",
       " [('Federación', 0), ('PROPN', 1), ('de', 1), ('oferta', 1), ('flat', 1)],\n",
       " [('misma', 0), ('PROPN', 2), ('case', 2), ('flat', 2), ('nmod', 0)],\n",
       " [('producción', 0), ('DET', 0), ('PROPN', 2), ('ADP', 2), ('PROPN', 2)],\n",
       " [('PROPN', 1), ('flat', 0), ('flat', 1), ('flat', 1), ('flat', 0)],\n",
       " [('PROPN', 1), ('del', 0), ('de', 1), ('PROPN', 1), ('flat', 1)],\n",
       " [('PROPN', 1), ('PROPN', 1), ('ADP', 1), ('Pública', 1), ('flat', 1)],\n",
       " [('PROPN', 1), ('PROPN', 1), ('flat', 1), ('PROPN', 1), ('PROPN', 1)],\n",
       " [('PROPN', 1), ('PROPN', 1), ('flat', 1), ('flat', 1), ('det', 1)],\n",
       " [('PROPN', 1), ('PROPN', 1), ('det', 1), ('flat', 1), ('PROPN', 1)],\n",
       " [('PROPN', 1), ('PROPN', 1), ('de', 1), ('PROPN', 1), ('flat', 1)],\n",
       " [('PROPN', 1), ('ADP', 1), ('flat', 1), ('flat', 1), ('diferentes', 0)],\n",
       " [('PROPN', 1), ('ADP', 1), ('det', 1), ('PROPN', 1), ('diferentes', 0)],\n",
       " [('PROPN', 1), ('case', 1), ('de', 1), ('flat', 1), ('PROPN', 1)],\n",
       " [('PROPN', 1), ('flat', 1), ('de', 0), ('PROPN', 0), ('PROPN', 1)],\n",
       " [('PROPN', 1), ('flat', 1), ('de', 0), ('nsubj', 0), ('PROPN', 1)],\n",
       " [('PROPN', 1), ('flat', 1), ('case', 1), ('PROPN', 1), ('case', 0)],\n",
       " [('PROPN', 1), ('flat', 1), ('det', 1), ('PROPN', 1), ('flat', 1)],\n",
       " [('PROPN', 1), ('flat', 1), ('det', 1), ('flat', 1), ('PROPN', 1)],\n",
       " [('PROPN', 1), ('flat', 1), ('Esta', 1), ('flat', 1), ('PROPN', 1)],\n",
       " [('PROPN', 1), ('appos', 1), ('de', 1), ('flat', 1), ('PROPN', 1)],\n",
       " [('PROPN', 1), ('Nacional', 1), ('de', 1), ('flat', 1), ('PROPN', 1)],\n",
       " [('PROPN', 1), ('EFE', 1), ('de', 1), ('flat', 1), ('flat', 1)],\n",
       " [('PROPN', 1), ('Federación', 1), ('ADP', 1), ('det', 1), ('flat', 1)],\n",
       " [('ROOT', 1), ('PROPN', 1), ('ADP', 1), ('flat', 1), ('PROPN', 1)],\n",
       " [('case', 1), ('det', 1), ('PROPN', 1), ('diferentes', 0), ('PROPN', 0)],\n",
       " [('nmod', 1), ('PROPN', 1), ('de', 1), ('flat', 1), ('flat', 1)],\n",
       " [('nsubj', 1), ('nmod', 0), ('de', 1), ('flat', 1), ('flat', 1)],\n",
       " [('PROPN', 3), ('PROPN', 3), ('case', 3), ('PROPN', 3), ('alianza', 0)],\n",
       " [('PROPN', 3), ('PROPN', 3), ('case', 3), ('PROPN', 3), ('municipales', 0)],\n",
       " [('PROPN', 3), ('ADP', 3), ('flat', 3), ('PROPN', 0), ('PROPN', 3)],\n",
       " [('PROPN', 3), ('case', 3), ('case', 0), ('nmod', 0), ('PROPN', 3)],\n",
       " [('PROPN', 3), ('case', 3), ('civiles', 3), ('flat', 0), ('flat', 3)],\n",
       " [('PROPN', 3), ('flat', 3), ('case', 3), ('PROPN', 3), ('Diputados', 0)],\n",
       " [('PROPN', 3), ('de', 3), ('flat', 3), ('appos', 0), ('flat', 3)],\n",
       " [('nmod', 4), ('case', 0), ('flat', 1), ('case', 0), ('flat', 1)],\n",
       " [('PROPN', 0),\n",
       "  ('PROPN', 1),\n",
       "  ('flat', 0),\n",
       "  ('PROPN', 4),\n",
       "  ('flat', 1),\n",
       "  ('PROPN', 1)],\n",
       " [('PROPN', 3),\n",
       "  ('PROPN', 0),\n",
       "  ('appos', 0),\n",
       "  ('PROPN', 4),\n",
       "  ('PROPN', 4),\n",
       "  ('PROPN', 4)],\n",
       " [('PROPN', 0),\n",
       "  ('PROPN', 1),\n",
       "  ('PROPN', 0),\n",
       "  ('PROPN', 0),\n",
       "  ('flat', 1),\n",
       "  ('flat', 0)],\n",
       " [('PROPN', 0),\n",
       "  ('PROPN', 1),\n",
       "  ('PROPN', 0),\n",
       "  ('flat', 1),\n",
       "  ('PROPN', 0),\n",
       "  ('flat', 0)],\n",
       " [('PROPN', 3),\n",
       "  ('case', 3),\n",
       "  ('flat', 0),\n",
       "  ('PROPN', 3),\n",
       "  ('flat', 3),\n",
       "  ('Juan', 0)],\n",
       " [('PROPN', 0),\n",
       "  ('PROPN', 3),\n",
       "  ('flat', 3),\n",
       "  ('flat', 3),\n",
       "  ('PROPN', 3),\n",
       "  ('PROPN', 3)],\n",
       " [('PROPN', 1),\n",
       "  ('ADP', 1),\n",
       "  ('flat', 1),\n",
       "  ('DET', 0),\n",
       "  ('flat', 1),\n",
       "  ('PROPN', 1)],\n",
       " [('Educación.', 3),\n",
       "  ('PROPN', 0),\n",
       "  ('PROPN', 3),\n",
       "  ('flat', 3),\n",
       "  ('case', 3),\n",
       "  ('PROPN', 3)],\n",
       " [('PROPN', 1),\n",
       "  ('PROPN', 1),\n",
       "  ('flat', 1),\n",
       "  ('ADP', 1),\n",
       "  ('det', 1),\n",
       "  ('PROPN', 1)],\n",
       " [('PROPN', 1),\n",
       "  ('PROPN', 1),\n",
       "  ('flat', 1),\n",
       "  ('flat', 1),\n",
       "  ('flat', 1),\n",
       "  ('PROPN', 1)],\n",
       " [('flat', 1),\n",
       "  ('PROPN', 1),\n",
       "  ('PROPN', 1),\n",
       "  ('flat', 1),\n",
       "  ('flat', 1),\n",
       "  ('PROPN', 1)],\n",
       " [('flat', 1),\n",
       "  ('PROPN', 1),\n",
       "  ('PROPN', 1),\n",
       "  ('flat', 1),\n",
       "  ('nmod', 1),\n",
       "  ('PROPN', 1)],\n",
       " [('PROPN', 3), ('PROPN', 3), ('de', 3), ('flat', 3), ('obl', 3), ('flat', 3)],\n",
       " [('PROPN', 3),\n",
       "  ('flat', 3),\n",
       "  ('conj', 3),\n",
       "  ('flat', 3),\n",
       "  ('case', 3),\n",
       "  ('PROPN', 3)],\n",
       " [('PROPN', 0), ('ADP', 0), ('PROPN', 1), ('de', 1), ('flat', 1), ('flat', 1)],\n",
       " [('PROPN', 3),\n",
       "  ('PROPN', 3),\n",
       "  ('PROPN', 3),\n",
       "  ('PROPN', 3),\n",
       "  ('nmod', 0),\n",
       "  ('PROPN', 0)],\n",
       " [('PROPN', 0),\n",
       "  ('PROPN', 1),\n",
       "  ('PROPN', 0),\n",
       "  ('flat', 1),\n",
       "  ('flat', 1),\n",
       "  ('flat', 0)],\n",
       " [('ADP', 0), ('ADP', 0), ('PROPN', 1), ('de', 1), ('flat', 1), ('flat', 1)],\n",
       " [('PROPN', 0),\n",
       "  ('PROPN', 0),\n",
       "  ('PROPN', 3),\n",
       "  ('flat', 3),\n",
       "  ('case', 3),\n",
       "  ('PROPN', 3)],\n",
       " [('PROPN', 0),\n",
       "  ('PROPN', 0),\n",
       "  ('PROPN', 3),\n",
       "  ('flat', 3),\n",
       "  ('case', 3),\n",
       "  ('flat', 3)],\n",
       " [('PROPN', 0),\n",
       "  ('flat', 0),\n",
       "  ('DET', 0),\n",
       "  ('PROPN', 2),\n",
       "  ('case', 2),\n",
       "  ('flat', 2)],\n",
       " [('PROPN', 0),\n",
       "  ('PROPN', 1),\n",
       "  ('flat', 1),\n",
       "  ('flat', 1),\n",
       "  ('PROPN', 0),\n",
       "  ('PROPN', 0)],\n",
       " [('PROPN', 0),\n",
       "  ('PROPN', 1),\n",
       "  ('flat', 1),\n",
       "  ('flat', 1),\n",
       "  ('PROPN', 0),\n",
       "  ('flat', 0)],\n",
       " [('PROPN', 0),\n",
       "  ('PROPN', 1),\n",
       "  ('flat', 1),\n",
       "  ('flat', 1),\n",
       "  ('flat', 0),\n",
       "  ('PROPN', 0)],\n",
       " [('PROPN', 0),\n",
       "  ('PROPN', 1),\n",
       "  ('flat', 1),\n",
       "  ('flat', 1),\n",
       "  ('nmod', 0),\n",
       "  ('PROPN', 0)],\n",
       " [('ADP', 0),\n",
       "  ('DET', 0),\n",
       "  ('PROPN', 2),\n",
       "  ('ADP', 2),\n",
       "  ('flat', 2),\n",
       "  ('Vitoria', 0)],\n",
       " [('ADP', 0), ('flat', 0), ('DET', 0), ('PROPN', 2), ('ADP', 2), ('flat', 2)],\n",
       " [('ADP', 0), ('flat', 0), ('PROPN', 3), ('flat', 3), ('de', 3), ('PROPN', 3)],\n",
       " [('ADP', 0),\n",
       "  ('Federación', 0),\n",
       "  ('PROPN', 3),\n",
       "  ('flat', 3),\n",
       "  ('case', 3),\n",
       "  ('PROPN', 3)],\n",
       " [('ADP', 0), ('PROPN', 1), ('ADP', 1), ('flat', 1), ('flat', 0), ('case', 0)],\n",
       " [('obl', 0),\n",
       "  ('PROPN', 0),\n",
       "  ('PROPN', 1),\n",
       "  ('de', 1),\n",
       "  ('flat', 1),\n",
       "  ('PROPN', 1)],\n",
       " [('obl', 0), ('flat', 0), ('PROPN', 1), ('de', 1), ('PROPN', 1), ('flat', 1)],\n",
       " [('obl', 0), ('flat', 0), ('PROPN', 1), ('de', 1), ('flat', 1), ('flat', 0)],\n",
       " [('obl', 0),\n",
       "  ('PROPN', 1),\n",
       "  ('flat', 0),\n",
       "  ('flat', 1),\n",
       "  ('flat', 1),\n",
       "  ('flat', 0)],\n",
       " [('case', 0),\n",
       "  ('PROPN', 0),\n",
       "  ('PROPN', 1),\n",
       "  ('de', 1),\n",
       "  ('det', 1),\n",
       "  ('PROPN', 1)],\n",
       " [('case', 0),\n",
       "  ('PROPN', 0),\n",
       "  ('PROPN', 3),\n",
       "  ('flat', 3),\n",
       "  ('case', 3),\n",
       "  ('PROPN', 3)],\n",
       " [('case', 0),\n",
       "  ('case', 0),\n",
       "  ('PROPN', 1),\n",
       "  ('flat', 1),\n",
       "  ('case', 0),\n",
       "  ('PROPN', 1)],\n",
       " [('case', 0),\n",
       "  ('producción', 0),\n",
       "  ('DET', 0),\n",
       "  ('PROPN', 2),\n",
       "  ('ADP', 2),\n",
       "  ('PROPN', 2)],\n",
       " [('flat', 0),\n",
       "  ('PROPN', 0),\n",
       "  ('PROPN', 1),\n",
       "  ('flat', 1),\n",
       "  ('flat', 0),\n",
       "  ('PROPN', 1)],\n",
       " [('flat', 0),\n",
       "  ('PROPN', 0),\n",
       "  ('PROPN', 3),\n",
       "  ('flat', 3),\n",
       "  ('case', 3),\n",
       "  ('PROPN', 3)],\n",
       " [('appos', 0),\n",
       "  ('PROPN', 1),\n",
       "  ('flat', 1),\n",
       "  ('case', 1),\n",
       "  ('PROPN', 0),\n",
       "  ('case', 0)],\n",
       " [('appos', 0),\n",
       "  ('PROPN', 1),\n",
       "  ('flat', 1),\n",
       "  ('case', 1),\n",
       "  ('PROPN', 0),\n",
       "  ('PROPN', 1)],\n",
       " [('PROPN', 1), ('case', 0), ('de', 1), ('flat', 1), ('PROPN', 1), ('los', 0)],\n",
       " [('PROPN', 1), ('ADP', 1), ('det', 1), ('flat', 1), ('de', 0), ('PROPN', 0)],\n",
       " [('PROPN', 1),\n",
       "  ('case', 1),\n",
       "  ('det', 1),\n",
       "  ('PROPN', 1),\n",
       "  ('diferentes', 0),\n",
       "  ('PROPN', 0)],\n",
       " [('PROPN', 1),\n",
       "  ('case', 1),\n",
       "  ('de', 1),\n",
       "  ('flat', 1),\n",
       "  ('PROPN', 1),\n",
       "  ('nmod', 0)],\n",
       " [('PROPN', 1),\n",
       "  ('flat', 1),\n",
       "  ('flat', 0),\n",
       "  ('PROPN', 1),\n",
       "  ('PROPN', 0),\n",
       "  ('PROPN', 0)],\n",
       " [('PROPN', 1),\n",
       "  ('flat', 1),\n",
       "  ('flat', 0),\n",
       "  ('PROPN', 1),\n",
       "  ('PROPN', 0),\n",
       "  ('flat', 0)],\n",
       " [('PROPN', 3),\n",
       "  ('PROPN', 0),\n",
       "  ('case', 3),\n",
       "  ('ADP', 3),\n",
       "  ('nmod', 0),\n",
       "  ('PROPN', 3)],\n",
       " [('PROPN', 3),\n",
       "  ('PROPN', 0),\n",
       "  ('conj', 3),\n",
       "  ('flat', 3),\n",
       "  ('PROPN', 0),\n",
       "  ('PROPN', 3)],\n",
       " [('PROPN', 3),\n",
       "  ('PROPN', 0),\n",
       "  ('de', 3),\n",
       "  ('ADP', 3),\n",
       "  ('nmod', 0),\n",
       "  ('PROPN', 3)],\n",
       " [('PROPN', 3),\n",
       "  ('PROPN', 3),\n",
       "  ('PROPN', 3),\n",
       "  ('PROPN', 3),\n",
       "  ('nmod', 0),\n",
       "  ('flat', 0)],\n",
       " [('PROPN', 3),\n",
       "  ('PROPN', 3),\n",
       "  ('case', 3),\n",
       "  ('case', 0),\n",
       "  ('nmod', 0),\n",
       "  ('PROPN', 3)],\n",
       " [('PROPN', 3),\n",
       "  ('PROPN', 3),\n",
       "  ('case', 3),\n",
       "  ('flat', 0),\n",
       "  ('PROPN', 0),\n",
       "  ('PROPN', 3)],\n",
       " [('PROPN', 3),\n",
       "  ('PROPN', 3),\n",
       "  ('case', 3),\n",
       "  ('flat', 0),\n",
       "  ('Agricultura', 0),\n",
       "  ('PROPN', 3)],\n",
       " [('PROPN', 3),\n",
       "  ('PROPN', 3),\n",
       "  ('case', 3),\n",
       "  ('PROPN', 3),\n",
       "  ('nsubj', 0),\n",
       "  ('PROPN', 3)],\n",
       " [('PROPN', 3),\n",
       "  ('PROPN', 3),\n",
       "  ('case', 3),\n",
       "  ('PROPN', 3),\n",
       "  ('alianza', 0),\n",
       "  ('flat', 3)],\n",
       " [('PROPN', 3),\n",
       "  ('PROPN', 3),\n",
       "  ('case', 3),\n",
       "  ('PROPN', 3),\n",
       "  ('Federación', 0),\n",
       "  ('flat', 3)],\n",
       " [('PROPN', 3),\n",
       "  ('PROPN', 3),\n",
       "  ('case', 3),\n",
       "  ('PROPN', 3),\n",
       "  ('Agricultura', 0),\n",
       "  ('PROPN', 3)],\n",
       " [('PROPN', 3),\n",
       "  ('PROPN', 3),\n",
       "  ('case', 3),\n",
       "  ('conj', 3),\n",
       "  ('Federación', 0),\n",
       "  ('flat', 3)],\n",
       " [('PROPN', 3),\n",
       "  ('PROPN', 3),\n",
       "  ('case', 3),\n",
       "  ('civiles', 3),\n",
       "  ('Agricultura', 0),\n",
       "  ('flat', 3)],\n",
       " [('PROPN', 3),\n",
       "  ('flat', 3),\n",
       "  ('ADP', 3),\n",
       "  ('PROPN', 3),\n",
       "  ('PROPN', 0),\n",
       "  ('PROPN', 3)],\n",
       " [('PROPN', 3),\n",
       "  ('flat', 3),\n",
       "  ('ADP', 3),\n",
       "  ('PROPN', 3),\n",
       "  ('Congreso', 0),\n",
       "  ('PROPN', 3)],\n",
       " [('PROPN', 3),\n",
       "  ('flat', 3),\n",
       "  ('ADP', 3),\n",
       "  ('flat', 3),\n",
       "  ('PROPN', 0),\n",
       "  ('PROPN', 3)],\n",
       " [('PROPN', 3),\n",
       "  ('flat', 3),\n",
       "  ('ADP', 3),\n",
       "  ('flat', 3),\n",
       "  ('DET', 0),\n",
       "  ('PROPN', 3)],\n",
       " [('PROPN', 3),\n",
       "  ('flat', 3),\n",
       "  ('ADP', 3),\n",
       "  ('flat', 3),\n",
       "  ('Casa', 0),\n",
       "  ('PROPN', 3)],\n",
       " [('PROPN', 3),\n",
       "  ('flat', 3),\n",
       "  ('case', 3),\n",
       "  ('PROPN', 3),\n",
       "  ('Diputados', 0),\n",
       "  ('PROPN', 3)],\n",
       " [('PROPN', 3),\n",
       "  ('flat', 3),\n",
       "  ('flat', 3),\n",
       "  ('flat', 3),\n",
       "  ('PROPN', 0),\n",
       "  ('PROPN', 3)],\n",
       " [('PROPN', 3),\n",
       "  ('flat', 3),\n",
       "  ('conj', 3),\n",
       "  ('flat', 3),\n",
       "  ('PROPN', 0),\n",
       "  ('PROPN', 3)],\n",
       " [('PROPN', 3),\n",
       "  ('flat', 3),\n",
       "  ('conj', 3),\n",
       "  ('flat', 3),\n",
       "  ('nsubj', 0),\n",
       "  ('PROPN', 3)],\n",
       " [('PROPN', 3),\n",
       "  ('Pública', 3),\n",
       "  ('conj', 3),\n",
       "  ('flat', 3),\n",
       "  ('nsubj', 0),\n",
       "  ('PROPN', 3)],\n",
       " [('ADP', 3),\n",
       "  ('PROPN', 3),\n",
       "  ('case', 3),\n",
       "  ('flat', 0),\n",
       "  ('nmod', 0),\n",
       "  ('PROPN', 3)],\n",
       " [('DET', 3),\n",
       "  ('flat', 3),\n",
       "  ('ADP', 3),\n",
       "  ('flat', 3),\n",
       "  ('PROPN', 0),\n",
       "  ('PROPN', 3)],\n",
       " [('DET', 3), ('flat', 3), ('ADP', 3), ('flat', 3), ('case', 0), ('PROPN', 3)],\n",
       " [('flat', 3),\n",
       "  ('ADP', 3),\n",
       "  ('flat', 3),\n",
       "  ('PROPN', 0),\n",
       "  ('PROPN', 3),\n",
       "  ('nmod', 0)],\n",
       " [('PROPN', 3),\n",
       "  ('PROPN', 3),\n",
       "  ('PROPN', 3),\n",
       "  ('case', 3),\n",
       "  ('PROPN', 3),\n",
       "  ('NOUN', 0),\n",
       "  ('flat', 3)],\n",
       " [('PROPN', 3),\n",
       "  ('PROPN', 3),\n",
       "  ('PROPN', 3),\n",
       "  ('case', 3),\n",
       "  ('PROPN', 3),\n",
       "  ('nmod', 0),\n",
       "  ('PROPN', 3)],\n",
       " [('PROPN', 0),\n",
       "  ('PROPN', 3),\n",
       "  ('PROPN', 3),\n",
       "  ('case', 3),\n",
       "  ('PROPN', 3),\n",
       "  ('PROPN', 0),\n",
       "  ('PROPN', 3)],\n",
       " [('PROPN', 3),\n",
       "  ('PROPN', 3),\n",
       "  ('PROPN', 3),\n",
       "  ('case', 3),\n",
       "  ('PROPN', 3),\n",
       "  ('NOUN', 0),\n",
       "  ('PROPN', 0)],\n",
       " [('DET', 3),\n",
       "  ('case', 0),\n",
       "  ('flat', 3),\n",
       "  ('ADP', 3),\n",
       "  ('flat', 3),\n",
       "  ('case', 0),\n",
       "  ('PROPN', 3)],\n",
       " [('PROPN', 3),\n",
       "  ('PROPN', 3),\n",
       "  ('case', 3),\n",
       "  ('PROPN', 3),\n",
       "  ('NOUN', 0),\n",
       "  ('flat', 3),\n",
       "  ('PROPN', 3)],\n",
       " [('PROPN', 3),\n",
       "  ('PROPN', 3),\n",
       "  ('case', 3),\n",
       "  ('PROPN', 3),\n",
       "  ('Deportes', 2),\n",
       "  ('flat', 3),\n",
       "  ('iniciativa', 0)],\n",
       " [('PROPN', 0),\n",
       "  ('ADP', 0),\n",
       "  ('ADP', 0),\n",
       "  ('PROPN', 3),\n",
       "  ('flat', 3),\n",
       "  ('case', 3),\n",
       "  ('PROPN', 3)],\n",
       " [('PROPN', 0),\n",
       "  ('Federación', 0),\n",
       "  ('flat', 0),\n",
       "  ('PROPN', 1),\n",
       "  ('de', 1),\n",
       "  ('det', 1),\n",
       "  ('flat', 1)],\n",
       " [('PROPN', 0),\n",
       "  ('PROPN', 1),\n",
       "  ('ADP', 1),\n",
       "  ('det', 1),\n",
       "  ('PROPN', 1),\n",
       "  ('diferentes', 0),\n",
       "  ('PROPN', 0)],\n",
       " [('PROPN', 0),\n",
       "  ('PROPN', 3),\n",
       "  ('PROPN', 3),\n",
       "  ('case', 3),\n",
       "  ('PROPN', 3),\n",
       "  ('Agricultura', 0),\n",
       "  ('flat', 3)],\n",
       " [('PROPN', 0),\n",
       "  ('PROPN', 3),\n",
       "  ('PROPN', 3),\n",
       "  ('case', 3),\n",
       "  ('civiles', 3),\n",
       "  ('flat', 0),\n",
       "  ('flat', 3)],\n",
       " [('PROPN', 0),\n",
       "  ('PROPN', 3),\n",
       "  ('PROPN', 3),\n",
       "  ('case', 3),\n",
       "  ('civiles', 3),\n",
       "  ('Agricultura', 0),\n",
       "  ('flat', 3)],\n",
       " [('ADP', 0),\n",
       "  ('PROPN', 3),\n",
       "  ('PROPN', 3),\n",
       "  ('case', 3),\n",
       "  ('PROPN', 3),\n",
       "  ('PROPN', 0),\n",
       "  ('flat', 3)],\n",
       " [('ADP', 0),\n",
       "  ('PROPN', 3),\n",
       "  ('PROPN', 3),\n",
       "  ('case', 3),\n",
       "  ('PROPN', 3),\n",
       "  ('appos', 0),\n",
       "  ('flat', 3)],\n",
       " [('obl', 0),\n",
       "  ('case', 0),\n",
       "  ('flat', 0),\n",
       "  ('PROPN', 1),\n",
       "  ('flat', 1),\n",
       "  ('case', 0),\n",
       "  ('PROPN', 1)],\n",
       " [('case', 0),\n",
       "  ('case', 0),\n",
       "  ('flat', 0),\n",
       "  ('PROPN', 1),\n",
       "  ('flat', 1),\n",
       "  ('case', 0),\n",
       "  ('PROPN', 1)],\n",
       " [('nmod', 0),\n",
       "  ('flat', 0),\n",
       "  ('PROPN', 0),\n",
       "  ('PROPN', 1),\n",
       "  ('flat', 1),\n",
       "  ('flat', 0),\n",
       "  ('PROPN', 1)],\n",
       " [('appos', 0),\n",
       "  ('PROPN', 1),\n",
       "  ('flat', 1),\n",
       "  ('case', 1),\n",
       "  ('PROPN', 0),\n",
       "  ('PROPN', 1),\n",
       "  ('case', 0)],\n",
       " [('de', 0),\n",
       "  ('PROPN', 3),\n",
       "  ('PROPN', 3),\n",
       "  ('case', 3),\n",
       "  ('PROPN', 3),\n",
       "  ('nmod', 0),\n",
       "  ('PROPN', 3)],\n",
       " [('Ministros', 0),\n",
       "  ('PROPN', 3),\n",
       "  ('PROPN', 3),\n",
       "  ('case', 3),\n",
       "  ('flat', 0),\n",
       "  ('Agricultura', 0),\n",
       "  ('flat', 3)],\n",
       " [('Ministros', 0),\n",
       "  ('PROPN', 3),\n",
       "  ('PROPN', 3),\n",
       "  ('case', 3),\n",
       "  ('PROPN', 3),\n",
       "  ('PROPN', 0),\n",
       "  ('flat', 3)],\n",
       " [('diferentes', 0),\n",
       "  ('PROPN', 0),\n",
       "  ('PROPN', 3),\n",
       "  ('case', 3),\n",
       "  ('PROPN', 3),\n",
       "  ('Agricultura', 0),\n",
       "  ('PROPN', 3)],\n",
       " [('Ceuta', 0),\n",
       "  ('PROPN', 3),\n",
       "  ('flat', 3),\n",
       "  ('ADP', 3),\n",
       "  ('flat', 3),\n",
       "  ('de', 0),\n",
       "  ('PROPN', 3)],\n",
       " [('PROPN', 1),\n",
       "  ('flat', 1),\n",
       "  ('flat', 0),\n",
       "  ('flat', 1),\n",
       "  ('flat', 1),\n",
       "  ('case', 0),\n",
       "  ('PROPN', 0)],\n",
       " [('PROPN', 1),\n",
       "  ('alianza', 1),\n",
       "  ('ADP', 1),\n",
       "  ('det', 1),\n",
       "  ('flat', 1),\n",
       "  ('diferentes', 0),\n",
       "  ('PROPN', 0)],\n",
       " [('PROPN', 3),\n",
       "  ('PROPN', 3),\n",
       "  ('ADP', 3),\n",
       "  ('flat', 3),\n",
       "  ('PROPN', 0),\n",
       "  ('PROPN', 3),\n",
       "  ('nmod', 0)],\n",
       " [('PROPN', 3),\n",
       "  ('PROPN', 3),\n",
       "  ('case', 3),\n",
       "  ('flat', 0),\n",
       "  ('nsubj', 0),\n",
       "  ('PROPN', 3),\n",
       "  ('nmod', 0)],\n",
       " [('PROPN', 3),\n",
       "  ('PROPN', 3),\n",
       "  ('case', 3),\n",
       "  ('PROPN', 3),\n",
       "  ('nsubj', 0),\n",
       "  ('PROPN', 3),\n",
       "  ('PROPN', 0)],\n",
       " [('PROPN', 3),\n",
       "  ('flat', 3),\n",
       "  ('de', 0),\n",
       "  ('PROPN', 3),\n",
       "  ('PROPN', 0),\n",
       "  ('PROPN', 3),\n",
       "  ('PROPN', 0)],\n",
       " [('PROPN', 3),\n",
       "  ('flat', 3),\n",
       "  ('ADP', 3),\n",
       "  ('flat', 3),\n",
       "  ('PROPN', 0),\n",
       "  ('PROPN', 3),\n",
       "  ('appos', 0)],\n",
       " [('PROPN', 3),\n",
       "  ('flat', 3),\n",
       "  ('ADP', 3),\n",
       "  ('flat', 3),\n",
       "  ('Casa', 0),\n",
       "  ('PROPN', 3),\n",
       "  ('appos', 0)]]"
      ]
     },
     "execution_count": 300,
     "metadata": {},
     "output_type": "execute_result"
    }
   ],
   "source": [
    "rules"
   ]
  },
  {
   "cell_type": "code",
   "execution_count": 274,
   "metadata": {},
   "outputs": [
    {
     "data": {
      "text/plain": [
       "[('obl', 3),\n",
       " ('PROPN', 3),\n",
       " ('ADP', 3),\n",
       " ('flat', 3),\n",
       " ('de', 0),\n",
       " ('PROPN', 3),\n",
       " ('flat', 0)]"
      ]
     },
     "execution_count": 274,
     "metadata": {},
     "output_type": "execute_result"
    }
   ],
   "source": [
    "rules[-1]"
   ]
  },
  {
   "cell_type": "code",
   "execution_count": 275,
   "metadata": {},
   "outputs": [],
   "source": [
    "pos_embeddings = get_ml_embedding(\"PROPN\")"
   ]
  },
  {
   "cell_type": "code",
   "execution_count": 276,
   "metadata": {},
   "outputs": [
    {
     "data": {
      "text/plain": [
       "'PROPN'"
      ]
     },
     "execution_count": 276,
     "metadata": {},
     "output_type": "execute_result"
    }
   ],
   "source": [
    "similarities = np.dot(word_embeddings, pos_embeddings)/(np.linalg.norm(word_embeddings, axis=1) * np.linalg.norm(pos_embeddings))\n",
    "most_similar_word = word_list[np.argmax(similarities)]\n",
    "most_similar_word"
   ]
  },
  {
   "cell_type": "code",
   "execution_count": 247,
   "metadata": {},
   "outputs": [
    {
     "ename": "NameError",
     "evalue": "name 'word_embeddings' is not defined",
     "output_type": "error",
     "traceback": [
      "\u001b[0;31m---------------------------------------------------------------------------\u001b[0m",
      "\u001b[0;31mNameError\u001b[0m                                 Traceback (most recent call last)",
      "Cell \u001b[0;32mIn[247], line 1\u001b[0m\n\u001b[0;32m----> 1\u001b[0m word_embeddings\u001b[39m.\u001b[39mshape\n",
      "\u001b[0;31mNameError\u001b[0m: name 'word_embeddings' is not defined"
     ]
    }
   ],
   "source": [
    "word_embeddings.shape"
   ]
  },
  {
   "attachments": {},
   "cell_type": "markdown",
   "metadata": {},
   "source": [
    "##### 3. Ner using genetic rules\n"
   ]
  },
  {
   "cell_type": "code",
   "execution_count": 51,
   "metadata": {},
   "outputs": [],
   "source": [
    "# Get list of features of population by entity type\n",
    "# Use a document base to convert array to Feature using global index\n",
    "from ga_ner.models import Feature, Rule, Document, Vocabulary\n",
    "import numpy as np\n",
    "from typing import List, Dict, Tuple, Iterable"
   ]
  },
  {
   "cell_type": "code",
   "execution_count": 52,
   "metadata": {},
   "outputs": [],
   "source": [
    "vocabulary = Vocabulary.from_file(\n",
    "    \"data/vocabs/conn-2002-uncased-vocab.txt\", include_special=False\n",
    ")\n",
    "\n",
    "vocab_ent = Vocabulary.from_list(entity_names, include_special=False)\n",
    "\n",
    "document = Document.from_text(\"\", vocab=vocabulary, vocab_ent=vocab_ent)"
   ]
  },
  {
   "cell_type": "code",
   "execution_count": 85,
   "metadata": {},
   "outputs": [
    {
     "name": "stdout",
     "output_type": "stream",
     "text": [
      "\u001b[38;5;4mℹ Grouping every 1 sentences into a document.\u001b[0m\n",
      "\u001b[38;5;3m⚠ To generate better training data, you may want to group sentences\n",
      "into documents with `-n 10`.\u001b[0m\n"
     ]
    }
   ],
   "source": [
    "from spacy.training.converters import conll_ner_to_docs\n",
    "\n",
    "conll_file = \"data/test/esp.testa.txt\"\n",
    "with open(conll_file, \"r\", encoding=\"iso-8859-1\") as file:\n",
    "    input_data = file.read()\n",
    "docs_val = conll_ner_to_docs(\n",
    "    input_data, n_sents=1, no_print=False, model=\"es_dep_news_trf\"\n",
    ")\n",
    "# Simple load\n",
    "spacy_ner_doc_val = list(docs_val)\n",
    "samples_len = len(spacy_ner_doc_val)"
   ]
  },
  {
   "cell_type": "code",
   "execution_count": 86,
   "metadata": {},
   "outputs": [],
   "source": [
    "num_val=100\n",
    "sample_is_complete_val = np.zeros(samples_len, dtype=bool)\n",
    "np.random.seed(0)\n",
    "selected_indices_val = np.random.choice(samples_len, size=num_val, replace=False)"
   ]
  },
  {
   "cell_type": "code",
   "execution_count": 87,
   "metadata": {},
   "outputs": [
    {
     "data": {
      "application/vnd.jupyter.widget-view+json": {
       "model_id": "5b3b592f6e00462abc65d0e6bd6135e6",
       "version_major": 2,
       "version_minor": 0
      },
      "text/plain": [
       "  0%|          | 0/100 [00:00<?, ?it/s]"
      ]
     },
     "metadata": {},
     "output_type": "display_data"
    },
    {
     "name": "stderr",
     "output_type": "stream",
     "text": [
      "/home/jraba/Dev/gar-lener-es/env/lib/python3.10/site-packages/torch/amp/autocast_mode.py:198: UserWarning: User provided device_type of 'cuda', but CUDA is not available. Disabling\n",
      "  warnings.warn('User provided device_type of \\'cuda\\', but CUDA is not available. Disabling')\n"
     ]
    }
   ],
   "source": [
    "from ga_ner.models import GANER, Document, Corpus, Vocabulary\n",
    "spacy_ner_doc_val = list(docs_val)\n",
    "array_rules = np.load(f\"data/rules/best_population_{gen_it}.npy\")\n",
    "array_fitness = np.load(f\"data/rules/best_fitness_{gen_it}.npy\") \n",
    "\n",
    "corpus_val = Corpus.from_spacy_docs(\n",
    "    sample_spacy_docs(spacy_ner_doc_val, selected_indices_val, sample_is_complete_val, spacy_ner_doc_val),\n",
    "    total_samples=len(selected_indices_val),\n",
    "    vocab=vocabulary,\n",
    "    embeding_func=get_ml_embedding,\n",
    "    vocab_ent=vocab_ent,\n",
    "    emb_size=embedding_size,\n",
    ")"
   ]
  },
  {
   "cell_type": "code",
   "execution_count": 47,
   "metadata": {},
   "outputs": [
    {
     "data": {
      "text/plain": [
       "[Entity(label=ORG, name=BNP-Paribas, start=2, end=3),\n",
       " Entity(label=ORG, name=Société Générale, start=20, end=22),\n",
       " Entity(label=ORG, name=SG, start=23, end=24),\n",
       " Entity(label=ORG, name=Paribas, start=26, end=27),\n",
       " Entity(label=MISC, name=OPA, start=50, end=51),\n",
       " Entity(label=ORG, name=BNP, start=54, end=55)]"
      ]
     },
     "execution_count": 47,
     "metadata": {},
     "output_type": "execute_result"
    }
   ],
   "source": [
    "corpus_val.documents[3].entities"
   ]
  },
  {
   "cell_type": "code",
   "execution_count": 72,
   "metadata": {},
   "outputs": [],
   "source": [
    "corpus_val.to_text_array(\n",
    "    input_filename=\"data/val/input.txt\",\n",
    "    target_filename=\"data/val/target.txt\",\n",
    "    metadata_filename=\"data/val/meta.txt\",\n",
    ")"
   ]
  },
  {
   "attachments": {},
   "cell_type": "markdown",
   "metadata": {},
   "source": [
    "Predict entities using genetic rules from next samples from training. Take 20% additional samples from training to test.\n",
    "Select best predicted segments and it add to training corpus."
   ]
  },
  {
   "cell_type": "code",
   "execution_count": null,
   "metadata": {},
   "outputs": [],
   "source": [
    "current_training_size = num_docs"
   ]
  },
  {
   "cell_type": "code",
   "execution_count": null,
   "metadata": {},
   "outputs": [],
   "source": [
    "index_end = current_training_size + int(current_training_size * 0.2)\n",
    "corpus_test = Corpus.from_spacy_docs(\n",
    "    sample_spacy_docs(spacy_ner_doc, selected_indices[current_training_size:index_end], sample_is_complete_1),\n",
    "    total_samples=len(selected_indices[current_training_size:index_end]),\n",
    "    vocab=vocabulary,\n",
    "    embeding_func=get_ml_embedding,\n",
    "    vocab_ent=vocab_ent,\n",
    "    emb_size=embedding_size,\n",
    ")"
   ]
  },
  {
   "cell_type": "code",
   "execution_count": null,
   "metadata": {},
   "outputs": [],
   "source": [
    "current_training_size,int(current_training_size*0.2)"
   ]
  },
  {
   "attachments": {},
   "cell_type": "markdown",
   "metadata": {},
   "source": [
    "##### Predict entities with ner rules\n"
   ]
  },
  {
   "cell_type": "code",
   "execution_count": 44,
   "metadata": {},
   "outputs": [],
   "source": [
    "# plot confusion matrix normalized\n",
    "from sklearn.metrics import confusion_matrix\n",
    "from sklearn.metrics import classification_report\n",
    "import seaborn as sns\n",
    "import matplotlib.pyplot as plt\n",
    "import pandas as pd\n",
    "\n",
    "\n",
    "def print_cm(target, predict, labels, normalize=True):\n",
    "    cm = confusion_matrix(target, predict, labels=labels)\n",
    "    if normalize:\n",
    "        cm = cm.astype(\"float\") / cm.sum(axis=1)[:, np.newaxis]\n",
    "    df_cm = pd.DataFrame(cm, index=labels, columns=labels)\n",
    "    plt.figure(figsize=(10, 7))\n",
    "    sns.heatmap(df_cm, annot=True, fmt=\".2f\", cmap=\"Blues\")\n"
   ]
  },
  {
   "cell_type": "code",
   "execution_count": 55,
   "metadata": {},
   "outputs": [],
   "source": [
    "from tqdm.auto import tqdm, trange\n",
    "\n",
    "target = []\n",
    "predict = []\n",
    "num_tags = len(entity_names) + 1\n",
    "input_data_all = np.array([])\n",
    "\n",
    "# load validation data from file\n",
    "max_size_doc = 172\n",
    "s_init_pop = 400\n",
    "gen_size = 7\n",
    "max_len = 3 + gen_size * (embedding_size + 2)\n",
    "val_doc_dataset = np.zeros(\n",
    "    (num_val, max_size_doc * embedding_size * 3), dtype=np.float32\n",
    ")\n",
    "val_target_doc = np.zeros((num_val, max_size_doc), dtype=np.int32)\n",
    "val_metadata_doc = np.zeros((num_val, 4), dtype=np.int32)\n",
    "with open(\"data/val/input.txt\", \"r\") as val_input_file, open(\n",
    "    \"data/val/target.txt\"\n",
    ") as val_target_file, open(\"data/val/meta.txt\") as val_metadata_file:\n",
    "    for doc_index, line in enumerate(val_input_file):\n",
    "        input_doc = np.array([float(x) for x in line.split(\",\")], dtype=np.float32)\n",
    "        val_doc_dataset[doc_index, : input_doc.shape[0]] = input_doc\n",
    "    for doc_index, line in enumerate(val_target_file):\n",
    "        line_target = np.array([int(x) for x in line.split(\",\")])\n",
    "        val_target_doc[doc_index, : line_target.shape[0]] = line_target\n",
    "    for doc_index, line in enumerate(val_metadata_file):\n",
    "        line_metadata = np.array([int(x) for x in line.split(\",\")])\n",
    "        val_metadata_doc[doc_index, : line_metadata.shape[0]] = line_metadata"
   ]
  },
  {
   "attachments": {},
   "cell_type": "markdown",
   "metadata": {},
   "source": [
    "Usar corpus text, predict and filter segments text that predition greater than fitness mean.\n",
    "\n",
    "Use new segments to predict to retrain ner rules."
   ]
  },
  {
   "cell_type": "code",
   "execution_count": 178,
   "metadata": {},
   "outputs": [
    {
     "data": {
      "application/vnd.jupyter.widget-view+json": {
       "model_id": "45933695d2004a5d8147e03d5a5ac642",
       "version_major": 2,
       "version_minor": 0
      },
      "text/plain": [
       "  0%|          | 0/100 [00:00<?, ?it/s]"
      ]
     },
     "metadata": {},
     "output_type": "display_data"
    },
    {
     "data": {
      "application/vnd.jupyter.widget-view+json": {
       "model_id": "fa5d850035f44a6e941c3a41a8db29e5",
       "version_major": 2,
       "version_minor": 0
      },
      "text/plain": [
       "  0%|          | 0/100 [00:00<?, ?it/s]"
      ]
     },
     "metadata": {},
     "output_type": "display_data"
    }
   ],
   "source": [
    "target_data_all = get_all_targets(val_doc_dataset, val_target_doc, val_metadata_doc,entity_map)\n",
    "predict, votes_all, fitness_votes_all = majority_vote(\n",
    "    val_doc_dataset, val_target_doc, val_metadata_doc, entity_map, len(index_rules))"
   ]
  },
  {
   "cell_type": "code",
   "execution_count": 179,
   "metadata": {},
   "outputs": [
    {
     "name": "stdout",
     "output_type": "stream",
     "text": [
      "              precision    recall  f1-score   support\n",
      "\n",
      "         LOC       0.00      0.00      0.00         3\n",
      "        MISC       0.25      0.25      0.25         4\n",
      "           O       0.91      0.93      0.92       173\n",
      "         ORG       0.00      0.00      0.00         3\n",
      "         PER       0.00      0.00      0.00         9\n",
      "\n",
      "    accuracy                           0.84       192\n",
      "   macro avg       0.23      0.24      0.23       192\n",
      "weighted avg       0.82      0.84      0.83       192\n",
      "\n"
     ]
    },
    {
     "data": {
      "image/png": "[encoded data removed]",
      "text/plain": [
       "<Figure size 1000x700 with 2 Axes>"
      ]
     },
     "metadata": {},
     "output_type": "display_data"
    }
   ],
   "source": [
    "t = 19+14+51+5+43+14+46 #2334\n",
    "print(classification_report(entity_map[target_data_all[:t]], predict[:t]))\n",
    "print_cm(entity_map[target_data_all[:t]], predict[:t], entity_map)"
   ]
  },
  {
   "cell_type": "code",
   "execution_count": 180,
   "metadata": {},
   "outputs": [
    {
     "name": "stdout",
     "output_type": "stream",
     "text": [
      "              precision    recall  f1-score   support\n",
      "\n",
      "         LOC       0.06      0.10      0.08        87\n",
      "        MISC       0.05      0.07      0.06        59\n",
      "           O       0.86      0.88      0.87      1993\n",
      "         ORG       0.10      0.06      0.07        69\n",
      "         PER       0.16      0.04      0.06       126\n",
      "\n",
      "    accuracy                           0.76      2334\n",
      "   macro avg       0.25      0.23      0.23      2334\n",
      "weighted avg       0.75      0.76      0.75      2334\n",
      "\n"
     ]
    },
    {
     "data": {
      "image/png": "[encoded data removed]",
      "text/plain": [
       "<Figure size 1000x700 with 2 Axes>"
      ]
     },
     "metadata": {},
     "output_type": "display_data"
    }
   ],
   "source": [
    "t = 2334# 19+14 +51+5#+43+14+46\n",
    "print(classification_report(entity_map[target_data_all[:t]], predict[:t]))\n",
    "print_cm(entity_map[target_data_all[:t]], predict[:t], entity_map)"
   ]
  },
  {
   "cell_type": "code",
   "execution_count": 181,
   "metadata": {},
   "outputs": [
    {
     "name": "stdout",
     "output_type": "stream",
     "text": [
      "              precision    recall  f1-score   support\n",
      "\n",
      "         LOC       0.06      0.12      0.08         8\n",
      "        MISC       0.11      0.20      0.14         5\n",
      "           O       0.89      0.91      0.90       256\n",
      "         ORG       0.00      0.00      0.00         7\n",
      "         PER       0.00      0.00      0.00        13\n",
      "\n",
      "    accuracy                           0.81       289\n",
      "   macro avg       0.21      0.25      0.23       289\n",
      "weighted avg       0.79      0.81      0.80       289\n",
      "\n"
     ]
    },
    {
     "data": {
      "image/png": "[encoded data removed]",
      "text/plain": [
       "<Figure size 1000x700 with 2 Axes>"
      ]
     },
     "metadata": {},
     "output_type": "display_data"
    }
   ],
   "source": [
    "# TODO: Change num_files to number of files in the training set\n",
    "num_files = 10 \n",
    "t = val_metadata_doc[:num_files, 0].sum()\n",
    "print(classification_report(entity_map[target_data_all[:t]], predict[:t]))\n",
    "print_cm(entity_map[target_data_all[:t]], predict[:t], entity_map)"
   ]
  },
  {
   "cell_type": "code",
   "execution_count": 63,
   "metadata": {},
   "outputs": [],
   "source": [
    "total_row_votes = votes_all.sum(axis=1).reshape(-1,1)\n",
    "total_row_votes = np.where(\n",
    "    total_row_votes == 0,\n",
    "    1,\n",
    "    total_row_votes\n",
    ")\n",
    "confidence_all_votes = fitness_votes_all / total_row_votes"
   ]
  },
  {
   "cell_type": "code",
   "execution_count": 65,
   "metadata": {},
   "outputs": [
    {
     "data": {
      "text/plain": [
       "array(['O', 'O', 'O', ..., 'O', 'O', 'O'], dtype='<U4')"
      ]
     },
     "execution_count": 65,
     "metadata": {},
     "output_type": "execute_result"
    }
   ],
   "source": [
    "np.array(predict)[range(2,5)]"
   ]
  },
  {
   "cell_type": "code",
   "execution_count": 67,
   "metadata": {},
   "outputs": [
    {
     "data": {
      "text/plain": [
       "[(0, 1.0, [14, 15, 16], array(['LOC', 'LOC', 'O'], dtype='<U4')),\n",
       " (2, 1.0, [43, 44, 45], array(['ORG', 'ORG', 'ORG'], dtype='<U4')),\n",
       " (2, 1.0, [54, 55, 56, 57], array(['O', 'O', 'PER', 'PER'], dtype='<U4')),\n",
       " (4, 1.0, [24, 25, 26], array(['ORG', 'O', 'O'], dtype='<U4')),\n",
       " (7, 1.0, [37, 38, 39, 40], array(['O', 'O', 'LOC', 'O'], dtype='<U4'))]"
      ]
     },
     "execution_count": 67,
     "metadata": {},
     "output_type": "execute_result"
    }
   ],
   "source": [
    "confidences_votes"
   ]
  },
  {
   "attachments": {},
   "cell_type": "markdown",
   "metadata": {},
   "source": [
    "Sort confidences_votes by confidence (1) and length of sentence (2)"
   ]
  },
  {
   "cell_type": "code",
   "execution_count": 68,
   "metadata": {},
   "outputs": [
    {
     "data": {
      "text/plain": [
       "[(2, 1.0, [54, 55, 56, 57], array(['O', 'O', 'PER', 'PER'], dtype='<U4')),\n",
       " (7, 1.0, [37, 38, 39, 40], array(['O', 'O', 'LOC', 'O'], dtype='<U4')),\n",
       " (0, 1.0, [14, 15, 16], array(['LOC', 'LOC', 'O'], dtype='<U4')),\n",
       " (2, 1.0, [43, 44, 45], array(['ORG', 'ORG', 'ORG'], dtype='<U4')),\n",
       " (4, 1.0, [24, 25, 26], array(['ORG', 'O', 'O'], dtype='<U4'))]"
      ]
     },
     "execution_count": 68,
     "metadata": {},
     "output_type": "execute_result"
    }
   ],
   "source": [
    "# Create a custom function to sort confidences_votes by confidence (1) and length of sentence (2). The function will used by sorted() function.\n",
    "from functools import cmp_to_key\n",
    "def sort_confidence_votes(a, b):\n",
    "    # Sort by confidence\n",
    "    if a[1] > b[1]:\n",
    "        return -1\n",
    "    elif a[1] < b[1]:\n",
    "        return 1\n",
    "    else:\n",
    "        # Sort by length of sentence\n",
    "        if len(a[2]) > len(b[2]):\n",
    "            return -1\n",
    "        elif len(a[2]) < len(b[2]):\n",
    "            return 1\n",
    "        else:\n",
    "            return 0\n",
    "        \n",
    "sorted_confidence_votes = sorted(confidences_votes, key=cmp_to_key(sort_confidence_votes))\n",
    "sorted_confidence_votes"
   ]
  },
  {
   "cell_type": "code",
   "execution_count": 81,
   "metadata": {},
   "outputs": [
    {
     "name": "stdout",
     "output_type": "stream",
     "text": [
      "\u001b[38;5;4mℹ Grouping every 1 sentences into a document.\u001b[0m\n",
      "\u001b[38;5;3m⚠ To generate better training data, you may want to group sentences\n",
      "into documents with `-n 10`.\u001b[0m\n"
     ]
    }
   ],
   "source": [
    "# TODO \n",
    "# Create a file with only text\n",
    "# Get Documents using in the training\n",
    "# Extract text regarding top sorted_confidence_votes\n",
    "# Add Entities to the text\n",
    "# Save the file\n",
    "# Retrain the model"
   ]
  },
  {
   "cell_type": "code",
   "execution_count": 82,
   "metadata": {},
   "outputs": [
    {
     "data": {
      "text/plain": [
       "596"
      ]
     },
     "execution_count": 82,
     "metadata": {},
     "output_type": "execute_result"
    }
   ],
   "source": [
    "selected_indices_val[2]"
   ]
  },
  {
   "cell_type": "code",
   "execution_count": 83,
   "metadata": {},
   "outputs": [
    {
     "data": {
      "text/plain": [
       "3"
      ]
     },
     "execution_count": 83,
     "metadata": {},
     "output_type": "execute_result"
    }
   ],
   "source": [
    "val_metadata_doc[2][3]"
   ]
  },
  {
   "cell_type": "code",
   "execution_count": 89,
   "metadata": {},
   "outputs": [
    {
     "name": "stdout",
     "output_type": "stream",
     "text": [
      "  0 El           DET        det        O                    \n",
      "  1 ciclista     NOUN       nsubj      O                    \n",
      "  2 colombiano   ADJ        amod       O                    \n",
      "  3 Iván         PROPN      appos      B          PER       \n",
      "  4 Parra        PROPN      flat       I          PER       \n",
      "  5 ,            PUNCT      punct      O                    \n",
      "  6 del          ADP        case       O                    \n",
      "  7 Seguros      PROPN      nmod       B          ORG       \n",
      "  8 Vitalicio    PROPN      flat       I          ORG       \n",
      "  9 ,            PUNCT      punct      O                    \n",
      " 10 no           ADV        advmod     O                    \n",
      " 11 tomará       VERB       ROOT       O                    \n",
      " 12 mañana       ADV        advmod     O                    \n",
      " 13 la           DET        det        O                    \n",
      " 14 salida       NOUN       obj        O                    \n",
      " 15 en           ADP        case       O                    \n",
      " 16 la           DET        det        O                    \n",
      " 17 undécima     ADJ        amod       O                    \n",
      " 18 etapa        NOUN       obl        O                    \n",
      " 19 del          ADP        case       O                    \n",
      " 20 Giro         PROPN      nmod       B          MISC      \n",
      " 21 de           ADP        case       I          MISC      \n",
      " 22 Italia       PROPN      flat       I          MISC      \n",
      " 23 debido       ADJ        case       O                    \n",
      " 24 a            ADP        fixed      O                    \n",
      " 25 las          DET        det        O                    \n",
      " 26 lesiones     NOUN       obl        O                    \n",
      " 27 sufridas     ADJ        amod       O                    \n",
      " 28 en           ADP        case       O                    \n",
      " 29 una          DET        det        O                    \n",
      " 30 caída        NOUN       obl        O                    \n",
      " 31 en           ADP        case       O                    \n",
      " 32 el           DET        det        O                    \n",
      " 33 transcurso   NOUN       obl        O                    \n",
      " 34 del          ADP        case       O                    \n",
      " 35 kilómetro    NOUN       nmod       O                    \n",
      " 36 171          NUM        appos      O                    \n",
      " 37 de           ADP        case       O                    \n",
      " 38 la           DET        det        O                    \n",
      " 39 jornada      NOUN       nmod       O                    \n",
      " 40 de           ADP        case       O                    \n",
      " 41 hoy          ADV        advmod     O                    \n",
      " 42 .            PUNCT      punct      O                    \n"
     ]
    }
   ],
   "source": [
    "index_doc = 7\n",
    "spacy_doc_index = selected_indices_val[val_metadata_doc[index_doc][3]]\n",
    "for index_token, token in enumerate(spacy_ner_doc_val[spacy_doc_index]):\n",
    "    print(f\"{index_token:{3}} {token.text:{12}} {token.pos_:{10}} {token.dep_:{10}} {token.ent_iob_:{10}} {token.ent_type_:{10}}\")"
   ]
  },
  {
   "cell_type": "code",
   "execution_count": 107,
   "metadata": {},
   "outputs": [],
   "source": [
    "limit_new_documents = int(metadata_doc.shape[0]*0.2)"
   ]
  },
  {
   "cell_type": "code",
   "execution_count": 109,
   "metadata": {},
   "outputs": [],
   "source": [
    "# Remove entities\n",
    "# Add Entities predicted by the model\n",
    "# New spacy docs\n",
    "from spacy.attrs import POS, DEP\n",
    "np_array = doc.to_array([POS,DEP])\n",
    "from spacy.tokens import Doc\n",
    "from spacy.tokens import Span\n",
    "val_metadata_doc\n",
    "new_spacy_docs = []\n",
    "for condidence_doc in sorted_confidence_votes[:limit_new_documents]:\n",
    "    index_doc = condidence_doc[0]\n",
    "    segment_tokens = condidence_doc[2]\n",
    "    segment_label_tokens = condidence_doc[3]\n",
    "    spacy_doc_index = selected_indices_val[val_metadata_doc[index_doc][3]]\n",
    "    spacy_doc = spacy_ner_doc_val[spacy_doc_index]\n",
    "\n",
    "    # Create a empty spacy doc\n",
    "    words = [spacy_doc[index].text for index in segment_tokens]\n",
    "    spaces = [spacy_doc[index].whitespace_ for index in segment_tokens]\n",
    "    pos = [spacy_doc[index].pos_ for index in segment_tokens]\n",
    "    deps = [spacy_doc[index].dep_ for index in segment_tokens]\n",
    "\n",
    "    new_spacy_doc = Doc(spacy_doc.vocab, words=words, spaces=spaces, pos=pos, deps=deps)\n",
    "    # Add the entities\n",
    "    prev_label = None\n",
    "    next_label = None\n",
    "    start_entity = -1\n",
    "    end_index = 0\n",
    "    for index, label in enumerate(segment_label_tokens):\n",
    "        if prev_label != label:\n",
    "            start_index = index\n",
    "        if index + 1 < len(segment_label_tokens):\n",
    "            next_label = segment_label_tokens[index + 1]\n",
    "        else:\n",
    "            next_label = None\n",
    "\n",
    "        if label != \"O\":\n",
    "            if next_label != label:\n",
    "                end_index = index + 1\n",
    "                new_spacy_doc.set_ents([Span(new_spacy_doc, start_index, end_index, label)], default=\"outside\")\n",
    "        prev_label = label\n",
    "\n",
    "    new_spacy_docs.append(new_spacy_doc)"
   ]
  },
  {
   "cell_type": "code",
   "execution_count": 110,
   "metadata": {},
   "outputs": [
    {
     "name": "stdout",
     "output_type": "stream",
     "text": [
      "  0 BNP          PROPN                 nmod       O                    \n",
      "  1 sobre        ADP                   case       O                    \n",
      "  2 las          DET                   det        B          PER       \n",
      "  3 dos          NUM                   nummod     I          PER       \n"
     ]
    }
   ],
   "source": [
    "for index_token, token in enumerate(new_spacy_docs[0]):\n",
    "    print(f\"{index_token:{3}} {token.text:{12}} {token.pos_:{10}} {token.tag_:{10}} {token.dep_:{10}} {token.ent_iob_:{10}} {token.ent_type_:{10}}\")"
   ]
  },
  {
   "attachments": {},
   "cell_type": "markdown",
   "metadata": {},
   "source": [
    "-  Expand candidates words\n",
    "-  Expand update doc_dataset, target_doc and metadata_doc\n",
    "- Use rules has parent population"
   ]
  },
  {
   "cell_type": "code",
   "execution_count": 111,
   "metadata": {},
   "outputs": [
    {
     "data": {
      "application/vnd.jupyter.widget-view+json": {
       "model_id": "90d07e505d3144eabe21fc1fe515d623",
       "version_major": 2,
       "version_minor": 0
      },
      "text/plain": [
       "  0%|          | 0/2 [00:00<?, ?it/s]"
      ]
     },
     "metadata": {},
     "output_type": "display_data"
    }
   ],
   "source": [
    "# Create new corpus from new spacy docs\n",
    "corpus_new = Corpus.from_spacy_docs(\n",
    "    new_spacy_docs,\n",
    "    total_samples=len(new_spacy_docs),\n",
    "    vocab=vocabulary,\n",
    "    embeding_func=get_ml_embedding,\n",
    "    emb_size=embedding_size\n",
    ")"
   ]
  },
  {
   "cell_type": "code",
   "execution_count": 120,
   "metadata": {},
   "outputs": [
    {
     "name": "stdout",
     "output_type": "stream",
     "text": [
      "Expand candidate words (171, 33)\n",
      "Expand candidate words (180, 33)\n"
     ]
    }
   ],
   "source": [
    "# Expand candidate words\n",
    "candidate_words_expand = create_candidate_words(\n",
    "    corpus=corpus_new,\n",
    "    candidate_words=candidate_words,\n",
    "    save_path=\"data/train/esp.train.candidate_words_new.txt\",\n",
    ")      \n",
    "print(\"Expand candidate words\", candidate_words.shape)\n",
    "print(\"Expand candidate words\", candidate_words_expand.shape)    "
   ]
  },
  {
   "cell_type": "code",
   "execution_count": 121,
   "metadata": {},
   "outputs": [],
   "source": [
    "corpus_new.to_text_array(\n",
    "    input_filename=\"input_new.txt\",\n",
    "    target_filename=\"target_new.txt\",\n",
    "    metadata_filename=\"metadata_new.txt\",\n",
    ")"
   ]
  },
  {
   "cell_type": "code",
   "execution_count": 125,
   "metadata": {},
   "outputs": [],
   "source": [
    "doc_dataset_new, doc_target, doc_metadata_new = read_input_txt(\n",
    "    input_filename=\"input_new.txt\",\n",
    "    target_filename=\"target_new.txt\",\n",
    "    metadata_filename=\"metadata_new.txt\",\n",
    "    num_docs=len(new_spacy_docs),\n",
    "    max_size_doc=max_size_doc,\n",
    "    embedding_size=embedding_size,\n",
    ")"
   ]
  },
  {
   "cell_type": "code",
   "execution_count": 161,
   "metadata": {},
   "outputs": [],
   "source": [
    "doc_dataset_expand = np.vstack((doc_dataset, doc_dataset_new))\n",
    "target_doc_expand = np.vstack((target_doc, doc_target))\n",
    "metadata_doc_expand = np.vstack((metadata_doc, doc_metadata_new))"
   ]
  },
  {
   "cell_type": "code",
   "execution_count": 132,
   "metadata": {},
   "outputs": [
    {
     "data": {
      "application/vnd.jupyter.widget-view+json": {
       "model_id": "98d3075883494a5a8a7b537f59e44351",
       "version_major": 2,
       "version_minor": 0
      },
      "text/plain": [
       "  0%|          | 0/12 [00:00<?, ?it/s]"
      ]
     },
     "metadata": {},
     "output_type": "display_data"
    }
   ],
   "source": [
    "new_parent_populations = create_parent_population(\n",
    "    400,\n",
    "    corpus_1.documents + corpus_new.documents,\n",
    "    cromossome_size=max_len,\n",
    "    base_population=array_rules\n",
    ")"
   ]
  },
  {
   "cell_type": "code",
   "execution_count": 136,
   "metadata": {},
   "outputs": [
    {
     "data": {
      "text/plain": [
       "(400, 241)"
      ]
     },
     "execution_count": 136,
     "metadata": {},
     "output_type": "execute_result"
    }
   ],
   "source": [
    "new_parent_populations.shape"
   ]
  },
  {
   "cell_type": "code",
   "execution_count": 137,
   "metadata": {},
   "outputs": [
    {
     "data": {
      "application/vnd.jupyter.widget-view+json": {
       "model_id": "1a6f1610e0644521a98380705f7786fc",
       "version_major": 2,
       "version_minor": 0
      },
      "text/plain": [
       "  0%|          | 0/1000 [00:00<?, ?it/s]"
      ]
     },
     "metadata": {},
     "output_type": "display_data"
    },
    {
     "name": "stdout",
     "output_type": "stream",
     "text": [
      "Saving 135 individuals\n",
      "Saving 117 individuals\n",
      "Saving 115 individuals\n",
      "Saving 113 individuals\n",
      "Saving 119 individuals\n",
      "Saving 118 individuals\n",
      "Saving 121 individuals\n",
      "Saving 126 individuals\n",
      "Saving 132 individuals\n",
      "Saving 139 individuals\n",
      "Saving 143 individuals\n",
      "Saving 146 individuals\n",
      "Saving 160 individuals\n",
      "Saving 164 individuals\n",
      "Saving 169 individuals\n",
      "Saving 174 individuals\n",
      "Saving 178 individuals\n",
      "Saving 181 individuals\n",
      "Saving 219 individuals\n",
      "Saving 218 individuals\n",
      "Saving 222 individuals\n",
      "Saving 223 individuals\n",
      "Saving 229 individuals\n",
      "Saving 225 individuals\n",
      "Saving 244 individuals\n",
      "Saving 243 individuals\n",
      "Saving 244 individuals\n",
      "Saving 240 individuals\n",
      "Saving 242 individuals\n",
      "Saving 243 individuals\n",
      "Saving 251 individuals\n",
      "Saving 263 individuals\n",
      "Saving 262 individuals\n",
      "Saving 259 individuals\n",
      "Saving 262 individuals\n",
      "Saving 258 individuals\n",
      "Saving 260 individuals\n",
      "Saving 260 individuals\n",
      "Saving 260 individuals\n",
      "Saving 263 individuals\n",
      "Saving 278 individuals\n",
      "Saving 283 individuals\n"
     ]
    }
   ],
   "source": [
    "from ga_ner.models import GANER, Document, Corpus, Vocabulary\n",
    "from ga_ner.utils.numba import select, fitness\n",
    "gen_size = 7\n",
    "max_len = 3 + gen_size * (embedding_size + 2)\n",
    "\n",
    "ga_ner = GANER(\n",
    "    map_inv_entity=None,#map_inv_entity\n",
    "    n_population=400,\n",
    "    max_len=max_len,\n",
    "    mask_id=0,#corpus_1.documents[0].mask_id\n",
    "    unknown_id=0,#corpus_1.documents[0].unk_id\n",
    "    candidate_words=candidate_words_expand,\n",
    "    random_state=42,\n",
    "    n_top=100,\n",
    "    threshold=0.8,\n",
    "    select=select,\n",
    "    fitness=fitness,\n",
    "    num_threads=16,\n",
    "    embedding_size=embedding_size,\n",
    ")\n",
    "ga_ner.train(\n",
    "    doc_dataset_expand,\n",
    "    target_doc_expand,\n",
    "    metadata_doc_expand,\n",
    "    max_iter=1000,\n",
    "    tol=15,\n",
    "    base_population=new_parent_populations,\n",
    "    num_islands=4,\n",
    "    num_threads=16,\n",
    ")\n",
    "\n",
    "# 2015_Book_IntroductionToEvolutionaryComp.pdf 80, 108, 120, 145,294"
   ]
  },
  {
   "cell_type": "code",
   "execution_count": 149,
   "metadata": {},
   "outputs": [
    {
     "data": {
      "application/vnd.jupyter.widget-view+json": {
       "model_id": "59cc8a5fb7e54a1ab568e9e7f23fd5f0",
       "version_major": 2,
       "version_minor": 0
      },
      "text/plain": [
       "  0%|          | 0/100 [00:00<?, ?it/s]"
      ]
     },
     "metadata": {},
     "output_type": "display_data"
    },
    {
     "data": {
      "application/vnd.jupyter.widget-view+json": {
       "model_id": "8cdd890be37645998c1cb052f6eb9952",
       "version_major": 2,
       "version_minor": 0
      },
      "text/plain": [
       "  0%|          | 0/100 [00:00<?, ?it/s]"
      ]
     },
     "metadata": {},
     "output_type": "display_data"
    }
   ],
   "source": [
    "target_data_all = get_all_targets(val_doc_dataset, val_target_doc, val_metadata_doc,entity_map)\n",
    "predict, votes_all, fitness_votes_all = majority_vote(\n",
    "    val_doc_dataset, val_target_doc, val_metadata_doc, entity_map, len(index_rules))"
   ]
  },
  {
   "cell_type": "code",
   "execution_count": 150,
   "metadata": {},
   "outputs": [
    {
     "name": "stdout",
     "output_type": "stream",
     "text": [
      "              precision    recall  f1-score   support\n",
      "\n",
      "         LOC       0.00      0.00      0.00         8\n",
      "        MISC       0.00      0.00      0.00         5\n",
      "           O       0.90      0.95      0.92       256\n",
      "         ORG       0.20      0.14      0.17         7\n",
      "         PER       0.50      0.15      0.24        13\n",
      "\n",
      "    accuracy                           0.85       289\n",
      "   macro avg       0.32      0.25      0.26       289\n",
      "weighted avg       0.82      0.85      0.83       289\n",
      "\n"
     ]
    },
    {
     "data": {
      "image/png": "[encoded data removed]",
      "text/plain": [
       "<Figure size 1000x700 with 2 Axes>"
      ]
     },
     "metadata": {},
     "output_type": "display_data"
    }
   ],
   "source": [
    "# TODO: Change num_files to number of files in the training set\n",
    "num_files = 10 \n",
    "t = val_metadata_doc[:num_files, 0].sum()\n",
    "print(classification_report(entity_map[target_data_all[:t]], predict[:t]))\n",
    "print_cm(entity_map[target_data_all[:t]], predict[:t], entity_map)"
   ]
  },
  {
   "cell_type": "code",
   "execution_count": 151,
   "metadata": {},
   "outputs": [
    {
     "name": "stdout",
     "output_type": "stream",
     "text": [
      "              precision    recall  f1-score   support\n",
      "\n",
      "         LOC       0.08      0.06      0.07        87\n",
      "        MISC       0.09      0.14      0.11        59\n",
      "           O       0.87      0.90      0.89      1993\n",
      "         ORG       0.11      0.04      0.06        69\n",
      "         PER       0.22      0.15      0.18       126\n",
      "\n",
      "    accuracy                           0.79      2334\n",
      "   macro avg       0.27      0.26      0.26      2334\n",
      "weighted avg       0.76      0.79      0.77      2334\n",
      "\n"
     ]
    },
    {
     "data": {
      "image/png": "[encoded data removed]",
      "text/plain": [
       "<Figure size 1000x700 with 2 Axes>"
      ]
     },
     "metadata": {},
     "output_type": "display_data"
    }
   ],
   "source": [
    "# TODO: Change num_files to number of files in the training set\n",
    "print(classification_report(entity_map[target_data_all], predict))\n",
    "print_cm(entity_map[target_data_all], predict, entity_map)"
   ]
  },
  {
   "cell_type": "code",
   "execution_count": 152,
   "metadata": {},
   "outputs": [],
   "source": [
    "total_row_votes = votes_all.sum(axis=1).reshape(-1,1)\n",
    "total_row_votes = np.where(\n",
    "    total_row_votes == 0,\n",
    "    1,\n",
    "    total_row_votes\n",
    ")\n",
    "confidence_all_votes = fitness_votes_all / total_row_votes"
   ]
  },
  {
   "cell_type": "code",
   "execution_count": 153,
   "metadata": {},
   "outputs": [],
   "source": [
    "# Extract segments which confidences are higher than 0.8\n",
    "confidences_votes = []\n",
    "start_doc = 0\n",
    "min_segment_len = 3\n",
    "filter_votes = np.any(confidence_all_votes > 0.8, axis=1).reshape(-1,1)\n",
    "for index_row, doc_len in enumerate(val_metadata_doc[:num_files, 0]):\n",
    "    end_doc = start_doc + doc_len\n",
    "    # If filter are consecutive and have a minimum length then add to confidences_votes\n",
    "    current_secuence = 0\n",
    "    for filter_votes_index, secuencuence_index in enumerate(range(start_doc, end_doc)):\n",
    "        if filter_votes[secuencuence_index]:\n",
    "            current_secuence += 1\n",
    "        else:\n",
    "            if current_secuence >= min_segment_len:\n",
    "                \n",
    "                confidences_votes.append(( \n",
    "                    index_row, \n",
    "                    confidence_all_votes[\n",
    "                        range(secuencuence_index - current_secuence, secuencuence_index)\n",
    "                        ].max(axis=1).mean(),\n",
    "                    list(range(filter_votes_index - current_secuence, filter_votes_index)),\n",
    "                    np.array(predict)[range(secuencuence_index - current_secuence, secuencuence_index)]\n",
    "                    ))\n",
    "            current_secuence = 0\n",
    "\n",
    "    start_doc = end_doc"
   ]
  },
  {
   "cell_type": "code",
   "execution_count": 154,
   "metadata": {},
   "outputs": [
    {
     "data": {
      "text/plain": [
       "[(0, 1.0, [6, 7, 8], array(['LOC', 'O', 'ORG'], dtype='<U4')),\n",
       " (0, 1.0, [14, 15, 16], array(['LOC', 'O', 'O'], dtype='<U4')),\n",
       " (2, 1.0, [43, 44, 45], array(['O', 'ORG', 'O'], dtype='<U4')),\n",
       " (5, 1.0, [6, 7, 8], array(['O', 'PER', 'O'], dtype='<U4')),\n",
       " (7,\n",
       "  0.8333333134651184,\n",
       "  [6, 7, 8],\n",
       "  array(['MISC', 'MISC', 'MISC'], dtype='<U4'))]"
      ]
     },
     "execution_count": 154,
     "metadata": {},
     "output_type": "execute_result"
    }
   ],
   "source": [
    "sorted_confidence_votes = sorted(confidences_votes, key=cmp_to_key(sort_confidence_votes))\n",
    "sorted_confidence_votes"
   ]
  },
  {
   "cell_type": "code",
   "execution_count": 155,
   "metadata": {},
   "outputs": [],
   "source": [
    "limit_new_documents = int(metadata_doc.shape[0]*0.2)"
   ]
  },
  {
   "cell_type": "code",
   "execution_count": 156,
   "metadata": {},
   "outputs": [],
   "source": [
    "# Remove entities\n",
    "# Add Entities predicted by the model\n",
    "# New spacy docs\n",
    "from spacy.attrs import POS, DEP\n",
    "np_array = doc.to_array([POS,DEP])\n",
    "from spacy.tokens import Doc\n",
    "from spacy.tokens import Span\n",
    "val_metadata_doc\n",
    "new_spacy_docs = []\n",
    "for condidence_doc in sorted_confidence_votes[:limit_new_documents]:\n",
    "    index_doc = condidence_doc[0]\n",
    "    segment_tokens = condidence_doc[2]\n",
    "    segment_label_tokens = condidence_doc[3]\n",
    "    spacy_doc_index = selected_indices_val[val_metadata_doc[index_doc][3]]\n",
    "    spacy_doc = spacy_ner_doc_val[spacy_doc_index]\n",
    "\n",
    "    # Create a empty spacy doc\n",
    "    words = [spacy_doc[index].text for index in segment_tokens]\n",
    "    spaces = [spacy_doc[index].whitespace_ for index in segment_tokens]\n",
    "    pos = [spacy_doc[index].pos_ for index in segment_tokens]\n",
    "    deps = [spacy_doc[index].dep_ for index in segment_tokens]\n",
    "\n",
    "    new_spacy_doc = Doc(spacy_doc.vocab, words=words, spaces=spaces, pos=pos, deps=deps)\n",
    "    # Add the entities\n",
    "    prev_label = None\n",
    "    next_label = None\n",
    "    start_entity = -1\n",
    "    end_index = 0\n",
    "    for index, label in enumerate(segment_label_tokens):\n",
    "        if prev_label != label:\n",
    "            start_index = index\n",
    "        if index + 1 < len(segment_label_tokens):\n",
    "            next_label = segment_label_tokens[index + 1]\n",
    "        else:\n",
    "            next_label = None\n",
    "\n",
    "        if label != \"O\":\n",
    "            if next_label != label:\n",
    "                end_index = index + 1\n",
    "                new_spacy_doc.set_ents([Span(new_spacy_doc, start_index, end_index, label)], default=\"outside\")\n",
    "        prev_label = label\n",
    "\n",
    "    new_spacy_docs.append(new_spacy_doc)"
   ]
  },
  {
   "cell_type": "code",
   "execution_count": 159,
   "metadata": {},
   "outputs": [
    {
     "name": "stdout",
     "output_type": "stream",
     "text": [
      "  0 may          NOUN                  appos      B          LOC       \n",
      "  1 (            PUNCT                 punct      O                    \n",
      "  2 EFE          PROPN                 flat       O                    \n"
     ]
    }
   ],
   "source": [
    "for index_token, token in enumerate(new_spacy_docs[1]):\n",
    "    print(f\"{index_token:{3}} {token.text:{12}} {token.pos_:{10}} {token.tag_:{10}} {token.dep_:{10}} {token.ent_iob_:{10}} {token.ent_type_:{10}}\")"
   ]
  },
  {
   "cell_type": "code",
   "execution_count": null,
   "metadata": {},
   "outputs": [
    {
     "data": {
      "application/vnd.jupyter.widget-view+json": {
       "model_id": "90d07e505d3144eabe21fc1fe515d623",
       "version_major": 2,
       "version_minor": 0
      },
      "text/plain": [
       "  0%|          | 0/2 [00:00<?, ?it/s]"
      ]
     },
     "metadata": {},
     "output_type": "display_data"
    }
   ],
   "source": [
    "# Create new corpus from new spacy docs\n",
    "corpus_new = Corpus.from_spacy_docs(\n",
    "    new_spacy_docs,\n",
    "    total_samples=len(new_spacy_docs),\n",
    "    vocab=vocabulary,\n",
    "    embeding_func=get_ml_embedding,\n",
    "    emb_size=embedding_size\n",
    ")"
   ]
  },
  {
   "cell_type": "code",
   "execution_count": 160,
   "metadata": {},
   "outputs": [
    {
     "name": "stdout",
     "output_type": "stream",
     "text": [
      "Expand candidate words (171, 33)\n",
      "Expand candidate words (180, 33)\n"
     ]
    }
   ],
   "source": [
    "# Expand candidate words\n",
    "candidate_words_expand = create_candidate_words(\n",
    "    corpus=corpus_new,\n",
    "    candidate_words=candidate_words,\n",
    "    save_path=\"data/train/esp.train.candidate_words_new.txt\",\n",
    ")      \n",
    "print(\"Expand candidate words\", candidate_words.shape)\n",
    "print(\"Expand candidate words\", candidate_words_expand.shape)    "
   ]
  },
  {
   "cell_type": "code",
   "execution_count": null,
   "metadata": {},
   "outputs": [
    {
     "name": "stdout",
     "output_type": "stream",
     "text": [
      "              precision    recall  f1-score   support\n",
      "\n",
      "         LOC       0.00      0.00      0.00         8\n",
      "        MISC       0.00      0.00      0.00         5\n",
      "           O       0.90      0.95      0.92       256\n",
      "         ORG       0.20      0.14      0.17         7\n",
      "         PER       0.50      0.15      0.24        13\n",
      "\n",
      "    accuracy                           0.85       289\n",
      "   macro avg       0.32      0.25      0.26       289\n",
      "weighted avg       0.82      0.85      0.83       289\n",
      "\n"
     ]
    },
    {
     "data": {
      "image/png": "[encoded data removed]",
      "text/plain": [
       "<Figure size 1000x700 with 2 Axes>"
      ]
     },
     "metadata": {},
     "output_type": "display_data"
    }
   ],
   "source": [
    "# TODO: Change num_files to number of files in the training set\n",
    "num_files = 10 \n",
    "t = val_metadata_doc[:num_files, 0].sum()\n",
    "print(classification_report(entity_map[target_data_all[:t]], predict[:t]))\n",
    "print_cm(entity_map[target_data_all[:t]], predict[:t], entity_map)"
   ]
  },
  {
   "cell_type": "code",
   "execution_count": 164,
   "metadata": {},
   "outputs": [],
   "source": [
    "corpus_new.to_text_array(\n",
    "    input_filename=\"input_new_1.txt\",\n",
    "    target_filename=\"target_new_1.txt\",\n",
    "    metadata_filename=\"metadata_new_1.txt\",\n",
    ")"
   ]
  },
  {
   "cell_type": "code",
   "execution_count": 166,
   "metadata": {},
   "outputs": [],
   "source": [
    "doc_dataset_new, doc_target, doc_metadata_new = read_input_txt(\n",
    "    input_filename=\"input_new_1.txt\",\n",
    "    target_filename=\"target_new_1.txt\",\n",
    "    metadata_filename=\"metadata_new_1.txt\",\n",
    "    num_docs=len(new_spacy_docs),\n",
    "    max_size_doc=max_size_doc,\n",
    "    embedding_size=embedding_size,\n",
    ")"
   ]
  },
  {
   "cell_type": "code",
   "execution_count": 167,
   "metadata": {},
   "outputs": [],
   "source": [
    "doc_dataset_expand_2 = np.vstack((doc_dataset_expand, doc_dataset_new))\n",
    "target_doc_expand_2 = np.vstack((target_doc_expand, doc_target))\n",
    "metadata_doc_expand_2 = np.vstack((metadata_doc_expand, doc_metadata_new))"
   ]
  },
  {
   "cell_type": "code",
   "execution_count": 168,
   "metadata": {},
   "outputs": [
    {
     "data": {
      "application/vnd.jupyter.widget-view+json": {
       "model_id": "8230239fbe4b45c0b93c18385826abb8",
       "version_major": 2,
       "version_minor": 0
      },
      "text/plain": [
       "  0%|          | 0/12 [00:00<?, ?it/s]"
      ]
     },
     "metadata": {},
     "output_type": "display_data"
    },
    {
     "data": {
      "application/vnd.jupyter.widget-view+json": {
       "model_id": "8ec722753b0b4e9485d36e6c0649a08f",
       "version_major": 2,
       "version_minor": 0
      },
      "text/plain": [
       "  0%|          | 0/12 [00:00<?, ?it/s]"
      ]
     },
     "metadata": {},
     "output_type": "display_data"
    }
   ],
   "source": [
    "new_parent_populations = create_parent_population(\n",
    "    400,\n",
    "    corpus_1.documents + corpus_new.documents,\n",
    "    cromossome_size=max_len,\n",
    "    base_population=array_rules\n",
    ")"
   ]
  },
  {
   "cell_type": "code",
   "execution_count": 169,
   "metadata": {},
   "outputs": [
    {
     "data": {
      "text/plain": [
       "(400, 241)"
      ]
     },
     "execution_count": 169,
     "metadata": {},
     "output_type": "execute_result"
    }
   ],
   "source": [
    "new_parent_populations.shape"
   ]
  },
  {
   "cell_type": "code",
   "execution_count": 170,
   "metadata": {},
   "outputs": [
    {
     "data": {
      "application/vnd.jupyter.widget-view+json": {
       "model_id": "67474ae5bd7b457c8d79d8fdabd66049",
       "version_major": 2,
       "version_minor": 0
      },
      "text/plain": [
       "  0%|          | 0/1000 [00:00<?, ?it/s]"
      ]
     },
     "metadata": {},
     "output_type": "display_data"
    },
    {
     "name": "stdout",
     "output_type": "stream",
     "text": [
      "Saving 194 individuals\n",
      "Saving 183 individuals\n",
      "Saving 174 individuals\n",
      "Saving 175 individuals\n",
      "Saving 172 individuals\n",
      "Saving 168 individuals\n",
      "Saving 171 individuals\n",
      "Saving 167 individuals\n",
      "Saving 166 individuals\n",
      "Saving 168 individuals\n",
      "Saving 174 individuals\n",
      "Saving 176 individuals\n",
      "Saving 183 individuals\n",
      "Saving 193 individuals\n",
      "Saving 195 individuals\n",
      "Saving 196 individuals\n",
      "Saving 215 individuals\n",
      "Saving 210 individuals\n",
      "Saving 215 individuals\n",
      "Saving 210 individuals\n",
      "Saving 220 individuals\n",
      "Saving 228 individuals\n",
      "Saving 230 individuals\n",
      "Saving 243 individuals\n",
      "Saving 242 individuals\n",
      "Saving 243 individuals\n",
      "Saving 237 individuals\n",
      "Saving 249 individuals\n",
      "Saving 265 individuals\n",
      "Saving 275 individuals\n"
     ]
    }
   ],
   "source": [
    "from ga_ner.models import GANER, Document, Corpus, Vocabulary\n",
    "from ga_ner.utils.numba import select, fitness\n",
    "gen_size = 7\n",
    "max_len = 3 + gen_size * (embedding_size + 2)\n",
    "\n",
    "ga_ner = GANER(\n",
    "    map_inv_entity=None,#map_inv_entity\n",
    "    n_population=400,\n",
    "    max_len=max_len,\n",
    "    mask_id=0,#corpus_1.documents[0].mask_id\n",
    "    unknown_id=0,#corpus_1.documents[0].unk_id\n",
    "    candidate_words=candidate_words_expand,\n",
    "    random_state=42,\n",
    "    n_top=100,\n",
    "    threshold=0.8,\n",
    "    select=select,\n",
    "    fitness=fitness,\n",
    "    num_threads=16,\n",
    "    embedding_size=embedding_size,\n",
    ")\n",
    "ga_ner.train(\n",
    "    doc_dataset_expand_2,\n",
    "    target_doc_expand_2,\n",
    "    metadata_doc_expand_2,\n",
    "    max_iter=1000,\n",
    "    tol=15,\n",
    "    base_population=new_parent_populations,\n",
    "    num_islands=4,\n",
    "    num_threads=16,\n",
    ")\n",
    "\n",
    "# 2015_Book_IntroductionToEvolutionaryComp.pdf 80, 108, 120, 145,294"
   ]
  },
  {
   "attachments": {},
   "cell_type": "markdown",
   "metadata": {},
   "source": [
    "1. Save Spacy Documents to training data\n",
    "2. Load training data\n",
    "3. Save and load data as arrays\n",
    "4. Generate parent population\n",
    "5. Train model\n",
    "6. Save evolutions of model\n",
    "7. Test model with test data\n",
    "    8. Save Spacy Documents to test data\n",
    "    9. Load test data\n",
    "    10. Save and load data as arrays\n",
    "    11. Test model\n",
    "    1. Save results\n",
    "        1. Save text\n",
    "        2. Save consufion matrix i"
   ]
  },
  {
   "cell_type": "code",
   "execution_count": null,
   "metadata": {},
   "outputs": [],
   "source": []
  }
 ],
 "metadata": {
  "kernelspec": {
   "display_name": "Python 3.9.7 ('env': venv)",
   "language": "python",
   "name": "python3"
  },
  "language_info": {
   "codemirror_mode": {
    "name": "ipython",
    "version": 3
   },
   "file_extension": ".py",
   "mimetype": "text/x-python",
   "name": "python",
   "nbconvert_exporter": "python",
   "pygments_lexer": "ipython3",
   "version": "3.10.9"
  },
  "orig_nbformat": 4,
  "vscode": {
   "interpreter": {
    "hash": "58a42617e7e8ac5b5deb10f20d2ac009e9df1a8d2d4c12f179252e868903bd47"
   }
  }
 },
 "nbformat": 4,
 "nbformat_minor": 2
}
